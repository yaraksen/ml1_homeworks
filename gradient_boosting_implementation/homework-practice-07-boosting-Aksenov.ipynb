{
 "cells": [
  {
   "cell_type": "markdown",
   "metadata": {},
   "source": [
    "# Машинное обучение, ФКН ВШЭ\n",
    "\n",
    "# Практическое задание 7. Бустинговое\n",
    "\n",
    "## Общая информация\n",
    "\n",
    "Дата выдачи: 13.12.2022\n",
    "\n",
    "Мягкий дедлайн: 20.12.2022 23:59 MSK\n",
    "\n",
    "Жёсткий дедлайн: 20.12.2022 23:59 MSK\n",
    "\n",
    "## Оценивание и штрафы\n",
    "\n",
    "Каждая из задач имеет определенную «стоимость» (указана в скобках около задачи). Максимально допустимая оценка за работу — 10 баллов.\n",
    "\n",
    "Сдавать задание после указанного срока сдачи нельзя. При выставлении неполного балла за задание в связи с наличием ошибок на усмотрение проверяющего предусмотрена возможность исправить работу на указанных в ответном письме условиях.\n",
    "\n",
    "Задание выполняется самостоятельно. «Похожие» решения считаются плагиатом и все задействованные студенты (в том числе те, у кого списали) не могут получить за него больше 0 баллов (подробнее о плагиате см. на странице курса). Если вы нашли решение какого-то из заданий (или его часть) в открытом источнике, необходимо указать ссылку на этот источник в отдельном блоке в конце вашей работы (скорее всего вы будете не единственным, кто это нашел, поэтому чтобы исключить подозрение в плагиате, необходима ссылка на источник).\n",
    "\n",
    "Неэффективная реализация кода может негативно отразиться на оценке.\n",
    "\n",
    "## Формат сдачи\n",
    "Задания сдаются через систему anytask. Посылка должна содержать:\n",
    "* Ноутбук homework-practice-07-Username.ipynb\n",
    "\n",
    "Username — ваша фамилия на латинице"
   ]
  },
  {
   "cell_type": "markdown",
   "metadata": {},
   "source": [
    "## О задании\n",
    "\n",
    "В этом задании вам предстоит вручную запрограммировать один из самых мощных алгоритмов машинного обучения — бустинг."
   ]
  },
  {
   "cell_type": "code",
   "execution_count": 39,
   "metadata": {},
   "outputs": [],
   "source": [
    "from warnings import filterwarnings\n",
    "\n",
    "import matplotlib.pyplot as plt\n",
    "import numpy as np\n",
    "import seaborn as sns\n",
    "from scipy.sparse import load_npz\n",
    "from sklearn.model_selection import train_test_split\n",
    "\n",
    "\n",
    "sns.set(style='darkgrid')\n",
    "filterwarnings('ignore')"
   ]
  },
  {
   "cell_type": "code",
   "execution_count": 40,
   "metadata": {},
   "outputs": [],
   "source": [
    "x = load_npz('x.npz')\n",
    "y = np.load('y.npy')"
   ]
  },
  {
   "cell_type": "markdown",
   "metadata": {},
   "source": [
    "Разделим на обучающую, валидационную и тестовую выборки (`random_state` оставьте равным 1337 для воспроизводимости)."
   ]
  },
  {
   "cell_type": "code",
   "execution_count": 3,
   "metadata": {},
   "outputs": [
    {
     "data": {
      "text/plain": "((18825, 169), (2354, 169), (2353, 169))"
     },
     "execution_count": 3,
     "metadata": {},
     "output_type": "execute_result"
    }
   ],
   "source": [
    "x_train, x_test, y_train, y_test = train_test_split(x, y, test_size=0.2, random_state=1337)\n",
    "\n",
    "x_test, x_valid, y_test, y_valid = train_test_split(x_test, y_test, test_size=0.5, random_state=1337)\n",
    "\n",
    "x_train.shape, x_valid.shape, x_test.shape"
   ]
  },
  {
   "cell_type": "markdown",
   "metadata": {},
   "source": [
    "## Задание 1. Реализация градиентного бустингового (4 балла)\n",
    "\n",
    "Вам нужно дописать код в файлике `boosting.py`. Для вас уже подготовлен шаблон класса `Boosting`, вы можете менять его по своему усмотрению.\n",
    "\n",
    "### Инструкции для функций:\n",
    "\n",
    "#### `__init__`\n",
    "\n",
    "В `__init__` приходит кучка параметров, распишем что есть что:\n",
    "\n",
    " - `base_model_class` - класс базовой модели нашего бустинга\n",
    " - `base_model_params` - словарь с гиперпараметрами для базовой модели\n",
    " - `n_estimators` - какое количество базовых моделей нужно обучить\n",
    " - `learning_rate` - темп обучения, должен быть из полуинтервала $(0, 1]$\n",
    " - `subsample` - доля объектов, на которой будет обучаться базовая модель (какую часть составляет бутстрапная выборка от исходной обучающей)\n",
    " - `early_stopping_rounds` - число итераций, после которых при отсутствии улучшения качества на валидационной выборке обучение останавливается\n",
    " - `plot` - строить ли после обучения всех базовых моделей график с качеством\n",
    "\n",
    "#### `fit`\n",
    "\n",
    "В `fit` приходит две выборки, обучающая и валидационная. На обучающей мы обучаем новые базовые модели, на валидационной считаем качество для ранней остановки (если это предусматривают параметры).\n",
    "\n",
    "Сначала нам нужно сделать какую-то нулевую модель, сделать предсказания для обучающей и валидационной выборок (в шаблоне это нулевая модель, соответственно предсказания это просто `np.zeros`). После этого нужно обучить `n_estimators` базовых моделей (как и на что обучаются базовые модели смотрите в лекциях и семинарах). После каждой обученной базовой модели мы должны обновить текущие предсказания, посчитать ошибку на обучающей и валидационной выборках (используем `loss_fn` для этого), проверить на раннюю остановку.\n",
    "\n",
    "После всего цикла обучения надо нарисовать график (если `plot`).\n",
    "\n",
    "\n",
    "#### `fit_new_base_model`\n",
    "\n",
    "В `fit_new_base_model` приходит обучающая выборка (целиком) и текущие предсказания для неё. Мы должны сгенерировать бутстрап выборку для обучения базовой модели и обучить базовую модель. После обучения модели запускаем поиск оптимальной гаммы, добавляем новую модель и гамму (не забываем про темп обучения) в соответствующие списки.\n",
    "\n",
    "#### `predict_proba`\n",
    "\n",
    "В `predict_proba` приходит выборка, нужно предсказать вероятности для неё. Суммируем предсказания базовых моделей на этой выборке (не забываем про гаммы) и накидываем сигмоиду."
   ]
  },
  {
   "cell_type": "code",
   "execution_count": 4,
   "metadata": {},
   "outputs": [],
   "source": [
    "%load_ext autoreload"
   ]
  },
  {
   "cell_type": "code",
   "execution_count": 5,
   "metadata": {},
   "outputs": [],
   "source": [
    "%autoreload 2\n",
    "\n",
    "from boosting import Boosting"
   ]
  },
  {
   "cell_type": "markdown",
   "metadata": {},
   "source": [
    "### Проверка кода\n",
    "\n",
    "У автора задания всё учится около одной секунды."
   ]
  },
  {
   "cell_type": "code",
   "execution_count": 6,
   "metadata": {},
   "outputs": [
    {
     "name": "stdout",
     "output_type": "stream",
     "text": [
      "CPU times: user 1.55 s, sys: 32.3 ms, total: 1.58 s\n",
      "Wall time: 1.65 s\n",
      "Train ROC-AUC 0.9894\n",
      "Valid ROC-AUC 0.9124\n",
      "Test ROC-AUC 0.9130\n"
     ]
    }
   ],
   "source": [
    "boosting = Boosting()\n",
    "\n",
    "%time boosting.fit(x_train, y_train, x_valid, y_valid)\n",
    "\n",
    "assert len(boosting.models) == boosting.n_estimators\n",
    "assert len(boosting.gammas) == boosting.n_estimators\n",
    "\n",
    "assert boosting.predict_proba(x_test).shape == (x_test.shape[0], 2)\n",
    "\n",
    "print(f'Train ROC-AUC {boosting.score(x_train, y_train):.4f}')\n",
    "print(f'Valid ROC-AUC {boosting.score(x_valid, y_valid):.4f}')\n",
    "print(f'Test ROC-AUC {boosting.score(x_test, y_test):.4f}')"
   ]
  },
  {
   "cell_type": "markdown",
   "metadata": {},
   "source": [
    "## Задание 2. Обучение градиентного бустингового (1 балл)\n",
    "\n",
    "Оцените качество на тестовой выборке вашей имплементации бустинга для различной максимальной глубины решающего дерева в качестве базовой модели. Здесь и далее мы будем использовать метрику ROC-AUC.\n",
    "\n",
    "Перебирайте максимальную глубину от 1 до 30 с шагом 2 (остальные параметры бустинга стоит оставить равными по умолчанию). Постройте график зависимости качества на обучающей и тестовой выборке в зависимости от глубины."
   ]
  },
  {
   "cell_type": "code",
   "execution_count": 24,
   "metadata": {},
   "outputs": [
    {
     "data": {
      "text/plain": "<AxesSubplot:>"
     },
     "execution_count": 24,
     "metadata": {},
     "output_type": "execute_result"
    },
    {
     "data": {
      "text/plain": "<Figure size 720x432 with 1 Axes>",
      "image/png": "[encoded data removed]"
     },
     "metadata": {},
     "output_type": "display_data"
    }
   ],
   "source": [
    "from collections import defaultdict\n",
    "import seaborn as sns\n",
    "\n",
    "results = {}\n",
    "\n",
    "depths = range(1, 30, 2)\n",
    "depths_scores = defaultdict(list)\n",
    "for d in depths:\n",
    "    boosting = Boosting(base_model_params={\n",
    "        'max_depth': d\n",
    "    })\n",
    "    boosting.fit(x_train, y_train, x_valid, y_valid)\n",
    "    depths_scores['train'].append(boosting.score(x_train, y_train))\n",
    "    depths_scores['val'].append(boosting.score(x_valid, y_valid))\n",
    "\n",
    "sns.set(rc={'figure.figsize': (10, 6)})\n",
    "sns.lineplot(data=depths_scores)"
   ]
  },
  {
   "cell_type": "markdown",
   "metadata": {},
   "source": [
    "**Какая из моделей имеет лучшее качество? Как вы можете это объяснить?**\n",
    "\n",
    "`Лучшее качество имеет модель с максимальной глубиной 4. При большей глубине базовые модели получаются слишком слолжными и модель переобучивается (видим, что на трейне скор растет постоянно)`"
   ]
  },
  {
   "cell_type": "markdown",
   "metadata": {},
   "source": [
    "## Задание 3. Подбираем гиперпараметры и ищем лучшую модель (3 балла)\n",
    "\n",
    "Подберите по валидационной выборке основные гиперпараметры для вашей модели бустинга. Следует подобрать все основные параметры для самого градиентного бустинга и для самих базовых моделей. Существуют библиотеки для подбора гиперпараметров, попробуйте использовать какую-нибудь из следующих двух - [Hyperopt](https://github.com/hyperopt/hyperopt), [Optuna](https://optuna.org/)."
   ]
  },
  {
   "cell_type": "code",
   "execution_count": 7,
   "outputs": [],
   "source": [
    "import optuna"
   ],
   "metadata": {
    "collapsed": false
   }
  },
  {
   "cell_type": "code",
   "execution_count": 10,
   "metadata": {},
   "outputs": [
    {
     "name": "stderr",
     "output_type": "stream",
     "text": [
      "\u001B[32m[I 2022-12-20 23:48:37,900]\u001B[0m A new study created in memory with name: no-name-e0b10eaa-a26c-4dff-bd15-d7a45b255e12\u001B[0m\n"
     ]
    },
    {
     "data": {
      "text/plain": "  0%|          | 0/100 [00:00<?, ?it/s]",
      "application/vnd.jupyter.widget-view+json": {
       "version_major": 2,
       "version_minor": 0,
       "model_id": "b6c1fb51eb124b32b2559c258d897af8"
      }
     },
     "metadata": {},
     "output_type": "display_data"
    },
    {
     "name": "stdout",
     "output_type": "stream",
     "text": [
      "\u001B[32m[I 2022-12-20 23:48:45,007]\u001B[0m Trial 0 finished with value: 0.9359627340595276 and parameters: {'max_depth': 5, 'min_samples_split': 44, 'min_samples_leaf': 41, 'max_features': 110, 'n_estimators': 143, 'learning_rate': 0.060559682876657875}. Best is trial 0 with value: 0.9359627340595276.\u001B[0m\n",
      "\u001B[32m[I 2022-12-20 23:48:45,540]\u001B[0m Trial 1 finished with value: 0.9299028681396483 and parameters: {'max_depth': 19, 'min_samples_split': 35, 'min_samples_leaf': 29, 'max_features': 30, 'n_estimators': 11, 'learning_rate': 0.04080094205084816}. Best is trial 0 with value: 0.9359627340595276.\u001B[0m\n",
      "\u001B[32m[I 2022-12-20 23:48:45,861]\u001B[0m Trial 2 finished with value: 0.8449230663623962 and parameters: {'max_depth': 1, 'min_samples_split': 44, 'min_samples_leaf': 8, 'max_features': 40, 'n_estimators': 9, 'learning_rate': 0.0034598484944054347}. Best is trial 0 with value: 0.9359627340595276.\u001B[0m\n",
      "\u001B[32m[I 2022-12-20 23:48:49,842]\u001B[0m Trial 3 finished with value: 0.9392935850189131 and parameters: {'max_depth': 17, 'min_samples_split': 17, 'min_samples_leaf': 20, 'max_features': 30, 'n_estimators': 107, 'learning_rate': 0.04612727297845645}. Best is trial 3 with value: 0.9392935850189131.\u001B[0m\n",
      "\u001B[32m[I 2022-12-20 23:48:54,077]\u001B[0m Trial 4 finished with value: 0.9411042812569592 and parameters: {'max_depth': 21, 'min_samples_split': 14, 'min_samples_leaf': 14, 'max_features': 60, 'n_estimators': 83, 'learning_rate': 0.09461983774567256}. Best is trial 4 with value: 0.9411042812569592.\u001B[0m\n",
      "\u001B[32m[I 2022-12-20 23:48:57,498]\u001B[0m Trial 5 finished with value: 0.928741899359292 and parameters: {'max_depth': 7, 'min_samples_split': 47, 'min_samples_leaf': 41, 'max_features': 20, 'n_estimators': 131, 'learning_rate': 0.00888169469205125}. Best is trial 4 with value: 0.9411042812569592.\u001B[0m\n",
      "\u001B[32m[I 2022-12-20 23:49:00,812]\u001B[0m Trial 6 finished with value: 0.9044737008044967 and parameters: {'max_depth': 1, 'min_samples_split': 20, 'min_samples_leaf': 47, 'max_features': 100, 'n_estimators': 137, 'learning_rate': 0.0562348671187618}. Best is trial 4 with value: 0.9411042812569592.\u001B[0m\n",
      "\u001B[32m[I 2022-12-20 23:49:03,571]\u001B[0m Trial 7 finished with value: 0.9358326289297935 and parameters: {'max_depth': 27, 'min_samples_split': 41, 'min_samples_leaf': 29, 'max_features': 150, 'n_estimators': 47, 'learning_rate': 0.01424099204156353}. Best is trial 4 with value: 0.9411042812569592.\u001B[0m\n",
      "\u001B[32m[I 2022-12-20 23:49:07,198]\u001B[0m Trial 8 finished with value: 0.9249125781329195 and parameters: {'max_depth': 3, 'min_samples_split': 14, 'min_samples_leaf': 8, 'max_features': 110, 'n_estimators': 131, 'learning_rate': 0.035141214477892556}. Best is trial 4 with value: 0.9411042812569592.\u001B[0m\n",
      "\u001B[32m[I 2022-12-20 23:49:15,913]\u001B[0m Trial 9 finished with value: 0.9404968579212074 and parameters: {'max_depth': 19, 'min_samples_split': 38, 'min_samples_leaf': 17, 'max_features': 110, 'n_estimators': 149, 'learning_rate': 0.08764983272019194}. Best is trial 4 with value: 0.9411042812569592.\u001B[0m\n",
      "\u001B[32m[I 2022-12-20 23:49:26,655]\u001B[0m Trial 10 finished with value: 0.9402111055503806 and parameters: {'max_depth': 29, 'min_samples_split': 2, 'min_samples_leaf': 5, 'max_features': 70, 'n_estimators': 77, 'learning_rate': 0.09113793334242487}. Best is trial 4 with value: 0.9411042812569592.\u001B[0m\n",
      "\u001B[32m[I 2022-12-20 23:49:32,825]\u001B[0m Trial 11 finished with value: 0.9412926543282305 and parameters: {'max_depth': 23, 'min_samples_split': 32, 'min_samples_leaf': 17, 'max_features': 70, 'n_estimators': 87, 'learning_rate': 0.09776205192995362}. Best is trial 11 with value: 0.9412926543282305.\u001B[0m\n",
      "\u001B[32m[I 2022-12-20 23:49:39,257]\u001B[0m Trial 12 finished with value: 0.9398750671478161 and parameters: {'max_depth': 23, 'min_samples_split': 29, 'min_samples_leaf': 17, 'max_features': 70, 'n_estimators': 85, 'learning_rate': 0.07548670809338753}. Best is trial 11 with value: 0.9412926543282305.\u001B[0m\n",
      "\u001B[32m[I 2022-12-20 23:49:41,217]\u001B[0m Trial 13 finished with value: 0.9390082317435765 and parameters: {'max_depth': 11, 'min_samples_split': 8, 'min_samples_leaf': 23, 'max_features': 70, 'n_estimators': 47, 'learning_rate': 0.09790193225137972}. Best is trial 11 with value: 0.9412926543282305.\u001B[0m\n",
      "\u001B[32m[I 2022-12-20 23:49:46,486]\u001B[0m Trial 14 finished with value: 0.9410739499997206 and parameters: {'max_depth': 23, 'min_samples_split': 26, 'min_samples_leaf': 14, 'max_features': 50, 'n_estimators': 107, 'learning_rate': 0.07359059549798354}. Best is trial 11 with value: 0.9412926543282305.\u001B[0m\n",
      "\u001B[32m[I 2022-12-20 23:49:52,400]\u001B[0m Trial 15 finished with value: 0.9401097352959253 and parameters: {'max_depth': 13, 'min_samples_split': 29, 'min_samples_leaf': 2, 'max_features': 140, 'n_estimators': 97, 'learning_rate': 0.07909563626280722}. Best is trial 11 with value: 0.9412926543282305.\u001B[0m\n",
      "\u001B[32m[I 2022-12-20 23:49:55,171]\u001B[0m Trial 16 finished with value: 0.9412036560339646 and parameters: {'max_depth': 23, 'min_samples_split': 23, 'min_samples_leaf': 11, 'max_features': 60, 'n_estimators': 49, 'learning_rate': 0.09798219384137688}. Best is trial 11 with value: 0.9412926543282305.\u001B[0m\n",
      "\u001B[32m[I 2022-12-20 23:49:58,191]\u001B[0m Trial 17 finished with value: 0.9390497376745346 and parameters: {'max_depth': 25, 'min_samples_split': 23, 'min_samples_leaf': 26, 'max_features': 90, 'n_estimators': 57, 'learning_rate': 0.06538132314026576}. Best is trial 11 with value: 0.9412926543282305.\u001B[0m\n",
      "\u001B[32m[I 2022-12-20 23:49:59,018]\u001B[0m Trial 18 finished with value: 0.9158694734254286 and parameters: {'max_depth': 29, 'min_samples_split': 32, 'min_samples_leaf': 35, 'max_features': 10, 'n_estimators': 29, 'learning_rate': 0.08461304266113379}. Best is trial 11 with value: 0.9412926543282305.\u001B[0m\n",
      "\u001B[32m[I 2022-12-20 23:50:01,944]\u001B[0m Trial 19 finished with value: 0.939104014661172 and parameters: {'max_depth': 15, 'min_samples_split': 50, 'min_samples_leaf': 11, 'max_features': 80, 'n_estimators': 61, 'learning_rate': 0.020120986469954638}. Best is trial 11 with value: 0.9412926543282305.\u001B[0m\n",
      "\u001B[32m[I 2022-12-20 23:50:03,517]\u001B[0m Trial 20 finished with value: 0.9356686006834112 and parameters: {'max_depth': 25, 'min_samples_split': 23, 'min_samples_leaf': 23, 'max_features': 130, 'n_estimators': 25, 'learning_rate': 0.0994345218995746}. Best is trial 11 with value: 0.9412926543282305.\u001B[0m\n",
      "\u001B[32m[I 2022-12-20 23:50:06,898]\u001B[0m Trial 21 finished with value: 0.9410025119070139 and parameters: {'max_depth': 21, 'min_samples_split': 11, 'min_samples_leaf': 14, 'max_features': 50, 'n_estimators': 67, 'learning_rate': 0.09246282883583666}. Best is trial 11 with value: 0.9412926543282305.\u001B[0m\n",
      "\u001B[32m[I 2022-12-20 23:50:11,713]\u001B[0m Trial 22 finished with value: 0.9405974299846828 and parameters: {'max_depth': 21, 'min_samples_split': 8, 'min_samples_leaf': 11, 'max_features': 60, 'n_estimators': 87, 'learning_rate': 0.06913317497816873}. Best is trial 11 with value: 0.9412926543282305.\u001B[0m\n",
      "\u001B[32m[I 2022-12-20 23:50:18,258]\u001B[0m Trial 23 finished with value: 0.9412232117129737 and parameters: {'max_depth': 25, 'min_samples_split': 17, 'min_samples_leaf': 2, 'max_features': 50, 'n_estimators': 109, 'learning_rate': 0.08207470749878468}. Best is trial 11 with value: 0.9412926543282305.\u001B[0m\n",
      "\u001B[32m[I 2022-12-20 23:50:24,185]\u001B[0m Trial 24 finished with value: 0.9398303684529381 and parameters: {'max_depth': 25, 'min_samples_split': 20, 'min_samples_leaf': 2, 'max_features': 40, 'n_estimators': 119, 'learning_rate': 0.0824296558141655}. Best is trial 11 with value: 0.9412926543282305.\u001B[0m\n",
      "\u001B[32m[I 2022-12-20 23:50:30,537]\u001B[0m Trial 25 finished with value: 0.940153635799823 and parameters: {'max_depth': 27, 'min_samples_split': 32, 'min_samples_leaf': 5, 'max_features': 90, 'n_estimators': 101, 'learning_rate': 0.08564243542285271}. Best is trial 11 with value: 0.9412926543282305.\u001B[0m\n",
      "\u001B[32m[I 2022-12-20 23:50:33,846]\u001B[0m Trial 26 finished with value: 0.9413205910125292 and parameters: {'max_depth': 17, 'min_samples_split': 26, 'min_samples_leaf': 8, 'max_features': 50, 'n_estimators': 71, 'learning_rate': 0.09952618277070387}. Best is trial 26 with value: 0.9413205910125292.\u001B[0m\n",
      "\u001B[32m[I 2022-12-20 23:50:36,895]\u001B[0m Trial 27 finished with value: 0.9395677636205304 and parameters: {'max_depth': 11, 'min_samples_split': 35, 'min_samples_leaf': 2, 'max_features': 10, 'n_estimators': 117, 'learning_rate': 0.07976163741760192}. Best is trial 26 with value: 0.9413205910125292.\u001B[0m\n",
      "\u001B[32m[I 2022-12-20 23:50:39,765]\u001B[0m Trial 28 finished with value: 0.9413022326199901 and parameters: {'max_depth': 17, 'min_samples_split': 26, 'min_samples_leaf': 8, 'max_features': 40, 'n_estimators': 71, 'learning_rate': 0.09018974086999801}. Best is trial 26 with value: 0.9413205910125292.\u001B[0m\n",
      "\u001B[32m[I 2022-12-20 23:50:42,042]\u001B[0m Trial 29 finished with value: 0.9391399332552703 and parameters: {'max_depth': 15, 'min_samples_split': 29, 'min_samples_leaf': 20, 'max_features': 30, 'n_estimators': 71, 'learning_rate': 0.060721166373192956}. Best is trial 26 with value: 0.9413205910125292.\u001B[0m\n",
      "\u001B[32m[I 2022-12-20 23:50:45,613]\u001B[0m Trial 30 finished with value: 0.940763852804005 and parameters: {'max_depth': 17, 'min_samples_split': 38, 'min_samples_leaf': 8, 'max_features': 40, 'n_estimators': 91, 'learning_rate': 0.02843991583063203}. Best is trial 26 with value: 0.9413205910125292.\u001B[0m\n",
      "\u001B[32m[I 2022-12-20 23:50:48,940]\u001B[0m Trial 31 finished with value: 0.9420537294276252 and parameters: {'max_depth': 17, 'min_samples_split': 26, 'min_samples_leaf': 5, 'max_features': 50, 'n_estimators': 75, 'learning_rate': 0.08971774782967208}. Best is trial 31 with value: 0.9420537294276252.\u001B[0m\n",
      "\u001B[32m[I 2022-12-20 23:50:51,448]\u001B[0m Trial 32 finished with value: 0.9410488069838518 and parameters: {'max_depth': 17, 'min_samples_split': 26, 'min_samples_leaf': 5, 'max_features': 20, 'n_estimators': 77, 'learning_rate': 0.08981855740944512}. Best is trial 31 with value: 0.9420537294276252.\u001B[0m\n",
      "\u001B[32m[I 2022-12-20 23:50:54,244]\u001B[0m Trial 33 finished with value: 0.941284273322941 and parameters: {'max_depth': 13, 'min_samples_split': 32, 'min_samples_leaf': 8, 'max_features': 80, 'n_estimators': 63, 'learning_rate': 0.09308612567583162}. Best is trial 31 with value: 0.9420537294276252.\u001B[0m\n",
      "\u001B[32m[I 2022-12-20 23:50:55,557]\u001B[0m Trial 34 finished with value: 0.9386893544470811 and parameters: {'max_depth': 19, 'min_samples_split': 26, 'min_samples_leaf': 17, 'max_features': 40, 'n_estimators': 35, 'learning_rate': 0.09930849311491458}. Best is trial 31 with value: 0.9420537294276252.\u001B[0m\n",
      "\u001B[32m[I 2022-12-20 23:50:57,921]\u001B[0m Trial 35 finished with value: 0.9399061965960347 and parameters: {'max_depth': 9, 'min_samples_split': 35, 'min_samples_leaf': 11, 'max_features': 50, 'n_estimators': 75, 'learning_rate': 0.07319694063045513}. Best is trial 31 with value: 0.9420537294276252.\u001B[0m\n",
      "\u001B[32m[I 2022-12-20 23:50:59,673]\u001B[0m Trial 36 finished with value: 0.9396188478432481 and parameters: {'max_depth': 17, 'min_samples_split': 20, 'min_samples_leaf': 5, 'max_features': 20, 'n_estimators': 55, 'learning_rate': 0.054118388376697066}. Best is trial 31 with value: 0.9420537294276252.\u001B[0m\n",
      "\u001B[32m[I 2022-12-20 23:51:02,298]\u001B[0m Trial 37 finished with value: 0.9401955408262714 and parameters: {'max_depth': 13, 'min_samples_split': 26, 'min_samples_leaf': 14, 'max_features': 30, 'n_estimators': 81, 'learning_rate': 0.08734368682978441}. Best is trial 31 with value: 0.9420537294276252.\u001B[0m\n",
      "\u001B[32m[I 2022-12-20 23:51:05,535]\u001B[0m Trial 38 finished with value: 0.9350819303131384 and parameters: {'max_depth': 19, 'min_samples_split': 41, 'min_samples_leaf': 50, 'max_features': 60, 'n_estimators': 93, 'learning_rate': 0.04242846342400449}. Best is trial 31 with value: 0.9420537294276252.\u001B[0m\n",
      "\u001B[32m[I 2022-12-20 23:51:07,215]\u001B[0m Trial 39 finished with value: 0.9390202046082758 and parameters: {'max_depth': 15, 'min_samples_split': 29, 'min_samples_leaf': 8, 'max_features': 70, 'n_estimators': 35, 'learning_rate': 0.00032963379768371354}. Best is trial 31 with value: 0.9420537294276252.\u001B[0m\n",
      "\u001B[32m[I 2022-12-20 23:51:08,971]\u001B[0m Trial 40 finished with value: 0.9356614169645914 and parameters: {'max_depth': 7, 'min_samples_split': 17, 'min_samples_leaf': 20, 'max_features': 30, 'n_estimators': 67, 'learning_rate': 0.09460270273386351}. Best is trial 31 with value: 0.9420537294276252.\u001B[0m\n",
      "\u001B[32m[I 2022-12-20 23:51:11,899]\u001B[0m Trial 41 finished with value: 0.941111065880289 and parameters: {'max_depth': 13, 'min_samples_split': 32, 'min_samples_leaf': 8, 'max_features': 80, 'n_estimators': 67, 'learning_rate': 0.09377769325017588}. Best is trial 31 with value: 0.9420537294276252.\u001B[0m\n",
      "\u001B[32m[I 2022-12-20 23:51:14,579]\u001B[0m Trial 42 finished with value: 0.9400398935851786 and parameters: {'max_depth': 11, 'min_samples_split': 35, 'min_samples_leaf': 8, 'max_features': 100, 'n_estimators': 61, 'learning_rate': 0.09010852479260742}. Best is trial 31 with value: 0.9420537294276252.\u001B[0m\n",
      "\u001B[32m[I 2022-12-20 23:51:18,567]\u001B[0m Trial 43 finished with value: 0.9404880778204276 and parameters: {'max_depth': 17, 'min_samples_split': 32, 'min_samples_leaf': 14, 'max_features': 80, 'n_estimators': 81, 'learning_rate': 0.09440039973854578}. Best is trial 31 with value: 0.9420537294276252.\u001B[0m\n",
      "\u001B[32m[I 2022-12-20 23:51:21,664]\u001B[0m Trial 44 finished with value: 0.9413804553360264 and parameters: {'max_depth': 21, 'min_samples_split': 38, 'min_samples_leaf': 5, 'max_features': 100, 'n_estimators': 53, 'learning_rate': 0.0875856798074059}. Best is trial 31 with value: 0.9420537294276252.\u001B[0m\n",
      "\u001B[32m[I 2022-12-20 23:51:24,116]\u001B[0m Trial 45 finished with value: 0.9417272693168204 and parameters: {'max_depth': 21, 'min_samples_split': 44, 'min_samples_leaf': 5, 'max_features': 60, 'n_estimators': 53, 'learning_rate': 0.07660783184135836}. Best is trial 31 with value: 0.9420537294276252.\u001B[0m\n",
      "\u001B[32m[I 2022-12-20 23:51:26,114]\u001B[0m Trial 46 finished with value: 0.9355708222883656 and parameters: {'max_depth': 21, 'min_samples_split': 44, 'min_samples_leaf': 35, 'max_features': 100, 'n_estimators': 43, 'learning_rate': 0.07716595276824795}. Best is trial 31 with value: 0.9420537294276252.\u001B[0m\n",
      "\u001B[32m[I 2022-12-20 23:51:26,831]\u001B[0m Trial 47 finished with value: 0.9381338135250269 and parameters: {'max_depth': 19, 'min_samples_split': 47, 'min_samples_leaf': 5, 'max_features': 40, 'n_estimators': 17, 'learning_rate': 0.06935854043667522}. Best is trial 31 with value: 0.9420537294276252.\u001B[0m\n",
      "\u001B[32m[I 2022-12-20 23:51:30,126]\u001B[0m Trial 48 finished with value: 0.9404062632449817 and parameters: {'max_depth': 19, 'min_samples_split': 41, 'min_samples_leaf': 2, 'max_features': 120, 'n_estimators': 51, 'learning_rate': 0.08547292962687925}. Best is trial 31 with value: 0.9420537294276252.\u001B[0m\n",
      "\u001B[32m[I 2022-12-20 23:51:31,677]\u001B[0m Trial 49 finished with value: 0.9403895012344022 and parameters: {'max_depth': 17, 'min_samples_split': 47, 'min_samples_leaf': 5, 'max_features': 50, 'n_estimators': 39, 'learning_rate': 0.06288618895533543}. Best is trial 31 with value: 0.9420537294276252.\u001B[0m\n",
      "\u001B[32m[I 2022-12-20 23:51:34,067]\u001B[0m Trial 50 finished with value: 0.9407957804432036 and parameters: {'max_depth': 21, 'min_samples_split': 44, 'min_samples_leaf': 11, 'max_features': 60, 'n_estimators': 55, 'learning_rate': 0.06951121073970709}. Best is trial 31 with value: 0.9420537294276252.\u001B[0m\n",
      "\u001B[32m[I 2022-12-20 23:51:37,303]\u001B[0m Trial 51 finished with value: 0.9418673518338039 and parameters: {'max_depth': 23, 'min_samples_split': 38, 'min_samples_leaf': 8, 'max_features': 50, 'n_estimators': 73, 'learning_rate': 0.08872232462400774}. Best is trial 31 with value: 0.9420537294276252.\u001B[0m\n",
      "\u001B[32m[I 2022-12-20 23:51:40,754]\u001B[0m Trial 52 finished with value: 0.9411880913098554 and parameters: {'max_depth': 23, 'min_samples_split': 38, 'min_samples_leaf': 5, 'max_features': 60, 'n_estimators': 71, 'learning_rate': 0.08874597282991219}. Best is trial 31 with value: 0.9420537294276252.\u001B[0m\n",
      "\u001B[32m[I 2022-12-20 23:51:42,970]\u001B[0m Trial 53 finished with value: 0.9405742824462638 and parameters: {'max_depth': 21, 'min_samples_split': 50, 'min_samples_leaf': 11, 'max_features': 40, 'n_estimators': 59, 'learning_rate': 0.08304216038370331}. Best is trial 31 with value: 0.9420537294276252.\u001B[0m\n",
      "\u001B[32m[I 2022-12-20 23:51:46,139]\u001B[0m Trial 54 finished with value: 0.9420497384727254 and parameters: {'max_depth': 19, 'min_samples_split': 41, 'min_samples_leaf': 2, 'max_features': 50, 'n_estimators': 71, 'learning_rate': 0.08008553233467058}. Best is trial 31 with value: 0.9420537294276252.\u001B[0m\n",
      "\u001B[32m[I 2022-12-20 23:51:48,473]\u001B[0m Trial 55 finished with value: 0.9405200054596263 and parameters: {'max_depth': 23, 'min_samples_split': 44, 'min_samples_leaf': 2, 'max_features': 70, 'n_estimators': 43, 'learning_rate': 0.07921560277815921}. Best is trial 31 with value: 0.9420537294276252.\u001B[0m\n",
      "\u001B[32m[I 2022-12-20 23:51:51,016]\u001B[0m Trial 56 finished with value: 0.9394280801990369 and parameters: {'max_depth': 27, 'min_samples_split': 41, 'min_samples_leaf': 2, 'max_features': 50, 'n_estimators': 51, 'learning_rate': 0.07504630463393042}. Best is trial 31 with value: 0.9420537294276252.\u001B[0m\n",
      "\u001B[32m[I 2022-12-20 23:51:55,531]\u001B[0m Trial 57 finished with value: 0.9410551925116916 and parameters: {'max_depth': 19, 'min_samples_split': 47, 'min_samples_leaf': 5, 'max_features': 120, 'n_estimators': 77, 'learning_rate': 0.09627819518798753}. Best is trial 31 with value: 0.9420537294276252.\u001B[0m\n",
      "\u001B[32m[I 2022-12-20 23:51:55,859]\u001B[0m Trial 58 finished with value: 0.9310406893815856 and parameters: {'max_depth': 21, 'min_samples_split': 38, 'min_samples_leaf': 8, 'max_features': 90, 'n_estimators': 5, 'learning_rate': 0.07217285178542954}. Best is trial 31 with value: 0.9420537294276252.\u001B[0m\n",
      "\u001B[32m[I 2022-12-20 23:51:58,147]\u001B[0m Trial 59 finished with value: 0.936531844228241 and parameters: {'max_depth': 19, 'min_samples_split': 41, 'min_samples_leaf': 38, 'max_features': 50, 'n_estimators': 65, 'learning_rate': 0.05640491511137004}. Best is trial 31 with value: 0.9420537294276252.\u001B[0m\n",
      "\u001B[32m[I 2022-12-20 23:52:02,975]\u001B[0m Trial 60 finished with value: 0.938324980264728 and parameters: {'max_depth': 15, 'min_samples_split': 38, 'min_samples_leaf': 29, 'max_features': 160, 'n_estimators': 87, 'learning_rate': 0.08026370595035806}. Best is trial 31 with value: 0.9420537294276252.\u001B[0m\n",
      "\u001B[32m[I 2022-12-20 23:52:05,326]\u001B[0m Trial 61 finished with value: 0.9408548465757209 and parameters: {'max_depth': 17, 'min_samples_split': 23, 'min_samples_leaf': 8, 'max_features': 20, 'n_estimators': 71, 'learning_rate': 0.08770279775952641}. Best is trial 31 with value: 0.9420537294276252.\u001B[0m\n",
      "\u001B[32m[I 2022-12-20 23:52:09,569]\u001B[0m Trial 62 finished with value: 0.9427980425164408 and parameters: {'max_depth': 23, 'min_samples_split': 29, 'min_samples_leaf': 5, 'max_features': 60, 'n_estimators': 75, 'learning_rate': 0.09081276198886254}. Best is trial 62 with value: 0.9427980425164408.\u001B[0m\n",
      "\u001B[32m[I 2022-12-20 23:52:13,949]\u001B[0m Trial 63 finished with value: 0.9420860561623137 and parameters: {'max_depth': 25, 'min_samples_split': 29, 'min_samples_leaf': 2, 'max_features': 60, 'n_estimators': 81, 'learning_rate': 0.08426686783976488}. Best is trial 62 with value: 0.9427980425164408.\u001B[0m\n",
      "\u001B[32m[I 2022-12-20 23:52:18,916]\u001B[0m Trial 64 finished with value: 0.9419583456055197 and parameters: {'max_depth': 25, 'min_samples_split': 35, 'min_samples_leaf': 2, 'max_features': 60, 'n_estimators': 93, 'learning_rate': 0.08579760009427921}. Best is trial 62 with value: 0.9427980425164408.\u001B[0m\n",
      "\u001B[32m[I 2022-12-20 23:52:25,093]\u001B[0m Trial 65 finished with value: 0.9408009686845733 and parameters: {'max_depth': 25, 'min_samples_split': 29, 'min_samples_leaf': 2, 'max_features': 60, 'n_estimators': 99, 'learning_rate': 0.08315134209018687}. Best is trial 62 with value: 0.9427980425164408.\u001B[0m\n",
      "\u001B[32m[I 2022-12-20 23:52:30,660]\u001B[0m Trial 66 finished with value: 0.9409450421564567 and parameters: {'max_depth': 27, 'min_samples_split': 35, 'min_samples_leaf': 2, 'max_features': 60, 'n_estimators': 93, 'learning_rate': 0.07680977995531808}. Best is trial 62 with value: 0.9427980425164408.\u001B[0m\n",
      "\u001B[32m[I 2022-12-20 23:52:35,589]\u001B[0m Trial 67 finished with value: 0.9419471709318001 and parameters: {'max_depth': 29, 'min_samples_split': 35, 'min_samples_leaf': 5, 'max_features': 70, 'n_estimators': 83, 'learning_rate': 0.0846146985862792}. Best is trial 62 with value: 0.9427980425164408.\u001B[0m\n",
      "\u001B[32m[I 2022-12-20 23:52:41,388]\u001B[0m Trial 68 finished with value: 0.9399437115720929 and parameters: {'max_depth': 29, 'min_samples_split': 35, 'min_samples_leaf': 2, 'max_features': 70, 'n_estimators': 89, 'learning_rate': 0.09219881888571685}. Best is trial 62 with value: 0.9427980425164408.\u001B[0m\n",
      "\u001B[32m[I 2022-12-20 23:52:48,673]\u001B[0m Trial 69 finished with value: 0.9417013281099715 and parameters: {'max_depth': 29, 'min_samples_split': 29, 'min_samples_leaf': 2, 'max_features': 70, 'n_estimators': 105, 'learning_rate': 0.08492820426295736}. Best is trial 62 with value: 0.9427980425164408.\u001B[0m\n",
      "\u001B[32m[I 2022-12-20 23:52:56,576]\u001B[0m Trial 70 finished with value: 0.9407379115971563 and parameters: {'max_depth': 27, 'min_samples_split': 32, 'min_samples_leaf': 5, 'max_features': 70, 'n_estimators': 83, 'learning_rate': 0.08137282937326175}. Best is trial 62 with value: 0.9427980425164408.\u001B[0m\n",
      "\u001B[32m[I 2022-12-20 23:53:03,180]\u001B[0m Trial 71 finished with value: 0.940094569667306 and parameters: {'max_depth': 25, 'min_samples_split': 35, 'min_samples_leaf': 5, 'max_features': 60, 'n_estimators': 79, 'learning_rate': 0.08538736140775968}. Best is trial 62 with value: 0.9427980425164408.\u001B[0m\n",
      "\u001B[32m[I 2022-12-20 23:53:15,393]\u001B[0m Trial 72 finished with value: 0.9411242360314582 and parameters: {'max_depth': 23, 'min_samples_split': 41, 'min_samples_leaf': 5, 'max_features': 80, 'n_estimators': 75, 'learning_rate': 0.09168266274634354}. Best is trial 62 with value: 0.9427980425164408.\u001B[0m\n",
      "\u001B[32m[I 2022-12-20 23:53:26,226]\u001B[0m Trial 73 finished with value: 0.9415408917229989 and parameters: {'max_depth': 25, 'min_samples_split': 44, 'min_samples_leaf': 2, 'max_features': 50, 'n_estimators': 85, 'learning_rate': 0.07661980464789184}. Best is trial 62 with value: 0.9427980425164408.\u001B[0m\n",
      "\u001B[32m[I 2022-12-20 23:53:34,625]\u001B[0m Trial 74 finished with value: 0.9428954218159962 and parameters: {'max_depth': 23, 'min_samples_split': 23, 'min_samples_leaf': 11, 'max_features': 50, 'n_estimators': 91, 'learning_rate': 0.06631727253254656}. Best is trial 74 with value: 0.9428954218159962.\u001B[0m\n",
      "\u001B[32m[I 2022-12-20 23:53:39,625]\u001B[0m Trial 75 finished with value: 0.9413988137285654 and parameters: {'max_depth': 23, 'min_samples_split': 23, 'min_samples_leaf': 8, 'max_features': 50, 'n_estimators': 95, 'learning_rate': 0.06640249326902473}. Best is trial 74 with value: 0.9428954218159962.\u001B[0m\n",
      "\u001B[32m[I 2022-12-20 23:53:44,221]\u001B[0m Trial 76 finished with value: 0.9420613122419348 and parameters: {'max_depth': 27, 'min_samples_split': 29, 'min_samples_leaf': 11, 'max_features': 40, 'n_estimators': 103, 'learning_rate': 0.09521246413729342}. Best is trial 74 with value: 0.9428954218159962.\u001B[0m\n",
      "\u001B[32m[I 2022-12-20 23:53:49,119]\u001B[0m Trial 77 finished with value: 0.9417859363538477 and parameters: {'max_depth': 29, 'min_samples_split': 20, 'min_samples_leaf': 11, 'max_features': 30, 'n_estimators': 115, 'learning_rate': 0.0950398794397302}. Best is trial 74 with value: 0.9428954218159962.\u001B[0m\n",
      "\u001B[32m[I 2022-12-20 23:53:53,493]\u001B[0m Trial 78 finished with value: 0.9404222270645809 and parameters: {'max_depth': 27, 'min_samples_split': 26, 'min_samples_leaf': 14, 'max_features': 40, 'n_estimators': 103, 'learning_rate': 0.047788197287497836}. Best is trial 74 with value: 0.9428954218159962.\u001B[0m\n",
      "\u001B[32m[I 2022-12-20 23:54:01,276]\u001B[0m Trial 79 finished with value: 0.9404018731945918 and parameters: {'max_depth': 25, 'min_samples_split': 23, 'min_samples_leaf': 11, 'max_features': 70, 'n_estimators': 113, 'learning_rate': 0.07192472066537012}. Best is trial 74 with value: 0.9428954218159962.\u001B[0m\n",
      "\u001B[32m[I 2022-12-20 23:54:06,126]\u001B[0m Trial 80 finished with value: 0.9412842733229408 and parameters: {'max_depth': 27, 'min_samples_split': 29, 'min_samples_leaf': 17, 'max_features': 30, 'n_estimators': 125, 'learning_rate': 0.09742400225526998}. Best is trial 74 with value: 0.9428954218159962.\u001B[0m\n",
      "\u001B[32m[I 2022-12-20 23:54:11,656]\u001B[0m Trial 81 finished with value: 0.9396300225169676 and parameters: {'max_depth': 23, 'min_samples_split': 29, 'min_samples_leaf': 11, 'max_features': 60, 'n_estimators': 99, 'learning_rate': 0.08980007560987276}. Best is trial 74 with value: 0.9428954218159962.\u001B[0m\n",
      "\u001B[32m[I 2022-12-20 23:54:17,727]\u001B[0m Trial 82 finished with value: 0.9393909643184687 and parameters: {'max_depth': 29, 'min_samples_split': 32, 'min_samples_leaf': 2, 'max_features': 50, 'n_estimators': 109, 'learning_rate': 0.08736911008591478}. Best is trial 74 with value: 0.9428954218159962.\u001B[0m\n",
      "\u001B[32m[I 2022-12-20 23:54:22,149]\u001B[0m Trial 83 finished with value: 0.9417823444944379 and parameters: {'max_depth': 25, 'min_samples_split': 26, 'min_samples_leaf': 8, 'max_features': 40, 'n_estimators': 89, 'learning_rate': 0.08322968307187875}. Best is trial 74 with value: 0.9428954218159962.\u001B[0m\n",
      "\u001B[32m[I 2022-12-20 23:54:26,956]\u001B[0m Trial 84 finished with value: 0.9407139658677574 and parameters: {'max_depth': 27, 'min_samples_split': 23, 'min_samples_leaf': 5, 'max_features': 60, 'n_estimators': 83, 'learning_rate': 0.09135010324803053}. Best is trial 74 with value: 0.9428954218159962.\u001B[0m\n",
      "\u001B[32m[I 2022-12-20 23:54:28,894]\u001B[0m Trial 85 finished with value: 0.9239148394079658 and parameters: {'max_depth': 3, 'min_samples_split': 32, 'min_samples_leaf': 44, 'max_features': 40, 'n_estimators': 75, 'learning_rate': 0.07977822375798967}. Best is trial 74 with value: 0.9428954218159962.\u001B[0m\n",
      "\u001B[32m[I 2022-12-20 23:54:33,666]\u001B[0m Trial 86 finished with value: 0.940978566177615 and parameters: {'max_depth': 23, 'min_samples_split': 35, 'min_samples_leaf': 2, 'max_features': 50, 'n_estimators': 93, 'learning_rate': 0.09628729661846987}. Best is trial 74 with value: 0.9428954218159962.\u001B[0m\n",
      "\u001B[32m[I 2022-12-20 23:54:38,359]\u001B[0m Trial 87 finished with value: 0.9419607401784594 and parameters: {'max_depth': 25, 'min_samples_split': 29, 'min_samples_leaf': 8, 'max_features': 50, 'n_estimators': 97, 'learning_rate': 0.030692835159816523}. Best is trial 74 with value: 0.9428954218159962.\u001B[0m\n",
      "\u001B[32m[I 2022-12-20 23:54:43,025]\u001B[0m Trial 88 finished with value: 0.9416207108209951 and parameters: {'max_depth': 25, 'min_samples_split': 29, 'min_samples_leaf': 5, 'max_features': 40, 'n_estimators': 97, 'learning_rate': 0.022625895729217048}. Best is trial 74 with value: 0.9428954218159962.\u001B[0m\n",
      "\u001B[32m[I 2022-12-20 23:54:48,059]\u001B[0m Trial 89 finished with value: 0.9401688014284426 and parameters: {'max_depth': 27, 'min_samples_split': 26, 'min_samples_leaf': 14, 'max_features': 60, 'n_estimators': 101, 'learning_rate': 0.03447798245077713}. Best is trial 74 with value: 0.9428954218159962.\u001B[0m\n",
      "\u001B[32m[I 2022-12-20 23:54:53,300]\u001B[0m Trial 90 finished with value: 0.9395366341723119 and parameters: {'max_depth': 29, 'min_samples_split': 17, 'min_samples_leaf': 11, 'max_features': 70, 'n_estimators': 81, 'learning_rate': 0.01376869504828689}. Best is trial 74 with value: 0.9428954218159962.\u001B[0m\n",
      "\u001B[32m[I 2022-12-20 23:54:57,537]\u001B[0m Trial 91 finished with value: 0.9417168928340809 and parameters: {'max_depth': 23, 'min_samples_split': 26, 'min_samples_leaf': 8, 'max_features': 50, 'n_estimators': 85, 'learning_rate': 0.052743142413370706}. Best is trial 74 with value: 0.9428954218159962.\u001B[0m\n",
      "\u001B[32m[I 2022-12-20 23:55:01,647]\u001B[0m Trial 92 finished with value: 0.9406533033532801 and parameters: {'max_depth': 25, 'min_samples_split': 20, 'min_samples_leaf': 5, 'max_features': 50, 'n_estimators': 73, 'learning_rate': 0.03710068130713619}. Best is trial 74 with value: 0.9428954218159962.\u001B[0m\n",
      "\u001B[32m[I 2022-12-20 23:55:07,127]\u001B[0m Trial 93 finished with value: 0.9422764247110351 and parameters: {'max_depth': 25, 'min_samples_split': 38, 'min_samples_leaf': 8, 'max_features': 50, 'n_estimators': 91, 'learning_rate': 0.08643034433236872}. Best is trial 74 with value: 0.9428954218159962.\u001B[0m\n",
      "\u001B[32m[I 2022-12-20 23:55:11,805]\u001B[0m Trial 94 finished with value: 0.9404094560089014 and parameters: {'max_depth': 27, 'min_samples_split': 32, 'min_samples_leaf': 8, 'max_features': 60, 'n_estimators': 91, 'learning_rate': 0.006882121395917956}. Best is trial 74 with value: 0.9428954218159962.\u001B[0m\n",
      "\u001B[32m[I 2022-12-20 23:55:17,051]\u001B[0m Trial 95 finished with value: 0.9420788724434941 and parameters: {'max_depth': 25, 'min_samples_split': 29, 'min_samples_leaf': 2, 'max_features': 40, 'n_estimators': 105, 'learning_rate': 0.08613176418468162}. Best is trial 74 with value: 0.9428954218159962.\u001B[0m\n",
      "\u001B[32m[I 2022-12-20 23:55:22,461]\u001B[0m Trial 96 finished with value: 0.9416917498182121 and parameters: {'max_depth': 25, 'min_samples_split': 29, 'min_samples_leaf': 2, 'max_features': 40, 'n_estimators': 105, 'learning_rate': 0.08677945414740709}. Best is trial 74 with value: 0.9428954218159962.\u001B[0m\n",
      "\u001B[32m[I 2022-12-20 23:55:26,625]\u001B[0m Trial 97 finished with value: 0.9407762247641944 and parameters: {'max_depth': 25, 'min_samples_split': 2, 'min_samples_leaf': 23, 'max_features': 30, 'n_estimators': 109, 'learning_rate': 0.09314517742374459}. Best is trial 74 with value: 0.9428954218159962.\u001B[0m\n",
      "\u001B[32m[I 2022-12-20 23:55:31,936]\u001B[0m Trial 98 finished with value: 0.9421730589791297 and parameters: {'max_depth': 23, 'min_samples_split': 29, 'min_samples_leaf': 2, 'max_features': 40, 'n_estimators': 97, 'learning_rate': 0.04326548516122022}. Best is trial 74 with value: 0.9428954218159962.\u001B[0m\n",
      "\u001B[32m[I 2022-12-20 23:55:36,590]\u001B[0m Trial 99 finished with value: 0.9388549790754235 and parameters: {'max_depth': 23, 'min_samples_split': 23, 'min_samples_leaf': 17, 'max_features': 30, 'n_estimators': 97, 'learning_rate': 0.043712492856222224}. Best is trial 74 with value: 0.9428954218159962.\u001B[0m\n"
     ]
    }
   ],
   "source": [
    "def objective(trial):\n",
    "    gbm = Boosting(base_model_params={\n",
    "        'max_depth': trial.suggest_int(\"max_depth\", 1, 30, step=2),\n",
    "        'min_samples_split':  trial.suggest_int(\"min_samples_split\", 2, 50, step=3),\n",
    "        'min_samples_leaf': trial.suggest_int(\"min_samples_leaf\", 2, 50, step=3),\n",
    "        'max_features': trial.suggest_int(\"max_features\", 10, 169, step=10)\n",
    "        },\n",
    "        n_estimators=trial.suggest_int(\"n_estimators\", 1, 150, step=2),\n",
    "        learning_rate=trial.suggest_float(\"learning_rate\", 1e-4, 1e-1))\n",
    "    gbm.fit(x_train, y_train, x_valid, y_valid)\n",
    "    return gbm.score(x_valid, y_valid)\n",
    "\n",
    "study = optuna.create_study(direction=optuna.study.StudyDirection.MAXIMIZE)\n",
    "study.optimize(objective, n_trials=100, show_progress_bar=True)"
   ]
  },
  {
   "cell_type": "code",
   "execution_count": 11,
   "outputs": [
    {
     "data": {
      "text/plain": "{'max_depth': 23,\n 'min_samples_split': 23,\n 'min_samples_leaf': 11,\n 'max_features': 50,\n 'n_estimators': 91,\n 'learning_rate': 0.06631727253254656}"
     },
     "execution_count": 11,
     "metadata": {},
     "output_type": "execute_result"
    }
   ],
   "source": [
    "study.best_params"
   ],
   "metadata": {
    "collapsed": false
   }
  },
  {
   "cell_type": "markdown",
   "metadata": {},
   "source": [
    "## Задание 4. Интерпретация бустингового (2 балл)\n",
    "\n",
    "Постройте калибровочную кривую для вашей лучшей модели бустинга. Насколько хорошо бустинг оценивает вероятности? Постройте также калибровочную кривую для логистической регрессии, сравните их между собой. Проанализируйте полученные результаты."
   ]
  },
  {
   "cell_type": "code",
   "execution_count": 86,
   "outputs": [
    {
     "data": {
      "text/plain": "0.9415935723276766"
     },
     "execution_count": 86,
     "metadata": {},
     "output_type": "execute_result"
    }
   ],
   "source": [
    "gbm_best = Boosting(base_model_params={\n",
    "    'max_depth': 23,\n",
    "    'min_samples_split': 23,\n",
    "    'min_samples_leaf': 11,\n",
    "    'max_features': 50\n",
    "}, n_estimators=91, learning_rate=study.best_params['learning_rate'])\n",
    "gbm_best.fit(x_train, y_train, x_valid, y_valid)\n",
    "gbm_best.score(x_valid, y_valid)"
   ],
   "metadata": {
    "collapsed": false
   }
  },
  {
   "cell_type": "code",
   "execution_count": 36,
   "metadata": {},
   "outputs": [],
   "source": [
    "bin_quantity = 10\n",
    "valid_proba = gbm_best.predict_proba(x_valid)\n",
    "\n",
    "bin_counts = [0] * bin_quantity\n",
    "step = 1 / bin_quantity\n",
    "for i in range(bin_quantity):\n",
    "    bin_counts[i] = np.maximum(0, y_valid[(valid_proba[:, 1] > i * step) & (valid_proba[:, 1] <= (i + 1) * step)]).mean()"
   ]
  },
  {
   "cell_type": "code",
   "execution_count": 37,
   "outputs": [
    {
     "data": {
      "text/plain": "[<matplotlib.lines.Line2D at 0x7feb68340a00>]"
     },
     "execution_count": 37,
     "metadata": {},
     "output_type": "execute_result"
    },
    {
     "data": {
      "text/plain": "<Figure size 432x288 with 1 Axes>",
      "image/png": "[encoded data removed]"
     },
     "metadata": {},
     "output_type": "display_data"
    }
   ],
   "source": [
    "plt.plot(bin_counts)"
   ],
   "metadata": {
    "collapsed": false
   }
  },
  {
   "cell_type": "markdown",
   "source": [
    "Вероятности модель оценивает очень хорошо, кривая практически идеально совпадает с диагональной прямой"
   ],
   "metadata": {
    "collapsed": false
   }
  },
  {
   "cell_type": "code",
   "execution_count": 138,
   "outputs": [],
   "source": [
    "from sklearn.linear_model import LogisticRegression\n",
    "\n",
    "logreg = LogisticRegression()\n",
    "logreg.fit(x_train, y_train)\n",
    "valid_proba = logreg.predict_proba(x_valid)\n",
    "\n",
    "bin_quantity = 10\n",
    "bin_counts = [0] * bin_quantity\n",
    "step = 1 / bin_quantity\n",
    "for i in range(bin_quantity):\n",
    "    bin_counts[i] = np.maximum(0, y_valid[(valid_proba[:, 1] > i * step) & (valid_proba[:, 1] <= (i + 1) * step)]).mean()"
   ],
   "metadata": {
    "collapsed": false
   }
  },
  {
   "cell_type": "code",
   "execution_count": 139,
   "outputs": [
    {
     "data": {
      "text/plain": "[<matplotlib.lines.Line2D at 0x7feb743ff760>]"
     },
     "execution_count": 139,
     "metadata": {},
     "output_type": "execute_result"
    },
    {
     "data": {
      "text/plain": "<Figure size 432x288 with 1 Axes>",
      "image/png": "[encoded data removed]"
     },
     "metadata": {},
     "output_type": "display_data"
    }
   ],
   "source": [
    "plt.plot(bin_counts)"
   ],
   "metadata": {
    "collapsed": false
   }
  },
  {
   "cell_type": "markdown",
   "source": [
    "`на логистической регрессии получилось чуть похуже, но тоже очень хорошо`"
   ],
   "metadata": {
    "collapsed": false
   }
  },
  {
   "cell_type": "markdown",
   "metadata": {},
   "source": [
    "Теперь попробуем оценить важность признаков для бустинга.\n",
    "\n",
    "Поскольку наша базовая модель - это дерево из `sklearn`, мы можем вычислить важность признака отдельно для каждого дерева и усреднить (воспользуйтесь `feature_importances_` у `DecisionTreeRegressor`), после этого нормировать значения, чтобы они суммировались в единицу (обратите внимание, что они должны быть неотрицательными - иначе вы что-то сделали не так).\n",
    "\n",
    "Допишите в вашей реализации бустинга функцию `feature_importances_` чтобы она возвращала описанные выше важности признаков.\n",
    "\n",
    "Нарисуйте столбчатую диаграмму важности признаков. На соседнем графике нарисуйте важность признаков для логистической регрессии, для этого используйте модули весов. Сравните графики. Проанализируйте полученные результаты."
   ]
  },
  {
   "cell_type": "code",
   "execution_count": 135,
   "metadata": {},
   "outputs": [
    {
     "data": {
      "text/plain": "<BarContainer object of 169 artists>"
     },
     "execution_count": 135,
     "metadata": {},
     "output_type": "execute_result"
    },
    {
     "data": {
      "text/plain": "<Figure size 1080x504 with 1 Axes>",
      "image/png": "[encoded data removed]"
     },
     "metadata": {},
     "output_type": "display_data"
    }
   ],
   "source": [
    "plt.figure(figsize=(15, 7))\n",
    "plt.bar(x=np.arange(1, 170), height=gbm_best.feature_importances_, color='green')"
   ]
  },
  {
   "cell_type": "code",
   "execution_count": 137,
   "outputs": [
    {
     "data": {
      "text/plain": "<BarContainer object of 169 artists>"
     },
     "execution_count": 137,
     "metadata": {},
     "output_type": "execute_result"
    },
    {
     "data": {
      "text/plain": "<Figure size 1080x504 with 1 Axes>",
      "image/png": "[encoded data removed]"
     },
     "metadata": {},
     "output_type": "display_data"
    }
   ],
   "source": [
    "from sklearn.linear_model import LogisticRegression\n",
    "\n",
    "logreg = LogisticRegression()\n",
    "logreg.fit(x_train, y_train)\n",
    "plt.figure(figsize=(15, 7))\n",
    "plt.bar(x=np.arange(1, 170), height=np.abs(logreg.coef_.reshape(-1)) / np.sum(np.abs(logreg.coef_)) , color='green')"
   ],
   "metadata": {
    "collapsed": false
   }
  },
  {
   "cell_type": "markdown",
   "source": [
    "Видим, что логистическая регрессия хуже сосредотачивается на важных признаках и берет везде по чуть-чуть, а бустинг выбрал штук 20 признаков и работает с ними. Понятно что это происходит так как жадный алгоритм деревьев более стабильно работает."
   ],
   "metadata": {
    "collapsed": false
   }
  },
  {
   "cell_type": "markdown",
   "metadata": {},
   "source": [
    "Кстати, чаще всего излишние признаки могут вредить качеству бустинга. Попробуйте отфильтровать на основании диаграммы хвост наименее важных признаков и снова обучить модель (с теми же гиперпараметрами). Стало ли лучше?"
   ]
  },
  {
   "cell_type": "code",
   "execution_count": 130,
   "metadata": {},
   "outputs": [],
   "source": [
    "threshold = sorted(gbm_best.feature_importances_)[-60]"
   ]
  },
  {
   "cell_type": "code",
   "execution_count": 131,
   "outputs": [],
   "source": [
    "feature_mask = (gbm_best.feature_importances_ >= threshold)"
   ],
   "metadata": {
    "collapsed": false
   }
  },
  {
   "cell_type": "code",
   "execution_count": 132,
   "outputs": [
    {
     "data": {
      "text/plain": "0.9407554717987153"
     },
     "execution_count": 132,
     "metadata": {},
     "output_type": "execute_result"
    }
   ],
   "source": [
    "gbm_pruned = Boosting(base_model_params={\n",
    "    'max_depth': 23,\n",
    "    'min_samples_split': 23,\n",
    "    'min_samples_leaf': 11,\n",
    "    'max_features': 50\n",
    "}, n_estimators=91, learning_rate=study.best_params['learning_rate'])\n",
    "gbm_pruned.fit(x_train[:, feature_mask], y_train, x_valid[:, feature_mask], y_valid)\n",
    "gbm_pruned.score(x_valid[:, feature_mask], y_valid)"
   ],
   "metadata": {
    "collapsed": false
   }
  },
  {
   "cell_type": "markdown",
   "source": [
    "Качество не улучшилось"
   ],
   "metadata": {
    "collapsed": false
   }
  },
  {
   "cell_type": "markdown",
   "source": [
    "## Социализационный бонус. Новогоднее 🎆 (0.5 балла)\n",
    "\n",
    "Сфотографируйтесь с наряженной новогодней или рождественской ёлкой! Приложите фотографию, опишите свои впечатления, чего вы ждете от нового 2023 года?"
   ],
   "metadata": {
    "collapsed": false
   }
  }
 ],
 "metadata": {
  "kernelspec": {
   "display_name": "Python 3 (ipykernel)",
   "language": "python",
   "name": "python3"
  },
  "language_info": {
   "codemirror_mode": {
    "name": "ipython",
    "version": 3
   },
   "file_extension": ".py",
   "mimetype": "text/x-python",
   "name": "python",
   "nbconvert_exporter": "python",
   "pygments_lexer": "ipython3",
   "version": "3.9.7"
  },
  "nbTranslate": {
   "displayLangs": [
    "*"
   ],
   "hotkey": "alt-t",
   "langInMainMenu": true,
   "sourceLang": "en",
   "targetLang": "fr",
   "useGoogleTranslate": true
  },
  "toc": {
   "base_numbering": 1,
   "nav_menu": {
    "height": "210px",
    "width": "492px"
   },
   "number_sections": false,
   "sideBar": true,
   "skip_h1_title": false,
   "title_cell": "Table of Contents",
   "title_sidebar": "Contents",
   "toc_cell": false,
   "toc_position": {},
   "toc_section_display": true,
   "toc_window_display": true
  },
  "varInspector": {
   "cols": {
    "lenName": 16,
    "lenType": 16,
    "lenVar": 40
   },
   "kernels_config": {
    "python": {
     "delete_cmd_postfix": "",
     "delete_cmd_prefix": "del ",
     "library": "var_list.py",
     "varRefreshCmd": "print(var_dic_list())"
    },
    "r": {
     "delete_cmd_postfix": ") ",
     "delete_cmd_prefix": "rm(",
     "library": "var_list.r",
     "varRefreshCmd": "cat(var_dic_list()) "
    }
   },
   "types_to_exclude": [
    "module",
    "function",
    "builtin_function_or_method",
    "instance",
    "_Feature"
   ],
   "window_display": false
  }
 },
 "nbformat": 4,
 "nbformat_minor": 4
}

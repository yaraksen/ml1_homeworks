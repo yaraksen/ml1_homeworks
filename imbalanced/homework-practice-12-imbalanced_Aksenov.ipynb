{
 "cells": [
  {
   "attachments": {},
   "cell_type": "markdown",
   "metadata": {
    "id": "sCk9bUMos9A-"
   },
   "source": [
    "# Машинное обучение, ФКН ВШЭ\n",
    "\n",
    "# Практическое задание 12. Несбалансированные задачи\n",
    "\n",
    "## Общая информация\n",
    "Дата выдачи: 06.06.2023\n",
    "\n",
    "Мягкий и жесткий дедлайны: 20.06.2023 23:59 MSK\n",
    "\n",
    "## Оценивание и штрафы\n",
    "\n",
    "Каждая из задач имеет определенную «стоимость» (указана в скобках около задачи). Максимально допустимая оценка за работу — 10 баллов.\n",
    "\n",
    "Сдавать задание после указанного срока сдачи нельзя. При выставлении неполного балла за задание в связи с наличием ошибок на усмотрение проверяющего предусмотрена возможность исправить работу на указанных в ответном письме условиях.\n",
    "\n",
    "Задание выполняется самостоятельно. «Похожие» решения считаются плагиатом и все задействованные студенты (в том числе те, у кого списали) не могут получить за него больше 0 баллов (подробнее о плагиате см. на странице курса). Если вы нашли решение какого-то из заданий (или его часть) в открытом источнике, необходимо указать ссылку на этот источник в отдельном блоке в конце вашей работы (скорее всего вы будете не единственным, кто это нашел, поэтому чтобы исключить подозрение в плагиате, необходима ссылка на источник).\n",
    "\n",
    "Неэффективная реализация кода может негативно отразиться на оценке.\n",
    "\n",
    "## Формат сдачи\n",
    "Задания сдаются через систему anytask. Посылка должна содержать:\n",
    "* Ноутбук homework-practice-xx-Username.ipynb\n",
    "\n",
    "Username — ваша фамилия и имя на латинице именно в таком порядке"
   ]
  },
  {
   "attachments": {},
   "cell_type": "markdown",
   "metadata": {
    "id": "MsiB3oacs9BG"
   },
   "source": [
    "## О задании\n",
    "\n",
    "В этом задании мы разберем основные техники работы в задачах, где один из классов занимает существенно меньшую долю выборки, чем остальные. Для простоты мы обойдемся бинарной задачей, тем не менее, во многом данные методы можно перенести и на задачи с б**о**льшим числом классов. Кроме того, вы получите очередной бесценный опыт исследования случайной библиотеки случайных индусов с нуля."
   ]
  },
  {
   "cell_type": "code",
   "execution_count": 1,
   "metadata": {
    "id": "I9SXbBCjs9BH"
   },
   "outputs": [],
   "source": [
    "import numpy as np\n",
    "import pandas as pd\n",
    "pd.set_option('display.max_rows', 100)\n",
    "pd.set_option('display.max_columns', 100)\n",
    "\n",
    "import matplotlib.pyplot as plt\n",
    "import seaborn as sns\n",
    "sns.set(style='whitegrid')\n",
    "\n",
    "from tqdm.auto import tqdm"
   ]
  },
  {
   "attachments": {},
   "cell_type": "markdown",
   "metadata": {
    "id": "5l0VsXHes9BI"
   },
   "source": [
    "**Задание -1 (1 балл)**. EDA"
   ]
  },
  {
   "attachments": {},
   "cell_type": "markdown",
   "metadata": {
    "id": "SIund96us9BI"
   },
   "source": [
    "В качестве данных для нашей работы возьмем выложенный на kaggle датасет транзакций, в котором нужно выискивать мошеннические проводки: [клик](https://www.kaggle.com/mlg-ulb/creditcardfraud). Данная задача по определению подходит под несбалансированную, что можно сказать даже без наличия каких-либо данных (понятно, что среди всех транзакций клиентов очень малая часть будет мошеннической).\n",
    "\n",
    "Загрузим данные, проведем некоторые классические манипуляции."
   ]
  },
  {
   "cell_type": "code",
   "execution_count": 3,
   "metadata": {
    "id": "tY2aKqhCs9BJ"
   },
   "outputs": [
    {
     "name": "stdout",
     "output_type": "stream",
     "text": [
      "Warning: Your Kaggle API key is readable by other users on this system! To fix this, you can run 'chmod 600 /Users/y.o.aksenov/.kaggle/kaggle.json'\n",
      "Downloading creditcardfraud.zip to /Users/y.o.aksenov/Documents/ml1_homeworks/imbalanced\n",
      " 97%|████████████████████████████████████▉ | 64.0M/66.0M [00:05<00:00, 7.61MB/s]\n",
      "100%|██████████████████████████████████████| 66.0M/66.0M [00:05<00:00, 13.0MB/s]\n",
      "Archive:  creditcardfraud.zip\n",
      "  inflating: creditcard.csv          \n"
     ]
    }
   ],
   "source": [
    "!kaggle datasets download -d mlg-ulb/creditcardfraud\n",
    "!unzip creditcardfraud.zip"
   ]
  },
  {
   "cell_type": "code",
   "execution_count": 2,
   "metadata": {
    "id": "5_UPWW51s9BJ"
   },
   "outputs": [],
   "source": [
    "df = pd.read_csv('creditcard.csv')"
   ]
  },
  {
   "cell_type": "code",
   "execution_count": 14,
   "metadata": {
    "id": "HpJMyb0Hs9BJ",
    "outputId": "7f254a74-d248-47c6-9550-3e884e3cce92"
   },
   "outputs": [
    {
     "data": {
      "text/html": [
       "<div>\n",
       "<style scoped>\n",
       "    .dataframe tbody tr th:only-of-type {\n",
       "        vertical-align: middle;\n",
       "    }\n",
       "\n",
       "    .dataframe tbody tr th {\n",
       "        vertical-align: top;\n",
       "    }\n",
       "\n",
       "    .dataframe thead th {\n",
       "        text-align: right;\n",
       "    }\n",
       "</style>\n",
       "<table border=\"1\" class=\"dataframe\">\n",
       "  <thead>\n",
       "    <tr style=\"text-align: right;\">\n",
       "      <th></th>\n",
       "      <th>Time</th>\n",
       "      <th>V1</th>\n",
       "      <th>V2</th>\n",
       "      <th>V3</th>\n",
       "      <th>V4</th>\n",
       "      <th>V5</th>\n",
       "      <th>V6</th>\n",
       "      <th>V7</th>\n",
       "      <th>V8</th>\n",
       "      <th>V9</th>\n",
       "      <th>V10</th>\n",
       "      <th>V11</th>\n",
       "      <th>V12</th>\n",
       "      <th>V13</th>\n",
       "      <th>V14</th>\n",
       "      <th>V15</th>\n",
       "      <th>V16</th>\n",
       "      <th>V17</th>\n",
       "      <th>V18</th>\n",
       "      <th>V19</th>\n",
       "      <th>V20</th>\n",
       "      <th>V21</th>\n",
       "      <th>V22</th>\n",
       "      <th>V23</th>\n",
       "      <th>V24</th>\n",
       "      <th>V25</th>\n",
       "      <th>V26</th>\n",
       "      <th>V27</th>\n",
       "      <th>V28</th>\n",
       "      <th>Amount</th>\n",
       "      <th>Class</th>\n",
       "    </tr>\n",
       "  </thead>\n",
       "  <tbody>\n",
       "    <tr>\n",
       "      <th>0</th>\n",
       "      <td>0.0</td>\n",
       "      <td>-1.359807</td>\n",
       "      <td>-0.072781</td>\n",
       "      <td>2.536347</td>\n",
       "      <td>1.378155</td>\n",
       "      <td>-0.338321</td>\n",
       "      <td>0.462388</td>\n",
       "      <td>0.239599</td>\n",
       "      <td>0.098698</td>\n",
       "      <td>0.363787</td>\n",
       "      <td>0.090794</td>\n",
       "      <td>-0.551600</td>\n",
       "      <td>-0.617801</td>\n",
       "      <td>-0.991390</td>\n",
       "      <td>-0.311169</td>\n",
       "      <td>1.468177</td>\n",
       "      <td>-0.470401</td>\n",
       "      <td>0.207971</td>\n",
       "      <td>0.025791</td>\n",
       "      <td>0.403993</td>\n",
       "      <td>0.251412</td>\n",
       "      <td>-0.018307</td>\n",
       "      <td>0.277838</td>\n",
       "      <td>-0.110474</td>\n",
       "      <td>0.066928</td>\n",
       "      <td>0.128539</td>\n",
       "      <td>-0.189115</td>\n",
       "      <td>0.133558</td>\n",
       "      <td>-0.021053</td>\n",
       "      <td>149.62</td>\n",
       "      <td>0</td>\n",
       "    </tr>\n",
       "    <tr>\n",
       "      <th>1</th>\n",
       "      <td>0.0</td>\n",
       "      <td>1.191857</td>\n",
       "      <td>0.266151</td>\n",
       "      <td>0.166480</td>\n",
       "      <td>0.448154</td>\n",
       "      <td>0.060018</td>\n",
       "      <td>-0.082361</td>\n",
       "      <td>-0.078803</td>\n",
       "      <td>0.085102</td>\n",
       "      <td>-0.255425</td>\n",
       "      <td>-0.166974</td>\n",
       "      <td>1.612727</td>\n",
       "      <td>1.065235</td>\n",
       "      <td>0.489095</td>\n",
       "      <td>-0.143772</td>\n",
       "      <td>0.635558</td>\n",
       "      <td>0.463917</td>\n",
       "      <td>-0.114805</td>\n",
       "      <td>-0.183361</td>\n",
       "      <td>-0.145783</td>\n",
       "      <td>-0.069083</td>\n",
       "      <td>-0.225775</td>\n",
       "      <td>-0.638672</td>\n",
       "      <td>0.101288</td>\n",
       "      <td>-0.339846</td>\n",
       "      <td>0.167170</td>\n",
       "      <td>0.125895</td>\n",
       "      <td>-0.008983</td>\n",
       "      <td>0.014724</td>\n",
       "      <td>2.69</td>\n",
       "      <td>0</td>\n",
       "    </tr>\n",
       "    <tr>\n",
       "      <th>2</th>\n",
       "      <td>1.0</td>\n",
       "      <td>-1.358354</td>\n",
       "      <td>-1.340163</td>\n",
       "      <td>1.773209</td>\n",
       "      <td>0.379780</td>\n",
       "      <td>-0.503198</td>\n",
       "      <td>1.800499</td>\n",
       "      <td>0.791461</td>\n",
       "      <td>0.247676</td>\n",
       "      <td>-1.514654</td>\n",
       "      <td>0.207643</td>\n",
       "      <td>0.624501</td>\n",
       "      <td>0.066084</td>\n",
       "      <td>0.717293</td>\n",
       "      <td>-0.165946</td>\n",
       "      <td>2.345865</td>\n",
       "      <td>-2.890083</td>\n",
       "      <td>1.109969</td>\n",
       "      <td>-0.121359</td>\n",
       "      <td>-2.261857</td>\n",
       "      <td>0.524980</td>\n",
       "      <td>0.247998</td>\n",
       "      <td>0.771679</td>\n",
       "      <td>0.909412</td>\n",
       "      <td>-0.689281</td>\n",
       "      <td>-0.327642</td>\n",
       "      <td>-0.139097</td>\n",
       "      <td>-0.055353</td>\n",
       "      <td>-0.059752</td>\n",
       "      <td>378.66</td>\n",
       "      <td>0</td>\n",
       "    </tr>\n",
       "    <tr>\n",
       "      <th>3</th>\n",
       "      <td>1.0</td>\n",
       "      <td>-0.966272</td>\n",
       "      <td>-0.185226</td>\n",
       "      <td>1.792993</td>\n",
       "      <td>-0.863291</td>\n",
       "      <td>-0.010309</td>\n",
       "      <td>1.247203</td>\n",
       "      <td>0.237609</td>\n",
       "      <td>0.377436</td>\n",
       "      <td>-1.387024</td>\n",
       "      <td>-0.054952</td>\n",
       "      <td>-0.226487</td>\n",
       "      <td>0.178228</td>\n",
       "      <td>0.507757</td>\n",
       "      <td>-0.287924</td>\n",
       "      <td>-0.631418</td>\n",
       "      <td>-1.059647</td>\n",
       "      <td>-0.684093</td>\n",
       "      <td>1.965775</td>\n",
       "      <td>-1.232622</td>\n",
       "      <td>-0.208038</td>\n",
       "      <td>-0.108300</td>\n",
       "      <td>0.005274</td>\n",
       "      <td>-0.190321</td>\n",
       "      <td>-1.175575</td>\n",
       "      <td>0.647376</td>\n",
       "      <td>-0.221929</td>\n",
       "      <td>0.062723</td>\n",
       "      <td>0.061458</td>\n",
       "      <td>123.50</td>\n",
       "      <td>0</td>\n",
       "    </tr>\n",
       "    <tr>\n",
       "      <th>4</th>\n",
       "      <td>2.0</td>\n",
       "      <td>-1.158233</td>\n",
       "      <td>0.877737</td>\n",
       "      <td>1.548718</td>\n",
       "      <td>0.403034</td>\n",
       "      <td>-0.407193</td>\n",
       "      <td>0.095921</td>\n",
       "      <td>0.592941</td>\n",
       "      <td>-0.270533</td>\n",
       "      <td>0.817739</td>\n",
       "      <td>0.753074</td>\n",
       "      <td>-0.822843</td>\n",
       "      <td>0.538196</td>\n",
       "      <td>1.345852</td>\n",
       "      <td>-1.119670</td>\n",
       "      <td>0.175121</td>\n",
       "      <td>-0.451449</td>\n",
       "      <td>-0.237033</td>\n",
       "      <td>-0.038195</td>\n",
       "      <td>0.803487</td>\n",
       "      <td>0.408542</td>\n",
       "      <td>-0.009431</td>\n",
       "      <td>0.798278</td>\n",
       "      <td>-0.137458</td>\n",
       "      <td>0.141267</td>\n",
       "      <td>-0.206010</td>\n",
       "      <td>0.502292</td>\n",
       "      <td>0.219422</td>\n",
       "      <td>0.215153</td>\n",
       "      <td>69.99</td>\n",
       "      <td>0</td>\n",
       "    </tr>\n",
       "    <tr>\n",
       "      <th>...</th>\n",
       "      <td>...</td>\n",
       "      <td>...</td>\n",
       "      <td>...</td>\n",
       "      <td>...</td>\n",
       "      <td>...</td>\n",
       "      <td>...</td>\n",
       "      <td>...</td>\n",
       "      <td>...</td>\n",
       "      <td>...</td>\n",
       "      <td>...</td>\n",
       "      <td>...</td>\n",
       "      <td>...</td>\n",
       "      <td>...</td>\n",
       "      <td>...</td>\n",
       "      <td>...</td>\n",
       "      <td>...</td>\n",
       "      <td>...</td>\n",
       "      <td>...</td>\n",
       "      <td>...</td>\n",
       "      <td>...</td>\n",
       "      <td>...</td>\n",
       "      <td>...</td>\n",
       "      <td>...</td>\n",
       "      <td>...</td>\n",
       "      <td>...</td>\n",
       "      <td>...</td>\n",
       "      <td>...</td>\n",
       "      <td>...</td>\n",
       "      <td>...</td>\n",
       "      <td>...</td>\n",
       "      <td>...</td>\n",
       "    </tr>\n",
       "    <tr>\n",
       "      <th>284802</th>\n",
       "      <td>172786.0</td>\n",
       "      <td>-11.881118</td>\n",
       "      <td>10.071785</td>\n",
       "      <td>-9.834783</td>\n",
       "      <td>-2.066656</td>\n",
       "      <td>-5.364473</td>\n",
       "      <td>-2.606837</td>\n",
       "      <td>-4.918215</td>\n",
       "      <td>7.305334</td>\n",
       "      <td>1.914428</td>\n",
       "      <td>4.356170</td>\n",
       "      <td>-1.593105</td>\n",
       "      <td>2.711941</td>\n",
       "      <td>-0.689256</td>\n",
       "      <td>4.626942</td>\n",
       "      <td>-0.924459</td>\n",
       "      <td>1.107641</td>\n",
       "      <td>1.991691</td>\n",
       "      <td>0.510632</td>\n",
       "      <td>-0.682920</td>\n",
       "      <td>1.475829</td>\n",
       "      <td>0.213454</td>\n",
       "      <td>0.111864</td>\n",
       "      <td>1.014480</td>\n",
       "      <td>-0.509348</td>\n",
       "      <td>1.436807</td>\n",
       "      <td>0.250034</td>\n",
       "      <td>0.943651</td>\n",
       "      <td>0.823731</td>\n",
       "      <td>0.77</td>\n",
       "      <td>0</td>\n",
       "    </tr>\n",
       "    <tr>\n",
       "      <th>284803</th>\n",
       "      <td>172787.0</td>\n",
       "      <td>-0.732789</td>\n",
       "      <td>-0.055080</td>\n",
       "      <td>2.035030</td>\n",
       "      <td>-0.738589</td>\n",
       "      <td>0.868229</td>\n",
       "      <td>1.058415</td>\n",
       "      <td>0.024330</td>\n",
       "      <td>0.294869</td>\n",
       "      <td>0.584800</td>\n",
       "      <td>-0.975926</td>\n",
       "      <td>-0.150189</td>\n",
       "      <td>0.915802</td>\n",
       "      <td>1.214756</td>\n",
       "      <td>-0.675143</td>\n",
       "      <td>1.164931</td>\n",
       "      <td>-0.711757</td>\n",
       "      <td>-0.025693</td>\n",
       "      <td>-1.221179</td>\n",
       "      <td>-1.545556</td>\n",
       "      <td>0.059616</td>\n",
       "      <td>0.214205</td>\n",
       "      <td>0.924384</td>\n",
       "      <td>0.012463</td>\n",
       "      <td>-1.016226</td>\n",
       "      <td>-0.606624</td>\n",
       "      <td>-0.395255</td>\n",
       "      <td>0.068472</td>\n",
       "      <td>-0.053527</td>\n",
       "      <td>24.79</td>\n",
       "      <td>0</td>\n",
       "    </tr>\n",
       "    <tr>\n",
       "      <th>284804</th>\n",
       "      <td>172788.0</td>\n",
       "      <td>1.919565</td>\n",
       "      <td>-0.301254</td>\n",
       "      <td>-3.249640</td>\n",
       "      <td>-0.557828</td>\n",
       "      <td>2.630515</td>\n",
       "      <td>3.031260</td>\n",
       "      <td>-0.296827</td>\n",
       "      <td>0.708417</td>\n",
       "      <td>0.432454</td>\n",
       "      <td>-0.484782</td>\n",
       "      <td>0.411614</td>\n",
       "      <td>0.063119</td>\n",
       "      <td>-0.183699</td>\n",
       "      <td>-0.510602</td>\n",
       "      <td>1.329284</td>\n",
       "      <td>0.140716</td>\n",
       "      <td>0.313502</td>\n",
       "      <td>0.395652</td>\n",
       "      <td>-0.577252</td>\n",
       "      <td>0.001396</td>\n",
       "      <td>0.232045</td>\n",
       "      <td>0.578229</td>\n",
       "      <td>-0.037501</td>\n",
       "      <td>0.640134</td>\n",
       "      <td>0.265745</td>\n",
       "      <td>-0.087371</td>\n",
       "      <td>0.004455</td>\n",
       "      <td>-0.026561</td>\n",
       "      <td>67.88</td>\n",
       "      <td>0</td>\n",
       "    </tr>\n",
       "    <tr>\n",
       "      <th>284805</th>\n",
       "      <td>172788.0</td>\n",
       "      <td>-0.240440</td>\n",
       "      <td>0.530483</td>\n",
       "      <td>0.702510</td>\n",
       "      <td>0.689799</td>\n",
       "      <td>-0.377961</td>\n",
       "      <td>0.623708</td>\n",
       "      <td>-0.686180</td>\n",
       "      <td>0.679145</td>\n",
       "      <td>0.392087</td>\n",
       "      <td>-0.399126</td>\n",
       "      <td>-1.933849</td>\n",
       "      <td>-0.962886</td>\n",
       "      <td>-1.042082</td>\n",
       "      <td>0.449624</td>\n",
       "      <td>1.962563</td>\n",
       "      <td>-0.608577</td>\n",
       "      <td>0.509928</td>\n",
       "      <td>1.113981</td>\n",
       "      <td>2.897849</td>\n",
       "      <td>0.127434</td>\n",
       "      <td>0.265245</td>\n",
       "      <td>0.800049</td>\n",
       "      <td>-0.163298</td>\n",
       "      <td>0.123205</td>\n",
       "      <td>-0.569159</td>\n",
       "      <td>0.546668</td>\n",
       "      <td>0.108821</td>\n",
       "      <td>0.104533</td>\n",
       "      <td>10.00</td>\n",
       "      <td>0</td>\n",
       "    </tr>\n",
       "    <tr>\n",
       "      <th>284806</th>\n",
       "      <td>172792.0</td>\n",
       "      <td>-0.533413</td>\n",
       "      <td>-0.189733</td>\n",
       "      <td>0.703337</td>\n",
       "      <td>-0.506271</td>\n",
       "      <td>-0.012546</td>\n",
       "      <td>-0.649617</td>\n",
       "      <td>1.577006</td>\n",
       "      <td>-0.414650</td>\n",
       "      <td>0.486180</td>\n",
       "      <td>-0.915427</td>\n",
       "      <td>-1.040458</td>\n",
       "      <td>-0.031513</td>\n",
       "      <td>-0.188093</td>\n",
       "      <td>-0.084316</td>\n",
       "      <td>0.041333</td>\n",
       "      <td>-0.302620</td>\n",
       "      <td>-0.660377</td>\n",
       "      <td>0.167430</td>\n",
       "      <td>-0.256117</td>\n",
       "      <td>0.382948</td>\n",
       "      <td>0.261057</td>\n",
       "      <td>0.643078</td>\n",
       "      <td>0.376777</td>\n",
       "      <td>0.008797</td>\n",
       "      <td>-0.473649</td>\n",
       "      <td>-0.818267</td>\n",
       "      <td>-0.002415</td>\n",
       "      <td>0.013649</td>\n",
       "      <td>217.00</td>\n",
       "      <td>0</td>\n",
       "    </tr>\n",
       "  </tbody>\n",
       "</table>\n",
       "<p>284807 rows × 31 columns</p>\n",
       "</div>"
      ],
      "text/plain": [
       "            Time         V1         V2        V3        V4        V5  \\\n",
       "0            0.0  -1.359807  -0.072781  2.536347  1.378155 -0.338321   \n",
       "1            0.0   1.191857   0.266151  0.166480  0.448154  0.060018   \n",
       "2            1.0  -1.358354  -1.340163  1.773209  0.379780 -0.503198   \n",
       "3            1.0  -0.966272  -0.185226  1.792993 -0.863291 -0.010309   \n",
       "4            2.0  -1.158233   0.877737  1.548718  0.403034 -0.407193   \n",
       "...          ...        ...        ...       ...       ...       ...   \n",
       "284802  172786.0 -11.881118  10.071785 -9.834783 -2.066656 -5.364473   \n",
       "284803  172787.0  -0.732789  -0.055080  2.035030 -0.738589  0.868229   \n",
       "284804  172788.0   1.919565  -0.301254 -3.249640 -0.557828  2.630515   \n",
       "284805  172788.0  -0.240440   0.530483  0.702510  0.689799 -0.377961   \n",
       "284806  172792.0  -0.533413  -0.189733  0.703337 -0.506271 -0.012546   \n",
       "\n",
       "              V6        V7        V8        V9       V10       V11       V12  \\\n",
       "0       0.462388  0.239599  0.098698  0.363787  0.090794 -0.551600 -0.617801   \n",
       "1      -0.082361 -0.078803  0.085102 -0.255425 -0.166974  1.612727  1.065235   \n",
       "2       1.800499  0.791461  0.247676 -1.514654  0.207643  0.624501  0.066084   \n",
       "3       1.247203  0.237609  0.377436 -1.387024 -0.054952 -0.226487  0.178228   \n",
       "4       0.095921  0.592941 -0.270533  0.817739  0.753074 -0.822843  0.538196   \n",
       "...          ...       ...       ...       ...       ...       ...       ...   \n",
       "284802 -2.606837 -4.918215  7.305334  1.914428  4.356170 -1.593105  2.711941   \n",
       "284803  1.058415  0.024330  0.294869  0.584800 -0.975926 -0.150189  0.915802   \n",
       "284804  3.031260 -0.296827  0.708417  0.432454 -0.484782  0.411614  0.063119   \n",
       "284805  0.623708 -0.686180  0.679145  0.392087 -0.399126 -1.933849 -0.962886   \n",
       "284806 -0.649617  1.577006 -0.414650  0.486180 -0.915427 -1.040458 -0.031513   \n",
       "\n",
       "             V13       V14       V15       V16       V17       V18       V19  \\\n",
       "0      -0.991390 -0.311169  1.468177 -0.470401  0.207971  0.025791  0.403993   \n",
       "1       0.489095 -0.143772  0.635558  0.463917 -0.114805 -0.183361 -0.145783   \n",
       "2       0.717293 -0.165946  2.345865 -2.890083  1.109969 -0.121359 -2.261857   \n",
       "3       0.507757 -0.287924 -0.631418 -1.059647 -0.684093  1.965775 -1.232622   \n",
       "4       1.345852 -1.119670  0.175121 -0.451449 -0.237033 -0.038195  0.803487   \n",
       "...          ...       ...       ...       ...       ...       ...       ...   \n",
       "284802 -0.689256  4.626942 -0.924459  1.107641  1.991691  0.510632 -0.682920   \n",
       "284803  1.214756 -0.675143  1.164931 -0.711757 -0.025693 -1.221179 -1.545556   \n",
       "284804 -0.183699 -0.510602  1.329284  0.140716  0.313502  0.395652 -0.577252   \n",
       "284805 -1.042082  0.449624  1.962563 -0.608577  0.509928  1.113981  2.897849   \n",
       "284806 -0.188093 -0.084316  0.041333 -0.302620 -0.660377  0.167430 -0.256117   \n",
       "\n",
       "             V20       V21       V22       V23       V24       V25       V26  \\\n",
       "0       0.251412 -0.018307  0.277838 -0.110474  0.066928  0.128539 -0.189115   \n",
       "1      -0.069083 -0.225775 -0.638672  0.101288 -0.339846  0.167170  0.125895   \n",
       "2       0.524980  0.247998  0.771679  0.909412 -0.689281 -0.327642 -0.139097   \n",
       "3      -0.208038 -0.108300  0.005274 -0.190321 -1.175575  0.647376 -0.221929   \n",
       "4       0.408542 -0.009431  0.798278 -0.137458  0.141267 -0.206010  0.502292   \n",
       "...          ...       ...       ...       ...       ...       ...       ...   \n",
       "284802  1.475829  0.213454  0.111864  1.014480 -0.509348  1.436807  0.250034   \n",
       "284803  0.059616  0.214205  0.924384  0.012463 -1.016226 -0.606624 -0.395255   \n",
       "284804  0.001396  0.232045  0.578229 -0.037501  0.640134  0.265745 -0.087371   \n",
       "284805  0.127434  0.265245  0.800049 -0.163298  0.123205 -0.569159  0.546668   \n",
       "284806  0.382948  0.261057  0.643078  0.376777  0.008797 -0.473649 -0.818267   \n",
       "\n",
       "             V27       V28  Amount  Class  \n",
       "0       0.133558 -0.021053  149.62      0  \n",
       "1      -0.008983  0.014724    2.69      0  \n",
       "2      -0.055353 -0.059752  378.66      0  \n",
       "3       0.062723  0.061458  123.50      0  \n",
       "4       0.219422  0.215153   69.99      0  \n",
       "...          ...       ...     ...    ...  \n",
       "284802  0.943651  0.823731    0.77      0  \n",
       "284803  0.068472 -0.053527   24.79      0  \n",
       "284804  0.004455 -0.026561   67.88      0  \n",
       "284805  0.108821  0.104533   10.00      0  \n",
       "284806 -0.002415  0.013649  217.00      0  \n",
       "\n",
       "[284807 rows x 31 columns]"
      ]
     },
     "execution_count": 14,
     "metadata": {},
     "output_type": "execute_result"
    }
   ],
   "source": [
    "df"
   ]
  },
  {
   "attachments": {},
   "cell_type": "markdown",
   "metadata": {
    "id": "St9c_rxKs9BK"
   },
   "source": [
    "Наши данные были анонимизированы. Мы имеем 30 признаков, из которых 28 - это результаты PCA-преобразования на исходном датасете. Еще 2 признака представляют собой время в секундах, прошедшее с момента первой транзакции в датасете, и размер транзакции. Скажите, какова доля положительных объектов в выборке?"
   ]
  },
  {
   "cell_type": "code",
   "execution_count": 15,
   "metadata": {
    "id": "w5P1I6lgs9BL"
   },
   "outputs": [
    {
     "name": "stdout",
     "output_type": "stream",
     "text": [
      "Доля положительных: 0.1727485630620034 %\n"
     ]
    }
   ],
   "source": [
    "print(f'Доля положительных: {(df[\"Class\"] == 1).sum() / df.shape[0] * 100} %')"
   ]
  },
  {
   "attachments": {},
   "cell_type": "markdown",
   "metadata": {
    "id": "eu2TTGCws9BL"
   },
   "source": [
    "Начнем с обработки времени. Секунды сами по себе не несут большой информации о зависимостях в данных, попробуйте по ним создать признаки \"час\" (от 0 до 23) и \"день\" (от 0 до ...) в аналогичной манере (принимая первый объект выборки за начальную точку). Сколько дней покрывают данные?"
   ]
  },
  {
   "cell_type": "code",
   "execution_count": 16,
   "metadata": {
    "id": "FW414k0js9BL"
   },
   "outputs": [
    {
     "name": "stdout",
     "output_type": "stream",
     "text": [
      "Дней: 2.0\n"
     ]
    }
   ],
   "source": [
    "print('Дней:', np.ceil(df['Time'].max() / (60 * 60 * 24)))"
   ]
  },
  {
   "cell_type": "code",
   "execution_count": 3,
   "metadata": {},
   "outputs": [],
   "source": [
    "df['Hour'] = df['Time'] // (60 * 60) % 24"
   ]
  },
  {
   "cell_type": "code",
   "execution_count": 4,
   "metadata": {},
   "outputs": [],
   "source": [
    "df['Day'] = df['Time'] // (60 * 60) // 24"
   ]
  },
  {
   "attachments": {},
   "cell_type": "markdown",
   "metadata": {
    "id": "QU5oagixs9BL"
   },
   "source": [
    "Постройте следующие графики:\n",
    "\n",
    "1. Распределение числа транзакций по каждому часу (line-plot).\n",
    "2. Распределение доли мошеннических транзакций по каждому часу (line-plot)\n",
    "3. То же самое для дней (здесь можно использовать bar-plot, так как дней должно быть немного).\n",
    "\n",
    "Какие выводы можно сделать из графиков? На ваш взгляд, как можно связать полученные нами часы с реальными часами в сутках?"
   ]
  },
  {
   "cell_type": "code",
   "execution_count": 9,
   "metadata": {
    "id": "DGozHHXxs9BM"
   },
   "outputs": [],
   "source": [
    "transaction_per_hour = df.groupby(['Hour']).agg('count')['Class'].tolist()\n",
    "fraud_per_hour = df[df['Class'] == 1].groupby(['Hour']).agg('count')['Class'].tolist()"
   ]
  },
  {
   "cell_type": "code",
   "execution_count": 10,
   "metadata": {},
   "outputs": [
    {
     "data": {
      "text/plain": [
       "[<matplotlib.lines.Line2D at 0x7f7cfa20c2b0>]"
      ]
     },
     "execution_count": 10,
     "metadata": {},
     "output_type": "execute_result"
    },
    {
     "data": {
      "image/png": "[encoded data removed]",
      "text/plain": [
       "<Figure size 640x480 with 1 Axes>"
      ]
     },
     "metadata": {},
     "output_type": "display_data"
    }
   ],
   "source": [
    "plt.plot(np.arange(24), transaction_per_hour)"
   ]
  },
  {
   "cell_type": "code",
   "execution_count": 11,
   "metadata": {},
   "outputs": [
    {
     "data": {
      "text/plain": [
       "[<matplotlib.lines.Line2D at 0x7f7cdf636a70>]"
      ]
     },
     "execution_count": 11,
     "metadata": {},
     "output_type": "execute_result"
    },
    {
     "data": {
      "image/png": "[encoded data removed]",
      "text/plain": [
       "<Figure size 640x480 with 1 Axes>"
      ]
     },
     "metadata": {},
     "output_type": "display_data"
    }
   ],
   "source": [
    "plt.plot(np.arange(24), fraud_per_hour)"
   ]
  },
  {
   "attachments": {},
   "cell_type": "markdown",
   "metadata": {},
   "source": [
    "Видим, что число транзакций максимально в вечернее время и минимально к 3-4 утра. Мошеннические транзацкии проводятся ночью где то в 2-3 часа, а также утром, в дневное время их число мало"
   ]
  },
  {
   "cell_type": "code",
   "execution_count": 12,
   "metadata": {},
   "outputs": [],
   "source": [
    "transaction_per_day = df.groupby(['Day']).agg('count')['Class'].tolist()\n",
    "fraud_per_day = df[df['Class'] == 1].groupby(['Day']).agg('count')['Class'].tolist()"
   ]
  },
  {
   "cell_type": "code",
   "execution_count": 15,
   "metadata": {},
   "outputs": [
    {
     "data": {
      "text/plain": [
       "<BarContainer object of 2 artists>"
      ]
     },
     "execution_count": 15,
     "metadata": {},
     "output_type": "execute_result"
    },
    {
     "data": {
      "image/png": "[encoded data removed]",
      "text/plain": [
       "<Figure size 640x480 with 1 Axes>"
      ]
     },
     "metadata": {},
     "output_type": "display_data"
    }
   ],
   "source": [
    "plt.bar([0, 1], transaction_per_day)"
   ]
  },
  {
   "cell_type": "code",
   "execution_count": 16,
   "metadata": {},
   "outputs": [
    {
     "data": {
      "text/plain": [
       "<BarContainer object of 2 artists>"
      ]
     },
     "execution_count": 16,
     "metadata": {},
     "output_type": "execute_result"
    },
    {
     "data": {
      "image/png": "[encoded data removed]",
      "text/plain": [
       "<Figure size 640x480 with 1 Axes>"
      ]
     },
     "metadata": {},
     "output_type": "display_data"
    }
   ],
   "source": [
    "plt.bar([0, 1], fraud_per_day)"
   ]
  },
  {
   "attachments": {},
   "cell_type": "markdown",
   "metadata": {},
   "source": [
    "Число транзакций, в том числе мошеннеческих в первый день выше"
   ]
  },
  {
   "attachments": {},
   "cell_type": "markdown",
   "metadata": {
    "id": "kl7hLlhBs9BM"
   },
   "source": [
    "С анонимизированными признаками вряд ли можно придумать что-то интересное. Попробуйте (например, с помощью корреляции?) выбрать несколько наиболее важных признаков и поглядеть на различия в их распределении для разных классов."
   ]
  },
  {
   "cell_type": "code",
   "execution_count": 35,
   "metadata": {},
   "outputs": [
    {
     "data": {
      "text/html": [
       "<div>\n",
       "<style scoped>\n",
       "    .dataframe tbody tr th:only-of-type {\n",
       "        vertical-align: middle;\n",
       "    }\n",
       "\n",
       "    .dataframe tbody tr th {\n",
       "        vertical-align: top;\n",
       "    }\n",
       "\n",
       "    .dataframe thead th {\n",
       "        text-align: right;\n",
       "    }\n",
       "</style>\n",
       "<table border=\"1\" class=\"dataframe\">\n",
       "  <thead>\n",
       "    <tr style=\"text-align: right;\">\n",
       "      <th></th>\n",
       "      <th>index</th>\n",
       "      <th>Class</th>\n",
       "    </tr>\n",
       "  </thead>\n",
       "  <tbody>\n",
       "    <tr>\n",
       "      <th>0</th>\n",
       "      <td>V17</td>\n",
       "      <td>0.326481</td>\n",
       "    </tr>\n",
       "    <tr>\n",
       "      <th>1</th>\n",
       "      <td>V14</td>\n",
       "      <td>0.302544</td>\n",
       "    </tr>\n",
       "    <tr>\n",
       "      <th>2</th>\n",
       "      <td>V12</td>\n",
       "      <td>0.260593</td>\n",
       "    </tr>\n",
       "    <tr>\n",
       "      <th>3</th>\n",
       "      <td>V10</td>\n",
       "      <td>0.216883</td>\n",
       "    </tr>\n",
       "    <tr>\n",
       "      <th>4</th>\n",
       "      <td>V16</td>\n",
       "      <td>0.196539</td>\n",
       "    </tr>\n",
       "    <tr>\n",
       "      <th>5</th>\n",
       "      <td>V3</td>\n",
       "      <td>0.192961</td>\n",
       "    </tr>\n",
       "    <tr>\n",
       "      <th>6</th>\n",
       "      <td>V7</td>\n",
       "      <td>0.187257</td>\n",
       "    </tr>\n",
       "    <tr>\n",
       "      <th>7</th>\n",
       "      <td>V11</td>\n",
       "      <td>0.154876</td>\n",
       "    </tr>\n",
       "    <tr>\n",
       "      <th>8</th>\n",
       "      <td>V4</td>\n",
       "      <td>0.133447</td>\n",
       "    </tr>\n",
       "    <tr>\n",
       "      <th>9</th>\n",
       "      <td>V18</td>\n",
       "      <td>0.111485</td>\n",
       "    </tr>\n",
       "    <tr>\n",
       "      <th>10</th>\n",
       "      <td>V1</td>\n",
       "      <td>0.101347</td>\n",
       "    </tr>\n",
       "    <tr>\n",
       "      <th>11</th>\n",
       "      <td>V9</td>\n",
       "      <td>0.097733</td>\n",
       "    </tr>\n",
       "    <tr>\n",
       "      <th>12</th>\n",
       "      <td>V5</td>\n",
       "      <td>0.094974</td>\n",
       "    </tr>\n",
       "    <tr>\n",
       "      <th>13</th>\n",
       "      <td>V2</td>\n",
       "      <td>0.091289</td>\n",
       "    </tr>\n",
       "    <tr>\n",
       "      <th>14</th>\n",
       "      <td>V6</td>\n",
       "      <td>0.043643</td>\n",
       "    </tr>\n",
       "    <tr>\n",
       "      <th>15</th>\n",
       "      <td>V21</td>\n",
       "      <td>0.040413</td>\n",
       "    </tr>\n",
       "    <tr>\n",
       "      <th>16</th>\n",
       "      <td>V19</td>\n",
       "      <td>0.034783</td>\n",
       "    </tr>\n",
       "    <tr>\n",
       "      <th>17</th>\n",
       "      <td>V20</td>\n",
       "      <td>0.020090</td>\n",
       "    </tr>\n",
       "    <tr>\n",
       "      <th>18</th>\n",
       "      <td>V8</td>\n",
       "      <td>0.019875</td>\n",
       "    </tr>\n",
       "    <tr>\n",
       "      <th>19</th>\n",
       "      <td>V27</td>\n",
       "      <td>0.017580</td>\n",
       "    </tr>\n",
       "    <tr>\n",
       "      <th>20</th>\n",
       "      <td>Hour</td>\n",
       "      <td>0.017109</td>\n",
       "    </tr>\n",
       "    <tr>\n",
       "      <th>21</th>\n",
       "      <td>Time</td>\n",
       "      <td>0.012323</td>\n",
       "    </tr>\n",
       "    <tr>\n",
       "      <th>22</th>\n",
       "      <td>V28</td>\n",
       "      <td>0.009536</td>\n",
       "    </tr>\n",
       "    <tr>\n",
       "      <th>23</th>\n",
       "      <td>V24</td>\n",
       "      <td>0.007221</td>\n",
       "    </tr>\n",
       "    <tr>\n",
       "      <th>24</th>\n",
       "      <td>Amount</td>\n",
       "      <td>0.005632</td>\n",
       "    </tr>\n",
       "    <tr>\n",
       "      <th>25</th>\n",
       "      <td>Day</td>\n",
       "      <td>0.005223</td>\n",
       "    </tr>\n",
       "    <tr>\n",
       "      <th>26</th>\n",
       "      <td>V13</td>\n",
       "      <td>0.004570</td>\n",
       "    </tr>\n",
       "    <tr>\n",
       "      <th>27</th>\n",
       "      <td>V26</td>\n",
       "      <td>0.004455</td>\n",
       "    </tr>\n",
       "    <tr>\n",
       "      <th>28</th>\n",
       "      <td>V15</td>\n",
       "      <td>0.004223</td>\n",
       "    </tr>\n",
       "    <tr>\n",
       "      <th>29</th>\n",
       "      <td>V25</td>\n",
       "      <td>0.003308</td>\n",
       "    </tr>\n",
       "    <tr>\n",
       "      <th>30</th>\n",
       "      <td>V23</td>\n",
       "      <td>0.002685</td>\n",
       "    </tr>\n",
       "    <tr>\n",
       "      <th>31</th>\n",
       "      <td>V22</td>\n",
       "      <td>0.000805</td>\n",
       "    </tr>\n",
       "  </tbody>\n",
       "</table>\n",
       "</div>"
      ],
      "text/plain": [
       "     index     Class\n",
       "0      V17  0.326481\n",
       "1      V14  0.302544\n",
       "2      V12  0.260593\n",
       "3      V10  0.216883\n",
       "4      V16  0.196539\n",
       "5       V3  0.192961\n",
       "6       V7  0.187257\n",
       "7      V11  0.154876\n",
       "8       V4  0.133447\n",
       "9      V18  0.111485\n",
       "10      V1  0.101347\n",
       "11      V9  0.097733\n",
       "12      V5  0.094974\n",
       "13      V2  0.091289\n",
       "14      V6  0.043643\n",
       "15     V21  0.040413\n",
       "16     V19  0.034783\n",
       "17     V20  0.020090\n",
       "18      V8  0.019875\n",
       "19     V27  0.017580\n",
       "20    Hour  0.017109\n",
       "21    Time  0.012323\n",
       "22     V28  0.009536\n",
       "23     V24  0.007221\n",
       "24  Amount  0.005632\n",
       "25     Day  0.005223\n",
       "26     V13  0.004570\n",
       "27     V26  0.004455\n",
       "28     V15  0.004223\n",
       "29     V25  0.003308\n",
       "30     V23  0.002685\n",
       "31     V22  0.000805"
      ]
     },
     "execution_count": 35,
     "metadata": {},
     "output_type": "execute_result"
    }
   ],
   "source": [
    "df[df.columns].corr()['Class'].abs().sort_values(ascending=False)[1:].reset_index()"
   ]
  },
  {
   "attachments": {},
   "cell_type": "markdown",
   "metadata": {},
   "source": [
    "Самыми важными признаками оказались V17, V14, V12, V10, V15, V3, V7, V11, V4, V18, V1, V9, V5, V2. Посмотрим на распределения самых важных из них:"
   ]
  },
  {
   "cell_type": "code",
   "execution_count": 43,
   "metadata": {},
   "outputs": [
    {
     "data": {
      "text/plain": [
       "array([<AxesSubplot:title={'center':'0'}>,\n",
       "       <AxesSubplot:title={'center':'1'}>], dtype=object)"
      ]
     },
     "execution_count": 43,
     "metadata": {},
     "output_type": "execute_result"
    },
    {
     "data": {
      "image/png": "[encoded data removed]",
      "text/plain": [
       "<Figure size 640x480 with 2 Axes>"
      ]
     },
     "metadata": {},
     "output_type": "display_data"
    }
   ],
   "source": [
    "df['V17'].hist(by=df['Class'])"
   ]
  },
  {
   "cell_type": "code",
   "execution_count": 44,
   "metadata": {},
   "outputs": [
    {
     "data": {
      "text/plain": [
       "array([<AxesSubplot:title={'center':'0'}>,\n",
       "       <AxesSubplot:title={'center':'1'}>], dtype=object)"
      ]
     },
     "execution_count": 44,
     "metadata": {},
     "output_type": "execute_result"
    },
    {
     "data": {
      "image/png": "[encoded data removed]",
      "text/plain": [
       "<Figure size 640x480 with 2 Axes>"
      ]
     },
     "metadata": {},
     "output_type": "display_data"
    }
   ],
   "source": [
    "df['V14'].hist(by=df['Class'])"
   ]
  },
  {
   "cell_type": "code",
   "execution_count": 45,
   "metadata": {},
   "outputs": [
    {
     "data": {
      "text/plain": [
       "array([<AxesSubplot:title={'center':'0'}>,\n",
       "       <AxesSubplot:title={'center':'1'}>], dtype=object)"
      ]
     },
     "execution_count": 45,
     "metadata": {},
     "output_type": "execute_result"
    },
    {
     "data": {
      "image/png": "[encoded data removed]",
      "text/plain": [
       "<Figure size 640x480 with 2 Axes>"
      ]
     },
     "metadata": {},
     "output_type": "display_data"
    }
   ],
   "source": [
    "df['V12'].hist(by=df['Class'])"
   ]
  },
  {
   "cell_type": "code",
   "execution_count": 46,
   "metadata": {},
   "outputs": [
    {
     "data": {
      "text/plain": [
       "array([<AxesSubplot:title={'center':'0'}>,\n",
       "       <AxesSubplot:title={'center':'1'}>], dtype=object)"
      ]
     },
     "execution_count": 46,
     "metadata": {},
     "output_type": "execute_result"
    },
    {
     "data": {
      "image/png": "[encoded data removed]",
      "text/plain": [
       "<Figure size 640x480 with 2 Axes>"
      ]
     },
     "metadata": {},
     "output_type": "display_data"
    }
   ],
   "source": [
    "df['V10'].hist(by=df['Class'])"
   ]
  },
  {
   "cell_type": "code",
   "execution_count": 47,
   "metadata": {},
   "outputs": [
    {
     "data": {
      "text/plain": [
       "array([<AxesSubplot:title={'center':'0'}>,\n",
       "       <AxesSubplot:title={'center':'1'}>], dtype=object)"
      ]
     },
     "execution_count": 47,
     "metadata": {},
     "output_type": "execute_result"
    },
    {
     "data": {
      "image/png": "[encoded data removed]",
      "text/plain": [
       "<Figure size 640x480 with 2 Axes>"
      ]
     },
     "metadata": {},
     "output_type": "display_data"
    }
   ],
   "source": [
    "df['V15'].hist(by=df['Class'])"
   ]
  },
  {
   "attachments": {},
   "cell_type": "markdown",
   "metadata": {},
   "source": [
    "Видно, что у мошеннических транзакций значения признаков имеют большую дисперсию"
   ]
  },
  {
   "attachments": {},
   "cell_type": "markdown",
   "metadata": {
    "id": "CxCb9nars9BM"
   },
   "source": [
    "Теперь давайте разделим данные. Отделите хронологически последние 20% транзакций и поделите их пополам (также хронологически, т.е. без перемешивания) на валидационные и тестовые. Это разбиение не совсем корректно (как можно было заметить, мошеннические транзакции имеют разное распределение во времени - по-хорошему, нам стоило бы выделить целые сутки записей как под валидацию, так и под тест), тем не менее, мы не сможем получить больше данных для адекватного контроля, поэтому обойдемся этим. "
   ]
  },
  {
   "cell_type": "code",
   "execution_count": 5,
   "metadata": {},
   "outputs": [],
   "source": [
    "df.sort_values('Time', inplace=True)"
   ]
  },
  {
   "cell_type": "code",
   "execution_count": 7,
   "metadata": {},
   "outputs": [],
   "source": [
    "df.drop(columns='Time', inplace=True)"
   ]
  },
  {
   "cell_type": "code",
   "execution_count": 8,
   "metadata": {},
   "outputs": [],
   "source": [
    "X_train = df[:-int(df.shape[0] * 0.2)]\n",
    "X_test = df[-int(df.shape[0] * 0.2):]\n",
    "X_val = X_test[:-X_test.shape[0] // 2]\n",
    "X_test = X_test[-X_test.shape[0] // 2:]"
   ]
  },
  {
   "attachments": {},
   "cell_type": "markdown",
   "metadata": {
    "id": "a06ZUN0Ms9BN"
   },
   "source": [
    "# Часть 1. Несбалансированная классификация."
   ]
  },
  {
   "attachments": {},
   "cell_type": "markdown",
   "metadata": {
    "id": "h6Gaot3Fs9BN"
   },
   "source": [
    "**Задание 0. (1 балл)**: перед началом работы давайте поговорим о том, как мы будем оценивать качество. Классические метрики для качества классификации чаще всего \"ломаются\" на задачах с сильным перекосом. Чему будет равно значение accuracy для наивного предсказания (= мажорный класс для каждого объекта)? (можете не отвечать, просто подумайте)\n",
    "\n",
    "Из курса МО-1 вам уже известно, что мы можем использовать в таких задачах `AUC-PR` и получать адекватные показатели. Можно сказать, что `AUC-PR` представляет собой матожидание `precision` по распределению, заданному выигрышем в `recall` при смене порога. "
   ]
  },
  {
   "attachments": {},
   "cell_type": "markdown",
   "metadata": {
    "id": "haRPLskDs9BO"
   },
   "source": [
    "Тем не менее, существуют и другие, не менее интересные метрики. Одной из таких метрик является коэффициент Каппа Коэна, представляющий собой нормализованную `accuracy`:\n",
    "\n",
    "$$\\kappa = \\frac{p_o - p_e}{1 - p_e}$$\n",
    "\n",
    "Данная метрика служит в качестве меры согласованности между двумя независимыми предсказателями, но ничего не знает про \"верные\" и \"предсказанные\" метки (в отличие от многих других метрик машинного обучения). Здесь $p_o$ - доля согласованных предсказаний, а $p_e$ - доля согласованных предсказаний, которая могла бы получиться при случайных ответах предсказателей. В нашем случае это работает так:\n",
    "\n",
    "• В качестве $p_o$ берем accuracy\n",
    "\n",
    "• В качестве $p_e$ примем следующую величину - вероятность случайного соглашения позитивных ответов (произведение долей позитивных ответов в обоих предсказаниях) плюс вероятность случайного соглашения негативных ответов (произведение долей негативных ответов в обоих предсказаниях)\n",
    "\n",
    "Метрика принимает значения от -1 до 1, где 1 - полная согласованность, 0 - согласованность на уровне рандома, -1 - совсем плохо. Как уже говорилось, метрика не различает \"верные\" и \"предсказанные\" метки, поэтому является симметричной (можете использовать это для отладки):"
   ]
  },
  {
   "cell_type": "code",
   "execution_count": 14,
   "metadata": {},
   "outputs": [],
   "source": [
    "def kappa_coef(y_true, y_pred):\n",
    "    p0 = sum(y_true == y_pred) / y_pred.shape[0]\n",
    "    pe = sum(y_true == 1) * sum(y_pred == 1) / y_pred.shape[0]**2 + sum(y_true == 0) * sum(y_pred == 0) / y_pred.shape[0]**2\n",
    "    return (p0 - pe) / (1 - pe)"
   ]
  },
  {
   "attachments": {},
   "cell_type": "markdown",
   "metadata": {
    "id": "vldIZwrMs9BP"
   },
   "source": [
    "Еще одной метрикой в такой задаче служит коэффициент корреляции Мэтьюза, выражающийся в терминах матрицы ошибок следующим образом:\n",
    "\n",
    "$$\\text{MCC} = \\frac{TP\\times TN - FP \\times FN}{\\sqrt{(TP+FP)(TP+FN)(TN+FP)(TN+FN)}}$$ \n",
    "\n",
    "Метрика принимает значения от -1 до 1, интерпретируемые аналогичным образом. "
   ]
  },
  {
   "cell_type": "code",
   "execution_count": 15,
   "metadata": {},
   "outputs": [],
   "source": [
    "from sklearn.metrics import confusion_matrix\n",
    "\n",
    "def mcc(y_true, y_pred):\n",
    "    conf = confusion_matrix(y_true, y_pred)\n",
    "    tp, fp, tn, fn = conf[1][1], conf[0][1], conf[0][0], conf[1][0] \n",
    "    upper = tp * tn - fp * fn\n",
    "    lower = np.sqrt((tp + fp) * (tp + fn) * (tn + fp) * (tn + fn)) + 1e-23\n",
    "    return upper / lower"
   ]
  },
  {
   "attachments": {},
   "cell_type": "markdown",
   "metadata": {
    "id": "GaOHYiZPs9BP"
   },
   "source": [
    "Обратите внимание, что эти метрики вычисляются на бинаризованных предсказаниях, поэтому может иметь смысл дополнительная настройка порога бинаризации."
   ]
  },
  {
   "attachments": {},
   "cell_type": "markdown",
   "metadata": {
    "id": "TBsLuK2ds9BQ"
   },
   "source": [
    "Давайте проверим, что наши метрики действительно подходят под задачу. Вычислите их значения для наивного предсказания (aka мажорный класс для всех объектов):"
   ]
  },
  {
   "cell_type": "code",
   "execution_count": 15,
   "metadata": {
    "id": "LM_Q37gAs9BQ"
   },
   "outputs": [
    {
     "data": {
      "text/plain": [
       "0.0"
      ]
     },
     "execution_count": 15,
     "metadata": {},
     "output_type": "execute_result"
    }
   ],
   "source": [
    "kappa_coef(np.zeros_like(df['Class']), df['Class'])"
   ]
  },
  {
   "cell_type": "code",
   "execution_count": 16,
   "metadata": {},
   "outputs": [
    {
     "data": {
      "text/plain": [
       "0.0"
      ]
     },
     "execution_count": 16,
     "metadata": {},
     "output_type": "execute_result"
    }
   ],
   "source": [
    "mcc(np.zeros_like(df['Class']), df['Class'])"
   ]
  },
  {
   "cell_type": "code",
   "execution_count": 17,
   "metadata": {},
   "outputs": [
    {
     "data": {
      "text/plain": [
       "-1.0"
      ]
     },
     "execution_count": 17,
     "metadata": {},
     "output_type": "execute_result"
    }
   ],
   "source": [
    "mcc(df['Class'] == 0, df['Class'])"
   ]
  },
  {
   "attachments": {},
   "cell_type": "markdown",
   "metadata": {},
   "source": [
    "Видим, что работает корректно"
   ]
  },
  {
   "attachments": {},
   "cell_type": "markdown",
   "metadata": {
    "id": "nwryyw3ts9BQ"
   },
   "source": [
    "Давайте запустим бейзлайн-решение для нашей задачи. С чего же начнем? Возьмите `catboost` и обучите его классификатор на наших данных (используйте все признаки). Вычислите значения всех метрик на тестовой части, для контроля переобучения используйте валидационную (здесь и далее везде, где фигурирует `catboost`). "
   ]
  },
  {
   "cell_type": "code",
   "execution_count": 18,
   "metadata": {
    "id": "C3R-MRd7s9BQ"
   },
   "outputs": [],
   "source": [
    "from catboost import CatBoostClassifier"
   ]
  },
  {
   "cell_type": "code",
   "execution_count": 19,
   "metadata": {},
   "outputs": [],
   "source": [
    "X_train = X_train.astype({\"Hour\": int, \"Day\": int})\n",
    "X_test = X_test.astype({\"Hour\": int, \"Day\": int})\n",
    "X_val = X_val.astype({\"Hour\": int, \"Day\": int})"
   ]
  },
  {
   "attachments": {},
   "cell_type": "markdown",
   "metadata": {},
   "source": [
    "Давайте запустим бейзлайн-решение для нашей задачи. С чего же начнем? Возьмите `catboost` и обучите его классификатор на наших данных (используйте все признаки). Вычислите значения всех метрик на тестовой части, для контроля переобучения используйте валидационную (здесь и далее везде, где фигурирует `catboost`). "
   ]
  },
  {
   "cell_type": "code",
   "execution_count": 171,
   "metadata": {
    "id": "ZFFhboVQs9BR"
   },
   "outputs": [
    {
     "name": "stdout",
     "output_type": "stream",
     "text": [
      "0:\tlearn: 0.0110384\ttotal: 42.9ms\tremaining: 4.25s\n",
      "1:\tlearn: 0.0036751\ttotal: 89.1ms\tremaining: 4.37s\n",
      "2:\tlearn: 0.0031357\ttotal: 144ms\tremaining: 4.64s\n",
      "3:\tlearn: 0.0030104\ttotal: 189ms\tremaining: 4.55s\n",
      "4:\tlearn: 0.0028989\ttotal: 235ms\tremaining: 4.47s\n",
      "5:\tlearn: 0.0027595\ttotal: 286ms\tremaining: 4.48s\n",
      "6:\tlearn: 0.0026346\ttotal: 332ms\tremaining: 4.41s\n",
      "7:\tlearn: 0.0026042\ttotal: 398ms\tremaining: 4.57s\n",
      "8:\tlearn: 0.0025402\ttotal: 461ms\tremaining: 4.66s\n",
      "9:\tlearn: 0.0024349\ttotal: 522ms\tremaining: 4.7s\n",
      "10:\tlearn: 0.0023492\ttotal: 587ms\tremaining: 4.75s\n",
      "11:\tlearn: 0.0023145\ttotal: 690ms\tremaining: 5.06s\n",
      "12:\tlearn: 0.0022608\ttotal: 748ms\tremaining: 5s\n",
      "13:\tlearn: 0.0022210\ttotal: 806ms\tremaining: 4.95s\n",
      "14:\tlearn: 0.0021396\ttotal: 871ms\tremaining: 4.94s\n",
      "15:\tlearn: 0.0021033\ttotal: 944ms\tremaining: 4.96s\n",
      "16:\tlearn: 0.0020145\ttotal: 1.01s\tremaining: 4.93s\n",
      "17:\tlearn: 0.0019881\ttotal: 1.07s\tremaining: 4.87s\n",
      "18:\tlearn: 0.0019406\ttotal: 1.14s\tremaining: 4.84s\n",
      "19:\tlearn: 0.0019141\ttotal: 1.19s\tremaining: 4.76s\n",
      "20:\tlearn: 0.0018935\ttotal: 1.24s\tremaining: 4.67s\n",
      "21:\tlearn: 0.0018655\ttotal: 1.31s\tremaining: 4.65s\n",
      "22:\tlearn: 0.0018402\ttotal: 1.38s\tremaining: 4.63s\n",
      "23:\tlearn: 0.0018365\ttotal: 1.47s\tremaining: 4.66s\n",
      "24:\tlearn: 0.0017861\ttotal: 1.54s\tremaining: 4.61s\n",
      "25:\tlearn: 0.0017371\ttotal: 1.61s\tremaining: 4.57s\n",
      "26:\tlearn: 0.0017125\ttotal: 1.65s\tremaining: 4.47s\n",
      "27:\tlearn: 0.0016485\ttotal: 1.7s\tremaining: 4.37s\n",
      "28:\tlearn: 0.0016153\ttotal: 1.75s\tremaining: 4.28s\n",
      "29:\tlearn: 0.0015979\ttotal: 1.79s\tremaining: 4.17s\n",
      "30:\tlearn: 0.0015358\ttotal: 1.83s\tremaining: 4.07s\n",
      "31:\tlearn: 0.0015193\ttotal: 1.87s\tremaining: 3.98s\n",
      "32:\tlearn: 0.0014905\ttotal: 1.91s\tremaining: 3.88s\n",
      "33:\tlearn: 0.0014841\ttotal: 1.97s\tremaining: 3.82s\n",
      "34:\tlearn: 0.0014269\ttotal: 2.02s\tremaining: 3.75s\n",
      "35:\tlearn: 0.0014182\ttotal: 2.06s\tremaining: 3.67s\n",
      "36:\tlearn: 0.0014138\ttotal: 2.11s\tremaining: 3.59s\n",
      "37:\tlearn: 0.0013423\ttotal: 2.16s\tremaining: 3.52s\n",
      "38:\tlearn: 0.0013291\ttotal: 2.2s\tremaining: 3.45s\n",
      "39:\tlearn: 0.0013053\ttotal: 2.25s\tremaining: 3.38s\n",
      "40:\tlearn: 0.0012962\ttotal: 2.29s\tremaining: 3.3s\n",
      "41:\tlearn: 0.0012576\ttotal: 2.34s\tremaining: 3.23s\n",
      "42:\tlearn: 0.0012354\ttotal: 2.39s\tremaining: 3.16s\n",
      "43:\tlearn: 0.0012252\ttotal: 2.44s\tremaining: 3.1s\n",
      "44:\tlearn: 0.0012098\ttotal: 2.48s\tremaining: 3.04s\n",
      "45:\tlearn: 0.0011846\ttotal: 2.52s\tremaining: 2.96s\n",
      "46:\tlearn: 0.0011752\ttotal: 2.58s\tremaining: 2.9s\n",
      "47:\tlearn: 0.0011490\ttotal: 2.62s\tremaining: 2.84s\n",
      "48:\tlearn: 0.0011438\ttotal: 2.67s\tremaining: 2.78s\n",
      "49:\tlearn: 0.0011382\ttotal: 2.71s\tremaining: 2.71s\n",
      "50:\tlearn: 0.0011105\ttotal: 2.75s\tremaining: 2.65s\n",
      "51:\tlearn: 0.0011001\ttotal: 2.79s\tremaining: 2.58s\n",
      "52:\tlearn: 0.0010737\ttotal: 2.83s\tremaining: 2.51s\n",
      "53:\tlearn: 0.0010712\ttotal: 2.88s\tremaining: 2.45s\n",
      "54:\tlearn: 0.0010671\ttotal: 2.92s\tremaining: 2.39s\n",
      "55:\tlearn: 0.0010263\ttotal: 2.96s\tremaining: 2.33s\n",
      "56:\tlearn: 0.0010168\ttotal: 3s\tremaining: 2.26s\n",
      "57:\tlearn: 0.0010139\ttotal: 3.04s\tremaining: 2.2s\n",
      "58:\tlearn: 0.0009947\ttotal: 3.08s\tremaining: 2.14s\n",
      "59:\tlearn: 0.0009785\ttotal: 3.13s\tremaining: 2.08s\n",
      "60:\tlearn: 0.0009762\ttotal: 3.16s\tremaining: 2.02s\n",
      "61:\tlearn: 0.0009484\ttotal: 3.2s\tremaining: 1.96s\n",
      "62:\tlearn: 0.0009260\ttotal: 3.24s\tremaining: 1.9s\n",
      "63:\tlearn: 0.0009238\ttotal: 3.28s\tremaining: 1.84s\n",
      "64:\tlearn: 0.0009057\ttotal: 3.32s\tremaining: 1.79s\n",
      "65:\tlearn: 0.0008937\ttotal: 3.36s\tremaining: 1.73s\n",
      "66:\tlearn: 0.0008865\ttotal: 3.4s\tremaining: 1.68s\n",
      "67:\tlearn: 0.0008754\ttotal: 3.44s\tremaining: 1.62s\n",
      "68:\tlearn: 0.0008578\ttotal: 3.48s\tremaining: 1.56s\n",
      "69:\tlearn: 0.0008432\ttotal: 3.52s\tremaining: 1.51s\n",
      "70:\tlearn: 0.0008278\ttotal: 3.57s\tremaining: 1.46s\n",
      "71:\tlearn: 0.0008227\ttotal: 3.61s\tremaining: 1.4s\n",
      "72:\tlearn: 0.0008079\ttotal: 3.65s\tremaining: 1.35s\n",
      "73:\tlearn: 0.0008019\ttotal: 3.7s\tremaining: 1.3s\n",
      "74:\tlearn: 0.0007838\ttotal: 3.74s\tremaining: 1.25s\n",
      "75:\tlearn: 0.0007608\ttotal: 3.79s\tremaining: 1.2s\n",
      "76:\tlearn: 0.0007572\ttotal: 3.82s\tremaining: 1.14s\n",
      "77:\tlearn: 0.0007493\ttotal: 3.87s\tremaining: 1.09s\n",
      "78:\tlearn: 0.0007441\ttotal: 3.91s\tremaining: 1.04s\n",
      "79:\tlearn: 0.0007324\ttotal: 3.96s\tremaining: 990ms\n",
      "80:\tlearn: 0.0007247\ttotal: 4s\tremaining: 938ms\n",
      "81:\tlearn: 0.0007031\ttotal: 4.04s\tremaining: 888ms\n",
      "82:\tlearn: 0.0006981\ttotal: 4.09s\tremaining: 838ms\n",
      "83:\tlearn: 0.0006707\ttotal: 4.14s\tremaining: 788ms\n",
      "84:\tlearn: 0.0006670\ttotal: 4.18s\tremaining: 738ms\n",
      "85:\tlearn: 0.0006649\ttotal: 4.22s\tremaining: 688ms\n",
      "86:\tlearn: 0.0006464\ttotal: 4.27s\tremaining: 638ms\n",
      "87:\tlearn: 0.0006430\ttotal: 4.32s\tremaining: 589ms\n",
      "88:\tlearn: 0.0006398\ttotal: 4.37s\tremaining: 540ms\n",
      "89:\tlearn: 0.0006277\ttotal: 4.41s\tremaining: 490ms\n",
      "90:\tlearn: 0.0006179\ttotal: 4.45s\tremaining: 440ms\n",
      "91:\tlearn: 0.0006150\ttotal: 4.49s\tremaining: 390ms\n",
      "92:\tlearn: 0.0005945\ttotal: 4.53s\tremaining: 341ms\n",
      "93:\tlearn: 0.0005790\ttotal: 4.57s\tremaining: 292ms\n",
      "94:\tlearn: 0.0005783\ttotal: 4.61s\tremaining: 243ms\n",
      "95:\tlearn: 0.0005655\ttotal: 4.66s\tremaining: 194ms\n",
      "96:\tlearn: 0.0005613\ttotal: 4.7s\tremaining: 145ms\n",
      "97:\tlearn: 0.0005523\ttotal: 4.74s\tremaining: 96.8ms\n",
      "98:\tlearn: 0.0005385\ttotal: 4.79s\tremaining: 48.4ms\n",
      "99:\tlearn: 0.0005340\ttotal: 4.83s\tremaining: 0us\n"
     ]
    }
   ],
   "source": [
    "cat_features = [0, 30, 31]\n",
    "model = CatBoostClassifier(iterations=100,\n",
    "                           learning_rate=1,\n",
    "                           depth=4)\n",
    "\n",
    "model.fit(X_train.drop(columns='Class'), X_train['Class'], cat_features)\n",
    "preds_class = model.predict(X_test.drop(columns='Class'))"
   ]
  },
  {
   "cell_type": "code",
   "execution_count": 180,
   "metadata": {},
   "outputs": [
    {
     "name": "stdout",
     "output_type": "stream",
     "text": [
      "val mcc: 0.847564803800145\n",
      "test mcc: 0.7754834690252622\n"
     ]
    }
   ],
   "source": [
    "print('val mcc:', mcc(X_val['Class'], model.predict(X_val.drop(columns='Class'))))\n",
    "print('test mcc:', mcc(X_test['Class'], model.predict(X_test.drop(columns='Class'))))"
   ]
  },
  {
   "cell_type": "code",
   "execution_count": 181,
   "metadata": {},
   "outputs": [
    {
     "name": "stdout",
     "output_type": "stream",
     "text": [
      "val kappa: 0.8418450229309994\n",
      "test kappa: 0.7690752614163152\n"
     ]
    }
   ],
   "source": [
    "print('val kappa:', kappa_coef(X_val['Class'], model.predict(X_val.drop(columns='Class'))))\n",
    "print('test kappa:', kappa_coef(X_test['Class'], model.predict(X_test.drop(columns='Class'))))"
   ]
  },
  {
   "attachments": {},
   "cell_type": "markdown",
   "metadata": {
    "id": "zs-ZjQDLs9BR"
   },
   "source": [
    "Если вы все сделали правильно, у вас должны были получиться значения в районе 0.7."
   ]
  },
  {
   "attachments": {},
   "cell_type": "markdown",
   "metadata": {
    "id": "slOmV65fs9BR"
   },
   "source": [
    "**Задание 1. (1 балл)**. Многие реализации методов предлагают встроенные способы для борьбы с нашей проблемой. Самое часто встречающееся решение - просто добавить вес в функции потерь для минорного класса (таким образом, ошибка на объекте минорного класса будет весить больше, чем для мажорного). В `catboost` это также реализовано, причем для бинарной задачи это можно сделать целыми двумя способами (можете выбрать любой, на свой вкус, автор задания предпочитает отдельный скейлинг для минорного класса). Чаще всего в качестве веса берется отношение числа объектов мажорного класса к числу минорного. Попробуйте обучить модель с таким скалированием и сравните метрики на тестовой части с бейзлайном."
   ]
  },
  {
   "cell_type": "code",
   "execution_count": 220,
   "metadata": {
    "id": "WLVjSc0As9BR"
   },
   "outputs": [
    {
     "name": "stdout",
     "output_type": "stream",
     "text": [
      "0:\tlearn: 0.2256270\ttotal: 55.5ms\tremaining: 5.49s\n",
      "1:\tlearn: 0.1804366\ttotal: 107ms\tremaining: 5.23s\n",
      "2:\tlearn: 0.1676946\ttotal: 163ms\tremaining: 5.26s\n",
      "3:\tlearn: 0.1379870\ttotal: 215ms\tremaining: 5.16s\n",
      "4:\tlearn: 0.1232582\ttotal: 270ms\tremaining: 5.13s\n",
      "5:\tlearn: 0.1123697\ttotal: 328ms\tremaining: 5.13s\n",
      "6:\tlearn: 0.1044038\ttotal: 393ms\tremaining: 5.22s\n",
      "7:\tlearn: 0.0944178\ttotal: 444ms\tremaining: 5.1s\n",
      "8:\tlearn: 0.0873352\ttotal: 502ms\tremaining: 5.08s\n",
      "9:\tlearn: 0.0793692\ttotal: 557ms\tremaining: 5.01s\n",
      "10:\tlearn: 0.0725146\ttotal: 604ms\tremaining: 4.89s\n",
      "11:\tlearn: 0.0657326\ttotal: 653ms\tremaining: 4.79s\n",
      "12:\tlearn: 0.0604188\ttotal: 704ms\tremaining: 4.71s\n",
      "13:\tlearn: 0.0550806\ttotal: 763ms\tremaining: 4.69s\n",
      "14:\tlearn: 0.0503079\ttotal: 811ms\tremaining: 4.6s\n",
      "15:\tlearn: 0.0463380\ttotal: 854ms\tremaining: 4.48s\n",
      "16:\tlearn: 0.0420793\ttotal: 896ms\tremaining: 4.37s\n",
      "17:\tlearn: 0.0372131\ttotal: 944ms\tremaining: 4.3s\n",
      "18:\tlearn: 0.0319545\ttotal: 987ms\tremaining: 4.21s\n",
      "19:\tlearn: 0.0287148\ttotal: 1.03s\tremaining: 4.12s\n",
      "20:\tlearn: 0.0263217\ttotal: 1.08s\tremaining: 4.05s\n",
      "21:\tlearn: 0.0233470\ttotal: 1.12s\tremaining: 3.99s\n",
      "22:\tlearn: 0.0217256\ttotal: 1.17s\tremaining: 3.92s\n",
      "23:\tlearn: 0.0205767\ttotal: 1.21s\tremaining: 3.85s\n",
      "24:\tlearn: 0.0179837\ttotal: 1.26s\tremaining: 3.78s\n",
      "25:\tlearn: 0.0165369\ttotal: 1.31s\tremaining: 3.72s\n",
      "26:\tlearn: 0.0156710\ttotal: 1.36s\tremaining: 3.67s\n",
      "27:\tlearn: 0.0144052\ttotal: 1.41s\tremaining: 3.63s\n",
      "28:\tlearn: 0.0136037\ttotal: 1.47s\tremaining: 3.59s\n",
      "29:\tlearn: 0.0126695\ttotal: 1.53s\tremaining: 3.56s\n",
      "30:\tlearn: 0.0119392\ttotal: 1.58s\tremaining: 3.52s\n",
      "31:\tlearn: 0.0111735\ttotal: 1.63s\tremaining: 3.47s\n",
      "32:\tlearn: 0.0101868\ttotal: 1.74s\tremaining: 3.53s\n",
      "33:\tlearn: 0.0096455\ttotal: 1.79s\tremaining: 3.47s\n",
      "34:\tlearn: 0.0091654\ttotal: 1.83s\tremaining: 3.4s\n",
      "35:\tlearn: 0.0080056\ttotal: 1.88s\tremaining: 3.34s\n",
      "36:\tlearn: 0.0074122\ttotal: 1.92s\tremaining: 3.28s\n",
      "37:\tlearn: 0.0067224\ttotal: 1.97s\tremaining: 3.21s\n",
      "38:\tlearn: 0.0063488\ttotal: 2.01s\tremaining: 3.14s\n",
      "39:\tlearn: 0.0058390\ttotal: 2.05s\tremaining: 3.08s\n",
      "40:\tlearn: 0.0054713\ttotal: 2.1s\tremaining: 3.02s\n",
      "41:\tlearn: 0.0052424\ttotal: 2.14s\tremaining: 2.96s\n",
      "42:\tlearn: 0.0050579\ttotal: 2.18s\tremaining: 2.89s\n",
      "43:\tlearn: 0.0048728\ttotal: 2.22s\tremaining: 2.83s\n",
      "44:\tlearn: 0.0044673\ttotal: 2.27s\tremaining: 2.77s\n",
      "45:\tlearn: 0.0043183\ttotal: 2.31s\tremaining: 2.71s\n",
      "46:\tlearn: 0.0039820\ttotal: 2.36s\tremaining: 2.66s\n",
      "47:\tlearn: 0.0037312\ttotal: 2.4s\tremaining: 2.6s\n",
      "48:\tlearn: 0.0036310\ttotal: 2.44s\tremaining: 2.54s\n",
      "49:\tlearn: 0.0034961\ttotal: 2.48s\tremaining: 2.48s\n",
      "50:\tlearn: 0.0033586\ttotal: 2.52s\tremaining: 2.43s\n",
      "51:\tlearn: 0.0032148\ttotal: 2.57s\tremaining: 2.37s\n",
      "52:\tlearn: 0.0030485\ttotal: 2.62s\tremaining: 2.32s\n",
      "53:\tlearn: 0.0029665\ttotal: 2.65s\tremaining: 2.26s\n",
      "54:\tlearn: 0.0028501\ttotal: 2.69s\tremaining: 2.2s\n",
      "55:\tlearn: 0.0026215\ttotal: 2.73s\tremaining: 2.15s\n",
      "56:\tlearn: 0.0025008\ttotal: 2.78s\tremaining: 2.1s\n",
      "57:\tlearn: 0.0025002\ttotal: 2.81s\tremaining: 2.03s\n",
      "58:\tlearn: 0.0024226\ttotal: 2.85s\tremaining: 1.98s\n",
      "59:\tlearn: 0.0023579\ttotal: 2.89s\tremaining: 1.92s\n",
      "60:\tlearn: 0.0023579\ttotal: 2.91s\tremaining: 1.86s\n",
      "61:\tlearn: 0.0023579\ttotal: 2.94s\tremaining: 1.8s\n",
      "62:\tlearn: 0.0023578\ttotal: 2.97s\tremaining: 1.75s\n",
      "63:\tlearn: 0.0023576\ttotal: 3s\tremaining: 1.69s\n",
      "64:\tlearn: 0.0023576\ttotal: 3.02s\tremaining: 1.63s\n",
      "65:\tlearn: 0.0023576\ttotal: 3.05s\tremaining: 1.57s\n",
      "66:\tlearn: 0.0022924\ttotal: 3.09s\tremaining: 1.52s\n",
      "67:\tlearn: 0.0022269\ttotal: 3.13s\tremaining: 1.47s\n",
      "68:\tlearn: 0.0022269\ttotal: 3.17s\tremaining: 1.42s\n",
      "69:\tlearn: 0.0018393\ttotal: 3.22s\tremaining: 1.38s\n",
      "70:\tlearn: 0.0018001\ttotal: 3.27s\tremaining: 1.33s\n",
      "71:\tlearn: 0.0017213\ttotal: 3.32s\tremaining: 1.29s\n",
      "72:\tlearn: 0.0016512\ttotal: 3.35s\tremaining: 1.24s\n",
      "73:\tlearn: 0.0016005\ttotal: 3.39s\tremaining: 1.19s\n",
      "74:\tlearn: 0.0016005\ttotal: 3.42s\tremaining: 1.14s\n",
      "75:\tlearn: 0.0016003\ttotal: 3.46s\tremaining: 1.09s\n",
      "76:\tlearn: 0.0016003\ttotal: 3.49s\tremaining: 1.04s\n",
      "77:\tlearn: 0.0015807\ttotal: 3.55s\tremaining: 1s\n",
      "78:\tlearn: 0.0015268\ttotal: 3.62s\tremaining: 961ms\n",
      "79:\tlearn: 0.0015268\ttotal: 3.65s\tremaining: 913ms\n",
      "80:\tlearn: 0.0015266\ttotal: 3.69s\tremaining: 865ms\n",
      "81:\tlearn: 0.0015266\ttotal: 3.72s\tremaining: 817ms\n",
      "82:\tlearn: 0.0014950\ttotal: 3.77s\tremaining: 772ms\n",
      "83:\tlearn: 0.0014950\ttotal: 3.8s\tremaining: 724ms\n",
      "84:\tlearn: 0.0014362\ttotal: 3.84s\tremaining: 678ms\n",
      "85:\tlearn: 0.0014360\ttotal: 3.87s\tremaining: 631ms\n",
      "86:\tlearn: 0.0014360\ttotal: 3.9s\tremaining: 583ms\n",
      "87:\tlearn: 0.0014359\ttotal: 3.92s\tremaining: 535ms\n",
      "88:\tlearn: 0.0014358\ttotal: 3.95s\tremaining: 488ms\n",
      "89:\tlearn: 0.0014358\ttotal: 3.98s\tremaining: 442ms\n",
      "90:\tlearn: 0.0014358\ttotal: 4s\tremaining: 396ms\n",
      "91:\tlearn: 0.0014358\ttotal: 4.04s\tremaining: 351ms\n",
      "92:\tlearn: 0.0014358\ttotal: 4.07s\tremaining: 307ms\n",
      "93:\tlearn: 0.0014081\ttotal: 4.11s\tremaining: 263ms\n",
      "94:\tlearn: 0.0014080\ttotal: 4.15s\tremaining: 219ms\n",
      "95:\tlearn: 0.0014080\ttotal: 4.19s\tremaining: 174ms\n",
      "96:\tlearn: 0.0013691\ttotal: 4.23s\tremaining: 131ms\n",
      "97:\tlearn: 0.0013215\ttotal: 4.27s\tremaining: 87.2ms\n",
      "98:\tlearn: 0.0012511\ttotal: 4.33s\tremaining: 43.7ms\n",
      "99:\tlearn: 0.0012511\ttotal: 4.36s\tremaining: 0us\n"
     ]
    }
   ],
   "source": [
    "cat_features = [0, 30, 31]\n",
    "model = CatBoostClassifier(iterations=100,\n",
    "                           learning_rate=1,\n",
    "                           depth=4)\n",
    "\n",
    "weight_coeff = sum(X_train['Class'] == 0) / sum(X_train['Class'] == 1)\n",
    "\n",
    "model.fit(X_train.drop(columns='Class'), X_train['Class'], cat_features, sample_weight=(X_train['Class'] * weight_coeff + np.uint32(X_train['Class'] == 0)))\n",
    "preds_class = model.predict(X_test.drop(columns='Class'))"
   ]
  },
  {
   "cell_type": "code",
   "execution_count": 221,
   "metadata": {},
   "outputs": [
    {
     "name": "stdout",
     "output_type": "stream",
     "text": [
      "val kappa: 0.7688088065877764\n",
      "test kappa: 0.4770693409616061\n",
      "val mcc: 0.7689515280727256\n",
      "test mcc: 0.5080062050334478\n"
     ]
    }
   ],
   "source": [
    "print('val kappa:', kappa_coef(X_val['Class'], model.predict(X_val.drop(columns='Class'))))\n",
    "print('test kappa:', kappa_coef(X_test['Class'], model.predict(X_test.drop(columns='Class')))) \n",
    "print('val mcc:', mcc(X_val['Class'], model.predict(X_val.drop(columns='Class'))))\n",
    "print('test mcc:', mcc(X_test['Class'], model.predict(X_test.drop(columns='Class'))))"
   ]
  },
  {
   "attachments": {},
   "cell_type": "markdown",
   "metadata": {},
   "source": [
    "поломалось"
   ]
  },
  {
   "attachments": {},
   "cell_type": "markdown",
   "metadata": {
    "id": "qwhhGSVVs9BR"
   },
   "source": [
    "Поскольку данный вес будет являться гиперпараметром метода, было бы опрометчиво остановиться на одном значении (тем более, с большой вероятностью у вас все сломалось). Запустите перебор для этого гиперпараметра на валидационной выборке (используйте `PR-AUC`), подберите оптимальный порог бинаризации для $\\kappa$ или $\\text{MCC}$. Для лучшего найденного веса и порога вычислите все метрики на тестовой части. \n",
    "\n",
    "При этом можете также проверить отдельное скалирование в большую сторону для мажорного класса (т.е. веса минорного сделать меньше 1) и экстремальные скалирования (т.е. веса минорного больше, чем в начале этого задания). Какой вес получился оптимальным?"
   ]
  },
  {
   "cell_type": "code",
   "execution_count": 213,
   "metadata": {
    "id": "LluYkXus8OWt"
   },
   "outputs": [
    {
     "name": "stderr",
     "output_type": "stream",
     "text": [
      "\u001b[32m[I 2023-06-15 23:14:44,644]\u001b[0m A new study created in memory with name: no-name-793679a1-8ba3-487e-b5b4-9bd6ec3ab096\u001b[0m\n",
      "\u001b[32m[I 2023-06-15 23:14:50,272]\u001b[0m Trial 0 finished with value: 0.6752507341034466 and parameters: {'wc': 64.9038740384552}. Best is trial 0 with value: 0.6752507341034466.\u001b[0m\n",
      "\u001b[32m[I 2023-06-15 23:14:55,102]\u001b[0m Trial 1 finished with value: 0.5861673527795684 and parameters: {'wc': 91.55530934036888}. Best is trial 0 with value: 0.6752507341034466.\u001b[0m\n",
      "\u001b[32m[I 2023-06-15 23:15:00,222]\u001b[0m Trial 2 finished with value: 0.6243635992847332 and parameters: {'wc': 20.877599563464383}. Best is trial 0 with value: 0.6752507341034466.\u001b[0m\n",
      "\u001b[32m[I 2023-06-15 23:15:05,403]\u001b[0m Trial 3 finished with value: 0.5700541822832709 and parameters: {'wc': 52.897010822712915}. Best is trial 0 with value: 0.6752507341034466.\u001b[0m\n",
      "\u001b[32m[I 2023-06-15 23:15:10,601]\u001b[0m Trial 4 finished with value: 0.5744538371846513 and parameters: {'wc': 98.25617537942266}. Best is trial 0 with value: 0.6752507341034466.\u001b[0m\n",
      "\u001b[32m[I 2023-06-15 23:15:15,830]\u001b[0m Trial 5 finished with value: 0.7192345379428006 and parameters: {'wc': 9.21355721343638}. Best is trial 5 with value: 0.7192345379428006.\u001b[0m\n",
      "\u001b[32m[I 2023-06-15 23:15:20,471]\u001b[0m Trial 6 finished with value: 0.5744538371846513 and parameters: {'wc': 66.57060502023715}. Best is trial 5 with value: 0.7192345379428006.\u001b[0m\n",
      "\u001b[32m[I 2023-06-15 23:15:26,053]\u001b[0m Trial 7 finished with value: 0.6293872782842203 and parameters: {'wc': 18.049557761086536}. Best is trial 5 with value: 0.7192345379428006.\u001b[0m\n",
      "\u001b[32m[I 2023-06-15 23:15:31,224]\u001b[0m Trial 8 finished with value: 0.5439931365274538 and parameters: {'wc': 83.29441132898602}. Best is trial 5 with value: 0.7192345379428006.\u001b[0m\n",
      "\u001b[32m[I 2023-06-15 23:15:39,245]\u001b[0m Trial 9 finished with value: 0.5681367482863401 and parameters: {'wc': 78.83055036960673}. Best is trial 5 with value: 0.7192345379428006.\u001b[0m\n",
      "\u001b[32m[I 2023-06-15 23:15:46,007]\u001b[0m Trial 10 finished with value: 0.6059774191458789 and parameters: {'wc': 6.139863207792956}. Best is trial 5 with value: 0.7192345379428006.\u001b[0m\n",
      "\u001b[32m[I 2023-06-15 23:15:52,047]\u001b[0m Trial 11 finished with value: 0.6865628071578623 and parameters: {'wc': 40.27089340630112}. Best is trial 5 with value: 0.7192345379428006.\u001b[0m\n",
      "\u001b[32m[I 2023-06-15 23:15:57,589]\u001b[0m Trial 12 finished with value: 0.6243635992847332 and parameters: {'wc': 33.116911409161425}. Best is trial 5 with value: 0.7192345379428006.\u001b[0m\n",
      "\u001b[32m[I 2023-06-15 23:16:03,208]\u001b[0m Trial 13 finished with value: 0.6243635992847332 and parameters: {'wc': 38.77357155146032}. Best is trial 5 with value: 0.7192345379428006.\u001b[0m\n",
      "\u001b[32m[I 2023-06-15 23:16:08,788]\u001b[0m Trial 14 finished with value: 0.7004455537055899 and parameters: {'wc': 6.89883112768802}. Best is trial 5 with value: 0.7192345379428006.\u001b[0m\n",
      "\u001b[32m[I 2023-06-15 23:16:14,325]\u001b[0m Trial 15 finished with value: 0.6837799827372119 and parameters: {'wc': 3.9258438539353966}. Best is trial 5 with value: 0.7192345379428006.\u001b[0m\n",
      "\u001b[32m[I 2023-06-15 23:16:19,716]\u001b[0m Trial 16 finished with value: 0.7192345379428006 and parameters: {'wc': 2.154222397773858}. Best is trial 5 with value: 0.7192345379428006.\u001b[0m\n",
      "\u001b[32m[I 2023-06-15 23:16:25,459]\u001b[0m Trial 17 finished with value: 0.6477066775406368 and parameters: {'wc': 19.801102140059157}. Best is trial 5 with value: 0.7192345379428006.\u001b[0m\n",
      "\u001b[32m[I 2023-06-15 23:16:31,584]\u001b[0m Trial 18 finished with value: 0.6382274220903116 and parameters: {'wc': 3.250289292240039}. Best is trial 5 with value: 0.7192345379428006.\u001b[0m\n",
      "\u001b[32m[I 2023-06-15 23:16:37,427]\u001b[0m Trial 19 finished with value: 0.6347609709561162 and parameters: {'wc': 12.968312158729304}. Best is trial 5 with value: 0.7192345379428006.\u001b[0m\n",
      "\u001b[32m[I 2023-06-15 23:16:43,021]\u001b[0m Trial 20 finished with value: 0.6567320964411795 and parameters: {'wc': 28.229177458073806}. Best is trial 5 with value: 0.7192345379428006.\u001b[0m\n",
      "\u001b[32m[I 2023-06-15 23:16:49,380]\u001b[0m Trial 21 finished with value: 0.6986750052999787 and parameters: {'wc': 1.1098267988266486}. Best is trial 5 with value: 0.7192345379428006.\u001b[0m\n",
      "\u001b[32m[I 2023-06-15 23:16:55,335]\u001b[0m Trial 22 finished with value: 0.6305663996856207 and parameters: {'wc': 11.117500410276495}. Best is trial 5 with value: 0.7192345379428006.\u001b[0m\n",
      "\u001b[32m[I 2023-06-15 23:17:01,536]\u001b[0m Trial 23 finished with value: 0.6110897263857752 and parameters: {'wc': 13.289485137221108}. Best is trial 5 with value: 0.7192345379428006.\u001b[0m\n",
      "\u001b[32m[I 2023-06-15 23:17:07,514]\u001b[0m Trial 24 finished with value: 0.702518768703995 and parameters: {'wc': 22.20335564160796}. Best is trial 5 with value: 0.7192345379428006.\u001b[0m\n",
      "\u001b[32m[I 2023-06-15 23:17:13,436]\u001b[0m Trial 25 finished with value: 0.723930124388198 and parameters: {'wc': 26.57965324512105}. Best is trial 25 with value: 0.723930124388198.\u001b[0m\n",
      "\u001b[32m[I 2023-06-15 23:17:18,874]\u001b[0m Trial 26 finished with value: 0.6341379183901868 and parameters: {'wc': 27.9653507227424}. Best is trial 25 with value: 0.723930124388198.\u001b[0m\n",
      "\u001b[32m[I 2023-06-15 23:17:24,778]\u001b[0m Trial 27 finished with value: 0.5620876386059672 and parameters: {'wc': 13.13906818045478}. Best is trial 25 with value: 0.723930124388198.\u001b[0m\n",
      "\u001b[32m[I 2023-06-15 23:17:30,179]\u001b[0m Trial 28 finished with value: 0.6752507341034466 and parameters: {'wc': 10.598816972015442}. Best is trial 25 with value: 0.723930124388198.\u001b[0m\n",
      "\u001b[32m[I 2023-06-15 23:17:35,813]\u001b[0m Trial 29 finished with value: 0.7212618285890493 and parameters: {'wc': 1.7196902829038934}. Best is trial 25 with value: 0.723930124388198.\u001b[0m\n",
      "\u001b[32m[I 2023-06-15 23:17:41,372]\u001b[0m Trial 30 finished with value: 0.5861673527795684 and parameters: {'wc': 18.093487075428058}. Best is trial 25 with value: 0.723930124388198.\u001b[0m\n",
      "\u001b[32m[I 2023-06-15 23:17:46,797]\u001b[0m Trial 31 finished with value: 0.6816587608649565 and parameters: {'wc': 1.6060793966656242}. Best is trial 25 with value: 0.723930124388198.\u001b[0m\n",
      "\u001b[32m[I 2023-06-15 23:17:52,577]\u001b[0m Trial 32 finished with value: 0.6816587608649565 and parameters: {'wc': 10.328775163804321}. Best is trial 25 with value: 0.723930124388198.\u001b[0m\n",
      "\u001b[32m[I 2023-06-15 23:17:58,110]\u001b[0m Trial 33 finished with value: 0.702518768703995 and parameters: {'wc': 5.581497157464689}. Best is trial 25 with value: 0.723930124388198.\u001b[0m\n",
      "\u001b[32m[I 2023-06-15 23:18:03,743]\u001b[0m Trial 34 finished with value: 0.736765710559109 and parameters: {'wc': 1.1932073767537532}. Best is trial 34 with value: 0.736765710559109.\u001b[0m\n",
      "\u001b[32m[I 2023-06-15 23:18:09,203]\u001b[0m Trial 35 finished with value: 0.7551734418062328 and parameters: {'wc': 16.830888403584673}. Best is trial 35 with value: 0.7551734418062328.\u001b[0m\n",
      "\u001b[32m[I 2023-06-15 23:18:14,779]\u001b[0m Trial 36 finished with value: 0.6527214186597798 and parameters: {'wc': 24.394020171563703}. Best is trial 35 with value: 0.7551734418062328.\u001b[0m\n",
      "\u001b[32m[I 2023-06-15 23:18:20,379]\u001b[0m Trial 37 finished with value: 0.7052431512496172 and parameters: {'wc': 16.67849121529619}. Best is trial 35 with value: 0.7551734418062328.\u001b[0m\n",
      "\u001b[32m[I 2023-06-15 23:18:26,007]\u001b[0m Trial 38 finished with value: 0.6477066775406368 and parameters: {'wc': 15.405517952981228}. Best is trial 35 with value: 0.7551734418062328.\u001b[0m\n",
      "\u001b[32m[I 2023-06-15 23:18:32,219]\u001b[0m Trial 39 finished with value: 0.6059774191458789 and parameters: {'wc': 22.430601286738288}. Best is trial 35 with value: 0.7551734418062328.\u001b[0m\n",
      "\u001b[32m[I 2023-06-15 23:18:38,177]\u001b[0m Trial 40 finished with value: 0.6816587608649565 and parameters: {'wc': 7.8422390517659935}. Best is trial 35 with value: 0.7551734418062328.\u001b[0m\n",
      "\u001b[32m[I 2023-06-15 23:18:44,717]\u001b[0m Trial 41 finished with value: 0.7085355735704717 and parameters: {'wc': 7.81487076523703}. Best is trial 35 with value: 0.7551734418062328.\u001b[0m\n",
      "\u001b[32m[I 2023-06-15 23:18:51,185]\u001b[0m Trial 42 finished with value: 0.6305663996856207 and parameters: {'wc': 15.566018402424282}. Best is trial 35 with value: 0.7551734418062328.\u001b[0m\n",
      "\u001b[32m[I 2023-06-15 23:18:56,488]\u001b[0m Trial 43 finished with value: 0.5563430507641606 and parameters: {'wc': 8.915235689167076}. Best is trial 35 with value: 0.7551734418062328.\u001b[0m\n",
      "\u001b[32m[I 2023-06-15 23:19:01,912]\u001b[0m Trial 44 finished with value: 0.6678895546045721 and parameters: {'wc': 18.87438125255458}. Best is trial 35 with value: 0.7551734418062328.\u001b[0m\n",
      "\u001b[32m[I 2023-06-15 23:19:08,099]\u001b[0m Trial 45 finished with value: 0.6678895546045721 and parameters: {'wc': 7.34801365759948}. Best is trial 35 with value: 0.7551734418062328.\u001b[0m\n",
      "\u001b[32m[I 2023-06-15 23:19:13,479]\u001b[0m Trial 46 finished with value: 0.5244744357561031 and parameters: {'wc': 52.7793321062236}. Best is trial 35 with value: 0.7551734418062328.\u001b[0m\n",
      "\u001b[32m[I 2023-06-15 23:19:18,606]\u001b[0m Trial 47 finished with value: 0.6713159994582244 and parameters: {'wc': 25.157805646076085}. Best is trial 35 with value: 0.7551734418062328.\u001b[0m\n",
      "\u001b[32m[I 2023-06-15 23:19:24,075]\u001b[0m Trial 48 finished with value: 0.5928154466729959 and parameters: {'wc': 33.91409797093627}. Best is trial 35 with value: 0.7551734418062328.\u001b[0m\n",
      "\u001b[32m[I 2023-06-15 23:19:29,332]\u001b[0m Trial 49 finished with value: 0.646316514733941 and parameters: {'wc': 5.2902999760926654}. Best is trial 35 with value: 0.7551734418062328.\u001b[0m\n",
      "\u001b[32m[I 2023-06-15 23:19:34,595]\u001b[0m Trial 50 finished with value: 0.6119176648293406 and parameters: {'wc': 15.133259232041638}. Best is trial 35 with value: 0.7551734418062328.\u001b[0m\n",
      "\u001b[32m[I 2023-06-15 23:19:40,119]\u001b[0m Trial 51 finished with value: 0.7179444032223871 and parameters: {'wc': 1.0688169505844145}. Best is trial 35 with value: 0.7551734418062328.\u001b[0m\n",
      "\u001b[32m[I 2023-06-15 23:19:45,601]\u001b[0m Trial 52 finished with value: 0.7004455537055899 and parameters: {'wc': 1.0806214465508601}. Best is trial 35 with value: 0.7551734418062328.\u001b[0m\n",
      "\u001b[32m[I 2023-06-15 23:19:51,008]\u001b[0m Trial 53 finished with value: 0.7004455537055899 and parameters: {'wc': 5.336139110345643}. Best is trial 35 with value: 0.7551734418062328.\u001b[0m\n",
      "\u001b[32m[I 2023-06-15 23:19:56,030]\u001b[0m Trial 54 finished with value: 0.7271592996961346 and parameters: {'wc': 11.564382547463946}. Best is trial 35 with value: 0.7551734418062328.\u001b[0m\n",
      "\u001b[32m[I 2023-06-15 23:20:01,380]\u001b[0m Trial 55 finished with value: 0.6305663996856207 and parameters: {'wc': 10.370244947596305}. Best is trial 35 with value: 0.7551734418062328.\u001b[0m\n",
      "\u001b[32m[I 2023-06-15 23:20:06,370]\u001b[0m Trial 56 finished with value: 0.6243635992847332 and parameters: {'wc': 20.365464963389957}. Best is trial 35 with value: 0.7551734418062328.\u001b[0m\n",
      "\u001b[32m[I 2023-06-15 23:20:12,131]\u001b[0m Trial 57 finished with value: 0.6713159994582244 and parameters: {'wc': 13.599549934386093}. Best is trial 35 with value: 0.7551734418062328.\u001b[0m\n",
      "\u001b[32m[I 2023-06-15 23:20:17,714]\u001b[0m Trial 58 finished with value: 0.5928154466729959 and parameters: {'wc': 17.884644076064163}. Best is trial 35 with value: 0.7551734418062328.\u001b[0m\n",
      "\u001b[32m[I 2023-06-15 23:20:23,002]\u001b[0m Trial 59 finished with value: 0.6713159994582244 and parameters: {'wc': 4.875052796988565}. Best is trial 35 with value: 0.7551734418062328.\u001b[0m\n",
      "\u001b[32m[I 2023-06-15 23:20:28,274]\u001b[0m Trial 60 finished with value: 0.6012638600608388 and parameters: {'wc': 8.945710515833639}. Best is trial 35 with value: 0.7551734418062328.\u001b[0m\n",
      "\u001b[32m[I 2023-06-15 23:20:33,615]\u001b[0m Trial 61 finished with value: 0.6650457834144273 and parameters: {'wc': 3.726813637238908}. Best is trial 35 with value: 0.7551734418062328.\u001b[0m\n",
      "\u001b[32m[I 2023-06-15 23:20:38,856]\u001b[0m Trial 62 finished with value: 0.619737663094802 and parameters: {'wc': 11.947217181294576}. Best is trial 35 with value: 0.7551734418062328.\u001b[0m\n",
      "\u001b[32m[I 2023-06-15 23:20:43,905]\u001b[0m Trial 63 finished with value: 0.6611917885661791 and parameters: {'wc': 4.215561080658466}. Best is trial 35 with value: 0.7551734418062328.\u001b[0m\n",
      "\u001b[32m[I 2023-06-15 23:20:48,987]\u001b[0m Trial 64 finished with value: 0.619737663094802 and parameters: {'wc': 11.93338525020817}. Best is trial 35 with value: 0.7551734418062328.\u001b[0m\n",
      "\u001b[32m[I 2023-06-15 23:20:54,045]\u001b[0m Trial 65 finished with value: 0.6275925559759299 and parameters: {'wc': 7.643583752897893}. Best is trial 35 with value: 0.7551734418062328.\u001b[0m\n",
      "\u001b[32m[I 2023-06-15 23:20:59,332]\u001b[0m Trial 66 finished with value: 0.6305663996856207 and parameters: {'wc': 3.4961695057204203}. Best is trial 35 with value: 0.7551734418062328.\u001b[0m\n",
      "\u001b[32m[I 2023-06-15 23:21:04,410]\u001b[0m Trial 67 finished with value: 0.7380255606884549 and parameters: {'wc': 13.493775383350032}. Best is trial 35 with value: 0.7551734418062328.\u001b[0m\n",
      "\u001b[32m[I 2023-06-15 23:21:09,899]\u001b[0m Trial 68 finished with value: 0.6382274220903116 and parameters: {'wc': 16.036611119708162}. Best is trial 35 with value: 0.7551734418062328.\u001b[0m\n",
      "\u001b[32m[I 2023-06-15 23:21:15,152]\u001b[0m Trial 69 finished with value: 0.6477066775406368 and parameters: {'wc': 21.806117177512256}. Best is trial 35 with value: 0.7551734418062328.\u001b[0m\n",
      "\u001b[32m[I 2023-06-15 23:21:20,415]\u001b[0m Trial 70 finished with value: 0.6899209381423344 and parameters: {'wc': 10.936967663133403}. Best is trial 35 with value: 0.7551734418062328.\u001b[0m\n",
      "\u001b[32m[I 2023-06-15 23:21:25,432]\u001b[0m Trial 71 finished with value: 0.6678895546045721 and parameters: {'wc': 14.082942930573816}. Best is trial 35 with value: 0.7551734418062328.\u001b[0m\n",
      "\u001b[32m[I 2023-06-15 23:21:30,562]\u001b[0m Trial 72 finished with value: 0.6567320964411795 and parameters: {'wc': 7.102150847480555}. Best is trial 35 with value: 0.7551734418062328.\u001b[0m\n",
      "\u001b[32m[I 2023-06-15 23:21:35,487]\u001b[0m Trial 73 finished with value: 0.7004455537055899 and parameters: {'wc': 18.393061700597944}. Best is trial 35 with value: 0.7551734418062328.\u001b[0m\n",
      "\u001b[32m[I 2023-06-15 23:21:40,392]\u001b[0m Trial 74 finished with value: 0.6628743279898675 and parameters: {'wc': 10.385241871641872}. Best is trial 35 with value: 0.7551734418062328.\u001b[0m\n",
      "\u001b[32m[I 2023-06-15 23:21:45,493]\u001b[0m Trial 75 finished with value: 0.7179444032223871 and parameters: {'wc': 3.559736437962165}. Best is trial 35 with value: 0.7551734418062328.\u001b[0m\n",
      "\u001b[32m[I 2023-06-15 23:21:50,770]\u001b[0m Trial 76 finished with value: 0.756818482953341 and parameters: {'wc': 13.151885856410988}. Best is trial 76 with value: 0.756818482953341.\u001b[0m\n",
      "\u001b[32m[I 2023-06-15 23:21:55,894]\u001b[0m Trial 77 finished with value: 0.649223900128209 and parameters: {'wc': 13.792262006377054}. Best is trial 76 with value: 0.756818482953341.\u001b[0m\n",
      "\u001b[32m[I 2023-06-15 23:22:00,852]\u001b[0m Trial 78 finished with value: 0.6713159994582244 and parameters: {'wc': 19.18903642825085}. Best is trial 76 with value: 0.756818482953341.\u001b[0m\n",
      "\u001b[32m[I 2023-06-15 23:22:05,968]\u001b[0m Trial 79 finished with value: 0.7052431512496172 and parameters: {'wc': 16.680184060585976}. Best is trial 76 with value: 0.756818482953341.\u001b[0m\n",
      "\u001b[32m[I 2023-06-15 23:22:10,919]\u001b[0m Trial 80 finished with value: 0.702518768703995 and parameters: {'wc': 9.059061671053858}. Best is trial 76 with value: 0.756818482953341.\u001b[0m\n",
      "\u001b[32m[I 2023-06-15 23:22:16,510]\u001b[0m Trial 81 finished with value: 0.7192345379428006 and parameters: {'wc': 1.011029947884719}. Best is trial 76 with value: 0.756818482953341.\u001b[0m\n",
      "\u001b[32m[I 2023-06-15 23:22:22,332]\u001b[0m Trial 82 finished with value: 0.6837799827372119 and parameters: {'wc': 6.642054339895347}. Best is trial 76 with value: 0.756818482953341.\u001b[0m\n",
      "\u001b[32m[I 2023-06-15 23:22:28,038]\u001b[0m Trial 83 finished with value: 0.6243635992847332 and parameters: {'wc': 13.326514702218182}. Best is trial 76 with value: 0.756818482953341.\u001b[0m\n",
      "\u001b[32m[I 2023-06-15 23:22:33,096]\u001b[0m Trial 84 finished with value: 0.6527214186597798 and parameters: {'wc': 6.298196153390516}. Best is trial 76 with value: 0.756818482953341.\u001b[0m\n",
      "\u001b[32m[I 2023-06-15 23:22:38,128]\u001b[0m Trial 85 finished with value: 0.6347609709561162 and parameters: {'wc': 9.409725271087256}. Best is trial 76 with value: 0.756818482953341.\u001b[0m\n",
      "\u001b[32m[I 2023-06-15 23:22:43,107]\u001b[0m Trial 86 finished with value: 0.6713159994582244 and parameters: {'wc': 24.361720152986674}. Best is trial 76 with value: 0.756818482953341.\u001b[0m\n",
      "\u001b[32m[I 2023-06-15 23:22:48,219]\u001b[0m Trial 87 finished with value: 0.7004455537055899 and parameters: {'wc': 2.713083868248073}. Best is trial 76 with value: 0.756818482953341.\u001b[0m\n",
      "\u001b[32m[I 2023-06-15 23:22:53,233]\u001b[0m Trial 88 finished with value: 0.6527214186597798 and parameters: {'wc': 11.986292115524446}. Best is trial 76 with value: 0.756818482953341.\u001b[0m\n",
      "\u001b[32m[I 2023-06-15 23:22:58,236]\u001b[0m Trial 89 finished with value: 0.6341379183901868 and parameters: {'wc': 15.527000795489748}. Best is trial 76 with value: 0.756818482953341.\u001b[0m\n",
      "\u001b[32m[I 2023-06-15 23:23:03,347]\u001b[0m Trial 90 finished with value: 0.6567320964411795 and parameters: {'wc': 5.890541882037328}. Best is trial 76 with value: 0.756818482953341.\u001b[0m\n",
      "\u001b[32m[I 2023-06-15 23:23:08,803]\u001b[0m Trial 91 finished with value: 0.7004455537055899 and parameters: {'wc': 1.3372337190711723}. Best is trial 76 with value: 0.756818482953341.\u001b[0m\n",
      "\u001b[32m[I 2023-06-15 23:23:14,120]\u001b[0m Trial 92 finished with value: 0.7192345379428006 and parameters: {'wc': 3.4547403047071956}. Best is trial 76 with value: 0.756818482953341.\u001b[0m\n",
      "\u001b[32m[I 2023-06-15 23:23:19,112]\u001b[0m Trial 93 finished with value: 0.646316514733941 and parameters: {'wc': 8.811171580093319}. Best is trial 76 with value: 0.756818482953341.\u001b[0m\n",
      "\u001b[32m[I 2023-06-15 23:23:24,213]\u001b[0m Trial 94 finished with value: 0.6837799827372119 and parameters: {'wc': 5.625454067870967}. Best is trial 76 with value: 0.756818482953341.\u001b[0m\n",
      "\u001b[32m[I 2023-06-15 23:23:29,425]\u001b[0m Trial 95 finished with value: 0.7179444032223871 and parameters: {'wc': 2.056578856743891}. Best is trial 76 with value: 0.756818482953341.\u001b[0m\n",
      "\u001b[32m[I 2023-06-15 23:23:34,548]\u001b[0m Trial 96 finished with value: 0.6527214186597798 and parameters: {'wc': 11.456731641316471}. Best is trial 76 with value: 0.756818482953341.\u001b[0m\n",
      "\u001b[32m[I 2023-06-15 23:23:39,461]\u001b[0m Trial 97 finished with value: 0.6816587608649565 and parameters: {'wc': 8.116513577176079}. Best is trial 76 with value: 0.756818482953341.\u001b[0m\n",
      "\u001b[32m[I 2023-06-15 23:23:44,603]\u001b[0m Trial 98 finished with value: 0.622322939139616 and parameters: {'wc': 20.648797174935655}. Best is trial 76 with value: 0.756818482953341.\u001b[0m\n",
      "\u001b[32m[I 2023-06-15 23:23:49,750]\u001b[0m Trial 99 finished with value: 0.6427687850418812 and parameters: {'wc': 4.4544313681446015}. Best is trial 76 with value: 0.756818482953341.\u001b[0m\n"
     ]
    }
   ],
   "source": [
    "import optuna\n",
    "from sklearn.metrics import average_precision_score\n",
    "\n",
    "def objective(trial):\n",
    "    cat_features = [0, 30, 31]\n",
    "    model = CatBoostClassifier(iterations=100,\n",
    "                            learning_rate=1,\n",
    "                            depth=4, verbose=False)\n",
    "    weight_coeff = trial.suggest_float('wc', 1.0, 100.0)\n",
    "    model.fit(X_train.drop(columns='Class'), X_train['Class'], cat_features, sample_weight=(X_train['Class'] * weight_coeff + np.uint32(X_train['Class'] == 0)))\n",
    "    preds_class = model.predict(X_val.drop(columns='Class'))\n",
    "    return average_precision_score(X_val['Class'], preds_class)\n",
    "\n",
    "\n",
    "study = optuna.create_study(direction='maximize')\n",
    "study.optimize(objective, n_trials=100)"
   ]
  },
  {
   "cell_type": "code",
   "execution_count": 214,
   "metadata": {},
   "outputs": [
    {
     "data": {
      "text/plain": [
       "{'wc': 13.151885856410988}"
      ]
     },
     "execution_count": 214,
     "metadata": {},
     "output_type": "execute_result"
    }
   ],
   "source": [
    "study.best_params"
   ]
  },
  {
   "cell_type": "code",
   "execution_count": 216,
   "metadata": {},
   "outputs": [
    {
     "name": "stderr",
     "output_type": "stream",
     "text": [
      "\u001b[32m[I 2023-06-15 23:57:01,434]\u001b[0m A new study created in memory with name: no-name-3b4e6617-a7c5-4259-a5da-78518a432a20\u001b[0m\n",
      "\u001b[32m[I 2023-06-15 23:57:01,484]\u001b[0m Trial 0 finished with value: 0.8578635968833646 and parameters: {'prob_threshold': 0.6532611619513213}. Best is trial 0 with value: 0.8578635968833646.\u001b[0m\n",
      "\u001b[32m[I 2023-06-15 23:57:01,532]\u001b[0m Trial 1 finished with value: 0.8242055888049206 and parameters: {'prob_threshold': 0.8662155036373123}. Best is trial 0 with value: 0.8578635968833646.\u001b[0m\n",
      "\u001b[32m[I 2023-06-15 23:57:01,574]\u001b[0m Trial 2 finished with value: 0.8467917789048397 and parameters: {'prob_threshold': 0.7966073826338668}. Best is trial 0 with value: 0.8578635968833646.\u001b[0m\n",
      "\u001b[32m[I 2023-06-15 23:57:01,617]\u001b[0m Trial 3 finished with value: 0.8126789775461831 and parameters: {'prob_threshold': 0.919827002563917}. Best is trial 0 with value: 0.8578635968833646.\u001b[0m\n",
      "\u001b[32m[I 2023-06-15 23:57:01,664]\u001b[0m Trial 4 finished with value: 0.7205781195912261 and parameters: {'prob_threshold': 0.05934627084090904}. Best is trial 0 with value: 0.8578635968833646.\u001b[0m\n",
      "\u001b[32m[I 2023-06-15 23:57:01,707]\u001b[0m Trial 5 finished with value: 0.8324091746236475 and parameters: {'prob_threshold': 0.24924943984115777}. Best is trial 0 with value: 0.8578635968833646.\u001b[0m\n",
      "\u001b[32m[I 2023-06-15 23:57:01,750]\u001b[0m Trial 6 finished with value: 0.8597776609525455 and parameters: {'prob_threshold': 0.4794605668280443}. Best is trial 6 with value: 0.8597776609525455.\u001b[0m\n",
      "\u001b[32m[I 2023-06-15 23:57:01,846]\u001b[0m Trial 7 finished with value: 0.8795924123599013 and parameters: {'prob_threshold': 0.5682578070562174}. Best is trial 7 with value: 0.8795924123599013.\u001b[0m\n",
      "\u001b[32m[I 2023-06-15 23:57:01,898]\u001b[0m Trial 8 finished with value: 0.8503581000977506 and parameters: {'prob_threshold': 0.44072629988038636}. Best is trial 7 with value: 0.8795924123599013.\u001b[0m\n",
      "\u001b[32m[I 2023-06-15 23:57:01,948]\u001b[0m Trial 9 finished with value: 0.73814401911066 and parameters: {'prob_threshold': 0.0990338848746305}. Best is trial 7 with value: 0.8795924123599013.\u001b[0m\n",
      "\u001b[32m[I 2023-06-15 23:57:01,998]\u001b[0m Trial 10 finished with value: 0.8578635968833646 and parameters: {'prob_threshold': 0.6679371586107001}. Best is trial 7 with value: 0.8795924123599013.\u001b[0m\n",
      "\u001b[32m[I 2023-06-15 23:57:02,047]\u001b[0m Trial 11 finished with value: 0.8503581000977506 and parameters: {'prob_threshold': 0.4510584410587082}. Best is trial 7 with value: 0.8795924123599013.\u001b[0m\n",
      "\u001b[32m[I 2023-06-15 23:57:02,095]\u001b[0m Trial 12 finished with value: 0.8795924123599013 and parameters: {'prob_threshold': 0.5510994516837882}. Best is trial 7 with value: 0.8795924123599013.\u001b[0m\n",
      "\u001b[32m[I 2023-06-15 23:57:02,143]\u001b[0m Trial 13 finished with value: 0.8687954085564791 and parameters: {'prob_threshold': 0.6260261964765389}. Best is trial 7 with value: 0.8795924123599013.\u001b[0m\n",
      "\u001b[32m[I 2023-06-15 23:57:02,193]\u001b[0m Trial 14 finished with value: 0.7891247961256485 and parameters: {'prob_threshold': 0.9936367980878391}. Best is trial 7 with value: 0.8795924123599013.\u001b[0m\n",
      "\u001b[32m[I 2023-06-15 23:57:02,244]\u001b[0m Trial 15 finished with value: 0.8412405413631789 and parameters: {'prob_threshold': 0.34782663795348795}. Best is trial 7 with value: 0.8795924123599013.\u001b[0m\n",
      "\u001b[32m[I 2023-06-15 23:57:02,294]\u001b[0m Trial 16 finished with value: 0.8687954085564791 and parameters: {'prob_threshold': 0.5813172445498744}. Best is trial 7 with value: 0.8795924123599013.\u001b[0m\n",
      "\u001b[32m[I 2023-06-15 23:57:02,341]\u001b[0m Trial 17 finished with value: 0.8467917789048397 and parameters: {'prob_threshold': 0.7832450307063451}. Best is trial 7 with value: 0.8795924123599013.\u001b[0m\n",
      "\u001b[32m[I 2023-06-15 23:57:02,389]\u001b[0m Trial 18 finished with value: 0.8795924123599013 and parameters: {'prob_threshold': 0.5718763603442606}. Best is trial 7 with value: 0.8795924123599013.\u001b[0m\n",
      "\u001b[32m[I 2023-06-15 23:57:02,438]\u001b[0m Trial 19 finished with value: 0.8467917789048397 and parameters: {'prob_threshold': 0.7309006011069283}. Best is trial 7 with value: 0.8795924123599013.\u001b[0m\n",
      "\u001b[32m[I 2023-06-15 23:57:02,486]\u001b[0m Trial 20 finished with value: 0.8795924123599013 and parameters: {'prob_threshold': 0.5353126071329241}. Best is trial 7 with value: 0.8795924123599013.\u001b[0m\n",
      "\u001b[32m[I 2023-06-15 23:57:02,533]\u001b[0m Trial 21 finished with value: 0.8795924123599013 and parameters: {'prob_threshold': 0.5588793373454093}. Best is trial 7 with value: 0.8795924123599013.\u001b[0m\n",
      "\u001b[32m[I 2023-06-15 23:57:02,579]\u001b[0m Trial 22 finished with value: 0.8578635968833646 and parameters: {'prob_threshold': 0.6897426933611208}. Best is trial 7 with value: 0.8795924123599013.\u001b[0m\n",
      "\u001b[32m[I 2023-06-15 23:57:02,629]\u001b[0m Trial 23 finished with value: 0.8795924123599013 and parameters: {'prob_threshold': 0.5457682816486716}. Best is trial 7 with value: 0.8795924123599013.\u001b[0m\n",
      "\u001b[32m[I 2023-06-15 23:57:02,675]\u001b[0m Trial 24 finished with value: 0.8503581000977506 and parameters: {'prob_threshold': 0.3792411651498633}. Best is trial 7 with value: 0.8795924123599013.\u001b[0m\n",
      "\u001b[32m[I 2023-06-15 23:57:02,723]\u001b[0m Trial 25 finished with value: 0.8795924123599013 and parameters: {'prob_threshold': 0.5762941356523552}. Best is trial 7 with value: 0.8795924123599013.\u001b[0m\n",
      "\u001b[32m[I 2023-06-15 23:57:02,772]\u001b[0m Trial 26 finished with value: 0.8687954085564791 and parameters: {'prob_threshold': 0.6283687968025143}. Best is trial 7 with value: 0.8795924123599013.\u001b[0m\n",
      "\u001b[32m[I 2023-06-15 23:57:02,822]\u001b[0m Trial 27 finished with value: 0.8597776609525455 and parameters: {'prob_threshold': 0.49599541969271205}. Best is trial 7 with value: 0.8795924123599013.\u001b[0m\n",
      "\u001b[32m[I 2023-06-15 23:57:02,869]\u001b[0m Trial 28 finished with value: 0.8467917789048397 and parameters: {'prob_threshold': 0.7397107104645543}. Best is trial 7 with value: 0.8795924123599013.\u001b[0m\n",
      "\u001b[32m[I 2023-06-15 23:57:02,918]\u001b[0m Trial 29 finished with value: 0.8503581000977506 and parameters: {'prob_threshold': 0.3670132098975848}. Best is trial 7 with value: 0.8795924123599013.\u001b[0m\n",
      "\u001b[32m[I 2023-06-15 23:57:02,965]\u001b[0m Trial 30 finished with value: 0.8578635968833646 and parameters: {'prob_threshold': 0.6382273749965938}. Best is trial 7 with value: 0.8795924123599013.\u001b[0m\n",
      "\u001b[32m[I 2023-06-15 23:57:03,009]\u001b[0m Trial 31 finished with value: 0.8795924123599013 and parameters: {'prob_threshold': 0.5352285300919529}. Best is trial 7 with value: 0.8795924123599013.\u001b[0m\n",
      "\u001b[32m[I 2023-06-15 23:57:03,054]\u001b[0m Trial 32 finished with value: 0.8695162845951924 and parameters: {'prob_threshold': 0.5071610380123727}. Best is trial 7 with value: 0.8795924123599013.\u001b[0m\n",
      "\u001b[32m[I 2023-06-15 23:57:03,097]\u001b[0m Trial 33 finished with value: 0.8687954085564791 and parameters: {'prob_threshold': 0.5899216026004939}. Best is trial 7 with value: 0.8795924123599013.\u001b[0m\n",
      "\u001b[32m[I 2023-06-15 23:57:03,149]\u001b[0m Trial 34 finished with value: 0.8578635968833646 and parameters: {'prob_threshold': 0.6797717138682774}. Best is trial 7 with value: 0.8795924123599013.\u001b[0m\n",
      "\u001b[32m[I 2023-06-15 23:57:03,195]\u001b[0m Trial 35 finished with value: 0.8687954085564791 and parameters: {'prob_threshold': 0.6042667546879836}. Best is trial 7 with value: 0.8795924123599013.\u001b[0m\n",
      "\u001b[32m[I 2023-06-15 23:57:03,241]\u001b[0m Trial 36 finished with value: 0.8242055888049206 and parameters: {'prob_threshold': 0.8376079662859368}. Best is trial 7 with value: 0.8795924123599013.\u001b[0m\n",
      "\u001b[32m[I 2023-06-15 23:57:03,290]\u001b[0m Trial 37 finished with value: 0.8503581000977506 and parameters: {'prob_threshold': 0.42481743756696194}. Best is trial 7 with value: 0.8795924123599013.\u001b[0m\n",
      "\u001b[32m[I 2023-06-15 23:57:03,344]\u001b[0m Trial 38 finished with value: 0.8695162845951924 and parameters: {'prob_threshold': 0.5112884343477108}. Best is trial 7 with value: 0.8795924123599013.\u001b[0m\n",
      "\u001b[32m[I 2023-06-15 23:57:03,401]\u001b[0m Trial 39 finished with value: 0.8597776609525455 and parameters: {'prob_threshold': 0.4734562230113645}. Best is trial 7 with value: 0.8795924123599013.\u001b[0m\n",
      "\u001b[32m[I 2023-06-15 23:57:03,453]\u001b[0m Trial 40 finished with value: 0.8795924123599013 and parameters: {'prob_threshold': 0.5525715570319887}. Best is trial 7 with value: 0.8795924123599013.\u001b[0m\n",
      "\u001b[32m[I 2023-06-15 23:57:03,511]\u001b[0m Trial 41 finished with value: 0.8795924123599013 and parameters: {'prob_threshold': 0.5583588840508505}. Best is trial 7 with value: 0.8795924123599013.\u001b[0m\n",
      "\u001b[32m[I 2023-06-15 23:57:03,566]\u001b[0m Trial 42 finished with value: 0.8578635968833646 and parameters: {'prob_threshold': 0.6538729283687628}. Best is trial 7 with value: 0.8795924123599013.\u001b[0m\n",
      "\u001b[32m[I 2023-06-15 23:57:03,613]\u001b[0m Trial 43 finished with value: 0.8795924123599013 and parameters: {'prob_threshold': 0.5191696739645818}. Best is trial 7 with value: 0.8795924123599013.\u001b[0m\n",
      "\u001b[32m[I 2023-06-15 23:57:03,657]\u001b[0m Trial 44 finished with value: 0.8687954085564791 and parameters: {'prob_threshold': 0.6024571010582017}. Best is trial 7 with value: 0.8795924123599013.\u001b[0m\n",
      "\u001b[32m[I 2023-06-15 23:57:03,703]\u001b[0m Trial 45 finished with value: 0.8503581000977506 and parameters: {'prob_threshold': 0.433467383090191}. Best is trial 7 with value: 0.8795924123599013.\u001b[0m\n",
      "\u001b[32m[I 2023-06-15 23:57:03,752]\u001b[0m Trial 46 finished with value: 0.8578635968833646 and parameters: {'prob_threshold': 0.7030833530384362}. Best is trial 7 with value: 0.8795924123599013.\u001b[0m\n",
      "\u001b[32m[I 2023-06-15 23:57:03,799]\u001b[0m Trial 47 finished with value: 0.8687954085564791 and parameters: {'prob_threshold': 0.6376077360378873}. Best is trial 7 with value: 0.8795924123599013.\u001b[0m\n",
      "\u001b[32m[I 2023-06-15 23:57:03,852]\u001b[0m Trial 48 finished with value: 0.8503581000977506 and parameters: {'prob_threshold': 0.46126485030790315}. Best is trial 7 with value: 0.8795924123599013.\u001b[0m\n",
      "\u001b[32m[I 2023-06-15 23:57:03,907]\u001b[0m Trial 49 finished with value: 0.8795924123599013 and parameters: {'prob_threshold': 0.5738643008196698}. Best is trial 7 with value: 0.8795924123599013.\u001b[0m\n",
      "\u001b[32m[I 2023-06-15 23:57:03,961]\u001b[0m Trial 50 finished with value: 0.8795924123599013 and parameters: {'prob_threshold': 0.525259488945098}. Best is trial 7 with value: 0.8795924123599013.\u001b[0m\n",
      "\u001b[32m[I 2023-06-15 23:57:04,015]\u001b[0m Trial 51 finished with value: 0.8795924123599013 and parameters: {'prob_threshold': 0.5446343653274096}. Best is trial 7 with value: 0.8795924123599013.\u001b[0m\n",
      "\u001b[32m[I 2023-06-15 23:57:04,066]\u001b[0m Trial 52 finished with value: 0.8597776609525455 and parameters: {'prob_threshold': 0.4839309190287201}. Best is trial 7 with value: 0.8795924123599013.\u001b[0m\n",
      "\u001b[32m[I 2023-06-15 23:57:04,115]\u001b[0m Trial 53 finished with value: 0.8687954085564791 and parameters: {'prob_threshold': 0.5911973865404636}. Best is trial 7 with value: 0.8795924123599013.\u001b[0m\n",
      "\u001b[32m[I 2023-06-15 23:57:04,162]\u001b[0m Trial 54 finished with value: 0.8578635968833646 and parameters: {'prob_threshold': 0.6543308638596372}. Best is trial 7 with value: 0.8795924123599013.\u001b[0m\n",
      "\u001b[32m[I 2023-06-15 23:57:04,206]\u001b[0m Trial 55 finished with value: 0.8795924123599013 and parameters: {'prob_threshold': 0.5425911878872316}. Best is trial 7 with value: 0.8795924123599013.\u001b[0m\n",
      "\u001b[32m[I 2023-06-15 23:57:04,256]\u001b[0m Trial 56 finished with value: 0.8503581000977506 and parameters: {'prob_threshold': 0.4098408356328069}. Best is trial 7 with value: 0.8795924123599013.\u001b[0m\n",
      "\u001b[32m[I 2023-06-15 23:57:04,304]\u001b[0m Trial 57 finished with value: 0.8597776609525455 and parameters: {'prob_threshold': 0.46922237113985593}. Best is trial 7 with value: 0.8795924123599013.\u001b[0m\n",
      "\u001b[32m[I 2023-06-15 23:57:04,350]\u001b[0m Trial 58 finished with value: 0.8687954085564791 and parameters: {'prob_threshold': 0.615343663063142}. Best is trial 7 with value: 0.8795924123599013.\u001b[0m\n",
      "\u001b[32m[I 2023-06-15 23:57:04,396]\u001b[0m Trial 59 finished with value: 0.8597776609525455 and parameters: {'prob_threshold': 0.4943134405556762}. Best is trial 7 with value: 0.8795924123599013.\u001b[0m\n",
      "\u001b[32m[I 2023-06-15 23:57:04,442]\u001b[0m Trial 60 finished with value: 0.8795924123599013 and parameters: {'prob_threshold': 0.5722879924858632}. Best is trial 7 with value: 0.8795924123599013.\u001b[0m\n",
      "\u001b[32m[I 2023-06-15 23:57:04,534]\u001b[0m Trial 61 finished with value: 0.8795924123599013 and parameters: {'prob_threshold': 0.5669637987475752}. Best is trial 7 with value: 0.8795924123599013.\u001b[0m\n",
      "\u001b[32m[I 2023-06-15 23:57:04,583]\u001b[0m Trial 62 finished with value: 0.8687954085564791 and parameters: {'prob_threshold': 0.6083728036468894}. Best is trial 7 with value: 0.8795924123599013.\u001b[0m\n",
      "\u001b[32m[I 2023-06-15 23:57:04,635]\u001b[0m Trial 63 finished with value: 0.8795924123599013 and parameters: {'prob_threshold': 0.5250732245246814}. Best is trial 7 with value: 0.8795924123599013.\u001b[0m\n",
      "\u001b[32m[I 2023-06-15 23:57:04,682]\u001b[0m Trial 64 finished with value: 0.8578635968833646 and parameters: {'prob_threshold': 0.6800790458034569}. Best is trial 7 with value: 0.8795924123599013.\u001b[0m\n",
      "\u001b[32m[I 2023-06-15 23:57:04,728]\u001b[0m Trial 65 finished with value: 0.8687954085564791 and parameters: {'prob_threshold': 0.6326265427347709}. Best is trial 7 with value: 0.8795924123599013.\u001b[0m\n",
      "\u001b[32m[I 2023-06-15 23:57:04,779]\u001b[0m Trial 66 finished with value: 0.8597776609525455 and parameters: {'prob_threshold': 0.49387170679979864}. Best is trial 7 with value: 0.8795924123599013.\u001b[0m\n",
      "\u001b[32m[I 2023-06-15 23:57:04,827]\u001b[0m Trial 67 finished with value: 0.8687954085564791 and parameters: {'prob_threshold': 0.5910356030184855}. Best is trial 7 with value: 0.8795924123599013.\u001b[0m\n",
      "\u001b[32m[I 2023-06-15 23:57:04,874]\u001b[0m Trial 68 finished with value: 0.8503581000977506 and parameters: {'prob_threshold': 0.4473298166266154}. Best is trial 7 with value: 0.8795924123599013.\u001b[0m\n",
      "\u001b[32m[I 2023-06-15 23:57:04,923]\u001b[0m Trial 69 finished with value: 0.8795924123599013 and parameters: {'prob_threshold': 0.5520887415031885}. Best is trial 7 with value: 0.8795924123599013.\u001b[0m\n",
      "\u001b[32m[I 2023-06-15 23:57:04,969]\u001b[0m Trial 70 finished with value: 0.8467917789048397 and parameters: {'prob_threshold': 0.7080252586142259}. Best is trial 7 with value: 0.8795924123599013.\u001b[0m\n",
      "\u001b[32m[I 2023-06-15 23:57:05,016]\u001b[0m Trial 71 finished with value: 0.8795924123599013 and parameters: {'prob_threshold': 0.5374973283242431}. Best is trial 7 with value: 0.8795924123599013.\u001b[0m\n",
      "\u001b[32m[I 2023-06-15 23:57:05,064]\u001b[0m Trial 72 finished with value: 0.8695162845951924 and parameters: {'prob_threshold': 0.5129702957403304}. Best is trial 7 with value: 0.8795924123599013.\u001b[0m\n",
      "\u001b[32m[I 2023-06-15 23:57:05,112]\u001b[0m Trial 73 finished with value: 0.8795924123599013 and parameters: {'prob_threshold': 0.5734834456176747}. Best is trial 7 with value: 0.8795924123599013.\u001b[0m\n",
      "\u001b[32m[I 2023-06-15 23:57:05,159]\u001b[0m Trial 74 finished with value: 0.8578635968833646 and parameters: {'prob_threshold': 0.6555862033518695}. Best is trial 7 with value: 0.8795924123599013.\u001b[0m\n",
      "\u001b[32m[I 2023-06-15 23:57:05,207]\u001b[0m Trial 75 finished with value: 0.8687954085564791 and parameters: {'prob_threshold': 0.6175253353680927}. Best is trial 7 with value: 0.8795924123599013.\u001b[0m\n",
      "\u001b[32m[I 2023-06-15 23:57:05,253]\u001b[0m Trial 76 finished with value: 0.8795924123599013 and parameters: {'prob_threshold': 0.5303996692237855}. Best is trial 7 with value: 0.8795924123599013.\u001b[0m\n",
      "\u001b[32m[I 2023-06-15 23:57:05,298]\u001b[0m Trial 77 finished with value: 0.8695162845951924 and parameters: {'prob_threshold': 0.4991191714177043}. Best is trial 7 with value: 0.8795924123599013.\u001b[0m\n",
      "\u001b[32m[I 2023-06-15 23:57:05,347]\u001b[0m Trial 78 finished with value: 0.8597776609525455 and parameters: {'prob_threshold': 0.46605437804769667}. Best is trial 7 with value: 0.8795924123599013.\u001b[0m\n",
      "\u001b[32m[I 2023-06-15 23:57:05,395]\u001b[0m Trial 79 finished with value: 0.8687954085564791 and parameters: {'prob_threshold': 0.5853488180069745}. Best is trial 7 with value: 0.8795924123599013.\u001b[0m\n",
      "\u001b[32m[I 2023-06-15 23:57:05,441]\u001b[0m Trial 80 finished with value: 0.8795924123599013 and parameters: {'prob_threshold': 0.5581965737017465}. Best is trial 7 with value: 0.8795924123599013.\u001b[0m\n",
      "\u001b[32m[I 2023-06-15 23:57:05,486]\u001b[0m Trial 81 finished with value: 0.8795924123599013 and parameters: {'prob_threshold': 0.5550819291453548}. Best is trial 7 with value: 0.8795924123599013.\u001b[0m\n",
      "\u001b[32m[I 2023-06-15 23:57:05,533]\u001b[0m Trial 82 finished with value: 0.8687954085564791 and parameters: {'prob_threshold': 0.6248782582285509}. Best is trial 7 with value: 0.8795924123599013.\u001b[0m\n",
      "\u001b[32m[I 2023-06-15 23:57:05,580]\u001b[0m Trial 83 finished with value: 0.8795924123599013 and parameters: {'prob_threshold': 0.5236982679490885}. Best is trial 7 with value: 0.8795924123599013.\u001b[0m\n",
      "\u001b[32m[I 2023-06-15 23:57:05,628]\u001b[0m Trial 84 finished with value: 0.8687954085564791 and parameters: {'prob_threshold': 0.5950071562842764}. Best is trial 7 with value: 0.8795924123599013.\u001b[0m\n",
      "\u001b[32m[I 2023-06-15 23:57:05,679]\u001b[0m Trial 85 finished with value: 0.8795924123599013 and parameters: {'prob_threshold': 0.5495579649628957}. Best is trial 7 with value: 0.8795924123599013.\u001b[0m\n",
      "\u001b[32m[I 2023-06-15 23:57:05,726]\u001b[0m Trial 86 finished with value: 0.8597776609525455 and parameters: {'prob_threshold': 0.48590861191432955}. Best is trial 7 with value: 0.8795924123599013.\u001b[0m\n",
      "\u001b[32m[I 2023-06-15 23:57:05,776]\u001b[0m Trial 87 finished with value: 0.8578635968833646 and parameters: {'prob_threshold': 0.6416161107963716}. Best is trial 7 with value: 0.8795924123599013.\u001b[0m\n",
      "\u001b[32m[I 2023-06-15 23:57:05,820]\u001b[0m Trial 88 finished with value: 0.8578635968833646 and parameters: {'prob_threshold': 0.6682665651975441}. Best is trial 7 with value: 0.8795924123599013.\u001b[0m\n",
      "\u001b[32m[I 2023-06-15 23:57:05,865]\u001b[0m Trial 89 finished with value: 0.8695162845951924 and parameters: {'prob_threshold': 0.509250602844462}. Best is trial 7 with value: 0.8795924123599013.\u001b[0m\n",
      "\u001b[32m[I 2023-06-15 23:57:05,914]\u001b[0m Trial 90 finished with value: 0.8687954085564791 and parameters: {'prob_threshold': 0.5987185567631241}. Best is trial 7 with value: 0.8795924123599013.\u001b[0m\n",
      "\u001b[32m[I 2023-06-15 23:57:05,965]\u001b[0m Trial 91 finished with value: 0.8795924123599013 and parameters: {'prob_threshold': 0.5677830018919191}. Best is trial 7 with value: 0.8795924123599013.\u001b[0m\n",
      "\u001b[32m[I 2023-06-15 23:57:06,013]\u001b[0m Trial 92 finished with value: 0.8795924123599013 and parameters: {'prob_threshold': 0.5391063507380444}. Best is trial 7 with value: 0.8795924123599013.\u001b[0m\n",
      "\u001b[32m[I 2023-06-15 23:57:06,059]\u001b[0m Trial 93 finished with value: 0.8795924123599013 and parameters: {'prob_threshold': 0.5745264649513798}. Best is trial 7 with value: 0.8795924123599013.\u001b[0m\n",
      "\u001b[32m[I 2023-06-15 23:57:06,106]\u001b[0m Trial 94 finished with value: 0.8687954085564791 and parameters: {'prob_threshold': 0.6156741593029421}. Best is trial 7 with value: 0.8795924123599013.\u001b[0m\n",
      "\u001b[32m[I 2023-06-15 23:57:06,154]\u001b[0m Trial 95 finished with value: 0.8597776609525455 and parameters: {'prob_threshold': 0.47990490588997053}. Best is trial 7 with value: 0.8795924123599013.\u001b[0m\n",
      "\u001b[32m[I 2023-06-15 23:57:06,199]\u001b[0m Trial 96 finished with value: 0.8503581000977506 and parameters: {'prob_threshold': 0.45346661573627817}. Best is trial 7 with value: 0.8795924123599013.\u001b[0m\n",
      "\u001b[32m[I 2023-06-15 23:57:06,248]\u001b[0m Trial 97 finished with value: 0.8695162845951924 and parameters: {'prob_threshold': 0.5122608805839356}. Best is trial 7 with value: 0.8795924123599013.\u001b[0m\n",
      "\u001b[32m[I 2023-06-15 23:57:06,294]\u001b[0m Trial 98 finished with value: 0.8795924123599013 and parameters: {'prob_threshold': 0.5398269562647637}. Best is trial 7 with value: 0.8795924123599013.\u001b[0m\n",
      "\u001b[32m[I 2023-06-15 23:57:06,345]\u001b[0m Trial 99 finished with value: 0.8795924123599013 and parameters: {'prob_threshold': 0.5613176111220625}. Best is trial 7 with value: 0.8795924123599013.\u001b[0m\n",
      "\u001b[32m[I 2023-06-15 23:57:06,392]\u001b[0m Trial 100 finished with value: 0.8687954085564791 and parameters: {'prob_threshold': 0.6015480441170071}. Best is trial 7 with value: 0.8795924123599013.\u001b[0m\n",
      "\u001b[32m[I 2023-06-15 23:57:06,438]\u001b[0m Trial 101 finished with value: 0.8795924123599013 and parameters: {'prob_threshold': 0.5213261989659879}. Best is trial 7 with value: 0.8795924123599013.\u001b[0m\n",
      "\u001b[32m[I 2023-06-15 23:57:06,484]\u001b[0m Trial 102 finished with value: 0.8687954085564791 and parameters: {'prob_threshold': 0.5811328361899515}. Best is trial 7 with value: 0.8795924123599013.\u001b[0m\n",
      "\u001b[32m[I 2023-06-15 23:57:06,530]\u001b[0m Trial 103 finished with value: 0.8795924123599013 and parameters: {'prob_threshold': 0.5472275393334903}. Best is trial 7 with value: 0.8795924123599013.\u001b[0m\n",
      "\u001b[32m[I 2023-06-15 23:57:06,576]\u001b[0m Trial 104 finished with value: 0.8597776609525455 and parameters: {'prob_threshold': 0.4976794849600645}. Best is trial 7 with value: 0.8795924123599013.\u001b[0m\n",
      "\u001b[32m[I 2023-06-15 23:57:06,624]\u001b[0m Trial 105 finished with value: 0.8597776609525455 and parameters: {'prob_threshold': 0.4765489931772658}. Best is trial 7 with value: 0.8795924123599013.\u001b[0m\n",
      "\u001b[32m[I 2023-06-15 23:57:06,671]\u001b[0m Trial 106 finished with value: 0.8687954085564791 and parameters: {'prob_threshold': 0.6279474461029038}. Best is trial 7 with value: 0.8795924123599013.\u001b[0m\n",
      "\u001b[32m[I 2023-06-15 23:57:06,716]\u001b[0m Trial 107 finished with value: 0.8795924123599013 and parameters: {'prob_threshold': 0.5257426818828601}. Best is trial 7 with value: 0.8795924123599013.\u001b[0m\n",
      "\u001b[32m[I 2023-06-15 23:57:06,762]\u001b[0m Trial 108 finished with value: 0.8687954085564791 and parameters: {'prob_threshold': 0.5799951037753934}. Best is trial 7 with value: 0.8795924123599013.\u001b[0m\n",
      "\u001b[32m[I 2023-06-15 23:57:06,808]\u001b[0m Trial 109 finished with value: 0.8503581000977506 and parameters: {'prob_threshold': 0.4358845618504212}. Best is trial 7 with value: 0.8795924123599013.\u001b[0m\n",
      "\u001b[32m[I 2023-06-15 23:57:06,856]\u001b[0m Trial 110 finished with value: 0.8795924123599013 and parameters: {'prob_threshold': 0.5543579669159542}. Best is trial 7 with value: 0.8795924123599013.\u001b[0m\n",
      "\u001b[32m[I 2023-06-15 23:57:06,906]\u001b[0m Trial 111 finished with value: 0.8795924123599013 and parameters: {'prob_threshold': 0.5668082355394286}. Best is trial 7 with value: 0.8795924123599013.\u001b[0m\n",
      "\u001b[32m[I 2023-06-15 23:57:06,953]\u001b[0m Trial 112 finished with value: 0.8687954085564791 and parameters: {'prob_threshold': 0.6051418602521008}. Best is trial 7 with value: 0.8795924123599013.\u001b[0m\n",
      "\u001b[32m[I 2023-06-15 23:57:07,000]\u001b[0m Trial 113 finished with value: 0.8795924123599013 and parameters: {'prob_threshold': 0.5345893930905865}. Best is trial 7 with value: 0.8795924123599013.\u001b[0m\n",
      "\u001b[32m[I 2023-06-15 23:57:07,047]\u001b[0m Trial 114 finished with value: 0.8695162845951924 and parameters: {'prob_threshold': 0.5149612256146764}. Best is trial 7 with value: 0.8795924123599013.\u001b[0m\n",
      "\u001b[32m[I 2023-06-15 23:57:07,095]\u001b[0m Trial 115 finished with value: 0.8597776609525455 and parameters: {'prob_threshold': 0.49834233565616615}. Best is trial 7 with value: 0.8795924123599013.\u001b[0m\n",
      "\u001b[32m[I 2023-06-15 23:57:07,141]\u001b[0m Trial 116 finished with value: 0.8687954085564791 and parameters: {'prob_threshold': 0.5865140042777297}. Best is trial 7 with value: 0.8795924123599013.\u001b[0m\n",
      "\u001b[32m[I 2023-06-15 23:57:07,189]\u001b[0m Trial 117 finished with value: 0.8795924123599013 and parameters: {'prob_threshold': 0.5617236493443913}. Best is trial 7 with value: 0.8795924123599013.\u001b[0m\n",
      "\u001b[32m[I 2023-06-15 23:57:07,235]\u001b[0m Trial 118 finished with value: 0.8578635968833646 and parameters: {'prob_threshold': 0.6438681780566716}. Best is trial 7 with value: 0.8795924123599013.\u001b[0m\n",
      "\u001b[32m[I 2023-06-15 23:57:07,284]\u001b[0m Trial 119 finished with value: 0.8597776609525455 and parameters: {'prob_threshold': 0.46451139002154823}. Best is trial 7 with value: 0.8795924123599013.\u001b[0m\n",
      "\u001b[32m[I 2023-06-15 23:57:07,331]\u001b[0m Trial 120 finished with value: 0.8687954085564791 and parameters: {'prob_threshold': 0.6120038347886771}. Best is trial 7 with value: 0.8795924123599013.\u001b[0m\n",
      "\u001b[32m[I 2023-06-15 23:57:07,378]\u001b[0m Trial 121 finished with value: 0.8795924123599013 and parameters: {'prob_threshold': 0.5317062093489373}. Best is trial 7 with value: 0.8795924123599013.\u001b[0m\n",
      "\u001b[32m[I 2023-06-15 23:57:07,424]\u001b[0m Trial 122 finished with value: 0.8695162845951924 and parameters: {'prob_threshold': 0.5064334137361259}. Best is trial 7 with value: 0.8795924123599013.\u001b[0m\n",
      "\u001b[32m[I 2023-06-15 23:57:07,470]\u001b[0m Trial 123 finished with value: 0.8687954085564791 and parameters: {'prob_threshold': 0.5849328033673771}. Best is trial 7 with value: 0.8795924123599013.\u001b[0m\n",
      "\u001b[32m[I 2023-06-15 23:57:07,516]\u001b[0m Trial 124 finished with value: 0.8795924123599013 and parameters: {'prob_threshold': 0.545885312608678}. Best is trial 7 with value: 0.8795924123599013.\u001b[0m\n",
      "\u001b[32m[I 2023-06-15 23:57:07,600]\u001b[0m Trial 125 finished with value: 0.8795924123599013 and parameters: {'prob_threshold': 0.5321398383675799}. Best is trial 7 with value: 0.8795924123599013.\u001b[0m\n",
      "\u001b[32m[I 2023-06-15 23:57:07,651]\u001b[0m Trial 126 finished with value: 0.8597776609525455 and parameters: {'prob_threshold': 0.4848159591630694}. Best is trial 7 with value: 0.8795924123599013.\u001b[0m\n",
      "\u001b[32m[I 2023-06-15 23:57:07,703]\u001b[0m Trial 127 finished with value: 0.8795924123599013 and parameters: {'prob_threshold': 0.5736824638952186}. Best is trial 7 with value: 0.8795924123599013.\u001b[0m\n",
      "\u001b[32m[I 2023-06-15 23:57:07,749]\u001b[0m Trial 128 finished with value: 0.8687954085564791 and parameters: {'prob_threshold': 0.6201394819407664}. Best is trial 7 with value: 0.8795924123599013.\u001b[0m\n",
      "\u001b[32m[I 2023-06-15 23:57:07,795]\u001b[0m Trial 129 finished with value: 0.8795924123599013 and parameters: {'prob_threshold': 0.5555861430390318}. Best is trial 7 with value: 0.8795924123599013.\u001b[0m\n",
      "\u001b[32m[I 2023-06-15 23:57:07,840]\u001b[0m Trial 130 finished with value: 0.8795924123599013 and parameters: {'prob_threshold': 0.5168965357334636}. Best is trial 7 with value: 0.8795924123599013.\u001b[0m\n",
      "\u001b[32m[I 2023-06-15 23:57:07,889]\u001b[0m Trial 131 finished with value: 0.8687954085564791 and parameters: {'prob_threshold': 0.595132674110256}. Best is trial 7 with value: 0.8795924123599013.\u001b[0m\n",
      "\u001b[32m[I 2023-06-15 23:57:07,937]\u001b[0m Trial 132 finished with value: 0.8795924123599013 and parameters: {'prob_threshold': 0.5506082691686115}. Best is trial 7 with value: 0.8795924123599013.\u001b[0m\n",
      "\u001b[32m[I 2023-06-15 23:57:07,984]\u001b[0m Trial 133 finished with value: 0.8795924123599013 and parameters: {'prob_threshold': 0.5690974999509664}. Best is trial 7 with value: 0.8795924123599013.\u001b[0m\n",
      "\u001b[32m[I 2023-06-15 23:57:08,031]\u001b[0m Trial 134 finished with value: 0.8795924123599013 and parameters: {'prob_threshold': 0.5307110471977119}. Best is trial 7 with value: 0.8795924123599013.\u001b[0m\n",
      "\u001b[32m[I 2023-06-15 23:57:08,079]\u001b[0m Trial 135 finished with value: 0.8597776609525455 and parameters: {'prob_threshold': 0.4941982854864534}. Best is trial 7 with value: 0.8795924123599013.\u001b[0m\n",
      "\u001b[32m[I 2023-06-15 23:57:08,124]\u001b[0m Trial 136 finished with value: 0.8695162845951924 and parameters: {'prob_threshold': 0.5133493844234895}. Best is trial 7 with value: 0.8795924123599013.\u001b[0m\n",
      "\u001b[32m[I 2023-06-15 23:57:08,170]\u001b[0m Trial 137 finished with value: 0.8687954085564791 and parameters: {'prob_threshold': 0.5933070297710037}. Best is trial 7 with value: 0.8795924123599013.\u001b[0m\n",
      "\u001b[32m[I 2023-06-15 23:57:08,217]\u001b[0m Trial 138 finished with value: 0.8795924123599013 and parameters: {'prob_threshold': 0.5427572755941357}. Best is trial 7 with value: 0.8795924123599013.\u001b[0m\n",
      "\u001b[32m[I 2023-06-15 23:57:08,262]\u001b[0m Trial 139 finished with value: 0.8795924123599013 and parameters: {'prob_threshold': 0.5738806591514087}. Best is trial 7 with value: 0.8795924123599013.\u001b[0m\n",
      "\u001b[32m[I 2023-06-15 23:57:08,306]\u001b[0m Trial 140 finished with value: 0.8578635968833646 and parameters: {'prob_threshold': 0.6534067694523747}. Best is trial 7 with value: 0.8795924123599013.\u001b[0m\n",
      "\u001b[32m[I 2023-06-15 23:57:08,351]\u001b[0m Trial 141 finished with value: 0.8795924123599013 and parameters: {'prob_threshold': 0.5494545989894123}. Best is trial 7 with value: 0.8795924123599013.\u001b[0m\n",
      "\u001b[32m[I 2023-06-15 23:57:08,401]\u001b[0m Trial 142 finished with value: 0.8795924123599013 and parameters: {'prob_threshold': 0.5246512024936817}. Best is trial 7 with value: 0.8795924123599013.\u001b[0m\n",
      "\u001b[32m[I 2023-06-15 23:57:08,455]\u001b[0m Trial 143 finished with value: 0.8503581000977506 and parameters: {'prob_threshold': 0.46325359282549405}. Best is trial 7 with value: 0.8795924123599013.\u001b[0m\n",
      "\u001b[32m[I 2023-06-15 23:57:08,504]\u001b[0m Trial 144 finished with value: 0.8687954085564791 and parameters: {'prob_threshold': 0.6056604782676956}. Best is trial 7 with value: 0.8795924123599013.\u001b[0m\n",
      "\u001b[32m[I 2023-06-15 23:57:08,555]\u001b[0m Trial 145 finished with value: 0.8695162845951924 and parameters: {'prob_threshold': 0.5007154946195759}. Best is trial 7 with value: 0.8795924123599013.\u001b[0m\n",
      "\u001b[32m[I 2023-06-15 23:57:08,603]\u001b[0m Trial 146 finished with value: 0.8795924123599013 and parameters: {'prob_threshold': 0.5647858318860559}. Best is trial 7 with value: 0.8795924123599013.\u001b[0m\n",
      "\u001b[32m[I 2023-06-15 23:57:08,650]\u001b[0m Trial 147 finished with value: 0.8687954085564791 and parameters: {'prob_threshold': 0.6311655479097891}. Best is trial 7 with value: 0.8795924123599013.\u001b[0m\n",
      "\u001b[32m[I 2023-06-15 23:57:08,698]\u001b[0m Trial 148 finished with value: 0.8795924123599013 and parameters: {'prob_threshold': 0.5386105218895203}. Best is trial 7 with value: 0.8795924123599013.\u001b[0m\n",
      "\u001b[32m[I 2023-06-15 23:57:08,743]\u001b[0m Trial 149 finished with value: 0.8597776609525455 and parameters: {'prob_threshold': 0.4835542211490577}. Best is trial 7 with value: 0.8795924123599013.\u001b[0m\n",
      "\u001b[32m[I 2023-06-15 23:57:08,792]\u001b[0m Trial 150 finished with value: 0.8687954085564791 and parameters: {'prob_threshold': 0.584160436008216}. Best is trial 7 with value: 0.8795924123599013.\u001b[0m\n",
      "\u001b[32m[I 2023-06-15 23:57:08,838]\u001b[0m Trial 151 finished with value: 0.8795924123599013 and parameters: {'prob_threshold': 0.5628308507604332}. Best is trial 7 with value: 0.8795924123599013.\u001b[0m\n",
      "\u001b[32m[I 2023-06-15 23:57:08,888]\u001b[0m Trial 152 finished with value: 0.8795924123599013 and parameters: {'prob_threshold': 0.5152478996480533}. Best is trial 7 with value: 0.8795924123599013.\u001b[0m\n",
      "\u001b[32m[I 2023-06-15 23:57:08,935]\u001b[0m Trial 153 finished with value: 0.8795924123599013 and parameters: {'prob_threshold': 0.5460297623310295}. Best is trial 7 with value: 0.8795924123599013.\u001b[0m\n",
      "\u001b[32m[I 2023-06-15 23:57:08,982]\u001b[0m Trial 154 finished with value: 0.8687954085564791 and parameters: {'prob_threshold': 0.5793491826856634}. Best is trial 7 with value: 0.8795924123599013.\u001b[0m\n",
      "\u001b[32m[I 2023-06-15 23:57:09,026]\u001b[0m Trial 155 finished with value: 0.8687954085564791 and parameters: {'prob_threshold': 0.6033530673846862}. Best is trial 7 with value: 0.8795924123599013.\u001b[0m\n",
      "\u001b[32m[I 2023-06-15 23:57:09,072]\u001b[0m Trial 156 finished with value: 0.8795924123599013 and parameters: {'prob_threshold': 0.5286397954987788}. Best is trial 7 with value: 0.8795924123599013.\u001b[0m\n",
      "\u001b[32m[I 2023-06-15 23:57:09,119]\u001b[0m Trial 157 finished with value: 0.8795924123599013 and parameters: {'prob_threshold': 0.5622653206446399}. Best is trial 7 with value: 0.8795924123599013.\u001b[0m\n",
      "\u001b[32m[I 2023-06-15 23:57:09,166]\u001b[0m Trial 158 finished with value: 0.8687954085564791 and parameters: {'prob_threshold': 0.6196257870956008}. Best is trial 7 with value: 0.8795924123599013.\u001b[0m\n",
      "\u001b[32m[I 2023-06-15 23:57:09,210]\u001b[0m Trial 159 finished with value: 0.8695162845951924 and parameters: {'prob_threshold': 0.5011118261853128}. Best is trial 7 with value: 0.8795924123599013.\u001b[0m\n",
      "\u001b[32m[I 2023-06-15 23:57:09,256]\u001b[0m Trial 160 finished with value: 0.8687954085564791 and parameters: {'prob_threshold': 0.5852305875321316}. Best is trial 7 with value: 0.8795924123599013.\u001b[0m\n",
      "\u001b[32m[I 2023-06-15 23:57:09,303]\u001b[0m Trial 161 finished with value: 0.8795924123599013 and parameters: {'prob_threshold': 0.5518721515234094}. Best is trial 7 with value: 0.8795924123599013.\u001b[0m\n",
      "\u001b[32m[I 2023-06-15 23:57:09,352]\u001b[0m Trial 162 finished with value: 0.8795924123599013 and parameters: {'prob_threshold': 0.5733301053517307}. Best is trial 7 with value: 0.8795924123599013.\u001b[0m\n",
      "\u001b[32m[I 2023-06-15 23:57:09,402]\u001b[0m Trial 163 finished with value: 0.8795924123599013 and parameters: {'prob_threshold': 0.535506902916511}. Best is trial 7 with value: 0.8795924123599013.\u001b[0m\n",
      "\u001b[32m[I 2023-06-15 23:57:09,450]\u001b[0m Trial 164 finished with value: 0.8795924123599013 and parameters: {'prob_threshold': 0.5194425310747106}. Best is trial 7 with value: 0.8795924123599013.\u001b[0m\n",
      "\u001b[32m[I 2023-06-15 23:57:09,497]\u001b[0m Trial 165 finished with value: 0.8687954085564791 and parameters: {'prob_threshold': 0.6012729877450966}. Best is trial 7 with value: 0.8795924123599013.\u001b[0m\n",
      "\u001b[32m[I 2023-06-15 23:57:09,542]\u001b[0m Trial 166 finished with value: 0.8795924123599013 and parameters: {'prob_threshold': 0.5610686858638939}. Best is trial 7 with value: 0.8795924123599013.\u001b[0m\n",
      "\u001b[32m[I 2023-06-15 23:57:09,588]\u001b[0m Trial 167 finished with value: 0.8795924123599013 and parameters: {'prob_threshold': 0.5417904848803238}. Best is trial 7 with value: 0.8795924123599013.\u001b[0m\n",
      "\u001b[32m[I 2023-06-15 23:57:09,634]\u001b[0m Trial 168 finished with value: 0.8597776609525455 and parameters: {'prob_threshold': 0.48346028107961314}. Best is trial 7 with value: 0.8795924123599013.\u001b[0m\n",
      "\u001b[32m[I 2023-06-15 23:57:09,679]\u001b[0m Trial 169 finished with value: 0.8687954085564791 and parameters: {'prob_threshold': 0.585244939664143}. Best is trial 7 with value: 0.8795924123599013.\u001b[0m\n",
      "\u001b[32m[I 2023-06-15 23:57:09,725]\u001b[0m Trial 170 finished with value: 0.8695162845951924 and parameters: {'prob_threshold': 0.509544219395017}. Best is trial 7 with value: 0.8795924123599013.\u001b[0m\n",
      "\u001b[32m[I 2023-06-15 23:57:09,770]\u001b[0m Trial 171 finished with value: 0.8795924123599013 and parameters: {'prob_threshold': 0.5306106885078647}. Best is trial 7 with value: 0.8795924123599013.\u001b[0m\n",
      "\u001b[32m[I 2023-06-15 23:57:09,818]\u001b[0m Trial 172 finished with value: 0.8795924123599013 and parameters: {'prob_threshold': 0.567391528096892}. Best is trial 7 with value: 0.8795924123599013.\u001b[0m\n",
      "\u001b[32m[I 2023-06-15 23:57:09,864]\u001b[0m Trial 173 finished with value: 0.8795924123599013 and parameters: {'prob_threshold': 0.5519337647532353}. Best is trial 7 with value: 0.8795924123599013.\u001b[0m\n",
      "\u001b[32m[I 2023-06-15 23:57:09,910]\u001b[0m Trial 174 finished with value: 0.8795924123599013 and parameters: {'prob_threshold': 0.5250119402811886}. Best is trial 7 with value: 0.8795924123599013.\u001b[0m\n",
      "\u001b[32m[I 2023-06-15 23:57:09,954]\u001b[0m Trial 175 finished with value: 0.8687954085564791 and parameters: {'prob_threshold': 0.6078979450461388}. Best is trial 7 with value: 0.8795924123599013.\u001b[0m\n",
      "\u001b[32m[I 2023-06-15 23:57:10,000]\u001b[0m Trial 176 finished with value: 0.8597776609525455 and parameters: {'prob_threshold': 0.49766003067551046}. Best is trial 7 with value: 0.8795924123599013.\u001b[0m\n",
      "\u001b[32m[I 2023-06-15 23:57:10,045]\u001b[0m Trial 177 finished with value: 0.8795924123599013 and parameters: {'prob_threshold': 0.5744124682092352}. Best is trial 7 with value: 0.8795924123599013.\u001b[0m\n",
      "\u001b[32m[I 2023-06-15 23:57:10,091]\u001b[0m Trial 178 finished with value: 0.8795924123599013 and parameters: {'prob_threshold': 0.5491191331096409}. Best is trial 7 with value: 0.8795924123599013.\u001b[0m\n",
      "\u001b[32m[I 2023-06-15 23:57:10,141]\u001b[0m Trial 179 finished with value: 0.8795924123599013 and parameters: {'prob_threshold': 0.5166241005402628}. Best is trial 7 with value: 0.8795924123599013.\u001b[0m\n",
      "\u001b[32m[I 2023-06-15 23:57:10,196]\u001b[0m Trial 180 finished with value: 0.8503581000977506 and parameters: {'prob_threshold': 0.45640881428248103}. Best is trial 7 with value: 0.8795924123599013.\u001b[0m\n",
      "\u001b[32m[I 2023-06-15 23:57:10,242]\u001b[0m Trial 181 finished with value: 0.8795924123599013 and parameters: {'prob_threshold': 0.5405150029375501}. Best is trial 7 with value: 0.8795924123599013.\u001b[0m\n",
      "\u001b[32m[I 2023-06-15 23:57:10,292]\u001b[0m Trial 182 finished with value: 0.8795924123599013 and parameters: {'prob_threshold': 0.5645049685180378}. Best is trial 7 with value: 0.8795924123599013.\u001b[0m\n",
      "\u001b[32m[I 2023-06-15 23:57:10,339]\u001b[0m Trial 183 finished with value: 0.8687954085564791 and parameters: {'prob_threshold': 0.5879021917139922}. Best is trial 7 with value: 0.8795924123599013.\u001b[0m\n",
      "\u001b[32m[I 2023-06-15 23:57:10,422]\u001b[0m Trial 184 finished with value: 0.8795924123599013 and parameters: {'prob_threshold': 0.5511061122316336}. Best is trial 7 with value: 0.8795924123599013.\u001b[0m\n",
      "\u001b[32m[I 2023-06-15 23:57:10,479]\u001b[0m Trial 185 finished with value: 0.8795924123599013 and parameters: {'prob_threshold': 0.5304486971991994}. Best is trial 7 with value: 0.8795924123599013.\u001b[0m\n",
      "\u001b[32m[I 2023-06-15 23:57:10,526]\u001b[0m Trial 186 finished with value: 0.8687954085564791 and parameters: {'prob_threshold': 0.5854873686483516}. Best is trial 7 with value: 0.8795924123599013.\u001b[0m\n",
      "\u001b[32m[I 2023-06-15 23:57:10,574]\u001b[0m Trial 187 finished with value: 0.8687954085564791 and parameters: {'prob_threshold': 0.6236019034059336}. Best is trial 7 with value: 0.8795924123599013.\u001b[0m\n",
      "\u001b[32m[I 2023-06-15 23:57:10,622]\u001b[0m Trial 188 finished with value: 0.8695162845951924 and parameters: {'prob_threshold': 0.5059501025177602}. Best is trial 7 with value: 0.8795924123599013.\u001b[0m\n",
      "\u001b[32m[I 2023-06-15 23:57:10,672]\u001b[0m Trial 189 finished with value: 0.8795924123599013 and parameters: {'prob_threshold': 0.5596451227731017}. Best is trial 7 with value: 0.8795924123599013.\u001b[0m\n",
      "\u001b[32m[I 2023-06-15 23:57:10,723]\u001b[0m Trial 190 finished with value: 0.8597776609525455 and parameters: {'prob_threshold': 0.48028720938482133}. Best is trial 7 with value: 0.8795924123599013.\u001b[0m\n",
      "\u001b[32m[I 2023-06-15 23:57:10,774]\u001b[0m Trial 191 finished with value: 0.8795924123599013 and parameters: {'prob_threshold': 0.5356442831918086}. Best is trial 7 with value: 0.8795924123599013.\u001b[0m\n",
      "\u001b[32m[I 2023-06-15 23:57:10,826]\u001b[0m Trial 192 finished with value: 0.8795924123599013 and parameters: {'prob_threshold': 0.5199399700924866}. Best is trial 7 with value: 0.8795924123599013.\u001b[0m\n",
      "\u001b[32m[I 2023-06-15 23:57:10,878]\u001b[0m Trial 193 finished with value: 0.8795924123599013 and parameters: {'prob_threshold': 0.5715596755407811}. Best is trial 7 with value: 0.8795924123599013.\u001b[0m\n",
      "\u001b[32m[I 2023-06-15 23:57:10,931]\u001b[0m Trial 194 finished with value: 0.8795924123599013 and parameters: {'prob_threshold': 0.5461933801270149}. Best is trial 7 with value: 0.8795924123599013.\u001b[0m\n",
      "\u001b[32m[I 2023-06-15 23:57:10,982]\u001b[0m Trial 195 finished with value: 0.8687954085564791 and parameters: {'prob_threshold': 0.5998444954974953}. Best is trial 7 with value: 0.8795924123599013.\u001b[0m\n",
      "\u001b[32m[I 2023-06-15 23:57:11,030]\u001b[0m Trial 196 finished with value: 0.8795924123599013 and parameters: {'prob_threshold': 0.5356850734792277}. Best is trial 7 with value: 0.8795924123599013.\u001b[0m\n",
      "\u001b[32m[I 2023-06-15 23:57:11,080]\u001b[0m Trial 197 finished with value: 0.8795924123599013 and parameters: {'prob_threshold': 0.566093758837035}. Best is trial 7 with value: 0.8795924123599013.\u001b[0m\n",
      "\u001b[32m[I 2023-06-15 23:57:11,131]\u001b[0m Trial 198 finished with value: 0.8695162845951924 and parameters: {'prob_threshold': 0.5001549795798798}. Best is trial 7 with value: 0.8795924123599013.\u001b[0m\n",
      "\u001b[32m[I 2023-06-15 23:57:11,179]\u001b[0m Trial 199 finished with value: 0.8795924123599013 and parameters: {'prob_threshold': 0.5175693956490561}. Best is trial 7 with value: 0.8795924123599013.\u001b[0m\n"
     ]
    }
   ],
   "source": [
    "weight_coeff = 13.151885856410988\n",
    "cat_features = [0, 30, 31]\n",
    "model = CatBoostClassifier(iterations=100, learning_rate=1, depth=4, verbose=False)\n",
    "model.fit(X_train.drop(columns='Class'), X_train['Class'], cat_features, sample_weight=(X_train['Class'] * weight_coeff + np.uint32(X_train['Class'] == 0)))\n",
    "\n",
    "def objective(trial):\n",
    "    prob_threshold = trial.suggest_float('prob_threshold', 0.0, 1.0)\n",
    "    model.set_probability_threshold(prob_threshold)\n",
    "    preds_class = model.predict(X_val.drop(columns='Class'))\n",
    "    return mcc(X_val['Class'], preds_class)\n",
    "\n",
    "\n",
    "study = optuna.create_study(direction='maximize')\n",
    "study.optimize(objective, n_trials=200)"
   ]
  },
  {
   "cell_type": "code",
   "execution_count": 217,
   "metadata": {},
   "outputs": [
    {
     "data": {
      "text/plain": [
       "{'prob_threshold': 0.5682578070562174}"
      ]
     },
     "execution_count": 217,
     "metadata": {},
     "output_type": "execute_result"
    }
   ],
   "source": [
    "study.best_params"
   ]
  },
  {
   "cell_type": "code",
   "execution_count": 223,
   "metadata": {},
   "outputs": [],
   "source": [
    "cat_features = [0, 30, 31]\n",
    "model = CatBoostClassifier(iterations=100,\n",
    "                        learning_rate=1,\n",
    "                        depth=4, verbose=False)\n",
    "weight_coeff = 13.151885856410988\n",
    "prob_threshold = 0.5682578070562174\n",
    "model.fit(X_train.drop(columns='Class'), X_train['Class'], cat_features, sample_weight=(X_train['Class'] * weight_coeff + np.uint32(X_train['Class'] == 0)))\n",
    "model.set_probability_threshold(prob_threshold)"
   ]
  },
  {
   "cell_type": "code",
   "execution_count": 224,
   "metadata": {},
   "outputs": [
    {
     "name": "stdout",
     "output_type": "stream",
     "text": [
      "val kappa: 0.8747912638183588\n",
      "test kappa: 0.6508994009441134\n",
      "val mcc: 0.8795924123599013\n",
      "test mcc: 0.6510757523867478\n"
     ]
    }
   ],
   "source": [
    "print('val kappa:', kappa_coef(X_val['Class'], model.predict(X_val.drop(columns='Class'))))\n",
    "print('test kappa:', kappa_coef(X_test['Class'], model.predict(X_test.drop(columns='Class')))) \n",
    "print('val mcc:', mcc(X_val['Class'], model.predict(X_val.drop(columns='Class'))))\n",
    "print('test mcc:', mcc(X_test['Class'], model.predict(X_test.drop(columns='Class'))))"
   ]
  },
  {
   "attachments": {},
   "cell_type": "markdown",
   "metadata": {},
   "source": [
    "ну было лучше"
   ]
  },
  {
   "attachments": {},
   "cell_type": "markdown",
   "metadata": {
    "id": "6SaQ-j2Ss9BS"
   },
   "source": [
    "**Задание 2. (1 балл)**. На самом деле, то, что мы сейчас делали, очень схоже с другой распространенной техникой - оверсэмплингом. Фактически, мы можем продублировать все объекты минорного класса и получить тот же эффект, какой был бы при использовании веса, равного 2. Тем не менее, такой подход - это лишь малая часть того, что мы можем проделать с целью повысить число объектов минорного класса. \n",
    "\n",
    "Для продолжения работы установим библиотеку [imbalanced-learn](https://imbalanced-learn.org/stable/):"
   ]
  },
  {
   "cell_type": "code",
   "execution_count": 225,
   "metadata": {
    "id": "oHL5jywds9BS"
   },
   "outputs": [
    {
     "name": "stdout",
     "output_type": "stream",
     "text": [
      "Requirement already satisfied: imbalanced-learn in /Users/y.o.aksenov/miniconda3/envs/myenv/lib/python3.10/site-packages (0.10.1)\n",
      "Requirement already satisfied: numpy>=1.17.3 in /Users/y.o.aksenov/miniconda3/envs/myenv/lib/python3.10/site-packages (from imbalanced-learn) (1.24.3)\n",
      "Requirement already satisfied: scipy>=1.3.2 in /Users/y.o.aksenov/miniconda3/envs/myenv/lib/python3.10/site-packages (from imbalanced-learn) (1.10.1)\n",
      "Requirement already satisfied: scikit-learn>=1.0.2 in /Users/y.o.aksenov/miniconda3/envs/myenv/lib/python3.10/site-packages (from imbalanced-learn) (1.2.2)\n",
      "Requirement already satisfied: joblib>=1.1.1 in /Users/y.o.aksenov/miniconda3/envs/myenv/lib/python3.10/site-packages (from imbalanced-learn) (1.2.0)\n",
      "Requirement already satisfied: threadpoolctl>=2.0.0 in /Users/y.o.aksenov/miniconda3/envs/myenv/lib/python3.10/site-packages (from imbalanced-learn) (3.1.0)\n"
     ]
    }
   ],
   "source": [
    "!pip3 install imbalanced-learn"
   ]
  },
  {
   "attachments": {},
   "cell_type": "markdown",
   "metadata": {
    "id": "A-dF_oXps9BS"
   },
   "source": [
    "Первый метод, которым мы воспользуемся, называется SMOTE (его вы уже разбирали на лекции). Кратко напомним суть: мы выбираем случайного кандидата среди $k$ ближайших соседей объекта минорного класса, затем берем точку на отрезке между двумя объектами (т.е. выпуклую комбинацию со случайными коэффициентами) и добавляем в выборку. "
   ]
  },
  {
   "cell_type": "code",
   "execution_count": 13,
   "metadata": {
    "id": "EcWmeujGs9BS"
   },
   "outputs": [],
   "source": [
    "from imblearn.over_sampling import SMOTE"
   ]
  },
  {
   "attachments": {},
   "cell_type": "markdown",
   "metadata": {
    "id": "Pke-fWMGs9BT"
   },
   "source": [
    "Используйте SMOTE для ресэмплинга обучающей выборки, на новой выборке обучите модель (вес положительных объектов скалировать не нужно). Замерьте качество на тестовой выборке (**важно!** не преобразовывайте валидационную и тестовую выборку никак - мы не хотим отслеживать качество на объектах, которых в реальности не существует). Сравните полное выравнивание выборки с частичным (т.е. таким, что баланс классов улучшается, но не достигает равенства - скажем, 1:2 и 1:10)."
   ]
  },
  {
   "cell_type": "code",
   "execution_count": 239,
   "metadata": {
    "id": "xm3HED1ms9BT"
   },
   "outputs": [
    {
     "name": "stdout",
     "output_type": "stream",
     "text": [
      "val kappa: 0.5948034521180404\n",
      "test kappa: 0.3648422726109298\n",
      "val mcc: 0.6141151478845108\n",
      "test mcc: 0.42945223421131207\n"
     ]
    }
   ],
   "source": [
    "sm = SMOTE(random_state=42, sampling_strategy=1)\n",
    "X_res, y_res = sm.fit_resample(X_train.drop(columns='Class'), X_train['Class'])\n",
    "cat_features = [0, 30, 31]\n",
    "model = CatBoostClassifier(iterations=100,\n",
    "                            learning_rate=1,\n",
    "                            depth=4, verbose=False)\n",
    "model.fit(X_res, y_res, cat_features)\n",
    "print('val kappa:', kappa_coef(X_val['Class'], model.predict(X_val.drop(columns='Class'))))\n",
    "print('test kappa:', kappa_coef(X_test['Class'], model.predict(X_test.drop(columns='Class')))) \n",
    "print('val mcc:', mcc(X_val['Class'], model.predict(X_val.drop(columns='Class'))))\n",
    "print('test mcc:', mcc(X_test['Class'], model.predict(X_test.drop(columns='Class'))))"
   ]
  },
  {
   "cell_type": "code",
   "execution_count": 242,
   "metadata": {},
   "outputs": [
    {
     "name": "stdout",
     "output_type": "stream",
     "text": [
      "val kappa: 0.7316166515784653\n",
      "test kappa: 0.48431736970194456\n",
      "val mcc: 0.7326728959667881\n",
      "test mcc: 0.5137623933186871\n"
     ]
    }
   ],
   "source": [
    "sm = SMOTE(random_state=42, sampling_strategy=0.5)\n",
    "X_res, y_res = sm.fit_resample(X_train.drop(columns='Class'), X_train['Class'])\n",
    "cat_features = [0, 30, 31]\n",
    "model = CatBoostClassifier(iterations=100,\n",
    "                        learning_rate=1,\n",
    "                        depth=4, verbose=False)\n",
    "model.fit(X_res, y_res, cat_features)\n",
    "print('val kappa:', kappa_coef(X_val['Class'], model.predict(X_val.drop(columns='Class'))))\n",
    "print('test kappa:', kappa_coef(X_test['Class'], model.predict(X_test.drop(columns='Class')))) \n",
    "print('val mcc:', mcc(X_val['Class'], model.predict(X_val.drop(columns='Class'))))\n",
    "print('test mcc:', mcc(X_test['Class'], model.predict(X_test.drop(columns='Class'))))"
   ]
  },
  {
   "cell_type": "code",
   "execution_count": 243,
   "metadata": {},
   "outputs": [
    {
     "name": "stdout",
     "output_type": "stream",
     "text": [
      "val kappa: 0.7659154481338438\n",
      "test kappa: 0.6396882805812039\n",
      "val mcc: 0.7659490253650997\n",
      "test mcc: 0.6443525381406625\n"
     ]
    }
   ],
   "source": [
    "sm = SMOTE(random_state=42, sampling_strategy=0.1)\n",
    "X_res, y_res = sm.fit_resample(X_train.drop(columns='Class'), X_train['Class'])\n",
    "cat_features = [0, 30, 31]\n",
    "model = CatBoostClassifier(iterations=100,\n",
    "                        learning_rate=1,\n",
    "                        depth=4, verbose=False)\n",
    "\n",
    "model.fit(X_res, y_res, cat_features)\n",
    "print('val kappa:', kappa_coef(X_val['Class'], model.predict(X_val.drop(columns='Class'))))\n",
    "print('test kappa:', kappa_coef(X_test['Class'], model.predict(X_test.drop(columns='Class')))) \n",
    "print('val mcc:', mcc(X_val['Class'], model.predict(X_val.drop(columns='Class'))))\n",
    "print('test mcc:', mcc(X_test['Class'], model.predict(X_test.drop(columns='Class'))))"
   ]
  },
  {
   "attachments": {},
   "cell_type": "markdown",
   "metadata": {},
   "source": [
    "Видим, что если выравнивать не полностью, а на 1/10, то качество наилучшее. Но без выравнивания классов все равно лучше было... (мб выборка плохая поэтому такие странные результаты)"
   ]
  },
  {
   "attachments": {},
   "cell_type": "markdown",
   "metadata": {
    "id": "xvVG5osbs9BU"
   },
   "source": [
    "**Задание 3. (1 балл)**. До этого момента все наши решения концентрировались на работе с минорным классом. Теперь давайте попробуем зайти с другой стороны. Может быть, для восстановления закономерностей нам не нужно столько объектов мажорного класса, и они просто засоряют нам выборку лишней информацией?\n",
    "\n",
    "Для решения этой проблемы существуют методы андерсэмплинга. Самое простое, что можно придумать - удалять точки мажорного класса, пока мы не получим приемлемый баланс. Протестируйте следующий метод и постройте графики достигаемых значений метрик от баланса классов и от отношения размеров исходной и пересэмпленной выборки:"
   ]
  },
  {
   "cell_type": "code",
   "execution_count": 20,
   "metadata": {
    "id": "GZQymG9Rs9BU"
   },
   "outputs": [],
   "source": [
    "from imblearn.under_sampling import RandomUnderSampler\n",
    "from tqdm.notebook import tqdm"
   ]
  },
  {
   "cell_type": "code",
   "execution_count": 257,
   "metadata": {
    "id": "ZRysrdxhs9BU"
   },
   "outputs": [
    {
     "data": {
      "application/vnd.jupyter.widget-view+json": {
       "model_id": "adb74c86400c451a99b1a2895dfd22e3",
       "version_major": 2,
       "version_minor": 0
      },
      "text/plain": [
       "  0%|          | 0/50 [00:00<?, ?it/s]"
      ]
     },
     "metadata": {},
     "output_type": "display_data"
    },
    {
     "name": "stdout",
     "output_type": "stream",
     "text": [
      "best strategy: 0.1\n"
     ]
    }
   ],
   "source": [
    "best_mcc = 0.0\n",
    "best_strategy = None\n",
    "mcc_per_strategy = []\n",
    "\n",
    "for sampling_strategy in tqdm(np.linspace(0.1, 1, 50)):\n",
    "    sm = RandomUnderSampler(random_state=42, sampling_strategy=sampling_strategy)\n",
    "    X_res, y_res = sm.fit_resample(X_train.drop(columns='Class'), X_train['Class'])\n",
    "    cat_features = [0, 30, 31]\n",
    "    model = CatBoostClassifier(iterations=100,\n",
    "                            learning_rate=1,\n",
    "                            depth=4, verbose=False)\n",
    "    model.fit(X_res, y_res, cat_features)\n",
    "    preds_class = model.predict(X_val.drop(columns='Class'))\n",
    "    new_mcc = mcc(X_val['Class'], preds_class)\n",
    "    mcc_per_strategy.append(new_mcc)\n",
    "    if best_mcc < new_mcc:\n",
    "        best_mcc = new_mcc\n",
    "        best_strategy = sampling_strategy\n",
    "\n",
    "print('best strategy:', best_strategy)"
   ]
  },
  {
   "cell_type": "code",
   "execution_count": 258,
   "metadata": {},
   "outputs": [
    {
     "data": {
      "text/plain": [
       "[<matplotlib.lines.Line2D at 0x7f7cde618250>]"
      ]
     },
     "execution_count": 258,
     "metadata": {},
     "output_type": "execute_result"
    },
    {
     "data": {
      "image/png": "[encoded data removed]",
      "text/plain": [
       "<Figure size 640x480 with 1 Axes>"
      ]
     },
     "metadata": {},
     "output_type": "display_data"
    }
   ],
   "source": [
    "plt.plot(np.linspace(0.1, 1, 50), mcc_per_strategy)"
   ]
  },
  {
   "cell_type": "code",
   "execution_count": 259,
   "metadata": {},
   "outputs": [
    {
     "name": "stdout",
     "output_type": "stream",
     "text": [
      "val kappa: 0.5173097423279338\n",
      "test kappa: 0.27259181448136666\n",
      "val mcc: 0.5514837189843578\n",
      "test mcc: 0.3490950818396591\n"
     ]
    }
   ],
   "source": [
    "sampling_strategy = 0.1\n",
    "sm = RandomUnderSampler(random_state=42, sampling_strategy=sampling_strategy)\n",
    "X_res, y_res = sm.fit_resample(X_train.drop(columns='Class'), X_train['Class'])\n",
    "cat_features = [0, 30, 31]\n",
    "model = CatBoostClassifier(iterations=100,\n",
    "                        learning_rate=1,\n",
    "                        depth=4, verbose=False)\n",
    "model.fit(X_res, y_res, cat_features)\n",
    "\n",
    "print('val kappa:', kappa_coef(X_val['Class'], model.predict(X_val.drop(columns='Class'))))\n",
    "print('test kappa:', kappa_coef(X_test['Class'], model.predict(X_test.drop(columns='Class')))) \n",
    "print('val mcc:', mcc(X_val['Class'], model.predict(X_val.drop(columns='Class'))))\n",
    "print('test mcc:', mcc(X_test['Class'], model.predict(X_test.drop(columns='Class'))))"
   ]
  },
  {
   "attachments": {},
   "cell_type": "markdown",
   "metadata": {
    "id": "w-onGH2ts9BU"
   },
   "source": [
    "Даже такой наивный подход может дать относительно неплохие результаты и улучшить наши метрики. Тем не менее, сейчас мы никак не используем информацию о распределении объектов в выборке. Оказывается, что даже относительно простые эвристические правила могут заметно поднять нам качество - например, мы можем при отбрасывании использовать близость отдельных объектов мажорного класса к минорному и отбрасывать самые близкие. Протестируйте алгоритм [Near-Miss](https://www.site.uottawa.ca/~nat/Workshop2003/jzhang.pdf) на наших данных и постройте графики, аналогичные предыдущему пункту (также добавьте график с зависимостью качества от числа соседей)."
   ]
  },
  {
   "cell_type": "code",
   "execution_count": 276,
   "metadata": {
    "id": "FXhxPmEUs9BU",
    "scrolled": false
   },
   "outputs": [
    {
     "data": {
      "application/vnd.jupyter.widget-view+json": {
       "model_id": "2a11956cf11146f6bdd7d7355d7b6b57",
       "version_major": 2,
       "version_minor": 0
      },
      "text/plain": [
       "  0%|          | 0/50 [00:00<?, ?it/s]"
      ]
     },
     "metadata": {},
     "output_type": "display_data"
    },
    {
     "name": "stdout",
     "output_type": "stream",
     "text": [
      "best strategy: 0.15510204081632656\n"
     ]
    }
   ],
   "source": [
    "from imblearn.under_sampling import NearMiss\n",
    "\n",
    "best_mcc = 0.0\n",
    "best_strategy = None\n",
    "mcc_per_strategy = []\n",
    "\n",
    "for sampling_strategy in tqdm(np.linspace(0.1, 1, 50)):\n",
    "    sm = NearMiss(sampling_strategy=sampling_strategy)\n",
    "    X_res, y_res = sm.fit_resample(X_train.drop(columns='Class'), X_train['Class'])\n",
    "    cat_features = [0, 30, 31]\n",
    "    model = CatBoostClassifier(iterations=100,\n",
    "                            learning_rate=1,\n",
    "                            depth=4, verbose=False)\n",
    "    model.fit(X_res, y_res, cat_features)\n",
    "    preds_class = model.predict(X_val.drop(columns='Class'))\n",
    "    new_mcc = mcc(X_val['Class'], preds_class)\n",
    "    mcc_per_strategy.append(new_mcc)\n",
    "    if best_mcc < new_mcc:\n",
    "        best_mcc = new_mcc\n",
    "        best_strategy = sampling_strategy\n",
    "\n",
    "print('best strategy:', best_strategy)\n"
   ]
  },
  {
   "cell_type": "code",
   "execution_count": 277,
   "metadata": {},
   "outputs": [
    {
     "data": {
      "text/plain": [
       "[<matplotlib.lines.Line2D at 0x7f7cd87aac20>]"
      ]
     },
     "execution_count": 277,
     "metadata": {},
     "output_type": "execute_result"
    },
    {
     "data": {
      "image/png": "[encoded data removed]",
      "text/plain": [
       "<Figure size 640x480 with 1 Axes>"
      ]
     },
     "metadata": {},
     "output_type": "display_data"
    }
   ],
   "source": [
    "plt.plot(np.linspace(0.1, 1, 50), mcc_per_strategy)"
   ]
  },
  {
   "cell_type": "code",
   "execution_count": 265,
   "metadata": {},
   "outputs": [
    {
     "name": "stdout",
     "output_type": "stream",
     "text": [
      "val kappa: 0.01906350655477878\n",
      "test kappa: 0.00405425586083418\n",
      "val mcc: 0.09479734832847117\n",
      "test mcc: 0.04225343651945923\n"
     ]
    }
   ],
   "source": [
    "sampling_strategy = 0.15510204081632656\n",
    "sm = NearMiss(sampling_strategy=sampling_strategy)\n",
    "X_res, y_res = sm.fit_resample(X_train.drop(columns='Class'), X_train['Class'])\n",
    "cat_features = [0, 30, 31]\n",
    "model = CatBoostClassifier(iterations=100,\n",
    "                        learning_rate=1,\n",
    "                        depth=4, verbose=False)\n",
    "model.fit(X_res, y_res, cat_features)\n",
    "\n",
    "print('val kappa:', kappa_coef(X_val['Class'], model.predict(X_val.drop(columns='Class'))))\n",
    "print('test kappa:', kappa_coef(X_test['Class'], model.predict(X_test.drop(columns='Class')))) \n",
    "print('val mcc:', mcc(X_val['Class'], model.predict(X_val.drop(columns='Class'))))\n",
    "print('test mcc:', mcc(X_test['Class'], model.predict(X_test.drop(columns='Class'))))"
   ]
  },
  {
   "cell_type": "code",
   "execution_count": 278,
   "metadata": {},
   "outputs": [
    {
     "data": {
      "application/vnd.jupyter.widget-view+json": {
       "model_id": "dbe26ddf0ce1464b8d6956813b48836c",
       "version_major": 2,
       "version_minor": 0
      },
      "text/plain": [
       "  0%|          | 0/28 [00:00<?, ?it/s]"
      ]
     },
     "metadata": {},
     "output_type": "display_data"
    },
    {
     "name": "stdout",
     "output_type": "stream",
     "text": [
      "best n_neighbors: 3\n"
     ]
    }
   ],
   "source": [
    "best_mcc = 0.0\n",
    "best_n_neighbors = None\n",
    "mcc_per_strategy = []\n",
    "\n",
    "for n_neighbors in tqdm(np.arange(2, 30)):\n",
    "    sm = NearMiss(sampling_strategy=0.15510204081632656, n_neighbors=n_neighbors)\n",
    "    X_res, y_res = sm.fit_resample(X_train.drop(columns='Class'), X_train['Class'])\n",
    "    cat_features = [0, 30, 31]\n",
    "    model = CatBoostClassifier(iterations=100,\n",
    "                            learning_rate=1,\n",
    "                            depth=4, verbose=False)\n",
    "    model.fit(X_res, y_res, cat_features)\n",
    "    preds_class = model.predict(X_val.drop(columns='Class'))\n",
    "    new_mcc = mcc(X_val['Class'], preds_class)\n",
    "    mcc_per_strategy.append(new_mcc)\n",
    "    if best_mcc < new_mcc:\n",
    "        best_mcc = new_mcc\n",
    "        best_n_neighbors = n_neighbors\n",
    "\n",
    "print('best n_neighbors:', best_n_neighbors)\n"
   ]
  },
  {
   "cell_type": "code",
   "execution_count": 280,
   "metadata": {},
   "outputs": [
    {
     "data": {
      "text/plain": [
       "[<matplotlib.lines.Line2D at 0x7f7cd822b0a0>]"
      ]
     },
     "execution_count": 280,
     "metadata": {},
     "output_type": "execute_result"
    },
    {
     "data": {
      "image/png": "[encoded data removed]",
      "text/plain": [
       "<Figure size 640x480 with 1 Axes>"
      ]
     },
     "metadata": {},
     "output_type": "display_data"
    }
   ],
   "source": [
    "plt.plot(np.arange(2, 30), mcc_per_strategy)"
   ]
  },
  {
   "cell_type": "code",
   "execution_count": 281,
   "metadata": {},
   "outputs": [
    {
     "name": "stdout",
     "output_type": "stream",
     "text": [
      "val kappa: 8.6613285777801e-06\n",
      "test kappa: 2.773484575814603e-06\n",
      "val mcc: 0.0020810293231054064\n",
      "test mcc: 0.0011776010406602006\n"
     ]
    }
   ],
   "source": [
    "sm = NearMiss(sampling_strategy=0.15510204081632656, n_neighbors=n_neighbors)\n",
    "X_res, y_res = sm.fit_resample(X_train.drop(columns='Class'), X_train['Class'])\n",
    "cat_features = [0, 30, 31]\n",
    "model = CatBoostClassifier(iterations=100,\n",
    "                        learning_rate=1,\n",
    "                        depth=4, verbose=False)\n",
    "model.fit(X_res, y_res, cat_features)\n",
    "\n",
    "print('val kappa:', kappa_coef(X_val['Class'], model.predict(X_val.drop(columns='Class'))))\n",
    "print('test kappa:', kappa_coef(X_test['Class'], model.predict(X_test.drop(columns='Class')))) \n",
    "print('val mcc:', mcc(X_val['Class'], model.predict(X_val.drop(columns='Class'))))\n",
    "print('test mcc:', mcc(X_test['Class'], model.predict(X_test.drop(columns='Class'))))"
   ]
  },
  {
   "attachments": {},
   "cell_type": "markdown",
   "metadata": {},
   "source": [
    "че то все очень плохо"
   ]
  },
  {
   "attachments": {},
   "cell_type": "markdown",
   "metadata": {
    "id": "gBf-rrmcs9BV"
   },
   "source": [
    "# Часть 2. Поиск аномалий. "
   ]
  },
  {
   "attachments": {},
   "cell_type": "markdown",
   "metadata": {
    "id": "3UBhTHszs9BV"
   },
   "source": [
    "Как вы могли заметить, методы балансировки выборок очень часто могут привести к не самым лучшим результатам из-за того, что они по сути искажают информацию о реальном распределении данных - в реальности обычно требуется долгий подбор в принципе работоспособных для задачи методов и их аккуратная настройка. "
   ]
  },
  {
   "attachments": {},
   "cell_type": "markdown",
   "metadata": {
    "id": "HSYVXvmxs9BV"
   },
   "source": [
    "Теперь давайте попробуем слегка сменить постановку задачи и переключиться на задачу \"одноклассовой\" классификации, то есть - поиска *аномалий* в выборке. В общем-то, это вполне согласуется с нашей областью работы - мы действительно можем назвать мошеннические транзакции аномальньми (как интуитивно, так и на основании наблюдаемой балансировки данных). \n",
    "\n",
    "Стоит отметить, что методы обнаружения аномалий чаще всего относятся к классу методов обучения без учителя. Это дает некоторый положительный эффект - нам не обязательно нужно тратить время на разметку данных (тем не менее, для контроля качества какую-то часть разметить все-таки придется). Впрочем, чаще всего перфоманс таких методов оказывается заметно хуже, чем у честного обучения с учителем (если мы можем себе его позволить).\n",
    "\n"
   ]
  },
  {
   "attachments": {},
   "cell_type": "markdown",
   "metadata": {
    "id": "mrRy0uOAs9BW"
   },
   "source": [
    "**Задание 4. (3 балла).** На занятиях вы разбирали схожий с Random Forest подход для детекции аномалий без известной разметки данных, называемый Isolation Forest. Напомним суть: на этапе обучения мы создаем ансамбль из решающих деревьев, в котором признак и порог на каждую вершину подбираются случайно. Затем мы считаем для объектов оценку аномальности через длину пути до соответствующего листа в каждом дереве.\n",
    "\n",
    "В данном задании вам предлагается реализовать модификацию данного алгоритма, известную как Extended Isolation Forest. В ней мы на каждом шаге будем определять не порог для признака, а полноценную случайную гиперплоскость, разбивающую выборку на 2 части. С детальным описанием вы можете ознакомиться [здесь](https://arxiv.org/pdf/1811.02141.pdf).\n",
    "\n",
    "Ниже приведен шаблон кода. Постарайтесь работать в его рамках (минорные изменения вполне допустимы, главное не переворачивайте всю структуру с ног на голову). \n",
    "\n",
    "**NB**: будем считать, что в нашем датасете нет категориальных признаков - можете не заморачиваться с их обработкой (но в общем случае, это будет важно).\n",
    "\n",
    "**Советы**:\n",
    " - Численные признаки лучше предобработать надлежащим образом.\n",
    " - Возможно, вам поможет выбрасывание некоторых признаков.\n",
    " - Внимательно следите за знаками.\n",
    " - Не игнорируйте документирующие строки.\n",
    " - Вероятнее всего, вы не сможете приблизиться по качеству к supervised-решениям. Если у вас не получается это сделать (но вы уверены в своей правоте), не стоит тратить слишком много времени на поиск ошибок.\n",
    "\n",
    "\n",
    "\n",
    "**Бонусы (каждый по 0.5)**:\n",
    "- Сделайте ваш EIF параллельным (`multiprocessing`, `joblib`).\n",
    "- Добавьте возможность откатиться к дефолтному варианту Isolation Forest. (порассуждайте, как можно реализовать это в данной модели?):\n"
   ]
  },
  {
   "cell_type": "code",
   "execution_count": 21,
   "metadata": {},
   "outputs": [],
   "source": [
    "import numpy as np\n",
    "from tqdm.notebook import tqdm"
   ]
  },
  {
   "cell_type": "code",
   "execution_count": 9,
   "metadata": {
    "id": "HsFj1XR2s9BW"
   },
   "outputs": [],
   "source": [
    "class Node(object):\n",
    "    \"\"\"\n",
    "    A single node object for each tree. Contains information on height, current data,\n",
    "    splitting hyperplane and children nodes.\n",
    "    \n",
    "    Attributes:\n",
    "        X: np.array - data available to current node\n",
    "        size: int - length of available data\n",
    "        \n",
    "        depth: int - depth of node\n",
    "\n",
    "        left: Node - left child\n",
    "        right: Node - right child\n",
    "\n",
    "        kind: str - either \"internal\" or \"external\", indicates the type of current node\n",
    "\n",
    "        w: np.array - normal vector for the splitting hyperplane\n",
    "        b: float - intercept term for the splitting hyperplane\n",
    "    \"\"\"\n",
    "    def __init__(self, X, depth, left, right, kind, w, b):\n",
    "        \"\"\"\n",
    "        Node(h, left, right, kind, w, b)\n",
    "        Represents the node object.\n",
    "        \n",
    "        Params:\n",
    "            X: np.array - data available to current node\n",
    "            depth: int - depth of node\n",
    "            \n",
    "            left: Node - left child\n",
    "            right: Node - right child\n",
    "            \n",
    "            kind: str - either \"internal\" or \"external\", indicates the type of current node\n",
    "            \n",
    "            w: np.array - normal vector for the splitting hyperplane\n",
    "            b: float - intercept term for the splitting hyperplane\n",
    "            \n",
    "        \"\"\"\n",
    "        self.size = len(X)\n",
    "        \n",
    "        self.depth = depth\n",
    "        \n",
    "        self.left = left\n",
    "        self.right = right\n",
    "        \n",
    "        self.kind = kind\n",
    "    \n",
    "        self.w = w\n",
    "        self.b = b\n",
    "    \n",
    "    def __repr__(self):\n",
    "        \"\"\"\n",
    "        For convenience only.\n",
    "        \"\"\"\n",
    "        return f\"Node(size={self.size}, depth={self.depth}, kind={self.kind})\"\n",
    "    \n",
    "\n",
    "def H(n):\n",
    "    return np.log(n) + 0.5772156649\n",
    "\n",
    "def c_factor(n):\n",
    "    \"\"\"\n",
    "    Computes average path length for an unsuccessful search in a binary search tree.\n",
    "    Params:\n",
    "        n: int - number of data points for BST\n",
    "    \"\"\"\n",
    "    if n == 0:\n",
    "        return 0\n",
    "    if n == 1:\n",
    "        return 1\n",
    "    return 2 * H(n - 1) - 2 * (n - 1) / n\n",
    "\n",
    "def calc_height(X, depth, node : Node):\n",
    "    \"\"\"\n",
    "    Calculates anomaly scores for sample in a recursive manner.\n",
    "    Params:\n",
    "        X: np.array - current sample, available to node\n",
    "        \n",
    "        depth: int - path length up to current node\n",
    "        \n",
    "        node: Node - current tree node\n",
    "        \n",
    "    Returns:\n",
    "        scores: int, float or np.array - anomaly scores for sample\n",
    "    \"\"\"\n",
    "    heights = np.zeros(X.shape[0])\n",
    "\n",
    "    if node.kind == 'external':\n",
    "        heights += node.depth + c_factor(node.size)\n",
    "        return heights\n",
    "\n",
    "    vals = X @ node.w + node.b\n",
    "    left_idx = vals < 0\n",
    "    right_idx = vals >= 0\n",
    "\n",
    "    # print(sum(left_idx), sum(right_idx))\n",
    "\n",
    "    left_heights = calc_height(X[left_idx], depth + 1, node.left)\n",
    "    right_heights = calc_height(X[right_idx], depth + 1, node.right)\n",
    "\n",
    "    heights[left_idx] = left_heights\n",
    "    heights[right_idx] = right_heights\n",
    "\n",
    "    return heights\n",
    "\n",
    "\n",
    "class RandomizedTree(object):\n",
    "    \"\"\"\n",
    "    Single randomized tree object. Stores root and its depth (tree is built recursively).\n",
    "    Attributes:\n",
    "        depth: int - current tree depth\n",
    "        \n",
    "        max_depth: int - maximum tree depth\n",
    "        \n",
    "        root: Node - root node \n",
    "\n",
    "        internal_count: int - number of internal nodes\n",
    "\n",
    "        external_count: int - number of external nodes\n",
    "        \n",
    "    \"\"\"\n",
    "    def __init__(self, X, max_depth):\n",
    "        \"\"\"\n",
    "        Single randomized tree object. Stores root and its depth (tree is built recursively).\n",
    "        Params:\n",
    "            X: np.array - train sample\n",
    "            max_depth: int - maximum tree depth\n",
    "\n",
    "        \"\"\"\n",
    "        self.depth = 0\n",
    "        self.max_depth = max_depth\n",
    "        \n",
    "        self.internal_count = 0\n",
    "        self.external_count = 0\n",
    "\n",
    "        self.root = self.grow(X, 0)\n",
    "        \n",
    "    def __repr__(self):\n",
    "        \"\"\"\n",
    "        For convenience only.\n",
    "        \"\"\"\n",
    "        \n",
    "        return f\"RandomizedTree(depth={self.depth}, max_depth={self.max_depth}, n_internal={self.internal_count}, n_external={self.external_count})\"\n",
    "\n",
    "        \n",
    "    def grow(self, X, depth):\n",
    "        \"\"\"\n",
    "        Grow tree in a recursive manner.\n",
    "        Params:\n",
    "            X: np.array - available train sample\n",
    "            \n",
    "            depth: int - current tree depth\n",
    "            \n",
    "        Returns:\n",
    "            node: Node - a trained node with separating hyperplane data.\n",
    "                         Node provides access to children if necessary (these are built recursively)\n",
    "        \"\"\"\n",
    "        \n",
    "        if depth == self.max_depth or X.shape[0] <= 1:\n",
    "            self.depth = max(depth, self.depth)\n",
    "            self.external_count += 1\n",
    "            return Node(X, depth, None, None, 'external', None, None)\n",
    "        \n",
    "        w = np.random.randn(X.shape[1])\n",
    "        b = np.random.normal()\n",
    "\n",
    "        vals = X @ w + b\n",
    "\n",
    "        #print(vals.mean(), vals.std())\n",
    "        # print(vals)\n",
    "\n",
    "        left_idx = vals < 0\n",
    "        right_idx = vals >= 0\n",
    "\n",
    "        # print(sum(left_idx), sum(right_idx))\n",
    "        \n",
    "        left = self.grow(X[left_idx], depth + 1)\n",
    "        right = self.grow(X[right_idx], depth + 1)\n",
    "        \n",
    "        self.internal_count += 1\n",
    "        return Node(X, depth, left, right, 'internal', w, b)\n",
    "\n",
    "    def score_samples(self, X):\n",
    "        \"\"\"\n",
    "        Calculate anomaly scores for given data. You may utilize outer function `calc_height`.\n",
    "        Params:\n",
    "            X: np.array - data to be evaluated\n",
    "            \n",
    "        Returns:\n",
    "            scores: np.array - estimated anomaly scores\n",
    "        \"\"\"\n",
    "        scores = calc_height(X, 0, self.root)\n",
    "        return scores\n",
    "        \n",
    "    \n",
    "class ExtendedIsolationForest(object):\n",
    "    \"\"\"\n",
    "    Extended Isolation Forest object. Stores training data and trained randomized trees.\n",
    "    Attributes:\n",
    "        n_trees: int - number of Randomized Trees\n",
    "        \n",
    "        max_depth: int - maximum depth of each tree\n",
    "        \n",
    "        subsample_rate: float - draw `subsample_rate * X.shape[0]` samples for each tree\n",
    "        \n",
    "        trees: list - container for trained trees \n",
    "        \n",
    "        contamination: float - estimated fraction of anomaly samples in data. Used for thresholding\n",
    "        \n",
    "    \"\"\"\n",
    "    \n",
    "    def __init__(self, n_trees, subsample_rate, max_depth=None, contamination=0.01):\n",
    "        \"\"\"\n",
    "        Extended Isolation Forest object. Stores training data and trained randomized trees.\n",
    "        Params:\n",
    "            n_trees: int - number of Randomized Trees\n",
    "\n",
    "            subsample_rate: float - draw `subsample_rate * X.shape[0]` samples for each tree\n",
    "\n",
    "            max_depth: int or None - maximum depth of each tree. Defaults to ceil(log_2(subsample_size)) if not provided\n",
    "\n",
    "            contamination: float - estimated fraction of anomaly samples in data. Used for thresholding\n",
    "\n",
    "        \"\"\"\n",
    "        self.n_trees = n_trees\n",
    "        self.max_depth = max_depth\n",
    "        self.subsample_rate = subsample_rate\n",
    "        self.trees = []\n",
    "        self.contamination = contamination\n",
    "        self.is_fit = False\n",
    "        self.data_points_q = None\n",
    "        \n",
    "    def __repr__(self):\n",
    "        \"\"\"For convenience only.\"\"\"\n",
    "        \n",
    "        return f\"ExtendedIsolationForest(n_trees={self.n_trees}, max_depth={self.max_depth}, subsample_rate={self.subsample_rate}, contamination={self.contamination}, is_fit={self.is_fit})\"\n",
    "        \n",
    "    def fit(self, X):\n",
    "        \"\"\"\n",
    "        Fit EIF to new data.\n",
    "        Params:\n",
    "            X: np.array - 2d array of samples\n",
    "        \"\"\"\n",
    "        self.data_points_q = np.int32(self.subsample_rate * X.shape[0])\n",
    "        if self.max_depth is None:\n",
    "            self.max_depth = np.ceil(np.log2(self.data_points_q))\n",
    "        self.is_fit = True\n",
    "        np.random.seed(42)\n",
    "        idx = np.random.choice(np.arange(X.shape[0]), size=self.data_points_q, replace=False)\n",
    "\n",
    "        print(f'taking {self.data_points_q} samples out of {X.shape[0]}')\n",
    "        \n",
    "        for i in tqdm(range(self.n_trees)):\n",
    "            self.trees.append(RandomizedTree(X[idx], self.max_depth))\n",
    "        return self\n",
    "    \n",
    "    def score_samples(self, X):\n",
    "        \"\"\"\n",
    "        Estimate (normalized) anomaly score for each given sample\n",
    "        Params:\n",
    "            X: np.array - new samples\n",
    "\n",
    "        Returns:\n",
    "            scores: np.array - anomaly scores (larger value means higher probability of a sample being an outlier)\n",
    "        \"\"\"\n",
    "        print(X.shape[0])\n",
    "        mean = np.zeros(X.shape[0])\n",
    "        for tree in tqdm(self.trees):\n",
    "            mean += tree.score_samples(X)\n",
    "\n",
    "        mean /= self.n_trees\n",
    "        scores = 2 ** (-mean / c_factor(self.data_points_q))\n",
    "\n",
    "        return scores\n",
    "\n",
    "    \n",
    "    def predict(self, X):\n",
    "        \"\"\"\n",
    "        Predict if given samples are outliers.\n",
    "        Params:\n",
    "            X: np.array - new samples\n",
    "\n",
    "        Returns:\n",
    "            labels: np.array - anomaly labels (1 for outliers, 0 for inliers)\n",
    "        \"\"\"\n",
    "        scores = self.score_samples(X)\n",
    "        labels = (scores >= np.quantile(scores, 1 - self.contamination))\n",
    "        # labels = (scores >= scores.mean())\n",
    "        return labels, scores\n"
   ]
  },
  {
   "attachments": {},
   "cell_type": "markdown",
   "metadata": {
    "id": "s9ikebErs9BX"
   },
   "source": [
    "**Задание 5. (1 балл).** Протестируйте вашу реализацию EIF и подберите оптимальные гиперпараметры (наш метод не использует разметку, поэтому можете попробовать делать это на обучающей выборке). Сравните ее с обычным IF из `sklearn` (желательно делать это на одних и тех же параметрах). Удалось ли сделать лучше?"
   ]
  },
  {
   "cell_type": "code",
   "execution_count": 10,
   "metadata": {},
   "outputs": [],
   "source": [
    "from sklearn.preprocessing import StandardScaler\n",
    "\n",
    "scaler = StandardScaler()\n",
    "X_train_scaled = scaler.fit_transform(X_train.drop(columns='Class'))\n",
    "X_test_scaled = scaler.transform(X_test.drop(columns='Class'))\n",
    "X_val_scaled = scaler.transform(X_val.drop(columns='Class'))"
   ]
  },
  {
   "cell_type": "code",
   "execution_count": 11,
   "metadata": {},
   "outputs": [],
   "source": [
    "from sklearn.metrics import precision_recall_curve, auc\n",
    "\n",
    "def auc_pr(y_true, y_pred):\n",
    "    prec, rec, _ = precision_recall_curve(y_true, y_pred)\n",
    "    return auc(rec, prec)"
   ]
  },
  {
   "attachments": {},
   "cell_type": "markdown",
   "metadata": {},
   "source": [
    "Перебрал разные гиперпараметры, эти дают самый высокий mcc/kappa и неплохой auc-pr "
   ]
  },
  {
   "cell_type": "code",
   "execution_count": 12,
   "metadata": {
    "id": "7INFCxvKs9BX"
   },
   "outputs": [
    {
     "name": "stdout",
     "output_type": "stream",
     "text": [
      "taking 227846 samples out of 227846\n"
     ]
    },
    {
     "data": {
      "application/vnd.jupyter.widget-view+json": {
       "model_id": "14ece2a0872645339ce479abeecadb68",
       "version_major": 2,
       "version_minor": 0
      },
      "text/plain": [
       "  0%|          | 0/100 [00:00<?, ?it/s]"
      ]
     },
     "metadata": {},
     "output_type": "display_data"
    },
    {
     "data": {
      "text/plain": [
       "ExtendedIsolationForest(n_trees=100, max_depth=8, subsample_rate=1, contamination=0.01, is_fit=True)"
      ]
     },
     "execution_count": 12,
     "metadata": {},
     "output_type": "execute_result"
    }
   ],
   "source": [
    "model = ExtendedIsolationForest(100, 1, 8, 0.01)\n",
    "model.fit(X_train_scaled)"
   ]
  },
  {
   "cell_type": "code",
   "execution_count": 16,
   "metadata": {},
   "outputs": [
    {
     "name": "stdout",
     "output_type": "stream",
     "text": [
      "28481\n"
     ]
    },
    {
     "data": {
      "application/vnd.jupyter.widget-view+json": {
       "model_id": "165fd3262f924592874f47b3619b42b2",
       "version_major": 2,
       "version_minor": 0
      },
      "text/plain": [
       "  0%|          | 0/100 [00:00<?, ?it/s]"
      ]
     },
     "metadata": {},
     "output_type": "display_data"
    },
    {
     "name": "stdout",
     "output_type": "stream",
     "text": [
      "EIF kappa: 0.09642397825618679\n",
      "EIF mcc: 0.18766704520088212\n",
      "EIF auc-pr: 0.36734776932628127\n"
     ]
    }
   ],
   "source": [
    "test_pred, test_scores = model.predict(X_test_scaled)\n",
    "\n",
    "print('EIF kappa:', kappa_coef(X_test['Class'], test_pred))\n",
    "print('EIF mcc:', mcc(X_test['Class'], test_pred))\n",
    "print('EIF auc-pr:', auc_pr(X_test['Class'], test_pred))"
   ]
  },
  {
   "attachments": {},
   "cell_type": "markdown",
   "metadata": {
    "id": "G00BCRJj4Sz3"
   },
   "source": [
    "Возможно, ваш алгоритм выдал большие оценки объектам с негативной разметкой. Постарайтесь выбрать несколько таких объектов и доступно объяснить (= с кодом и графиками), почему так вышло:"
   ]
  },
  {
   "cell_type": "code",
   "execution_count": 122,
   "metadata": {
    "id": "ds6Rz3a-4s9V"
   },
   "outputs": [],
   "source": [
    "sort_idx = np.argsort(test_scores[X_test['Class'] == 0])"
   ]
  },
  {
   "attachments": {},
   "cell_type": "markdown",
   "metadata": {},
   "source": [
    "Возьмем 20 негативных объектов с самой большой разметкой"
   ]
  },
  {
   "cell_type": "code",
   "execution_count": 123,
   "metadata": {},
   "outputs": [],
   "source": [
    "neg_obj_with_big_scores = X_test[X_test['Class'] == 0].iloc[sort_idx[-20:]]"
   ]
  },
  {
   "cell_type": "code",
   "execution_count": 124,
   "metadata": {},
   "outputs": [
    {
     "data": {
      "text/html": [
       "<div>\n",
       "<style scoped>\n",
       "    .dataframe tbody tr th:only-of-type {\n",
       "        vertical-align: middle;\n",
       "    }\n",
       "\n",
       "    .dataframe tbody tr th {\n",
       "        vertical-align: top;\n",
       "    }\n",
       "\n",
       "    .dataframe thead th {\n",
       "        text-align: right;\n",
       "    }\n",
       "</style>\n",
       "<table border=\"1\" class=\"dataframe\">\n",
       "  <thead>\n",
       "    <tr style=\"text-align: right;\">\n",
       "      <th></th>\n",
       "      <th>V1</th>\n",
       "      <th>V2</th>\n",
       "      <th>V3</th>\n",
       "      <th>V4</th>\n",
       "      <th>V5</th>\n",
       "      <th>V6</th>\n",
       "      <th>V7</th>\n",
       "      <th>V8</th>\n",
       "      <th>V9</th>\n",
       "      <th>V10</th>\n",
       "      <th>V11</th>\n",
       "      <th>V12</th>\n",
       "      <th>V13</th>\n",
       "      <th>V14</th>\n",
       "      <th>V15</th>\n",
       "      <th>V16</th>\n",
       "      <th>V17</th>\n",
       "      <th>V18</th>\n",
       "      <th>V19</th>\n",
       "      <th>V20</th>\n",
       "      <th>V21</th>\n",
       "      <th>V22</th>\n",
       "      <th>V23</th>\n",
       "      <th>V24</th>\n",
       "      <th>V25</th>\n",
       "      <th>V26</th>\n",
       "      <th>V27</th>\n",
       "      <th>V28</th>\n",
       "      <th>Amount</th>\n",
       "      <th>Class</th>\n",
       "      <th>Hour</th>\n",
       "      <th>Day</th>\n",
       "    </tr>\n",
       "  </thead>\n",
       "  <tbody>\n",
       "    <tr>\n",
       "      <th>267217</th>\n",
       "      <td>-1.272113</td>\n",
       "      <td>0.068039</td>\n",
       "      <td>0.582609</td>\n",
       "      <td>4.097004</td>\n",
       "      <td>-3.310319</td>\n",
       "      <td>5.179480</td>\n",
       "      <td>5.400805</td>\n",
       "      <td>-1.175404</td>\n",
       "      <td>-1.894854</td>\n",
       "      <td>1.482092</td>\n",
       "      <td>0.229732</td>\n",
       "      <td>-0.856864</td>\n",
       "      <td>1.258788</td>\n",
       "      <td>-0.884529</td>\n",
       "      <td>1.005968</td>\n",
       "      <td>1.038460</td>\n",
       "      <td>-1.274790</td>\n",
       "      <td>1.376447</td>\n",
       "      <td>1.639514</td>\n",
       "      <td>-0.066322</td>\n",
       "      <td>-0.268708</td>\n",
       "      <td>0.720659</td>\n",
       "      <td>-0.235109</td>\n",
       "      <td>-0.241588</td>\n",
       "      <td>0.323601</td>\n",
       "      <td>0.516139</td>\n",
       "      <td>0.113391</td>\n",
       "      <td>-0.922299</td>\n",
       "      <td>1133.88</td>\n",
       "      <td>0</td>\n",
       "      <td>21</td>\n",
       "      <td>1</td>\n",
       "    </tr>\n",
       "    <tr>\n",
       "      <th>271810</th>\n",
       "      <td>-15.622687</td>\n",
       "      <td>-13.011941</td>\n",
       "      <td>-8.330979</td>\n",
       "      <td>8.860364</td>\n",
       "      <td>-8.640796</td>\n",
       "      <td>4.839857</td>\n",
       "      <td>6.164138</td>\n",
       "      <td>-0.595616</td>\n",
       "      <td>-1.179146</td>\n",
       "      <td>0.472436</td>\n",
       "      <td>-0.059583</td>\n",
       "      <td>0.440708</td>\n",
       "      <td>1.480926</td>\n",
       "      <td>1.706326</td>\n",
       "      <td>1.945092</td>\n",
       "      <td>3.434636</td>\n",
       "      <td>0.014204</td>\n",
       "      <td>1.268959</td>\n",
       "      <td>0.979564</td>\n",
       "      <td>-2.366295</td>\n",
       "      <td>-0.208414</td>\n",
       "      <td>-1.125043</td>\n",
       "      <td>-8.102468</td>\n",
       "      <td>1.138071</td>\n",
       "      <td>-1.738299</td>\n",
       "      <td>0.326575</td>\n",
       "      <td>3.276514</td>\n",
       "      <td>-3.250235</td>\n",
       "      <td>1875.48</td>\n",
       "      <td>0</td>\n",
       "      <td>21</td>\n",
       "      <td>1</td>\n",
       "    </tr>\n",
       "    <tr>\n",
       "      <th>265283</th>\n",
       "      <td>-4.276866</td>\n",
       "      <td>-2.351261</td>\n",
       "      <td>0.779925</td>\n",
       "      <td>5.683857</td>\n",
       "      <td>1.163263</td>\n",
       "      <td>0.193968</td>\n",
       "      <td>-2.090351</td>\n",
       "      <td>-3.126043</td>\n",
       "      <td>-1.112571</td>\n",
       "      <td>1.638437</td>\n",
       "      <td>-1.012344</td>\n",
       "      <td>-0.687348</td>\n",
       "      <td>-0.388245</td>\n",
       "      <td>0.424637</td>\n",
       "      <td>1.819049</td>\n",
       "      <td>0.886377</td>\n",
       "      <td>0.054206</td>\n",
       "      <td>0.270834</td>\n",
       "      <td>0.890418</td>\n",
       "      <td>-1.840792</td>\n",
       "      <td>-1.846139</td>\n",
       "      <td>0.776956</td>\n",
       "      <td>-3.868809</td>\n",
       "      <td>0.365492</td>\n",
       "      <td>-1.406257</td>\n",
       "      <td>0.475776</td>\n",
       "      <td>1.689813</td>\n",
       "      <td>-0.445367</td>\n",
       "      <td>758.58</td>\n",
       "      <td>0</td>\n",
       "      <td>20</td>\n",
       "      <td>1</td>\n",
       "    </tr>\n",
       "    <tr>\n",
       "      <th>262178</th>\n",
       "      <td>-6.193345</td>\n",
       "      <td>3.743459</td>\n",
       "      <td>-2.755558</td>\n",
       "      <td>-2.138186</td>\n",
       "      <td>-3.521355</td>\n",
       "      <td>0.329836</td>\n",
       "      <td>-4.331610</td>\n",
       "      <td>-3.682092</td>\n",
       "      <td>1.668506</td>\n",
       "      <td>-1.368702</td>\n",
       "      <td>-2.006453</td>\n",
       "      <td>1.827548</td>\n",
       "      <td>0.053146</td>\n",
       "      <td>1.874911</td>\n",
       "      <td>0.704863</td>\n",
       "      <td>0.095265</td>\n",
       "      <td>1.498139</td>\n",
       "      <td>0.762450</td>\n",
       "      <td>0.757832</td>\n",
       "      <td>-2.254836</td>\n",
       "      <td>6.820133</td>\n",
       "      <td>-0.994141</td>\n",
       "      <td>0.746331</td>\n",
       "      <td>-0.115762</td>\n",
       "      <td>-0.060923</td>\n",
       "      <td>-0.083951</td>\n",
       "      <td>-1.518275</td>\n",
       "      <td>-0.101944</td>\n",
       "      <td>36.00</td>\n",
       "      <td>0</td>\n",
       "      <td>20</td>\n",
       "      <td>1</td>\n",
       "    </tr>\n",
       "    <tr>\n",
       "      <th>271962</th>\n",
       "      <td>-2.056673</td>\n",
       "      <td>2.204844</td>\n",
       "      <td>-1.979134</td>\n",
       "      <td>0.149720</td>\n",
       "      <td>3.428212</td>\n",
       "      <td>1.015140</td>\n",
       "      <td>-6.803024</td>\n",
       "      <td>-10.062100</td>\n",
       "      <td>-1.283291</td>\n",
       "      <td>-3.229818</td>\n",
       "      <td>1.730693</td>\n",
       "      <td>1.973798</td>\n",
       "      <td>-0.306504</td>\n",
       "      <td>-0.577694</td>\n",
       "      <td>0.916689</td>\n",
       "      <td>0.693109</td>\n",
       "      <td>2.866188</td>\n",
       "      <td>0.528501</td>\n",
       "      <td>-1.791011</td>\n",
       "      <td>2.338888</td>\n",
       "      <td>-4.832522</td>\n",
       "      <td>1.693413</td>\n",
       "      <td>-3.893988</td>\n",
       "      <td>-1.667340</td>\n",
       "      <td>-0.021368</td>\n",
       "      <td>0.049621</td>\n",
       "      <td>0.240402</td>\n",
       "      <td>0.506780</td>\n",
       "      <td>1.00</td>\n",
       "      <td>0</td>\n",
       "      <td>21</td>\n",
       "      <td>1</td>\n",
       "    </tr>\n",
       "    <tr>\n",
       "      <th>271853</th>\n",
       "      <td>-18.479164</td>\n",
       "      <td>-15.726967</td>\n",
       "      <td>-9.410119</td>\n",
       "      <td>9.739257</td>\n",
       "      <td>-7.635013</td>\n",
       "      <td>3.553671</td>\n",
       "      <td>4.550106</td>\n",
       "      <td>0.008685</td>\n",
       "      <td>-0.946745</td>\n",
       "      <td>0.655153</td>\n",
       "      <td>-0.167960</td>\n",
       "      <td>0.900855</td>\n",
       "      <td>1.746797</td>\n",
       "      <td>2.175219</td>\n",
       "      <td>2.137045</td>\n",
       "      <td>3.668589</td>\n",
       "      <td>0.245755</td>\n",
       "      <td>1.259988</td>\n",
       "      <td>0.808516</td>\n",
       "      <td>-1.733186</td>\n",
       "      <td>-0.037107</td>\n",
       "      <td>-1.706726</td>\n",
       "      <td>-10.117548</td>\n",
       "      <td>1.250139</td>\n",
       "      <td>-2.141659</td>\n",
       "      <td>0.173716</td>\n",
       "      <td>2.670597</td>\n",
       "      <td>-3.095313</td>\n",
       "      <td>1350.90</td>\n",
       "      <td>0</td>\n",
       "      <td>21</td>\n",
       "      <td>1</td>\n",
       "    </tr>\n",
       "    <tr>\n",
       "      <th>271773</th>\n",
       "      <td>-12.445555</td>\n",
       "      <td>-9.899507</td>\n",
       "      <td>-6.622124</td>\n",
       "      <td>7.777677</td>\n",
       "      <td>-8.651513</td>\n",
       "      <td>5.582699</td>\n",
       "      <td>7.198959</td>\n",
       "      <td>-0.718150</td>\n",
       "      <td>-1.557141</td>\n",
       "      <td>0.255170</td>\n",
       "      <td>-0.078356</td>\n",
       "      <td>-0.103489</td>\n",
       "      <td>1.140236</td>\n",
       "      <td>1.219640</td>\n",
       "      <td>1.584698</td>\n",
       "      <td>2.983646</td>\n",
       "      <td>-0.209193</td>\n",
       "      <td>1.496537</td>\n",
       "      <td>1.240575</td>\n",
       "      <td>-2.190840</td>\n",
       "      <td>-0.118345</td>\n",
       "      <td>-0.127672</td>\n",
       "      <td>-2.565750</td>\n",
       "      <td>0.782798</td>\n",
       "      <td>-0.526436</td>\n",
       "      <td>0.524346</td>\n",
       "      <td>3.180379</td>\n",
       "      <td>-3.260522</td>\n",
       "      <td>1783.26</td>\n",
       "      <td>0</td>\n",
       "      <td>21</td>\n",
       "      <td>1</td>\n",
       "    </tr>\n",
       "    <tr>\n",
       "      <th>271772</th>\n",
       "      <td>-5.153221</td>\n",
       "      <td>0.539706</td>\n",
       "      <td>-0.689382</td>\n",
       "      <td>1.320317</td>\n",
       "      <td>-0.864433</td>\n",
       "      <td>2.240697</td>\n",
       "      <td>-2.936963</td>\n",
       "      <td>-8.012247</td>\n",
       "      <td>-0.441292</td>\n",
       "      <td>-0.631442</td>\n",
       "      <td>0.623720</td>\n",
       "      <td>1.550537</td>\n",
       "      <td>0.142896</td>\n",
       "      <td>1.101551</td>\n",
       "      <td>0.472399</td>\n",
       "      <td>0.944118</td>\n",
       "      <td>-0.098894</td>\n",
       "      <td>1.075245</td>\n",
       "      <td>0.307622</td>\n",
       "      <td>-0.899446</td>\n",
       "      <td>0.322245</td>\n",
       "      <td>0.838864</td>\n",
       "      <td>0.606083</td>\n",
       "      <td>0.740160</td>\n",
       "      <td>0.024977</td>\n",
       "      <td>-0.365926</td>\n",
       "      <td>0.904607</td>\n",
       "      <td>-0.121755</td>\n",
       "      <td>192.60</td>\n",
       "      <td>0</td>\n",
       "      <td>21</td>\n",
       "      <td>1</td>\n",
       "    </tr>\n",
       "    <tr>\n",
       "      <th>261843</th>\n",
       "      <td>-26.389030</td>\n",
       "      <td>-17.755687</td>\n",
       "      <td>-10.278766</td>\n",
       "      <td>10.413010</td>\n",
       "      <td>-9.446086</td>\n",
       "      <td>6.220135</td>\n",
       "      <td>7.705953</td>\n",
       "      <td>-2.311311</td>\n",
       "      <td>5.501918</td>\n",
       "      <td>7.223713</td>\n",
       "      <td>0.727981</td>\n",
       "      <td>0.246398</td>\n",
       "      <td>1.819804</td>\n",
       "      <td>-3.104880</td>\n",
       "      <td>2.065221</td>\n",
       "      <td>3.801851</td>\n",
       "      <td>-0.865402</td>\n",
       "      <td>-0.524366</td>\n",
       "      <td>3.189471</td>\n",
       "      <td>-14.141898</td>\n",
       "      <td>-5.979891</td>\n",
       "      <td>-0.215655</td>\n",
       "      <td>-9.002474</td>\n",
       "      <td>1.126551</td>\n",
       "      <td>0.396670</td>\n",
       "      <td>0.220177</td>\n",
       "      <td>-6.592504</td>\n",
       "      <td>15.373170</td>\n",
       "      <td>1441.06</td>\n",
       "      <td>0</td>\n",
       "      <td>20</td>\n",
       "      <td>1</td>\n",
       "    </tr>\n",
       "    <tr>\n",
       "      <th>275590</th>\n",
       "      <td>-2.074173</td>\n",
       "      <td>2.542825</td>\n",
       "      <td>-0.408849</td>\n",
       "      <td>0.964889</td>\n",
       "      <td>-2.080833</td>\n",
       "      <td>2.519724</td>\n",
       "      <td>-4.746074</td>\n",
       "      <td>-11.505696</td>\n",
       "      <td>0.658514</td>\n",
       "      <td>-0.546830</td>\n",
       "      <td>-1.210236</td>\n",
       "      <td>0.749030</td>\n",
       "      <td>-0.906732</td>\n",
       "      <td>1.135704</td>\n",
       "      <td>1.681184</td>\n",
       "      <td>-0.421953</td>\n",
       "      <td>1.246773</td>\n",
       "      <td>0.762016</td>\n",
       "      <td>1.975519</td>\n",
       "      <td>0.041627</td>\n",
       "      <td>3.719067</td>\n",
       "      <td>-0.548923</td>\n",
       "      <td>0.809661</td>\n",
       "      <td>-0.168330</td>\n",
       "      <td>0.345735</td>\n",
       "      <td>0.671787</td>\n",
       "      <td>0.532920</td>\n",
       "      <td>0.356190</td>\n",
       "      <td>99.95</td>\n",
       "      <td>0</td>\n",
       "      <td>22</td>\n",
       "      <td>1</td>\n",
       "    </tr>\n",
       "    <tr>\n",
       "      <th>261282</th>\n",
       "      <td>-23.441978</td>\n",
       "      <td>-14.981971</td>\n",
       "      <td>-9.581877</td>\n",
       "      <td>8.417627</td>\n",
       "      <td>-11.061877</td>\n",
       "      <td>7.758075</td>\n",
       "      <td>10.810261</td>\n",
       "      <td>-2.774280</td>\n",
       "      <td>5.358971</td>\n",
       "      <td>6.335275</td>\n",
       "      <td>0.538991</td>\n",
       "      <td>-0.325198</td>\n",
       "      <td>1.394314</td>\n",
       "      <td>-3.748751</td>\n",
       "      <td>0.671974</td>\n",
       "      <td>4.211133</td>\n",
       "      <td>-1.862392</td>\n",
       "      <td>-0.473282</td>\n",
       "      <td>1.655804</td>\n",
       "      <td>-14.487174</td>\n",
       "      <td>-5.979539</td>\n",
       "      <td>0.914055</td>\n",
       "      <td>-3.089904</td>\n",
       "      <td>0.767810</td>\n",
       "      <td>1.282514</td>\n",
       "      <td>0.050997</td>\n",
       "      <td>-6.426814</td>\n",
       "      <td>15.270650</td>\n",
       "      <td>1673.61</td>\n",
       "      <td>0</td>\n",
       "      <td>20</td>\n",
       "      <td>1</td>\n",
       "    </tr>\n",
       "    <tr>\n",
       "      <th>282503</th>\n",
       "      <td>-11.025028</td>\n",
       "      <td>-12.369532</td>\n",
       "      <td>-1.716078</td>\n",
       "      <td>2.506561</td>\n",
       "      <td>9.021776</td>\n",
       "      <td>-5.882446</td>\n",
       "      <td>-5.559536</td>\n",
       "      <td>-0.288564</td>\n",
       "      <td>0.213490</td>\n",
       "      <td>-0.063428</td>\n",
       "      <td>-0.200818</td>\n",
       "      <td>0.499905</td>\n",
       "      <td>-0.721622</td>\n",
       "      <td>1.847857</td>\n",
       "      <td>2.258174</td>\n",
       "      <td>-0.701520</td>\n",
       "      <td>1.280618</td>\n",
       "      <td>-2.090390</td>\n",
       "      <td>-0.304674</td>\n",
       "      <td>-0.953131</td>\n",
       "      <td>0.667626</td>\n",
       "      <td>-1.215515</td>\n",
       "      <td>-4.854515</td>\n",
       "      <td>-0.418007</td>\n",
       "      <td>-0.303512</td>\n",
       "      <td>1.624997</td>\n",
       "      <td>2.218141</td>\n",
       "      <td>-3.598140</td>\n",
       "      <td>39.99</td>\n",
       "      <td>0</td>\n",
       "      <td>23</td>\n",
       "      <td>1</td>\n",
       "    </tr>\n",
       "    <tr>\n",
       "      <th>256567</th>\n",
       "      <td>-5.774807</td>\n",
       "      <td>-4.322278</td>\n",
       "      <td>-1.299373</td>\n",
       "      <td>1.048874</td>\n",
       "      <td>4.126901</td>\n",
       "      <td>-2.839736</td>\n",
       "      <td>-2.047075</td>\n",
       "      <td>0.123781</td>\n",
       "      <td>0.762231</td>\n",
       "      <td>0.617483</td>\n",
       "      <td>0.621355</td>\n",
       "      <td>-0.045852</td>\n",
       "      <td>-1.465796</td>\n",
       "      <td>-0.307403</td>\n",
       "      <td>0.198119</td>\n",
       "      <td>0.837805</td>\n",
       "      <td>0.413676</td>\n",
       "      <td>0.379498</td>\n",
       "      <td>0.965424</td>\n",
       "      <td>-1.482234</td>\n",
       "      <td>-0.966763</td>\n",
       "      <td>-1.508033</td>\n",
       "      <td>-3.625214</td>\n",
       "      <td>0.596770</td>\n",
       "      <td>-1.054350</td>\n",
       "      <td>0.217528</td>\n",
       "      <td>1.924343</td>\n",
       "      <td>-2.053029</td>\n",
       "      <td>8.97</td>\n",
       "      <td>0</td>\n",
       "      <td>19</td>\n",
       "      <td>1</td>\n",
       "    </tr>\n",
       "    <tr>\n",
       "      <th>262378</th>\n",
       "      <td>-28.623353</td>\n",
       "      <td>-19.262983</td>\n",
       "      <td>-13.042666</td>\n",
       "      <td>11.027770</td>\n",
       "      <td>-14.710239</td>\n",
       "      <td>9.042659</td>\n",
       "      <td>12.143391</td>\n",
       "      <td>-2.818318</td>\n",
       "      <td>5.376427</td>\n",
       "      <td>6.556983</td>\n",
       "      <td>0.838451</td>\n",
       "      <td>0.162703</td>\n",
       "      <td>2.226394</td>\n",
       "      <td>-2.967565</td>\n",
       "      <td>2.413155</td>\n",
       "      <td>4.622756</td>\n",
       "      <td>-0.921336</td>\n",
       "      <td>-0.567711</td>\n",
       "      <td>3.076979</td>\n",
       "      <td>-15.251547</td>\n",
       "      <td>-6.511789</td>\n",
       "      <td>-0.416771</td>\n",
       "      <td>-10.288551</td>\n",
       "      <td>1.315177</td>\n",
       "      <td>0.274091</td>\n",
       "      <td>0.189539</td>\n",
       "      <td>-6.007981</td>\n",
       "      <td>14.929133</td>\n",
       "      <td>2074.69</td>\n",
       "      <td>0</td>\n",
       "      <td>20</td>\n",
       "      <td>1</td>\n",
       "    </tr>\n",
       "    <tr>\n",
       "      <th>271748</th>\n",
       "      <td>-11.290174</td>\n",
       "      <td>-9.961478</td>\n",
       "      <td>-3.433531</td>\n",
       "      <td>7.640636</td>\n",
       "      <td>-0.074734</td>\n",
       "      <td>0.444372</td>\n",
       "      <td>-0.719086</td>\n",
       "      <td>0.155330</td>\n",
       "      <td>-1.052571</td>\n",
       "      <td>1.499503</td>\n",
       "      <td>-0.217471</td>\n",
       "      <td>0.424655</td>\n",
       "      <td>0.754031</td>\n",
       "      <td>1.320109</td>\n",
       "      <td>1.323310</td>\n",
       "      <td>2.019897</td>\n",
       "      <td>0.017418</td>\n",
       "      <td>1.373053</td>\n",
       "      <td>1.255968</td>\n",
       "      <td>-0.743420</td>\n",
       "      <td>0.591751</td>\n",
       "      <td>-0.531335</td>\n",
       "      <td>-4.651133</td>\n",
       "      <td>0.750252</td>\n",
       "      <td>-1.217783</td>\n",
       "      <td>0.417779</td>\n",
       "      <td>2.248959</td>\n",
       "      <td>-2.556631</td>\n",
       "      <td>628.02</td>\n",
       "      <td>0</td>\n",
       "      <td>21</td>\n",
       "      <td>1</td>\n",
       "    </tr>\n",
       "    <tr>\n",
       "      <th>283268</th>\n",
       "      <td>-10.325582</td>\n",
       "      <td>-10.256755</td>\n",
       "      <td>-1.920520</td>\n",
       "      <td>4.742631</td>\n",
       "      <td>6.596055</td>\n",
       "      <td>-4.144106</td>\n",
       "      <td>-5.947807</td>\n",
       "      <td>-1.959710</td>\n",
       "      <td>1.884900</td>\n",
       "      <td>1.122661</td>\n",
       "      <td>1.031898</td>\n",
       "      <td>1.716891</td>\n",
       "      <td>0.471279</td>\n",
       "      <td>-0.978095</td>\n",
       "      <td>0.708468</td>\n",
       "      <td>-0.419410</td>\n",
       "      <td>1.972063</td>\n",
       "      <td>0.622804</td>\n",
       "      <td>3.558427</td>\n",
       "      <td>-4.806940</td>\n",
       "      <td>0.311710</td>\n",
       "      <td>-0.286815</td>\n",
       "      <td>-8.451591</td>\n",
       "      <td>1.644076</td>\n",
       "      <td>-1.927760</td>\n",
       "      <td>0.382244</td>\n",
       "      <td>3.800540</td>\n",
       "      <td>-4.555243</td>\n",
       "      <td>3.69</td>\n",
       "      <td>0</td>\n",
       "      <td>23</td>\n",
       "      <td>1</td>\n",
       "    </tr>\n",
       "    <tr>\n",
       "      <th>271719</th>\n",
       "      <td>-8.660523</td>\n",
       "      <td>-7.411228</td>\n",
       "      <td>-3.650306</td>\n",
       "      <td>6.765139</td>\n",
       "      <td>-5.488383</td>\n",
       "      <td>4.572329</td>\n",
       "      <td>5.645146</td>\n",
       "      <td>-0.966855</td>\n",
       "      <td>-1.717212</td>\n",
       "      <td>0.446837</td>\n",
       "      <td>-0.034446</td>\n",
       "      <td>-0.511947</td>\n",
       "      <td>0.637122</td>\n",
       "      <td>0.654045</td>\n",
       "      <td>1.190977</td>\n",
       "      <td>2.157236</td>\n",
       "      <td>-0.434395</td>\n",
       "      <td>1.610890</td>\n",
       "      <td>1.457861</td>\n",
       "      <td>-1.465169</td>\n",
       "      <td>0.244317</td>\n",
       "      <td>0.530315</td>\n",
       "      <td>0.771859</td>\n",
       "      <td>0.506541</td>\n",
       "      <td>0.029399</td>\n",
       "      <td>0.655671</td>\n",
       "      <td>3.007225</td>\n",
       "      <td>-3.022176</td>\n",
       "      <td>1653.07</td>\n",
       "      <td>0</td>\n",
       "      <td>21</td>\n",
       "      <td>1</td>\n",
       "    </tr>\n",
       "    <tr>\n",
       "      <th>274661</th>\n",
       "      <td>-8.263192</td>\n",
       "      <td>-6.244632</td>\n",
       "      <td>-0.587264</td>\n",
       "      <td>2.299239</td>\n",
       "      <td>4.769829</td>\n",
       "      <td>-4.161568</td>\n",
       "      <td>-3.653759</td>\n",
       "      <td>-2.872764</td>\n",
       "      <td>0.541417</td>\n",
       "      <td>0.651086</td>\n",
       "      <td>0.045762</td>\n",
       "      <td>1.399703</td>\n",
       "      <td>1.397927</td>\n",
       "      <td>0.600707</td>\n",
       "      <td>1.834004</td>\n",
       "      <td>-0.223677</td>\n",
       "      <td>0.324488</td>\n",
       "      <td>-0.552931</td>\n",
       "      <td>0.915671</td>\n",
       "      <td>-3.245348</td>\n",
       "      <td>1.541286</td>\n",
       "      <td>-0.649361</td>\n",
       "      <td>-5.767384</td>\n",
       "      <td>1.037275</td>\n",
       "      <td>-0.204257</td>\n",
       "      <td>0.179156</td>\n",
       "      <td>2.779440</td>\n",
       "      <td>-3.273512</td>\n",
       "      <td>0.89</td>\n",
       "      <td>0</td>\n",
       "      <td>22</td>\n",
       "      <td>1</td>\n",
       "    </tr>\n",
       "    <tr>\n",
       "      <th>262843</th>\n",
       "      <td>-34.092032</td>\n",
       "      <td>-24.237418</td>\n",
       "      <td>-15.758012</td>\n",
       "      <td>12.672760</td>\n",
       "      <td>-14.913249</td>\n",
       "      <td>7.939152</td>\n",
       "      <td>11.118494</td>\n",
       "      <td>-1.985873</td>\n",
       "      <td>5.693151</td>\n",
       "      <td>6.601719</td>\n",
       "      <td>0.690859</td>\n",
       "      <td>0.868797</td>\n",
       "      <td>2.803243</td>\n",
       "      <td>-2.158797</td>\n",
       "      <td>2.838230</td>\n",
       "      <td>5.286804</td>\n",
       "      <td>-0.566628</td>\n",
       "      <td>-0.572758</td>\n",
       "      <td>2.772667</td>\n",
       "      <td>-14.562079</td>\n",
       "      <td>-6.406856</td>\n",
       "      <td>-1.384773</td>\n",
       "      <td>-13.615143</td>\n",
       "      <td>1.542827</td>\n",
       "      <td>-0.332634</td>\n",
       "      <td>-0.058112</td>\n",
       "      <td>-6.782493</td>\n",
       "      <td>14.974180</td>\n",
       "      <td>1441.06</td>\n",
       "      <td>0</td>\n",
       "      <td>20</td>\n",
       "      <td>1</td>\n",
       "    </tr>\n",
       "    <tr>\n",
       "      <th>262839</th>\n",
       "      <td>-31.972536</td>\n",
       "      <td>-22.709113</td>\n",
       "      <td>-13.942635</td>\n",
       "      <td>12.132323</td>\n",
       "      <td>-12.217243</td>\n",
       "      <td>6.721727</td>\n",
       "      <td>8.956140</td>\n",
       "      <td>-2.100171</td>\n",
       "      <td>5.795877</td>\n",
       "      <td>7.015112</td>\n",
       "      <td>0.726982</td>\n",
       "      <td>0.830798</td>\n",
       "      <td>2.501233</td>\n",
       "      <td>-2.393265</td>\n",
       "      <td>2.653246</td>\n",
       "      <td>4.799802</td>\n",
       "      <td>-0.612517</td>\n",
       "      <td>-0.669213</td>\n",
       "      <td>2.861955</td>\n",
       "      <td>-14.540913</td>\n",
       "      <td>-6.279207</td>\n",
       "      <td>-1.296311</td>\n",
       "      <td>-14.078082</td>\n",
       "      <td>1.519264</td>\n",
       "      <td>-0.562652</td>\n",
       "      <td>-0.018176</td>\n",
       "      <td>-6.617555</td>\n",
       "      <td>15.124103</td>\n",
       "      <td>1441.06</td>\n",
       "      <td>0</td>\n",
       "      <td>20</td>\n",
       "      <td>1</td>\n",
       "    </tr>\n",
       "  </tbody>\n",
       "</table>\n",
       "</div>"
      ],
      "text/plain": [
       "               V1         V2         V3         V4         V5        V6  \\\n",
       "267217  -1.272113   0.068039   0.582609   4.097004  -3.310319  5.179480   \n",
       "271810 -15.622687 -13.011941  -8.330979   8.860364  -8.640796  4.839857   \n",
       "265283  -4.276866  -2.351261   0.779925   5.683857   1.163263  0.193968   \n",
       "262178  -6.193345   3.743459  -2.755558  -2.138186  -3.521355  0.329836   \n",
       "271962  -2.056673   2.204844  -1.979134   0.149720   3.428212  1.015140   \n",
       "271853 -18.479164 -15.726967  -9.410119   9.739257  -7.635013  3.553671   \n",
       "271773 -12.445555  -9.899507  -6.622124   7.777677  -8.651513  5.582699   \n",
       "271772  -5.153221   0.539706  -0.689382   1.320317  -0.864433  2.240697   \n",
       "261843 -26.389030 -17.755687 -10.278766  10.413010  -9.446086  6.220135   \n",
       "275590  -2.074173   2.542825  -0.408849   0.964889  -2.080833  2.519724   \n",
       "261282 -23.441978 -14.981971  -9.581877   8.417627 -11.061877  7.758075   \n",
       "282503 -11.025028 -12.369532  -1.716078   2.506561   9.021776 -5.882446   \n",
       "256567  -5.774807  -4.322278  -1.299373   1.048874   4.126901 -2.839736   \n",
       "262378 -28.623353 -19.262983 -13.042666  11.027770 -14.710239  9.042659   \n",
       "271748 -11.290174  -9.961478  -3.433531   7.640636  -0.074734  0.444372   \n",
       "283268 -10.325582 -10.256755  -1.920520   4.742631   6.596055 -4.144106   \n",
       "271719  -8.660523  -7.411228  -3.650306   6.765139  -5.488383  4.572329   \n",
       "274661  -8.263192  -6.244632  -0.587264   2.299239   4.769829 -4.161568   \n",
       "262843 -34.092032 -24.237418 -15.758012  12.672760 -14.913249  7.939152   \n",
       "262839 -31.972536 -22.709113 -13.942635  12.132323 -12.217243  6.721727   \n",
       "\n",
       "               V7         V8        V9       V10       V11       V12  \\\n",
       "267217   5.400805  -1.175404 -1.894854  1.482092  0.229732 -0.856864   \n",
       "271810   6.164138  -0.595616 -1.179146  0.472436 -0.059583  0.440708   \n",
       "265283  -2.090351  -3.126043 -1.112571  1.638437 -1.012344 -0.687348   \n",
       "262178  -4.331610  -3.682092  1.668506 -1.368702 -2.006453  1.827548   \n",
       "271962  -6.803024 -10.062100 -1.283291 -3.229818  1.730693  1.973798   \n",
       "271853   4.550106   0.008685 -0.946745  0.655153 -0.167960  0.900855   \n",
       "271773   7.198959  -0.718150 -1.557141  0.255170 -0.078356 -0.103489   \n",
       "271772  -2.936963  -8.012247 -0.441292 -0.631442  0.623720  1.550537   \n",
       "261843   7.705953  -2.311311  5.501918  7.223713  0.727981  0.246398   \n",
       "275590  -4.746074 -11.505696  0.658514 -0.546830 -1.210236  0.749030   \n",
       "261282  10.810261  -2.774280  5.358971  6.335275  0.538991 -0.325198   \n",
       "282503  -5.559536  -0.288564  0.213490 -0.063428 -0.200818  0.499905   \n",
       "256567  -2.047075   0.123781  0.762231  0.617483  0.621355 -0.045852   \n",
       "262378  12.143391  -2.818318  5.376427  6.556983  0.838451  0.162703   \n",
       "271748  -0.719086   0.155330 -1.052571  1.499503 -0.217471  0.424655   \n",
       "283268  -5.947807  -1.959710  1.884900  1.122661  1.031898  1.716891   \n",
       "271719   5.645146  -0.966855 -1.717212  0.446837 -0.034446 -0.511947   \n",
       "274661  -3.653759  -2.872764  0.541417  0.651086  0.045762  1.399703   \n",
       "262843  11.118494  -1.985873  5.693151  6.601719  0.690859  0.868797   \n",
       "262839   8.956140  -2.100171  5.795877  7.015112  0.726982  0.830798   \n",
       "\n",
       "             V13       V14       V15       V16       V17       V18       V19  \\\n",
       "267217  1.258788 -0.884529  1.005968  1.038460 -1.274790  1.376447  1.639514   \n",
       "271810  1.480926  1.706326  1.945092  3.434636  0.014204  1.268959  0.979564   \n",
       "265283 -0.388245  0.424637  1.819049  0.886377  0.054206  0.270834  0.890418   \n",
       "262178  0.053146  1.874911  0.704863  0.095265  1.498139  0.762450  0.757832   \n",
       "271962 -0.306504 -0.577694  0.916689  0.693109  2.866188  0.528501 -1.791011   \n",
       "271853  1.746797  2.175219  2.137045  3.668589  0.245755  1.259988  0.808516   \n",
       "271773  1.140236  1.219640  1.584698  2.983646 -0.209193  1.496537  1.240575   \n",
       "271772  0.142896  1.101551  0.472399  0.944118 -0.098894  1.075245  0.307622   \n",
       "261843  1.819804 -3.104880  2.065221  3.801851 -0.865402 -0.524366  3.189471   \n",
       "275590 -0.906732  1.135704  1.681184 -0.421953  1.246773  0.762016  1.975519   \n",
       "261282  1.394314 -3.748751  0.671974  4.211133 -1.862392 -0.473282  1.655804   \n",
       "282503 -0.721622  1.847857  2.258174 -0.701520  1.280618 -2.090390 -0.304674   \n",
       "256567 -1.465796 -0.307403  0.198119  0.837805  0.413676  0.379498  0.965424   \n",
       "262378  2.226394 -2.967565  2.413155  4.622756 -0.921336 -0.567711  3.076979   \n",
       "271748  0.754031  1.320109  1.323310  2.019897  0.017418  1.373053  1.255968   \n",
       "283268  0.471279 -0.978095  0.708468 -0.419410  1.972063  0.622804  3.558427   \n",
       "271719  0.637122  0.654045  1.190977  2.157236 -0.434395  1.610890  1.457861   \n",
       "274661  1.397927  0.600707  1.834004 -0.223677  0.324488 -0.552931  0.915671   \n",
       "262843  2.803243 -2.158797  2.838230  5.286804 -0.566628 -0.572758  2.772667   \n",
       "262839  2.501233 -2.393265  2.653246  4.799802 -0.612517 -0.669213  2.861955   \n",
       "\n",
       "              V20       V21       V22        V23       V24       V25  \\\n",
       "267217  -0.066322 -0.268708  0.720659  -0.235109 -0.241588  0.323601   \n",
       "271810  -2.366295 -0.208414 -1.125043  -8.102468  1.138071 -1.738299   \n",
       "265283  -1.840792 -1.846139  0.776956  -3.868809  0.365492 -1.406257   \n",
       "262178  -2.254836  6.820133 -0.994141   0.746331 -0.115762 -0.060923   \n",
       "271962   2.338888 -4.832522  1.693413  -3.893988 -1.667340 -0.021368   \n",
       "271853  -1.733186 -0.037107 -1.706726 -10.117548  1.250139 -2.141659   \n",
       "271773  -2.190840 -0.118345 -0.127672  -2.565750  0.782798 -0.526436   \n",
       "271772  -0.899446  0.322245  0.838864   0.606083  0.740160  0.024977   \n",
       "261843 -14.141898 -5.979891 -0.215655  -9.002474  1.126551  0.396670   \n",
       "275590   0.041627  3.719067 -0.548923   0.809661 -0.168330  0.345735   \n",
       "261282 -14.487174 -5.979539  0.914055  -3.089904  0.767810  1.282514   \n",
       "282503  -0.953131  0.667626 -1.215515  -4.854515 -0.418007 -0.303512   \n",
       "256567  -1.482234 -0.966763 -1.508033  -3.625214  0.596770 -1.054350   \n",
       "262378 -15.251547 -6.511789 -0.416771 -10.288551  1.315177  0.274091   \n",
       "271748  -0.743420  0.591751 -0.531335  -4.651133  0.750252 -1.217783   \n",
       "283268  -4.806940  0.311710 -0.286815  -8.451591  1.644076 -1.927760   \n",
       "271719  -1.465169  0.244317  0.530315   0.771859  0.506541  0.029399   \n",
       "274661  -3.245348  1.541286 -0.649361  -5.767384  1.037275 -0.204257   \n",
       "262843 -14.562079 -6.406856 -1.384773 -13.615143  1.542827 -0.332634   \n",
       "262839 -14.540913 -6.279207 -1.296311 -14.078082  1.519264 -0.562652   \n",
       "\n",
       "             V26       V27        V28   Amount  Class  Hour  Day  \n",
       "267217  0.516139  0.113391  -0.922299  1133.88      0    21    1  \n",
       "271810  0.326575  3.276514  -3.250235  1875.48      0    21    1  \n",
       "265283  0.475776  1.689813  -0.445367   758.58      0    20    1  \n",
       "262178 -0.083951 -1.518275  -0.101944    36.00      0    20    1  \n",
       "271962  0.049621  0.240402   0.506780     1.00      0    21    1  \n",
       "271853  0.173716  2.670597  -3.095313  1350.90      0    21    1  \n",
       "271773  0.524346  3.180379  -3.260522  1783.26      0    21    1  \n",
       "271772 -0.365926  0.904607  -0.121755   192.60      0    21    1  \n",
       "261843  0.220177 -6.592504  15.373170  1441.06      0    20    1  \n",
       "275590  0.671787  0.532920   0.356190    99.95      0    22    1  \n",
       "261282  0.050997 -6.426814  15.270650  1673.61      0    20    1  \n",
       "282503  1.624997  2.218141  -3.598140    39.99      0    23    1  \n",
       "256567  0.217528  1.924343  -2.053029     8.97      0    19    1  \n",
       "262378  0.189539 -6.007981  14.929133  2074.69      0    20    1  \n",
       "271748  0.417779  2.248959  -2.556631   628.02      0    21    1  \n",
       "283268  0.382244  3.800540  -4.555243     3.69      0    23    1  \n",
       "271719  0.655671  3.007225  -3.022176  1653.07      0    21    1  \n",
       "274661  0.179156  2.779440  -3.273512     0.89      0    22    1  \n",
       "262843 -0.058112 -6.782493  14.974180  1441.06      0    20    1  \n",
       "262839 -0.018176 -6.617555  15.124103  1441.06      0    20    1  "
      ]
     },
     "execution_count": 124,
     "metadata": {},
     "output_type": "execute_result"
    }
   ],
   "source": [
    "neg_obj_with_big_scores"
   ]
  },
  {
   "attachments": {},
   "cell_type": "markdown",
   "metadata": {},
   "source": [
    "Во первых сразу видим, что они идут практически подряд по времени (в среднем в 20-22 часа) и именно в 1 день, что странно потому что в это время больше всего транзакций, но мошеннических мало (знаем из графиков в начале ноутбука). "
   ]
  },
  {
   "cell_type": "code",
   "execution_count": 131,
   "metadata": {},
   "outputs": [
    {
     "name": "stdout",
     "output_type": "stream",
     "text": [
      "256 255\n",
      "256 255\n",
      "256 255\n",
      "256 255\n",
      "256 255\n",
      "256 255\n",
      "256 255\n",
      "256 255\n",
      "256 255\n",
      "256 255\n",
      "256 255\n",
      "256 255\n",
      "256 255\n",
      "256 255\n",
      "256 255\n",
      "256 255\n",
      "256 255\n",
      "256 255\n",
      "256 255\n",
      "256 255\n",
      "256 255\n",
      "256 255\n",
      "256 255\n",
      "256 255\n",
      "256 255\n",
      "256 255\n",
      "256 255\n",
      "256 255\n",
      "256 255\n",
      "256 255\n",
      "256 255\n",
      "256 255\n",
      "256 255\n",
      "256 255\n",
      "255 254\n",
      "256 255\n",
      "256 255\n",
      "256 255\n",
      "256 255\n",
      "256 255\n",
      "256 255\n",
      "256 255\n",
      "256 255\n",
      "256 255\n",
      "256 255\n",
      "256 255\n",
      "256 255\n",
      "256 255\n",
      "256 255\n",
      "256 255\n",
      "256 255\n",
      "256 255\n",
      "256 255\n",
      "256 255\n",
      "256 255\n",
      "255 254\n",
      "256 255\n",
      "256 255\n",
      "256 255\n",
      "256 255\n",
      "256 255\n",
      "256 255\n",
      "256 255\n",
      "256 255\n",
      "256 255\n",
      "256 255\n",
      "256 255\n",
      "256 255\n",
      "256 255\n",
      "256 255\n",
      "256 255\n",
      "256 255\n",
      "256 255\n",
      "256 255\n",
      "256 255\n",
      "256 255\n",
      "256 255\n",
      "256 255\n",
      "256 255\n",
      "256 255\n",
      "256 255\n",
      "256 255\n",
      "256 255\n",
      "256 255\n",
      "256 255\n",
      "256 255\n",
      "256 255\n",
      "256 255\n",
      "256 255\n",
      "256 255\n",
      "256 255\n",
      "256 255\n",
      "256 255\n",
      "256 255\n",
      "256 255\n",
      "256 255\n",
      "256 255\n",
      "256 255\n",
      "256 255\n",
      "256 255\n"
     ]
    }
   ],
   "source": [
    "trees_external = []\n",
    "trees_internal = []\n",
    "\n",
    "for tree in model.trees:\n",
    "    trees_external.append(tree.external_count)\n",
    "    trees_internal.append(tree.internal_count)\n",
    "    print(tree.external_count, tree.internal_count)"
   ]
  },
  {
   "cell_type": "code",
   "execution_count": 130,
   "metadata": {},
   "outputs": [
    {
     "name": "stdout",
     "output_type": "stream",
     "text": [
      "external 255.98 0.13999999999999999\n",
      "internal 254.98 0.13999999999999999\n"
     ]
    }
   ],
   "source": [
    "print('external', np.mean(trees_external), np.std(trees_external))\n",
    "print('internal', np.mean(trees_internal), np.std(trees_internal))"
   ]
  },
  {
   "attachments": {},
   "cell_type": "markdown",
   "metadata": {},
   "source": [
    "Видим, что с небольшим отклонением все деревья имеют различающееся на 1 количество внутренних и внешних нод, то есть получаются полные двоичные деревья, так что с высокой вероятностью в этих нодах примерно одинаковое число вершин, из-за этого классификация происходит не очень качественно и даже такие вершины могут иметь высокий скор "
   ]
  },
  {
   "attachments": {},
   "cell_type": "markdown",
   "metadata": {
    "id": "oLpfrhGFs9BX"
   },
   "source": [
    "**Задание 6. (1 балл).** `sklearn` также предлагает нам и другие методы для поиска аномалий. В этом задании мы предлагаем вам сделать следующее:\n",
    "\n",
    "Для начала попробуйте использовать методы Local Outlier Factor и One-Class SVM. Сравните результаты с IF и EIF.  "
   ]
  },
  {
   "cell_type": "code",
   "execution_count": 19,
   "metadata": {},
   "outputs": [],
   "source": [
    "from sklearn.neighbors import LocalOutlierFactor\n",
    "from sklearn.svm import OneClassSVM\n",
    "from sklearn.ensemble import IsolationForest"
   ]
  },
  {
   "cell_type": "code",
   "execution_count": 132,
   "metadata": {
    "id": "vs8q00tXs9BX"
   },
   "outputs": [
    {
     "name": "stdout",
     "output_type": "stream",
     "text": [
      "IF kappa: 0.02791295847695465\n",
      "IF mcc: 0.10726241580300723\n",
      "IF auc-pr: 0.41664242810244595\n"
     ]
    }
   ],
   "source": [
    "clf = IsolationForest(random_state=42, max_features=30).fit(X_train_scaled)\n",
    "test_pred = (clf.predict(X_test_scaled) == -1)\n",
    "\n",
    "print('IF kappa:', kappa_coef(X_test['Class'], test_pred))\n",
    "print('IF mcc:', mcc(X_test['Class'], test_pred))\n",
    "print('IF auc-pr:', auc_pr(X_test['Class'], test_pred))"
   ]
  },
  {
   "cell_type": "code",
   "execution_count": 133,
   "metadata": {},
   "outputs": [
    {
     "name": "stdout",
     "output_type": "stream",
     "text": [
      "LOF kappa: -0.00013281647269312304\n",
      "LOF mcc: 0.0\n",
      "LOF auc-pr: 0.40948032555628616\n"
     ]
    }
   ],
   "source": [
    "test_pred = LocalOutlierFactor(p=2, contamination=0.01).fit_predict(X_test_scaled)\n",
    "\n",
    "print('LOF kappa:', kappa_coef(X_test['Class'], test_pred))\n",
    "print('LOF mcc:', mcc(X_test['Class'], test_pred))\n",
    "print('LOF auc-pr:', auc_pr(X_test['Class'], test_pred))"
   ]
  },
  {
   "cell_type": "code",
   "execution_count": 134,
   "metadata": {},
   "outputs": [
    {
     "name": "stdout",
     "output_type": "stream",
     "text": [
      "LOF kappa: -0.00013281647269312304\n",
      "LOF mcc: 0.0\n",
      "LOF auc-pr: 0.40948032555628616\n"
     ]
    }
   ],
   "source": [
    "test_pred = LocalOutlierFactor(p=3, contamination=0.01).fit_predict(X_test_scaled)\n",
    "\n",
    "print('LOF kappa:', kappa_coef(X_test['Class'], test_pred))\n",
    "print('LOF mcc:', mcc(X_test['Class'], test_pred))\n",
    "print('LOF auc-pr:', auc_pr(X_test['Class'], test_pred))"
   ]
  },
  {
   "cell_type": "code",
   "execution_count": 135,
   "metadata": {},
   "outputs": [
    {
     "name": "stdout",
     "output_type": "stream",
     "text": [
      "OneClassSVM kappa: -0.00035128763871468524\n",
      "OneClassSVM mcc: 0.0\n",
      "IOneClassSVMF auc-pr: 0.02313104698652324\n"
     ]
    }
   ],
   "source": [
    "test_pred = OneClassSVM(nu=0.5).fit_predict(X_test_scaled)\n",
    "\n",
    "print('OneClassSVM kappa:', kappa_coef(X_test['Class'], test_pred))\n",
    "print('OneClassSVM mcc:', mcc(X_test['Class'], test_pred))\n",
    "print('IOneClassSVMF auc-pr:', auc_pr(X_test['Class'], test_pred))"
   ]
  },
  {
   "cell_type": "code",
   "execution_count": 136,
   "metadata": {},
   "outputs": [
    {
     "name": "stdout",
     "output_type": "stream",
     "text": [
      "OneClassSVM kappa: -0.00023180614294565085\n",
      "OneClassSVM mcc: 0.0\n",
      "OneClassSVMF auc-pr: 0.0003862223938766195\n"
     ]
    }
   ],
   "source": [
    "test_pred = OneClassSVM(nu=0.7).fit_predict(X_test_scaled)\n",
    "\n",
    "print('OneClassSVM kappa:', kappa_coef(X_test['Class'], test_pred))\n",
    "print('OneClassSVM mcc:', mcc(X_test['Class'], test_pred))\n",
    "print('OneClassSVMF auc-pr:', auc_pr(X_test['Class'], test_pred))"
   ]
  },
  {
   "cell_type": "code",
   "execution_count": 137,
   "metadata": {},
   "outputs": [
    {
     "name": "stdout",
     "output_type": "stream",
     "text": [
      "OneClassSVM kappa: -0.0005130263106807764\n",
      "OneClassSVM mcc: 0.0\n",
      "OneClassSVMF auc-pr: 0.06858119800357754\n"
     ]
    }
   ],
   "source": [
    "test_pred = OneClassSVM(nu=0.2).fit_predict(X_test_scaled)\n",
    "\n",
    "print('OneClassSVM kappa:', kappa_coef(X_test['Class'], test_pred))\n",
    "print('OneClassSVM mcc:', mcc(X_test['Class'], test_pred))\n",
    "print('OneClassSVMF auc-pr:', auc_pr(X_test['Class'], test_pred))"
   ]
  },
  {
   "attachments": {},
   "cell_type": "markdown",
   "metadata": {},
   "source": [
    "Метрики снова получились не лучше чем у самых первых попыток в начале ноутбука. По метрикам kappa и mcc EIF дает наилучшие показатели, но auc-pr выше у реализации IF из sklearn. LocalOutlierFactor показал нулевые kappa и mcc, но auc-pr примерно как у IF. OneClassSVM показал наихудшие резы, все три метрики очень низкие"
   ]
  },
  {
   "attachments": {},
   "cell_type": "markdown",
   "metadata": {
    "id": "BGY_u8nts9BX"
   },
   "source": [
    "У вас началась депрессия из-за плохих метрик? Не беда! Сейчас давайте сделаем так: все методы, опробованные в этой части, попробуем задействовать для создания дополнительных признаков в данных. Проделайте это (не забудьте, что обучаться здесь нужно на трейне). Теперь возьмите лучшую модель из предыдущей части и обучите на новых данных. Смогли ли unsupervised-методы повысить вам качество?"
   ]
  },
  {
   "cell_type": "code",
   "execution_count": 20,
   "metadata": {
    "id": "Q3QpV-Hgs9BY"
   },
   "outputs": [
    {
     "name": "stderr",
     "output_type": "stream",
     "text": [
      "/var/folders/zx/wrwkdswj43x8h8lg01g13ry00000gq/T/ipykernel_38647/2410729722.py:1: SettingWithCopyWarning: \n",
      "A value is trying to be set on a copy of a slice from a DataFrame.\n",
      "Try using .loc[row_indexer,col_indexer] = value instead\n",
      "\n",
      "See the caveats in the documentation: https://pandas.pydata.org/pandas-docs/stable/user_guide/indexing.html#returning-a-view-versus-a-copy\n",
      "  X_train['oneSVM'] = OneClassSVM(nu=0.01).fit_predict(X_train_scaled)\n"
     ]
    }
   ],
   "source": [
    "X_train['oneSVM'] = OneClassSVM(nu=0.01).fit_predict(X_train_scaled)"
   ]
  },
  {
   "cell_type": "code",
   "execution_count": 22,
   "metadata": {},
   "outputs": [
    {
     "name": "stderr",
     "output_type": "stream",
     "text": [
      "/var/folders/zx/wrwkdswj43x8h8lg01g13ry00000gq/T/ipykernel_38647/388080286.py:1: SettingWithCopyWarning: \n",
      "A value is trying to be set on a copy of a slice from a DataFrame.\n",
      "Try using .loc[row_indexer,col_indexer] = value instead\n",
      "\n",
      "See the caveats in the documentation: https://pandas.pydata.org/pandas-docs/stable/user_guide/indexing.html#returning-a-view-versus-a-copy\n",
      "  X_train['LOF'] = LocalOutlierFactor(p=2, contamination=0.01).fit_predict(X_train_scaled)\n"
     ]
    }
   ],
   "source": [
    "X_train['LOF'] = LocalOutlierFactor(p=2, contamination=0.01).fit_predict(X_train_scaled)"
   ]
  },
  {
   "cell_type": "code",
   "execution_count": 29,
   "metadata": {},
   "outputs": [
    {
     "name": "stderr",
     "output_type": "stream",
     "text": [
      "/var/folders/zx/wrwkdswj43x8h8lg01g13ry00000gq/T/ipykernel_38647/2246092426.py:2: SettingWithCopyWarning: \n",
      "A value is trying to be set on a copy of a slice from a DataFrame.\n",
      "Try using .loc[row_indexer,col_indexer] = value instead\n",
      "\n",
      "See the caveats in the documentation: https://pandas.pydata.org/pandas-docs/stable/user_guide/indexing.html#returning-a-view-versus-a-copy\n",
      "  X_train['IF'] = np.int32(clf.predict(X_train_scaled) == -1)\n"
     ]
    }
   ],
   "source": [
    "clf = IsolationForest(random_state=42, max_features=30).fit(X_train_scaled)\n",
    "X_train['IF'] = np.int32(clf.predict(X_train_scaled) == -1)"
   ]
  },
  {
   "cell_type": "code",
   "execution_count": 30,
   "metadata": {},
   "outputs": [
    {
     "data": {
      "text/html": [
       "<div>\n",
       "<style scoped>\n",
       "    .dataframe tbody tr th:only-of-type {\n",
       "        vertical-align: middle;\n",
       "    }\n",
       "\n",
       "    .dataframe tbody tr th {\n",
       "        vertical-align: top;\n",
       "    }\n",
       "\n",
       "    .dataframe thead th {\n",
       "        text-align: right;\n",
       "    }\n",
       "</style>\n",
       "<table border=\"1\" class=\"dataframe\">\n",
       "  <thead>\n",
       "    <tr style=\"text-align: right;\">\n",
       "      <th></th>\n",
       "      <th>V1</th>\n",
       "      <th>V2</th>\n",
       "      <th>V3</th>\n",
       "      <th>V4</th>\n",
       "      <th>V5</th>\n",
       "      <th>V6</th>\n",
       "      <th>V7</th>\n",
       "      <th>V8</th>\n",
       "      <th>V9</th>\n",
       "      <th>V10</th>\n",
       "      <th>V11</th>\n",
       "      <th>V12</th>\n",
       "      <th>V13</th>\n",
       "      <th>V14</th>\n",
       "      <th>V15</th>\n",
       "      <th>V16</th>\n",
       "      <th>V17</th>\n",
       "      <th>V18</th>\n",
       "      <th>V19</th>\n",
       "      <th>V20</th>\n",
       "      <th>V21</th>\n",
       "      <th>V22</th>\n",
       "      <th>V23</th>\n",
       "      <th>V24</th>\n",
       "      <th>V25</th>\n",
       "      <th>V26</th>\n",
       "      <th>V27</th>\n",
       "      <th>V28</th>\n",
       "      <th>Amount</th>\n",
       "      <th>Class</th>\n",
       "      <th>Hour</th>\n",
       "      <th>Day</th>\n",
       "      <th>oneSVM</th>\n",
       "      <th>LOF</th>\n",
       "      <th>IF</th>\n",
       "    </tr>\n",
       "  </thead>\n",
       "  <tbody>\n",
       "    <tr>\n",
       "      <th>0</th>\n",
       "      <td>-1.359807</td>\n",
       "      <td>-0.072781</td>\n",
       "      <td>2.536347</td>\n",
       "      <td>1.378155</td>\n",
       "      <td>-0.338321</td>\n",
       "      <td>0.462388</td>\n",
       "      <td>0.239599</td>\n",
       "      <td>0.098698</td>\n",
       "      <td>0.363787</td>\n",
       "      <td>0.090794</td>\n",
       "      <td>-0.551600</td>\n",
       "      <td>-0.617801</td>\n",
       "      <td>-0.991390</td>\n",
       "      <td>-0.311169</td>\n",
       "      <td>1.468177</td>\n",
       "      <td>-0.470401</td>\n",
       "      <td>0.207971</td>\n",
       "      <td>0.025791</td>\n",
       "      <td>0.403993</td>\n",
       "      <td>0.251412</td>\n",
       "      <td>-0.018307</td>\n",
       "      <td>0.277838</td>\n",
       "      <td>-0.110474</td>\n",
       "      <td>0.066928</td>\n",
       "      <td>0.128539</td>\n",
       "      <td>-0.189115</td>\n",
       "      <td>0.133558</td>\n",
       "      <td>-0.021053</td>\n",
       "      <td>149.62</td>\n",
       "      <td>0</td>\n",
       "      <td>0.0</td>\n",
       "      <td>0.0</td>\n",
       "      <td>1</td>\n",
       "      <td>1</td>\n",
       "      <td>0</td>\n",
       "    </tr>\n",
       "    <tr>\n",
       "      <th>1</th>\n",
       "      <td>1.191857</td>\n",
       "      <td>0.266151</td>\n",
       "      <td>0.166480</td>\n",
       "      <td>0.448154</td>\n",
       "      <td>0.060018</td>\n",
       "      <td>-0.082361</td>\n",
       "      <td>-0.078803</td>\n",
       "      <td>0.085102</td>\n",
       "      <td>-0.255425</td>\n",
       "      <td>-0.166974</td>\n",
       "      <td>1.612727</td>\n",
       "      <td>1.065235</td>\n",
       "      <td>0.489095</td>\n",
       "      <td>-0.143772</td>\n",
       "      <td>0.635558</td>\n",
       "      <td>0.463917</td>\n",
       "      <td>-0.114805</td>\n",
       "      <td>-0.183361</td>\n",
       "      <td>-0.145783</td>\n",
       "      <td>-0.069083</td>\n",
       "      <td>-0.225775</td>\n",
       "      <td>-0.638672</td>\n",
       "      <td>0.101288</td>\n",
       "      <td>-0.339846</td>\n",
       "      <td>0.167170</td>\n",
       "      <td>0.125895</td>\n",
       "      <td>-0.008983</td>\n",
       "      <td>0.014724</td>\n",
       "      <td>2.69</td>\n",
       "      <td>0</td>\n",
       "      <td>0.0</td>\n",
       "      <td>0.0</td>\n",
       "      <td>1</td>\n",
       "      <td>1</td>\n",
       "      <td>0</td>\n",
       "    </tr>\n",
       "    <tr>\n",
       "      <th>2</th>\n",
       "      <td>-1.358354</td>\n",
       "      <td>-1.340163</td>\n",
       "      <td>1.773209</td>\n",
       "      <td>0.379780</td>\n",
       "      <td>-0.503198</td>\n",
       "      <td>1.800499</td>\n",
       "      <td>0.791461</td>\n",
       "      <td>0.247676</td>\n",
       "      <td>-1.514654</td>\n",
       "      <td>0.207643</td>\n",
       "      <td>0.624501</td>\n",
       "      <td>0.066084</td>\n",
       "      <td>0.717293</td>\n",
       "      <td>-0.165946</td>\n",
       "      <td>2.345865</td>\n",
       "      <td>-2.890083</td>\n",
       "      <td>1.109969</td>\n",
       "      <td>-0.121359</td>\n",
       "      <td>-2.261857</td>\n",
       "      <td>0.524980</td>\n",
       "      <td>0.247998</td>\n",
       "      <td>0.771679</td>\n",
       "      <td>0.909412</td>\n",
       "      <td>-0.689281</td>\n",
       "      <td>-0.327642</td>\n",
       "      <td>-0.139097</td>\n",
       "      <td>-0.055353</td>\n",
       "      <td>-0.059752</td>\n",
       "      <td>378.66</td>\n",
       "      <td>0</td>\n",
       "      <td>0.0</td>\n",
       "      <td>0.0</td>\n",
       "      <td>1</td>\n",
       "      <td>1</td>\n",
       "      <td>0</td>\n",
       "    </tr>\n",
       "    <tr>\n",
       "      <th>3</th>\n",
       "      <td>-0.966272</td>\n",
       "      <td>-0.185226</td>\n",
       "      <td>1.792993</td>\n",
       "      <td>-0.863291</td>\n",
       "      <td>-0.010309</td>\n",
       "      <td>1.247203</td>\n",
       "      <td>0.237609</td>\n",
       "      <td>0.377436</td>\n",
       "      <td>-1.387024</td>\n",
       "      <td>-0.054952</td>\n",
       "      <td>-0.226487</td>\n",
       "      <td>0.178228</td>\n",
       "      <td>0.507757</td>\n",
       "      <td>-0.287924</td>\n",
       "      <td>-0.631418</td>\n",
       "      <td>-1.059647</td>\n",
       "      <td>-0.684093</td>\n",
       "      <td>1.965775</td>\n",
       "      <td>-1.232622</td>\n",
       "      <td>-0.208038</td>\n",
       "      <td>-0.108300</td>\n",
       "      <td>0.005274</td>\n",
       "      <td>-0.190321</td>\n",
       "      <td>-1.175575</td>\n",
       "      <td>0.647376</td>\n",
       "      <td>-0.221929</td>\n",
       "      <td>0.062723</td>\n",
       "      <td>0.061458</td>\n",
       "      <td>123.50</td>\n",
       "      <td>0</td>\n",
       "      <td>0.0</td>\n",
       "      <td>0.0</td>\n",
       "      <td>1</td>\n",
       "      <td>1</td>\n",
       "      <td>0</td>\n",
       "    </tr>\n",
       "    <tr>\n",
       "      <th>4</th>\n",
       "      <td>-1.158233</td>\n",
       "      <td>0.877737</td>\n",
       "      <td>1.548718</td>\n",
       "      <td>0.403034</td>\n",
       "      <td>-0.407193</td>\n",
       "      <td>0.095921</td>\n",
       "      <td>0.592941</td>\n",
       "      <td>-0.270533</td>\n",
       "      <td>0.817739</td>\n",
       "      <td>0.753074</td>\n",
       "      <td>-0.822843</td>\n",
       "      <td>0.538196</td>\n",
       "      <td>1.345852</td>\n",
       "      <td>-1.119670</td>\n",
       "      <td>0.175121</td>\n",
       "      <td>-0.451449</td>\n",
       "      <td>-0.237033</td>\n",
       "      <td>-0.038195</td>\n",
       "      <td>0.803487</td>\n",
       "      <td>0.408542</td>\n",
       "      <td>-0.009431</td>\n",
       "      <td>0.798278</td>\n",
       "      <td>-0.137458</td>\n",
       "      <td>0.141267</td>\n",
       "      <td>-0.206010</td>\n",
       "      <td>0.502292</td>\n",
       "      <td>0.219422</td>\n",
       "      <td>0.215153</td>\n",
       "      <td>69.99</td>\n",
       "      <td>0</td>\n",
       "      <td>0.0</td>\n",
       "      <td>0.0</td>\n",
       "      <td>1</td>\n",
       "      <td>1</td>\n",
       "      <td>0</td>\n",
       "    </tr>\n",
       "    <tr>\n",
       "      <th>...</th>\n",
       "      <td>...</td>\n",
       "      <td>...</td>\n",
       "      <td>...</td>\n",
       "      <td>...</td>\n",
       "      <td>...</td>\n",
       "      <td>...</td>\n",
       "      <td>...</td>\n",
       "      <td>...</td>\n",
       "      <td>...</td>\n",
       "      <td>...</td>\n",
       "      <td>...</td>\n",
       "      <td>...</td>\n",
       "      <td>...</td>\n",
       "      <td>...</td>\n",
       "      <td>...</td>\n",
       "      <td>...</td>\n",
       "      <td>...</td>\n",
       "      <td>...</td>\n",
       "      <td>...</td>\n",
       "      <td>...</td>\n",
       "      <td>...</td>\n",
       "      <td>...</td>\n",
       "      <td>...</td>\n",
       "      <td>...</td>\n",
       "      <td>...</td>\n",
       "      <td>...</td>\n",
       "      <td>...</td>\n",
       "      <td>...</td>\n",
       "      <td>...</td>\n",
       "      <td>...</td>\n",
       "      <td>...</td>\n",
       "      <td>...</td>\n",
       "      <td>...</td>\n",
       "      <td>...</td>\n",
       "      <td>...</td>\n",
       "    </tr>\n",
       "    <tr>\n",
       "      <th>227841</th>\n",
       "      <td>0.306600</td>\n",
       "      <td>1.116021</td>\n",
       "      <td>-0.047348</td>\n",
       "      <td>3.593785</td>\n",
       "      <td>2.079047</td>\n",
       "      <td>5.748707</td>\n",
       "      <td>-2.059246</td>\n",
       "      <td>-1.352120</td>\n",
       "      <td>-1.849240</td>\n",
       "      <td>1.000154</td>\n",
       "      <td>-0.330464</td>\n",
       "      <td>-0.202383</td>\n",
       "      <td>-0.129313</td>\n",
       "      <td>0.713813</td>\n",
       "      <td>1.309414</td>\n",
       "      <td>0.399616</td>\n",
       "      <td>0.038217</td>\n",
       "      <td>-0.097967</td>\n",
       "      <td>0.632624</td>\n",
       "      <td>0.865457</td>\n",
       "      <td>-1.458527</td>\n",
       "      <td>-0.234478</td>\n",
       "      <td>0.258831</td>\n",
       "      <td>0.639005</td>\n",
       "      <td>-0.048250</td>\n",
       "      <td>0.144586</td>\n",
       "      <td>0.216385</td>\n",
       "      <td>0.304545</td>\n",
       "      <td>0.76</td>\n",
       "      <td>0</td>\n",
       "      <td>16.0</td>\n",
       "      <td>1.0</td>\n",
       "      <td>1</td>\n",
       "      <td>1</td>\n",
       "      <td>0</td>\n",
       "    </tr>\n",
       "    <tr>\n",
       "      <th>227842</th>\n",
       "      <td>-1.781954</td>\n",
       "      <td>2.062680</td>\n",
       "      <td>-3.758871</td>\n",
       "      <td>-1.801001</td>\n",
       "      <td>-0.084365</td>\n",
       "      <td>1.919610</td>\n",
       "      <td>-1.454364</td>\n",
       "      <td>-9.825473</td>\n",
       "      <td>-2.073119</td>\n",
       "      <td>-0.005816</td>\n",
       "      <td>-0.644403</td>\n",
       "      <td>0.982035</td>\n",
       "      <td>0.243801</td>\n",
       "      <td>1.541216</td>\n",
       "      <td>-1.949005</td>\n",
       "      <td>-1.278610</td>\n",
       "      <td>-0.179722</td>\n",
       "      <td>1.616439</td>\n",
       "      <td>-0.740407</td>\n",
       "      <td>-0.690810</td>\n",
       "      <td>1.234747</td>\n",
       "      <td>0.376804</td>\n",
       "      <td>-0.339706</td>\n",
       "      <td>-0.216688</td>\n",
       "      <td>-1.555393</td>\n",
       "      <td>0.655873</td>\n",
       "      <td>0.777662</td>\n",
       "      <td>0.272753</td>\n",
       "      <td>359.28</td>\n",
       "      <td>0</td>\n",
       "      <td>16.0</td>\n",
       "      <td>1.0</td>\n",
       "      <td>-1</td>\n",
       "      <td>1</td>\n",
       "      <td>1</td>\n",
       "    </tr>\n",
       "    <tr>\n",
       "      <th>227843</th>\n",
       "      <td>-0.061507</td>\n",
       "      <td>1.024900</td>\n",
       "      <td>-0.170060</td>\n",
       "      <td>-0.263220</td>\n",
       "      <td>0.982164</td>\n",
       "      <td>-1.162749</td>\n",
       "      <td>1.468942</td>\n",
       "      <td>-0.648407</td>\n",
       "      <td>-0.157586</td>\n",
       "      <td>-0.764370</td>\n",
       "      <td>-0.442168</td>\n",
       "      <td>0.024224</td>\n",
       "      <td>0.865039</td>\n",
       "      <td>-1.203879</td>\n",
       "      <td>0.627917</td>\n",
       "      <td>-0.103494</td>\n",
       "      <td>0.238910</td>\n",
       "      <td>0.634188</td>\n",
       "      <td>-0.030689</td>\n",
       "      <td>0.035225</td>\n",
       "      <td>0.299618</td>\n",
       "      <td>1.177722</td>\n",
       "      <td>-0.296209</td>\n",
       "      <td>-0.140335</td>\n",
       "      <td>-0.465171</td>\n",
       "      <td>-0.197933</td>\n",
       "      <td>-0.048916</td>\n",
       "      <td>0.023871</td>\n",
       "      <td>39.40</td>\n",
       "      <td>0</td>\n",
       "      <td>16.0</td>\n",
       "      <td>1.0</td>\n",
       "      <td>1</td>\n",
       "      <td>1</td>\n",
       "      <td>0</td>\n",
       "    </tr>\n",
       "    <tr>\n",
       "      <th>227844</th>\n",
       "      <td>2.050034</td>\n",
       "      <td>-0.103557</td>\n",
       "      <td>-1.204713</td>\n",
       "      <td>0.207198</td>\n",
       "      <td>0.108850</td>\n",
       "      <td>-0.665621</td>\n",
       "      <td>0.073598</td>\n",
       "      <td>-0.164464</td>\n",
       "      <td>0.303531</td>\n",
       "      <td>0.242471</td>\n",
       "      <td>0.614559</td>\n",
       "      <td>1.016880</td>\n",
       "      <td>0.081998</td>\n",
       "      <td>0.441357</td>\n",
       "      <td>-0.635926</td>\n",
       "      <td>0.203137</td>\n",
       "      <td>-0.682642</td>\n",
       "      <td>-0.251580</td>\n",
       "      <td>0.582943</td>\n",
       "      <td>-0.201782</td>\n",
       "      <td>-0.263799</td>\n",
       "      <td>-0.654763</td>\n",
       "      <td>0.280573</td>\n",
       "      <td>-0.405691</td>\n",
       "      <td>-0.274672</td>\n",
       "      <td>0.202719</td>\n",
       "      <td>-0.074529</td>\n",
       "      <td>-0.074279</td>\n",
       "      <td>0.17</td>\n",
       "      <td>0</td>\n",
       "      <td>16.0</td>\n",
       "      <td>1.0</td>\n",
       "      <td>1</td>\n",
       "      <td>1</td>\n",
       "      <td>0</td>\n",
       "    </tr>\n",
       "    <tr>\n",
       "      <th>227845</th>\n",
       "      <td>1.914027</td>\n",
       "      <td>-0.490068</td>\n",
       "      <td>-0.326111</td>\n",
       "      <td>0.604711</td>\n",
       "      <td>-0.850136</td>\n",
       "      <td>-0.736319</td>\n",
       "      <td>-0.524058</td>\n",
       "      <td>-0.088614</td>\n",
       "      <td>1.091125</td>\n",
       "      <td>0.093484</td>\n",
       "      <td>-0.892305</td>\n",
       "      <td>0.027221</td>\n",
       "      <td>-0.243790</td>\n",
       "      <td>0.031774</td>\n",
       "      <td>0.900624</td>\n",
       "      <td>0.536032</td>\n",
       "      <td>-0.648408</td>\n",
       "      <td>0.183072</td>\n",
       "      <td>-0.486322</td>\n",
       "      <td>-0.139579</td>\n",
       "      <td>0.210958</td>\n",
       "      <td>0.639338</td>\n",
       "      <td>0.147523</td>\n",
       "      <td>0.073654</td>\n",
       "      <td>-0.318378</td>\n",
       "      <td>0.350612</td>\n",
       "      <td>-0.023843</td>\n",
       "      <td>-0.037139</td>\n",
       "      <td>50.00</td>\n",
       "      <td>0</td>\n",
       "      <td>16.0</td>\n",
       "      <td>1.0</td>\n",
       "      <td>1</td>\n",
       "      <td>1</td>\n",
       "      <td>0</td>\n",
       "    </tr>\n",
       "  </tbody>\n",
       "</table>\n",
       "<p>227846 rows × 35 columns</p>\n",
       "</div>"
      ],
      "text/plain": [
       "              V1        V2        V3        V4        V5        V6        V7  \\\n",
       "0      -1.359807 -0.072781  2.536347  1.378155 -0.338321  0.462388  0.239599   \n",
       "1       1.191857  0.266151  0.166480  0.448154  0.060018 -0.082361 -0.078803   \n",
       "2      -1.358354 -1.340163  1.773209  0.379780 -0.503198  1.800499  0.791461   \n",
       "3      -0.966272 -0.185226  1.792993 -0.863291 -0.010309  1.247203  0.237609   \n",
       "4      -1.158233  0.877737  1.548718  0.403034 -0.407193  0.095921  0.592941   \n",
       "...          ...       ...       ...       ...       ...       ...       ...   \n",
       "227841  0.306600  1.116021 -0.047348  3.593785  2.079047  5.748707 -2.059246   \n",
       "227842 -1.781954  2.062680 -3.758871 -1.801001 -0.084365  1.919610 -1.454364   \n",
       "227843 -0.061507  1.024900 -0.170060 -0.263220  0.982164 -1.162749  1.468942   \n",
       "227844  2.050034 -0.103557 -1.204713  0.207198  0.108850 -0.665621  0.073598   \n",
       "227845  1.914027 -0.490068 -0.326111  0.604711 -0.850136 -0.736319 -0.524058   \n",
       "\n",
       "              V8        V9       V10       V11       V12       V13       V14  \\\n",
       "0       0.098698  0.363787  0.090794 -0.551600 -0.617801 -0.991390 -0.311169   \n",
       "1       0.085102 -0.255425 -0.166974  1.612727  1.065235  0.489095 -0.143772   \n",
       "2       0.247676 -1.514654  0.207643  0.624501  0.066084  0.717293 -0.165946   \n",
       "3       0.377436 -1.387024 -0.054952 -0.226487  0.178228  0.507757 -0.287924   \n",
       "4      -0.270533  0.817739  0.753074 -0.822843  0.538196  1.345852 -1.119670   \n",
       "...          ...       ...       ...       ...       ...       ...       ...   \n",
       "227841 -1.352120 -1.849240  1.000154 -0.330464 -0.202383 -0.129313  0.713813   \n",
       "227842 -9.825473 -2.073119 -0.005816 -0.644403  0.982035  0.243801  1.541216   \n",
       "227843 -0.648407 -0.157586 -0.764370 -0.442168  0.024224  0.865039 -1.203879   \n",
       "227844 -0.164464  0.303531  0.242471  0.614559  1.016880  0.081998  0.441357   \n",
       "227845 -0.088614  1.091125  0.093484 -0.892305  0.027221 -0.243790  0.031774   \n",
       "\n",
       "             V15       V16       V17       V18       V19       V20       V21  \\\n",
       "0       1.468177 -0.470401  0.207971  0.025791  0.403993  0.251412 -0.018307   \n",
       "1       0.635558  0.463917 -0.114805 -0.183361 -0.145783 -0.069083 -0.225775   \n",
       "2       2.345865 -2.890083  1.109969 -0.121359 -2.261857  0.524980  0.247998   \n",
       "3      -0.631418 -1.059647 -0.684093  1.965775 -1.232622 -0.208038 -0.108300   \n",
       "4       0.175121 -0.451449 -0.237033 -0.038195  0.803487  0.408542 -0.009431   \n",
       "...          ...       ...       ...       ...       ...       ...       ...   \n",
       "227841  1.309414  0.399616  0.038217 -0.097967  0.632624  0.865457 -1.458527   \n",
       "227842 -1.949005 -1.278610 -0.179722  1.616439 -0.740407 -0.690810  1.234747   \n",
       "227843  0.627917 -0.103494  0.238910  0.634188 -0.030689  0.035225  0.299618   \n",
       "227844 -0.635926  0.203137 -0.682642 -0.251580  0.582943 -0.201782 -0.263799   \n",
       "227845  0.900624  0.536032 -0.648408  0.183072 -0.486322 -0.139579  0.210958   \n",
       "\n",
       "             V22       V23       V24       V25       V26       V27       V28  \\\n",
       "0       0.277838 -0.110474  0.066928  0.128539 -0.189115  0.133558 -0.021053   \n",
       "1      -0.638672  0.101288 -0.339846  0.167170  0.125895 -0.008983  0.014724   \n",
       "2       0.771679  0.909412 -0.689281 -0.327642 -0.139097 -0.055353 -0.059752   \n",
       "3       0.005274 -0.190321 -1.175575  0.647376 -0.221929  0.062723  0.061458   \n",
       "4       0.798278 -0.137458  0.141267 -0.206010  0.502292  0.219422  0.215153   \n",
       "...          ...       ...       ...       ...       ...       ...       ...   \n",
       "227841 -0.234478  0.258831  0.639005 -0.048250  0.144586  0.216385  0.304545   \n",
       "227842  0.376804 -0.339706 -0.216688 -1.555393  0.655873  0.777662  0.272753   \n",
       "227843  1.177722 -0.296209 -0.140335 -0.465171 -0.197933 -0.048916  0.023871   \n",
       "227844 -0.654763  0.280573 -0.405691 -0.274672  0.202719 -0.074529 -0.074279   \n",
       "227845  0.639338  0.147523  0.073654 -0.318378  0.350612 -0.023843 -0.037139   \n",
       "\n",
       "        Amount  Class  Hour  Day  oneSVM  LOF  IF  \n",
       "0       149.62      0   0.0  0.0       1    1   0  \n",
       "1         2.69      0   0.0  0.0       1    1   0  \n",
       "2       378.66      0   0.0  0.0       1    1   0  \n",
       "3       123.50      0   0.0  0.0       1    1   0  \n",
       "4        69.99      0   0.0  0.0       1    1   0  \n",
       "...        ...    ...   ...  ...     ...  ...  ..  \n",
       "227841    0.76      0  16.0  1.0       1    1   0  \n",
       "227842  359.28      0  16.0  1.0      -1    1   1  \n",
       "227843   39.40      0  16.0  1.0       1    1   0  \n",
       "227844    0.17      0  16.0  1.0       1    1   0  \n",
       "227845   50.00      0  16.0  1.0       1    1   0  \n",
       "\n",
       "[227846 rows x 35 columns]"
      ]
     },
     "execution_count": 30,
     "metadata": {},
     "output_type": "execute_result"
    }
   ],
   "source": [
    "X_train"
   ]
  },
  {
   "cell_type": "code",
   "execution_count": 31,
   "metadata": {},
   "outputs": [],
   "source": [
    "from sklearn.preprocessing import StandardScaler\n",
    "\n",
    "scaler = StandardScaler()\n",
    "X_train_scaled = scaler.fit_transform(X_train[:int(0.8 * X_train.shape[0])].drop(columns='Class'))\n",
    "X_test_scaled = scaler.transform(X_train[int(0.8 * X_train.shape[0]):].drop(columns='Class'))"
   ]
  },
  {
   "cell_type": "code",
   "execution_count": 32,
   "metadata": {},
   "outputs": [
    {
     "name": "stdout",
     "output_type": "stream",
     "text": [
      "taking 182276 samples out of 182276\n"
     ]
    },
    {
     "data": {
      "application/vnd.jupyter.widget-view+json": {
       "model_id": "986c987fe2184ee3aff302a172ca40f7",
       "version_major": 2,
       "version_minor": 0
      },
      "text/plain": [
       "  0%|          | 0/100 [00:00<?, ?it/s]"
      ]
     },
     "metadata": {},
     "output_type": "display_data"
    },
    {
     "data": {
      "text/plain": [
       "ExtendedIsolationForest(n_trees=100, max_depth=8, subsample_rate=1, contamination=0.01, is_fit=True)"
      ]
     },
     "execution_count": 32,
     "metadata": {},
     "output_type": "execute_result"
    }
   ],
   "source": [
    "model = ExtendedIsolationForest(100, 1, 8, 0.01)\n",
    "model.fit(X_train_scaled)"
   ]
  },
  {
   "cell_type": "code",
   "execution_count": 35,
   "metadata": {},
   "outputs": [
    {
     "name": "stdout",
     "output_type": "stream",
     "text": [
      "45570\n"
     ]
    },
    {
     "data": {
      "application/vnd.jupyter.widget-view+json": {
       "model_id": "b2892f38712a442a89660ddf6ec08276",
       "version_major": 2,
       "version_minor": 0
      },
      "text/plain": [
       "  0%|          | 0/100 [00:00<?, ?it/s]"
      ]
     },
     "metadata": {},
     "output_type": "display_data"
    },
    {
     "name": "stdout",
     "output_type": "stream",
     "text": [
      "EIF kappa: 0.11235480563356069\n",
      "EIF mcc: 0.1859869389926124\n",
      "EIF auc-pr: 0.31089675846830833\n"
     ]
    }
   ],
   "source": [
    "test_pred, test_scores = model.predict(X_test_scaled)\n",
    "\n",
    "print('EIF kappa:', kappa_coef(X_train[int(0.8 * X_train.shape[0]):]['Class'], test_pred))\n",
    "print('EIF mcc:', mcc(X_train[int(0.8 * X_train.shape[0]):]['Class'], test_pred))\n",
    "print('EIF auc-pr:', auc_pr(X_train[int(0.8 * X_train.shape[0]):]['Class'], test_pred))"
   ]
  },
  {
   "attachments": {},
   "cell_type": "markdown",
   "metadata": {},
   "source": [
    "Ну стало немного поувереннее, но auc-pr просел маленько"
   ]
  },
  {
   "attachments": {},
   "cell_type": "markdown",
   "metadata": {
    "id": "NiGbNcXHs9BY"
   },
   "source": [
    "**Бонус. (0.1 балла).**\n",
    "\n",
    "При сдаче проверяющий запустит следующую клетку один раз. Если она даст положительный результат, вы получите 0.1 бонусных балла. Если она даст отрицательный результат, вы получите -0.1 бонусных балла. \n",
    "\n",
    "Если вы хотите отказаться от сдачи данного задания, допишите \"хочу\" после двоеточия: `your text here`\n",
    "\n",
    "Ниже вы можете попрактиковаться и оценить ваши силы (изменять код ячейки запрещается!)"
   ]
  },
  {
   "cell_type": "code",
   "execution_count": 63,
   "metadata": {
    "id": "mfgJoZ_ns9BY"
   },
   "outputs": [
    {
     "data": {
      "text/plain": [
       "0.36980588775220746"
      ]
     },
     "execution_count": 63,
     "metadata": {},
     "output_type": "execute_result"
    }
   ],
   "source": [
    "import random\n",
    "\n",
    "rng = random.SystemRandom(0)\n",
    "rng.uniform(-1.0, 1.0)"
   ]
  },
  {
   "cell_type": "code",
   "execution_count": 62,
   "metadata": {},
   "outputs": [
    {
     "data": {
      "text/plain": [
       "0.021612528210580483"
      ]
     },
     "execution_count": 62,
     "metadata": {},
     "output_type": "execute_result"
    }
   ],
   "source": [
    "ans = 0\n",
    "\n",
    "for i in range(1000):\n",
    "    rng = random.SystemRandom(0)\n",
    "    ans += rng.uniform(-1.0, 1.0)\n",
    "\n",
    "ans / 1000"
   ]
  },
  {
   "cell_type": "markdown",
   "metadata": {},
   "source": [
    "я считаю это успех"
   ]
  }
 ],
 "metadata": {
  "colab": {
   "collapsed_sections": [],
   "name": "imbalanced-hw-clean.ipynb",
   "provenance": []
  },
  "kernelspec": {
   "display_name": "Python 3 (ipykernel)",
   "language": "python",
   "name": "python3"
  },
  "language_info": {
   "codemirror_mode": {
    "name": "ipython",
    "version": 3
   },
   "file_extension": ".py",
   "mimetype": "text/x-python",
   "name": "python",
   "nbconvert_exporter": "python",
   "pygments_lexer": "ipython3",
   "version": "3.10.11"
  }
 },
 "nbformat": 4,
 "nbformat_minor": 1
}

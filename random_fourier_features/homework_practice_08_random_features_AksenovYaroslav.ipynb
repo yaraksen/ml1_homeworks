{
 "cells": [
  {
   "cell_type": "markdown",
   "metadata": {
    "id": "RYp0bXOFK-hP"
   },
   "source": [
    "# Машинное обучение, ФКН ВШЭ\n",
    "\n",
    "## Практическое задание 8. Метод опорных векторов и аппроксимация ядер\n",
    "\n",
    "### Общая информация\n",
    "\n",
    "Дата выдачи: 04.02.2023\n",
    "\n",
    "Мягкий дедлайн: 23:59MSK 20.02.2023\n",
    "\n",
    "Жесткий дедлайн: 23:59MSK 26.02.2023\n",
    "\n",
    "### Оценивание и штрафы\n",
    "Каждая из задач имеет определенную «стоимость» (указана в скобках около задачи). Максимальная оценка за работу (без учёта бонусов) — 10 баллов.\n",
    "\n",
    "Сдавать задание после указанного жёсткого срока сдачи нельзя. При выставлении неполного балла за задание в связи с наличием ошибок на усмотрение проверяющего предусмотрена возможность исправить работу на указанных в ответном письме условиях.\n",
    "\n",
    "Задание выполняется самостоятельно. «Похожие» решения считаются плагиатом и все задействованные студенты (в том числе те, у кого списали) не могут получить за него больше 0 баллов (подробнее о плагиате см. на странице курса). Если вы нашли решение какого-то из заданий (или его часть) в открытом источнике, необходимо указать ссылку на этот источник в отдельном блоке в конце вашей работы (скорее всего вы будете не единственным, кто это нашел, поэтому чтобы исключить подозрение в плагиате, необходима ссылка на источник).\n",
    "\n",
    "Неэффективная реализация кода может негативно отразиться на оценке.\n",
    "\n",
    "### Формат сдачи\n",
    "Задания сдаются через систему anytask. Посылка должна содержать:\n",
    "* Ноутбук homework-practice-08-random-features-Username.ipynb\n",
    "\n",
    "Username — ваша фамилия и имя на латинице именно в таком порядке"
   ]
  },
  {
   "cell_type": "markdown",
   "metadata": {
    "id": "vY8vT0W_K-hR"
   },
   "source": [
    "### О задании\n",
    "\n",
    "На занятиях мы подробно обсуждали метод опорных векторов (SVM). В базовой версии в нём нет чего-то особенного — мы всего лишь используем специальную функцию потерь, которая не требует устремлять отступы к бесконечности; ей достаточно, чтобы отступы были не меньше +1. Затем мы узнали, что SVM можно переписать в двойственном виде, который, позволяет заменить скалярные произведения объектов на ядра. Это будет соответствовать построению модели в новом пространстве более высокой размерности, координаты которого представляют собой нелинейные модификации исходных признаков.\n",
    "\n",
    "Ядровой SVM, к сожалению, довольно затратен по памяти (нужно хранить матрицу Грама размера $d \\times d$) и по времени (нужно решать задачу условной оптимизации с квадратичной функцией, а это не очень быстро). Мы обсуждали, что есть способы посчитать новые признаки $\\tilde \\varphi(x)$ на основе исходных так, что скалярные произведения этих новых $\\langle \\tilde \\varphi(x), \\tilde \\varphi(z) \\rangle$ приближают ядро $K(x, z)$.\n",
    "\n",
    "Мы будем исследовать аппроксимации методом Random Fourier Features (RFF, также в литературе встречается название Random Kitchen Sinks) для гауссовых ядер. Будем использовать формулы, которые немного отличаются от того, что было на лекциях (мы добавим сдвиги внутрь тригонометрических функций и будем использовать только косинусы, потому что с нужным сдвигом косинус превратится в синус):\n",
    "$$\\tilde \\varphi(x) = (\n",
    "\\cos (w_1^T x + b_1),\n",
    "\\dots,\n",
    "\\cos (w_n^T x + b_n)\n",
    "),$$\n",
    "где $w_j \\sim \\mathcal{N}(0, 1/\\sigma^2)$, $b_j \\sim U[-\\pi, \\pi]$.\n",
    "\n",
    "На новых признаках $\\tilde \\varphi(x)$ мы будем строить любую линейную модель.\n",
    "\n",
    "Можно считать, что это некоторая новая парадигма построения сложных моделей. Можно направленно искать сложные нелинейные закономерности в данных с помощью градиентного бустинга или нейронных сетей, а можно просто нагенерировать большое количество случайных нелинейных признаков и надеяться, что быстрая и простая модель (то есть линейная) сможет показать на них хорошее качество. В этом задании мы изучим, насколько работоспособна такая идея.\n",
    "\n",
    "### Алгоритм\n",
    "\n",
    "Вам потребуется реализовать следующий алгоритм:\n",
    "1. Понизить размерность выборки до new_dim с помощью метода главных компонент.\n",
    "2. Для полученной выборки оценить гиперпараметр $\\sigma^2$ с помощью эвристики (рекомендуем считать медиану не по всем парам объектов, а по случайному подмножеству из где-то миллиона пар объектов): $$\\sigma^2 = \\text{median}_{i, j = 1, \\dots, \\ell, i \\neq j} \\left\\{\\sum_{k = 1}^{d} (x_{ik} - x_{jk})^2 \\right\\}$$\n",
    "3. Сгенерировать n_features наборов весов $w_j$ и сдвигов $b_j$.\n",
    "4. Сформировать n_features новых признаков по формулам, приведённым выше.\n",
    "5. Обучить линейную модель (логистическую регрессию или SVM) на новых признаках.\n",
    "6. Повторить преобразования (PCA, формирование новых признаков) к тестовой выборке и применить модель."
   ]
  },
  {
   "cell_type": "code",
   "execution_count": 1,
   "metadata": {
    "colab": {
     "base_uri": "https://localhost:8080/"
    },
    "id": "IzNh4fI4s0zj",
    "outputId": "332f8670-0f97-4769-ef6a-7843c681026a"
   },
   "outputs": [
    {
     "name": "stdout",
     "output_type": "stream",
     "text": [
      "Looking in indexes: https://pypi.org/simple, https://us-python.pkg.dev/colab-wheels/public/simple/\n",
      "Requirement already satisfied: scikit-learn-intelex in /usr/local/lib/python3.8/dist-packages (2023.0.1)\n",
      "Requirement already satisfied: daal4py==2023.0.1 in /usr/local/lib/python3.8/dist-packages (from scikit-learn-intelex) (2023.0.1)\n",
      "Requirement already satisfied: scikit-learn>=0.22 in /usr/local/lib/python3.8/dist-packages (from scikit-learn-intelex) (1.0.2)\n",
      "Requirement already satisfied: daal==2023.0.1 in /usr/local/lib/python3.8/dist-packages (from daal4py==2023.0.1->scikit-learn-intelex) (2023.0.1)\n",
      "Requirement already satisfied: numpy>=1.15 in /usr/local/lib/python3.8/dist-packages (from daal4py==2023.0.1->scikit-learn-intelex) (1.22.4)\n",
      "Requirement already satisfied: tbb==2021.* in /usr/local/lib/python3.8/dist-packages (from daal==2023.0.1->daal4py==2023.0.1->scikit-learn-intelex) (2021.8.0)\n",
      "Requirement already satisfied: joblib>=0.11 in /usr/local/lib/python3.8/dist-packages (from scikit-learn>=0.22->scikit-learn-intelex) (1.2.0)\n",
      "Requirement already satisfied: scipy>=1.1.0 in /usr/local/lib/python3.8/dist-packages (from scikit-learn>=0.22->scikit-learn-intelex) (1.7.3)\n",
      "Requirement already satisfied: threadpoolctl>=2.0.0 in /usr/local/lib/python3.8/dist-packages (from scikit-learn>=0.22->scikit-learn-intelex) (3.1.0)\n"
     ]
    },
    {
     "name": "stderr",
     "output_type": "stream",
     "text": [
      "Intel(R) Extension for Scikit-learn* enabled (https://github.com/intel/scikit-learn-intelex)\n"
     ]
    }
   ],
   "source": [
    "# в чате увидел, что это ускоряет работу SVM, так что попробуем\n",
    "%pip install scikit-learn-intelex\n",
    "import sklearnex\n",
    "sklearnex.patch_sklearn()"
   ]
  },
  {
   "cell_type": "markdown",
   "metadata": {
    "id": "N_sGunb7K-hS"
   },
   "source": [
    "Тестировать алгоритм мы будем на данных Fashion MNIST. Ниже код для их загрузки и подготовки."
   ]
  },
  {
   "cell_type": "code",
   "execution_count": 2,
   "metadata": {
    "id": "YyG6dBfjK-hS"
   },
   "outputs": [],
   "source": [
    "import keras\n",
    "from keras.datasets import fashion_mnist\n",
    "(x_train_pics, y_train), (x_test_pics, y_test) = fashion_mnist.load_data()\n",
    "x_train = x_train_pics.reshape(x_train_pics.shape[0], -1)\n",
    "x_test = x_test_pics.reshape(x_test_pics.shape[0], -1)"
   ]
  },
  {
   "cell_type": "markdown",
   "metadata": {
    "id": "rJNN55F7K-hT"
   },
   "source": [
    "### __Задание 1. (5 баллов)__\n",
    "\n",
    "Реализуйте алгоритм, описанный выше. Можете воспользоваться шаблоном класса ниже или написать свой интерфейс.\n",
    "\n",
    "Ваша реализация должна поддерживать следующие опции:\n",
    "1. Возможность задавать значения гиперпараметров new_dim (по умолчанию 50) и n_features (по умолчанию 1000).\n",
    "2. Возможность включать или выключать предварительное понижение размерности с помощью метода главных компонент.\n",
    "3. Возможность выбирать тип линейной модели (логистическая регрессия или SVM с линейным ядром).\n",
    "\n",
    "Протестируйте на данных Fashion MNIST, сформированных кодом выше. Если на тесте у вас получилась доля верных ответов не ниже 0.84 с гиперпараметрами по умолчанию, то вы всё сделали правильно."
   ]
  },
  {
   "cell_type": "code",
   "execution_count": 9,
   "metadata": {
    "id": "JqCbQ_hRKGOd"
   },
   "outputs": [],
   "source": [
    "%matplotlib inline\n",
    "import numpy as np\n",
    "import matplotlib.pyplot as plt"
   ]
  },
  {
   "cell_type": "code",
   "execution_count": null,
   "metadata": {
    "colab": {
     "base_uri": "https://localhost:8080/",
     "height": 466
    },
    "id": "vvzeUVHLKUU8",
    "outputId": "4907e3cc-beb2-41bb-b7f3-a5c1910b2bdd"
   },
   "outputs": [
    {
     "data": {
      "image/png": "[encoded data removed]",
      "text/plain": [
       "<Figure size 1152x576 with 8 Axes>"
      ]
     },
     "metadata": {},
     "output_type": "display_data"
    }
   ],
   "source": [
    "mean_fashion = x_train_pics.mean(axis=0)\n",
    "\n",
    "plt.figure(figsize=(16, 8))\n",
    "rows, cols = 2, 4\n",
    "n_samples = rows * cols\n",
    "for i in range(n_samples - 1):\n",
    "    plt.subplot(rows, cols, i + 1)\n",
    "    plt.imshow(x_train_pics[i, :].reshape(x_train_pics.shape[1:]), interpolation='none', cmap='gray')\n",
    "    plt.xticks(())\n",
    "    plt.yticks(())\n",
    "    \n",
    "plt.subplot(rows, cols, n_samples)\n",
    "plt.imshow(mean_fashion.reshape(x_train_pics.shape[1:]), interpolation='none', cmap='gray')\n",
    "plt.xticks(())\n",
    "_ = plt.yticks(())"
   ]
  },
  {
   "cell_type": "code",
   "execution_count": 7,
   "metadata": {
    "id": "jP8yepx8K-hT"
   },
   "outputs": [],
   "source": [
    "from sklearn.base import BaseEstimator, TransformerMixin\n",
    "from sklearn.decomposition import PCA\n",
    "from sklearn.linear_model import LogisticRegression\n",
    "from sklearn.svm import SVC, LinearSVC\n",
    "from sklearn.preprocessing import StandardScaler, Normalizer\n",
    "\n",
    "class RFFPipeline(BaseEstimator, TransformerMixin):\n",
    "    def __init__(self, n_features=1000, new_dim=50, use_PCA=True, classifier='logreg'):\n",
    "        \"\"\"        \n",
    "        Implements pipeline, which consists of PCA decomposition,\n",
    "        Random Fourier Features approximation and linear classification model.\n",
    "        \n",
    "        n_features, int: amount of synthetic random features generated with RFF approximation.\n",
    "\n",
    "        new_dim, int: PCA output size.\n",
    "        \n",
    "        use_PCA, bool: whether to include PCA preprocessing.\n",
    "        \n",
    "        classifier, string: either 'svm' or 'logreg', a linear classification model to use on top of pipeline.\n",
    "        \n",
    "        Feel free to edit this template for your preferences.    \n",
    "        \"\"\"\n",
    "        self.n_features = n_features\n",
    "        self.use_PCA = use_PCA\n",
    "        self.new_dim = new_dim\n",
    "        self.classifier = classifier\n",
    "        self.normalize = Normalizer()\n",
    "        self.scale = StandardScaler()\n",
    "        self.model_pca = None\n",
    "        self.sigma = None\n",
    "        self.weights = None\n",
    "        self.bias = None\n",
    "\n",
    "    def transform(self, X):\n",
    "        X = self.scale.transform(X)\n",
    "        X = self.normalize.transform(X)\n",
    "\n",
    "        # PCA\n",
    "        if self.use_PCA:\n",
    "          X = self.model_pca.transform(X)\n",
    "\n",
    "        # generating random features\n",
    "        rff = np.cos(X @ self.weights + self.bias)\n",
    "        return rff\n",
    "        \n",
    "    def fit(self, X, y):\n",
    "        \"\"\"\n",
    "        Fit all parts of algorithm (PCA, RFF, Classification) to training set.\n",
    "        \"\"\"\n",
    "        X = X.copy().astype(np.float64)\n",
    "        X = self.scale.fit_transform(X)\n",
    "        X = self.normalize.fit_transform(X)\n",
    "\n",
    "        # PCA\n",
    "        if self.use_PCA:\n",
    "          self.model_pca = PCA(n_components=self.new_dim)\n",
    "          X = self.model_pca.fit_transform(X)\n",
    "        \n",
    "        # calculating sigma\n",
    "        indices = np.random.choice(np.arange(X.shape[0]), (2, min(int(1e6), X.shape[0])))\n",
    "        indices = indices[:, indices[1] != indices[0]]\n",
    "        self.sigma = np.median(np.sum((X[indices[0]] - X[indices[1]])**2, axis=1))\n",
    "\n",
    "        # generating random features\n",
    "        self.weights = np.random.normal(0, 1 / self.sigma, (X.shape[1], self.n_features))\n",
    "        self.bias = np.random.uniform(-np.pi, np.pi, (1, self.n_features))\n",
    "        rff = np.cos(X @ self.weights + self.bias)\n",
    "\n",
    "        if self.classifier == 'logreg':\n",
    "          self.classifier = LogisticRegression(max_iter=1e4)\n",
    "        elif self.classifier == 'svm':\n",
    "          self.classifier = LinearSVC(max_iter=1e4)\n",
    "        else:\n",
    "          raise Exception('Supports only logreg or svm classifier')\n",
    "        \n",
    "        self.classifier.fit(rff, y)\n",
    "\n",
    "        \"\"\"\n",
    "        plt.figure(figsize=(16, 8))\n",
    "        rows, cols = 2, 4\n",
    "        n_samples = rows * cols\n",
    "        for i in range(n_samples):\n",
    "            plt.subplot(rows, cols, i + 1)\n",
    "            plt.imshow(X_restored[i].reshape((28, 28)), interpolation='none', cmap='gray')\n",
    "            plt.xticks(())\n",
    "            plt.yticks(())\n",
    "        \"\"\"\n",
    "        return self\n",
    "\n",
    "    def predict_proba(self, X):\n",
    "        \"\"\"\n",
    "        Apply pipeline to obtain scores for input data.\n",
    "        \"\"\"\n",
    "        X = X.copy().astype(np.float64)\n",
    "        rff = self.transform(X)\n",
    "        return self.classifier.predict_proba(rff)\n",
    "\n",
    "    def predict(self, X):\n",
    "        \"\"\"\n",
    "        Apply pipeline to obtain discrete predictions for input data.\n",
    "        \"\"\"\n",
    "        X = X.copy().astype(np.float64)\n",
    "        rff = self.transform(X)\n",
    "        return self.classifier.predict(rff)"
   ]
  },
  {
   "cell_type": "markdown",
   "metadata": {
    "id": "HYqQUEi-K-hU"
   },
   "source": [
    "### __Задание 2. (3 балла)__\n",
    "\n",
    "Сравните подход со случайными признаками с обучением SVM на исходных признаках. Попробуйте вариант с обычным (линейным) SVM и с ядровым SVM. Ядровой SVM может очень долго обучаться, поэтому можно делать любые разумные вещи для ускорения: брать подмножество объектов из обучающей выборки, например.\n",
    "\n",
    "Сравните подход со случайными признаками с вариантом, в котором вы понижаете размерность с помощью PCA и обучаете градиентный бустинг. Используйте одну из реализаций CatBoost/LightGBM/XGBoost, не забудьте подобрать число деревьев и длину шага.\n",
    "\n",
    "Сделайте выводы — насколько идея со случайными признаками работает? Сравните как с точки зрения качества, так и с точки зрения скорости обучения и применения."
   ]
  },
  {
   "cell_type": "code",
   "execution_count": 3,
   "metadata": {
    "id": "Ka9OkXAgoj01"
   },
   "outputs": [],
   "source": [
    "from sklearn.metrics import accuracy_score\n",
    "from sklearn.model_selection import GridSearchCV\n",
    "from sklearn.svm import LinearSVC"
   ]
  },
  {
   "cell_type": "code",
   "execution_count": 10,
   "metadata": {
    "id": "OZNoMxXg0D5H"
   },
   "outputs": [],
   "source": [
    "np.random.seed(42)\n",
    "trunc_idx = np.random.choice(np.arange(x_train.shape[0]), 10000, replace=False)"
   ]
  },
  {
   "cell_type": "markdown",
   "metadata": {
    "id": "qcaCczSxyTPl"
   },
   "source": [
    "Для чистоты эксперимента буду ставить везде max_iter=10000"
   ]
  },
  {
   "cell_type": "markdown",
   "metadata": {
    "id": "VkshkRFryN-U"
   },
   "source": [
    "#### LogReg на случайные признаки"
   ]
  },
  {
   "cell_type": "code",
   "execution_count": null,
   "metadata": {
    "colab": {
     "base_uri": "https://localhost:8080/"
    },
    "id": "8UzggrXiyzCW",
    "outputId": "94b1206f-83db-4a58-8f21-e9a4e8d09d73"
   },
   "outputs": [
    {
     "name": "stdout",
     "output_type": "stream",
     "text": [
      "CPU times: user 4min 55s, sys: 3min 35s, total: 8min 31s\n",
      "Wall time: 5min 54s\n"
     ]
    },
    {
     "data": {
      "text/plain": [
       "RFFPipeline(classifier=LogisticRegression(max_iter=10000.0))"
      ]
     },
     "execution_count": 78,
     "metadata": {},
     "output_type": "execute_result"
    }
   ],
   "source": [
    "%%time\n",
    "RFF = RFFPipeline()\n",
    "RFF.fit(x_train[trunc_idx], y_train[trunc_idx])"
   ]
  },
  {
   "cell_type": "code",
   "execution_count": null,
   "metadata": {
    "colab": {
     "base_uri": "https://localhost:8080/"
    },
    "id": "MRRsLrlHSPVP",
    "outputId": "120cb0c8-2115-4749-f214-b821428076b5"
   },
   "outputs": [
    {
     "name": "stdout",
     "output_type": "stream",
     "text": [
      "LogReg on RFF accuracy: 0.864\n",
      "CPU times: user 648 ms, sys: 400 ms, total: 1.05 s\n",
      "Wall time: 1.03 s\n"
     ]
    }
   ],
   "source": [
    "%%time\n",
    "y_pred = RFF.predict(x_test)\n",
    "print('LogReg on RFF accuracy:', accuracy_score(y_test, y_pred))"
   ]
  },
  {
   "cell_type": "markdown",
   "metadata": {
    "id": "EGIK8vgtmKLG"
   },
   "source": [
    "#### Linear SVM на исходных признаках"
   ]
  },
  {
   "cell_type": "code",
   "execution_count": null,
   "metadata": {
    "colab": {
     "base_uri": "https://localhost:8080/"
    },
    "id": "Hl_5nC6Rr-Sv",
    "outputId": "71418661-481d-4215-d0b8-885a0ebb1124"
   },
   "outputs": [
    {
     "name": "stdout",
     "output_type": "stream",
     "text": [
      "CPU times: user 4min 18s, sys: 315 ms, total: 4min 18s\n",
      "Wall time: 4min 28s\n"
     ]
    },
    {
     "name": "stderr",
     "output_type": "stream",
     "text": [
      "/usr/local/lib/python3.8/dist-packages/sklearn/svm/_base.py:1206: ConvergenceWarning: Liblinear failed to converge, increase the number of iterations.\n",
      "  warnings.warn(\n"
     ]
    },
    {
     "data": {
      "text/plain": [
       "LinearSVC(max_iter=10000)"
      ]
     },
     "execution_count": 89,
     "metadata": {},
     "output_type": "execute_result"
    }
   ],
   "source": [
    "%%time\n",
    "clf = LinearSVC(max_iter=10000)\n",
    "clf.fit(x_train[trunc_idx], y_train[trunc_idx])"
   ]
  },
  {
   "cell_type": "code",
   "execution_count": null,
   "metadata": {
    "colab": {
     "base_uri": "https://localhost:8080/"
    },
    "id": "ftxd3LxCUvt-",
    "outputId": "689a8915-b721-42c9-db54-c42766864b7d"
   },
   "outputs": [
    {
     "name": "stdout",
     "output_type": "stream",
     "text": [
      "Linear SVM on original features accuracy: 0.7658\n",
      "CPU times: user 53.4 ms, sys: 24.1 ms, total: 77.5 ms\n",
      "Wall time: 79.5 ms\n"
     ]
    }
   ],
   "source": [
    "%%time\n",
    "y_pred = clf.predict(x_test)\n",
    "print('Linear SVM on original features accuracy:', accuracy_score(y_test, y_pred))"
   ]
  },
  {
   "cell_type": "markdown",
   "metadata": {
    "id": "bWhtxGz9w2yr"
   },
   "source": [
    "#### RBF Kernel SVM на исходных признаках"
   ]
  },
  {
   "cell_type": "code",
   "execution_count": null,
   "metadata": {
    "colab": {
     "base_uri": "https://localhost:8080/"
    },
    "id": "BBJ9TAhqw8ac",
    "outputId": "7a36e29f-e798-46c8-9fd5-04c1ae4c3e28"
   },
   "outputs": [
    {
     "name": "stdout",
     "output_type": "stream",
     "text": [
      "CPU times: user 3min 22s, sys: 8.13 s, total: 3min 30s\n",
      "Wall time: 3min 33s\n"
     ]
    },
    {
     "data": {
      "text/plain": [
       "SVC()"
      ]
     },
     "execution_count": 57,
     "metadata": {},
     "output_type": "execute_result"
    }
   ],
   "source": [
    "%%time\n",
    "clf = SVC(kernel='rbf')\n",
    "clf.fit(x_train[trunc_idx], y_train[trunc_idx])"
   ]
  },
  {
   "cell_type": "code",
   "execution_count": null,
   "metadata": {
    "colab": {
     "base_uri": "https://localhost:8080/"
    },
    "id": "IIE75ozRUiyn",
    "outputId": "065eeafe-d3fb-491d-eb6e-3c697bce0aad"
   },
   "outputs": [
    {
     "name": "stdout",
     "output_type": "stream",
     "text": [
      "Kernel SVM on original features accuracy: 0.8827\n",
      "CPU times: user 30.2 s, sys: 237 ms, total: 30.4 s\n",
      "Wall time: 30.3 s\n"
     ]
    }
   ],
   "source": [
    "%%time\n",
    "y_pred = clf.predict(x_test)\n",
    "print('RBF Kernel SVM on original features accuracy:', accuracy_score(y_test, y_pred))"
   ]
  },
  {
   "cell_type": "markdown",
   "metadata": {
    "id": "3mRNa_EkdFoO"
   },
   "source": [
    "#### Polynomial Kernel SVM на исходных признаках"
   ]
  },
  {
   "cell_type": "code",
   "execution_count": null,
   "metadata": {
    "colab": {
     "base_uri": "https://localhost:8080/"
    },
    "id": "sh2p3sYVdGIV",
    "outputId": "c631dab5-dbb1-41b3-e89e-290079547b99"
   },
   "outputs": [
    {
     "name": "stdout",
     "output_type": "stream",
     "text": [
      "CPU times: user 16.3 s, sys: 509 ms, total: 16.8 s\n",
      "Wall time: 16.7 s\n"
     ]
    },
    {
     "data": {
      "text/plain": [
       "SVC(kernel='poly')"
      ]
     },
     "execution_count": 82,
     "metadata": {},
     "output_type": "execute_result"
    }
   ],
   "source": [
    "%%time\n",
    "clf = SVC(kernel='poly')\n",
    "clf.fit(x_train[trunc_idx], y_train[trunc_idx])"
   ]
  },
  {
   "cell_type": "code",
   "execution_count": null,
   "metadata": {
    "colab": {
     "base_uri": "https://localhost:8080/"
    },
    "id": "mXjDInyXdG4J",
    "outputId": "72a75e86-0419-4120-fa70-c6a6a260ceb0"
   },
   "outputs": [
    {
     "name": "stdout",
     "output_type": "stream",
     "text": [
      "Polynomial Kernel SVM on original features accuracy: 0.8197\n",
      "CPU times: user 10.6 s, sys: 106 ms, total: 10.7 s\n",
      "Wall time: 10.7 s\n"
     ]
    }
   ],
   "source": [
    "%%time\n",
    "y_pred = clf.predict(x_test)\n",
    "print('Polynomial Kernel SVM on original features accuracy:', accuracy_score(y_test, y_pred))"
   ]
  },
  {
   "cell_type": "markdown",
   "metadata": {
    "id": "Wc5KGe2idQA-"
   },
   "source": [
    "#### CatBoost + PCA"
   ]
  },
  {
   "cell_type": "code",
   "execution_count": null,
   "metadata": {
    "id": "IOcqzxqPywDN"
   },
   "outputs": [],
   "source": [
    "!pip install catboost\n",
    "!pip install ipywidgets\n",
    "\n",
    "!jupyter nbextension enable --py widgetsnbextension"
   ]
  },
  {
   "cell_type": "code",
   "execution_count": null,
   "metadata": {
    "id": "IMqH0JImMg6T"
   },
   "outputs": [],
   "source": [
    "from google.colab import output\n",
    "output.enable_custom_widget_manager()"
   ]
  },
  {
   "cell_type": "code",
   "execution_count": null,
   "metadata": {
    "id": "fKrpwa04wqcE"
   },
   "outputs": [],
   "source": [
    "from catboost import CatBoostClassifier\n",
    "\n",
    "def pca_catboost_gridsearch(X, y):\n",
    "        X = X.copy().astype(np.float64)\n",
    "        X = StandardScaler().fit_transform(X)\n",
    "        X = Normalizer().fit_transform(X)\n",
    "        model_pca = PCA(n_components=50)\n",
    "        X = model_pca.fit_transform(X)\n",
    "        model = CatBoostClassifier(loss_function='MultiClass')\n",
    "        grid = {\n",
    "            'learning_rate': [2e-3, 0.03, 0.1],\n",
    "            'iterations': np.linspace(10, 100, 10)}\n",
    "        grid_search_result = model.grid_search(grid,\n",
    "                                       X=X,\n",
    "                                       y=y,\n",
    "                                       plot=True,\n",
    "                                       verbose=False)\n",
    "        return grid_search_result\n"
   ]
  },
  {
   "cell_type": "code",
   "execution_count": null,
   "metadata": {
    "id": "rjYDwciKQLFN"
   },
   "outputs": [],
   "source": [
    "catboost_best_params = pca_catboost_gridsearch(x_train, y_train)"
   ]
  },
  {
   "cell_type": "code",
   "execution_count": null,
   "metadata": {
    "colab": {
     "base_uri": "https://localhost:8080/"
    },
    "id": "HAPzG4yCR94c",
    "outputId": "871c3666-b2e3-4fe3-9d47-151073ca5d07"
   },
   "outputs": [
    {
     "data": {
      "text/plain": [
       "{'learning_rate': 0.1, 'iterations': 100.0}"
      ]
     },
     "execution_count": 51,
     "metadata": {},
     "output_type": "execute_result"
    }
   ],
   "source": [
    "catboost_best_params['params']"
   ]
  },
  {
   "cell_type": "code",
   "execution_count": null,
   "metadata": {
    "id": "yMZQLjOlQGHh"
   },
   "outputs": [],
   "source": [
    "def get_catboost_model(X, y):\n",
    "    scaler = StandardScaler()\n",
    "    normalizer = Normalizer()\n",
    "\n",
    "    X = X.copy().astype(np.float64)\n",
    "    X = scaler.fit_transform(X)\n",
    "    X = normalizer.fit_transform(X)\n",
    "\n",
    "    model_pca = PCA(n_components=50)\n",
    "    X = model_pca.fit_transform(X)\n",
    "\n",
    "    model = CatBoostClassifier(loss_function='MultiClass', learning_rate=catboost_best_params['params']['learning_rate'], iterations=catboost_best_params['params']['iterations'])\n",
    "    model.fit(X, y)\n",
    "    return model, model_pca, scaler, normalizer\n",
    "\n",
    "def catpca_predict(X, y, scaler, normalizer, model, pca_model):\n",
    "    X = X.copy().astype(np.float64)\n",
    "    X = scaler.transform(X)\n",
    "    X = normalizer.transform(X)\n",
    "    y_pred = model.predict(pca_model.transform(X))\n",
    "    print('CatBoost + PCA accuracy:', accuracy_score(y, y_pred))"
   ]
  },
  {
   "cell_type": "code",
   "execution_count": null,
   "metadata": {
    "colab": {
     "base_uri": "https://localhost:8080/"
    },
    "id": "rO_3AXvcR7oe",
    "outputId": "e9b55c24-8a98-4706-cc1d-14dfd4c94172"
   },
   "outputs": [
    {
     "name": "stdout",
     "output_type": "stream",
     "text": [
      "0:\tlearn: 1.9566750\ttotal: 749ms\tremaining: 1m 14s\n",
      "1:\tlearn: 1.7593715\ttotal: 1.81s\tremaining: 1m 28s\n",
      "2:\tlearn: 1.5981160\ttotal: 3.16s\tremaining: 1m 42s\n",
      "3:\tlearn: 1.4757417\ttotal: 4.5s\tremaining: 1m 47s\n",
      "4:\tlearn: 1.3775933\ttotal: 6.2s\tremaining: 1m 57s\n",
      "5:\tlearn: 1.3011625\ttotal: 7.24s\tremaining: 1m 53s\n",
      "6:\tlearn: 1.2309366\ttotal: 8.13s\tremaining: 1m 48s\n",
      "7:\tlearn: 1.1669374\ttotal: 8.9s\tremaining: 1m 42s\n",
      "8:\tlearn: 1.1147061\ttotal: 9.69s\tremaining: 1m 38s\n",
      "9:\tlearn: 1.0687089\ttotal: 10.7s\tremaining: 1m 36s\n",
      "10:\tlearn: 1.0320390\ttotal: 11.4s\tremaining: 1m 32s\n",
      "11:\tlearn: 0.9950008\ttotal: 12.2s\tremaining: 1m 29s\n",
      "12:\tlearn: 0.9598705\ttotal: 12.7s\tremaining: 1m 25s\n",
      "13:\tlearn: 0.9324897\ttotal: 13.2s\tremaining: 1m 21s\n",
      "14:\tlearn: 0.9050648\ttotal: 13.7s\tremaining: 1m 17s\n",
      "15:\tlearn: 0.8795382\ttotal: 14.2s\tremaining: 1m 14s\n",
      "16:\tlearn: 0.8582865\ttotal: 14.6s\tremaining: 1m 11s\n",
      "17:\tlearn: 0.8364072\ttotal: 15.2s\tremaining: 1m 9s\n",
      "18:\tlearn: 0.8177358\ttotal: 16.1s\tremaining: 1m 8s\n",
      "19:\tlearn: 0.7988648\ttotal: 17s\tremaining: 1m 7s\n",
      "20:\tlearn: 0.7865770\ttotal: 17.9s\tremaining: 1m 7s\n",
      "21:\tlearn: 0.7746969\ttotal: 18.4s\tremaining: 1m 5s\n",
      "22:\tlearn: 0.7597203\ttotal: 18.9s\tremaining: 1m 3s\n",
      "23:\tlearn: 0.7462846\ttotal: 19.4s\tremaining: 1m 1s\n",
      "24:\tlearn: 0.7343138\ttotal: 19.8s\tremaining: 59.5s\n",
      "25:\tlearn: 0.7238038\ttotal: 20.3s\tremaining: 57.8s\n",
      "26:\tlearn: 0.7098887\ttotal: 20.8s\tremaining: 56.2s\n",
      "27:\tlearn: 0.7010130\ttotal: 21.2s\tremaining: 54.6s\n",
      "28:\tlearn: 0.6910949\ttotal: 21.7s\tremaining: 53.1s\n",
      "29:\tlearn: 0.6807180\ttotal: 22.2s\tremaining: 51.7s\n",
      "30:\tlearn: 0.6726093\ttotal: 22.6s\tremaining: 50.4s\n",
      "31:\tlearn: 0.6631196\ttotal: 23.1s\tremaining: 49s\n",
      "32:\tlearn: 0.6548706\ttotal: 23.6s\tremaining: 47.8s\n",
      "33:\tlearn: 0.6469233\ttotal: 24s\tremaining: 46.7s\n",
      "34:\tlearn: 0.6378526\ttotal: 24.5s\tremaining: 45.5s\n",
      "35:\tlearn: 0.6303283\ttotal: 25s\tremaining: 44.4s\n",
      "36:\tlearn: 0.6237238\ttotal: 25.4s\tremaining: 43.3s\n",
      "37:\tlearn: 0.6180614\ttotal: 25.9s\tremaining: 42.2s\n",
      "38:\tlearn: 0.6116482\ttotal: 26.4s\tremaining: 41.2s\n",
      "39:\tlearn: 0.6068029\ttotal: 26.8s\tremaining: 40.2s\n",
      "40:\tlearn: 0.6003163\ttotal: 27.3s\tremaining: 39.2s\n",
      "41:\tlearn: 0.5960433\ttotal: 27.7s\tremaining: 38.3s\n",
      "42:\tlearn: 0.5908368\ttotal: 28.3s\tremaining: 37.5s\n",
      "43:\tlearn: 0.5842275\ttotal: 29.2s\tremaining: 37.1s\n",
      "44:\tlearn: 0.5781160\ttotal: 30s\tremaining: 36.7s\n",
      "45:\tlearn: 0.5735665\ttotal: 30.9s\tremaining: 36.3s\n",
      "46:\tlearn: 0.5692286\ttotal: 31.6s\tremaining: 35.6s\n",
      "47:\tlearn: 0.5652524\ttotal: 32s\tremaining: 34.7s\n",
      "48:\tlearn: 0.5618836\ttotal: 32.5s\tremaining: 33.8s\n",
      "49:\tlearn: 0.5572339\ttotal: 33s\tremaining: 33s\n",
      "50:\tlearn: 0.5525715\ttotal: 33.4s\tremaining: 32.1s\n",
      "51:\tlearn: 0.5496941\ttotal: 33.9s\tremaining: 31.3s\n",
      "52:\tlearn: 0.5461727\ttotal: 34.4s\tremaining: 30.5s\n",
      "53:\tlearn: 0.5419127\ttotal: 34.8s\tremaining: 29.7s\n",
      "54:\tlearn: 0.5392904\ttotal: 35.3s\tremaining: 28.9s\n",
      "55:\tlearn: 0.5365829\ttotal: 35.8s\tremaining: 28.1s\n",
      "56:\tlearn: 0.5331168\ttotal: 36.2s\tremaining: 27.3s\n",
      "57:\tlearn: 0.5298160\ttotal: 36.7s\tremaining: 26.6s\n",
      "58:\tlearn: 0.5262724\ttotal: 37.2s\tremaining: 25.8s\n",
      "59:\tlearn: 0.5228443\ttotal: 37.6s\tremaining: 25.1s\n",
      "60:\tlearn: 0.5199610\ttotal: 38.1s\tremaining: 24.3s\n",
      "61:\tlearn: 0.5169947\ttotal: 38.6s\tremaining: 23.6s\n",
      "62:\tlearn: 0.5139681\ttotal: 39s\tremaining: 22.9s\n",
      "63:\tlearn: 0.5115882\ttotal: 39.5s\tremaining: 22.2s\n",
      "64:\tlearn: 0.5087154\ttotal: 40s\tremaining: 21.5s\n",
      "65:\tlearn: 0.5062711\ttotal: 40.4s\tremaining: 20.8s\n",
      "66:\tlearn: 0.5036745\ttotal: 40.9s\tremaining: 20.1s\n",
      "67:\tlearn: 0.5014487\ttotal: 41.4s\tremaining: 19.5s\n",
      "68:\tlearn: 0.4991237\ttotal: 42.3s\tremaining: 19s\n",
      "69:\tlearn: 0.4969957\ttotal: 43.3s\tremaining: 18.5s\n",
      "70:\tlearn: 0.4947477\ttotal: 44.2s\tremaining: 18s\n",
      "71:\tlearn: 0.4921009\ttotal: 44.7s\tremaining: 17.4s\n",
      "72:\tlearn: 0.4892014\ttotal: 45.2s\tremaining: 16.7s\n",
      "73:\tlearn: 0.4870860\ttotal: 45.7s\tremaining: 16s\n",
      "74:\tlearn: 0.4847309\ttotal: 46.1s\tremaining: 15.4s\n",
      "75:\tlearn: 0.4823233\ttotal: 46.6s\tremaining: 14.7s\n",
      "76:\tlearn: 0.4799085\ttotal: 47.1s\tremaining: 14.1s\n",
      "77:\tlearn: 0.4769134\ttotal: 47.5s\tremaining: 13.4s\n",
      "78:\tlearn: 0.4750121\ttotal: 48s\tremaining: 12.8s\n",
      "79:\tlearn: 0.4733294\ttotal: 48.5s\tremaining: 12.1s\n",
      "80:\tlearn: 0.4709551\ttotal: 48.9s\tremaining: 11.5s\n",
      "81:\tlearn: 0.4686644\ttotal: 49.4s\tremaining: 10.8s\n",
      "82:\tlearn: 0.4663101\ttotal: 49.8s\tremaining: 10.2s\n",
      "83:\tlearn: 0.4641073\ttotal: 50.3s\tremaining: 9.59s\n",
      "84:\tlearn: 0.4616003\ttotal: 50.8s\tremaining: 8.96s\n",
      "85:\tlearn: 0.4597551\ttotal: 51.3s\tremaining: 8.34s\n",
      "86:\tlearn: 0.4573763\ttotal: 51.7s\tremaining: 7.73s\n",
      "87:\tlearn: 0.4556979\ttotal: 52.2s\tremaining: 7.12s\n",
      "88:\tlearn: 0.4543232\ttotal: 52.7s\tremaining: 6.51s\n",
      "89:\tlearn: 0.4529268\ttotal: 53.2s\tremaining: 5.91s\n",
      "90:\tlearn: 0.4514810\ttotal: 53.6s\tremaining: 5.3s\n",
      "91:\tlearn: 0.4500496\ttotal: 54.1s\tremaining: 4.7s\n",
      "92:\tlearn: 0.4485379\ttotal: 54.7s\tremaining: 4.12s\n",
      "93:\tlearn: 0.4467832\ttotal: 55.6s\tremaining: 3.55s\n",
      "94:\tlearn: 0.4452848\ttotal: 56.6s\tremaining: 2.98s\n",
      "95:\tlearn: 0.4435353\ttotal: 57.5s\tremaining: 2.4s\n",
      "96:\tlearn: 0.4421952\ttotal: 58s\tremaining: 1.79s\n",
      "97:\tlearn: 0.4410299\ttotal: 58.4s\tremaining: 1.19s\n",
      "98:\tlearn: 0.4396492\ttotal: 58.9s\tremaining: 595ms\n",
      "99:\tlearn: 0.4379967\ttotal: 59.4s\tremaining: 0us\n",
      "CPU times: user 1min 32s, sys: 842 ms, total: 1min 33s\n",
      "Wall time: 1min 3s\n"
     ]
    }
   ],
   "source": [
    "%%time\n",
    "catboost_model, pca_model, scaler, normalizer = get_catboost_model(x_train, y_train)"
   ]
  },
  {
   "cell_type": "code",
   "execution_count": null,
   "metadata": {
    "colab": {
     "base_uri": "https://localhost:8080/"
    },
    "id": "QISI806fSpym",
    "outputId": "a17f2087-d848-4179-a8d5-17a9625967cd"
   },
   "outputs": [
    {
     "name": "stdout",
     "output_type": "stream",
     "text": [
      "CatBoost + PCA accuracy: 0.8295\n",
      "CPU times: user 286 ms, sys: 61.5 ms, total: 347 ms\n",
      "Wall time: 341 ms\n"
     ]
    }
   ],
   "source": [
    "%%time\n",
    "catpca_predict(x_test, y_test, scaler, normalizer, catboost_model, pca_model)"
   ]
  },
  {
   "cell_type": "markdown",
   "metadata": {},
   "source": [
    "|                           | **Train time** | **Inference time** | **Accuracy** |\n",
    "|---------------------------|----------------|--------------------|--------------|\n",
    "| **LogReg + RFF + PCA**    | 4min 55s       | 648ms              | 86.4%        |\n",
    "| **Linear SVM**            | 4min 18s       | 53.4ms             | 76.58%       |\n",
    "| **RBF kernel SVM**        | 3min 22s       | 30.2s              | 88.27%       |\n",
    "| **Polynomial kernel SVM** | 16.3s          | 10.6s              | 81.97%       |\n",
    "| **CatBoost + PCA**        | 1min 32s       | 286ms              | 82.95%       |\n",
    "| **LogReg + RFF**          | 4min 27s       | 1.35s              | 84.19%       |\n",
    "| **SVM + RFF + PCA**       | 7min 17s       | 687ms              | 85.77%       |\n",
    "| **SVM + RFF**             | 5min 29s       | 1.37s              | 82.55%       |"
   ]
  },
  {
   "cell_type": "markdown",
   "metadata": {},
   "source": [
    "Видим, что методы использующие случайные признаки медленнее по времени инференса, но при этом дают более высокий accuracy. Также заметим, что обычные ядровые SVM (RBF, Polynomial) работают очень доолго (10 и 30 секунд) для определения класса лишь одного объекта, в то время как логистическая регрессия и линейный svm на случайных признаках занимает около 660ms с PCA и 1.35 без него. При этом время обучения SVM больше чем у LogReg и качество ниже. По итогу исполльзование RFF немного замедляет инференс по сравнению с линейным моделями, но обгоняет как по скорости предикта, так и по accuracy ядровые методы (кроме RBF Kernel, который дал 88.27% точности). На скорость обучения RFF в моих экспериментах особо не повлиял, но polynomial kernel обогнал все остальные методы и обучиллся всего за 16 секунд, дав при этом не очень высокое качество 82%. CatBoost требует многоо времени на подборо параметров, но сама скорость обучения оказалась одной из самых высоких, как и скорость инференса, качество 83%, что хуже чем у большинства других методов."
   ]
  },
  {
   "cell_type": "markdown",
   "metadata": {
    "id": "e6umjhWuK-hV"
   },
   "source": [
    "### __Задание 3. (2 балла)__\n",
    "\n",
    "Проведите эксперименты:\n",
    "1. Помогает ли предварительное понижение размерности с помощью PCA? \n",
    "2. Как зависит итоговое качество от n_features? Выходит ли оно на плато при росте n_features?\n",
    "3. Важно ли, какую модель обучать — логистическую регрессию или SVM?"
   ]
  },
  {
   "cell_type": "markdown",
   "metadata": {
    "id": "r3AFUfIpPBqs"
   },
   "source": [
    "Попробуем не использовать PCA"
   ]
  },
  {
   "cell_type": "code",
   "execution_count": null,
   "metadata": {
    "colab": {
     "base_uri": "https://localhost:8080/"
    },
    "id": "c2QIHIMbK-hW",
    "outputId": "b5e5a010-b839-4643-eec8-0c05e1ddfbde"
   },
   "outputs": [
    {
     "name": "stdout",
     "output_type": "stream",
     "text": [
      "CPU times: user 4min 27s, sys: 3min 22s, total: 7min 50s\n",
      "Wall time: 4min 30s\n"
     ]
    },
    {
     "data": {
      "text/plain": [
       "RFFPipeline(classifier=LogisticRegression(max_iter=10000.0), use_PCA=False)"
      ]
     },
     "execution_count": 91,
     "metadata": {},
     "output_type": "execute_result"
    }
   ],
   "source": [
    "%%time\n",
    "RFF = RFFPipeline(use_PCA=False)\n",
    "RFF.fit(x_train[trunc_idx], y_train[trunc_idx])"
   ]
  },
  {
   "cell_type": "code",
   "execution_count": null,
   "metadata": {
    "colab": {
     "base_uri": "https://localhost:8080/"
    },
    "id": "FSZbMuFBunTS",
    "outputId": "d976b32f-bc29-456f-8360-fda5863a8361"
   },
   "outputs": [
    {
     "name": "stdout",
     "output_type": "stream",
     "text": [
      "RFF + no PCA accuracy: 0.8419\n",
      "CPU times: user 1.35 s, sys: 288 ms, total: 1.64 s\n",
      "Wall time: 1.02 s\n"
     ]
    }
   ],
   "source": [
    "%%time\n",
    "y_pred = RFF.predict(x_test)\n",
    "print('RFF + no PCA accuracy:', accuracy_score(y_test, y_pred))"
   ]
  },
  {
   "cell_type": "code",
   "execution_count": null,
   "metadata": {
    "colab": {
     "base_uri": "https://localhost:8080/"
    },
    "id": "-aUqn1-9iJ8v",
    "outputId": "29725ed6-29e0-43da-f9af-2470663e61b3"
   },
   "outputs": [
    {
     "name": "stdout",
     "output_type": "stream",
     "text": [
      "CPU times: user 5min 29s, sys: 389 ms, total: 5min 29s\n",
      "Wall time: 5min 29s\n"
     ]
    },
    {
     "name": "stderr",
     "output_type": "stream",
     "text": [
      "/usr/local/lib/python3.8/dist-packages/sklearn/svm/_base.py:1206: ConvergenceWarning: Liblinear failed to converge, increase the number of iterations.\n",
      "  warnings.warn(\n"
     ]
    },
    {
     "data": {
      "text/plain": [
       "RFFPipeline(classifier=LinearSVC(max_iter=10000.0), use_PCA=False)"
      ]
     },
     "execution_count": 93,
     "metadata": {},
     "output_type": "execute_result"
    }
   ],
   "source": [
    "%%time\n",
    "RFF = RFFPipeline(use_PCA=False, classifier='svm')\n",
    "RFF.fit(x_train[trunc_idx], y_train[trunc_idx])"
   ]
  },
  {
   "cell_type": "code",
   "execution_count": null,
   "metadata": {
    "colab": {
     "base_uri": "https://localhost:8080/"
    },
    "id": "_UWzBTxgurWI",
    "outputId": "163c7fbd-992b-4bd5-ee87-de79b2b240d7"
   },
   "outputs": [
    {
     "name": "stdout",
     "output_type": "stream",
     "text": [
      "RFF + no PCA accuracy: 0.8255\n",
      "CPU times: user 1.37 s, sys: 222 ms, total: 1.59 s\n",
      "Wall time: 983 ms\n"
     ]
    }
   ],
   "source": [
    "%%time\n",
    "y_pred = RFF.predict(x_test)\n",
    "print('RFF + no PCA accuracy:', accuracy_score(y_test, y_pred))"
   ]
  },
  {
   "cell_type": "code",
   "execution_count": null,
   "metadata": {
    "colab": {
     "base_uri": "https://localhost:8080/"
    },
    "id": "--qIzfJIbl20",
    "outputId": "206a8041-802c-4dd0-adf0-9b09e3cce4bc"
   },
   "outputs": [
    {
     "name": "stdout",
     "output_type": "stream",
     "text": [
      "RFF + PCA, n_features=50 accuracy: 0.8085\n",
      "RFF + PCA, n_features=150 accuracy: 0.8426\n",
      "RFF + PCA, n_features=500 accuracy: 0.8595\n",
      "RFF + PCA, n_features=1100 accuracy: 0.8632\n",
      "RFF + PCA, n_features=1500 accuracy: 0.8633\n"
     ]
    }
   ],
   "source": [
    "acc_by_n_features = []\n",
    "\n",
    "for n_features in (50, 150, 500, 1100, 1500):\n",
    "  RFF = RFFPipeline(n_features=n_features)\n",
    "  RFF.fit(x_train[trunc_idx], y_train[trunc_idx])\n",
    "  y_pred = RFF.predict(x_test)\n",
    "  acc_by_n_features.append(accuracy_score(y_test, y_pred))\n",
    "  print(f'RFF + PCA, n_features={n_features} accuracy:', acc_by_n_features[-1])"
   ]
  },
  {
   "cell_type": "code",
   "execution_count": null,
   "metadata": {
    "colab": {
     "base_uri": "https://localhost:8080/",
     "height": 283
    },
    "id": "MKf0pawQj-iw",
    "outputId": "7a37bd0e-053d-47fa-ba35-477b127001c2"
   },
   "outputs": [
    {
     "data": {
      "text/plain": [
       "[<matplotlib.lines.Line2D at 0x7ff150266130>]"
      ]
     },
     "execution_count": 87,
     "metadata": {},
     "output_type": "execute_result"
    },
    {
     "data": {
      "image/png": "[encoded data removed]",
      "text/plain": [
       "<Figure size 432x288 with 1 Axes>"
      ]
     },
     "metadata": {
      "needs_background": "light"
     },
     "output_type": "display_data"
    }
   ],
   "source": [
    "from matplotlib.pyplot import plot\n",
    "\n",
    "plot(acc_by_n_features)"
   ]
  },
  {
   "cell_type": "code",
   "execution_count": 11,
   "metadata": {
    "colab": {
     "base_uri": "https://localhost:8080/"
    },
    "id": "IDJu6_CHlBqK",
    "outputId": "9037ae96-847b-4363-8785-0f345193e8c9"
   },
   "outputs": [
    {
     "name": "stdout",
     "output_type": "stream",
     "text": [
      "CPU times: user 7min 17s, sys: 960 ms, total: 7min 18s\n",
      "Wall time: 7min 20s\n"
     ]
    },
    {
     "name": "stderr",
     "output_type": "stream",
     "text": [
      "/usr/local/lib/python3.8/dist-packages/sklearn/svm/_base.py:1206: ConvergenceWarning: Liblinear failed to converge, increase the number of iterations.\n",
      "  warnings.warn(\n"
     ]
    },
    {
     "data": {
      "text/plain": [
       "RFFPipeline(classifier=LinearSVC(max_iter=10000.0))"
      ]
     },
     "execution_count": 11,
     "metadata": {},
     "output_type": "execute_result"
    }
   ],
   "source": [
    "%%time\n",
    "RFF = RFFPipeline(classifier='svm')\n",
    "RFF.fit(x_train[trunc_idx], y_train[trunc_idx])"
   ]
  },
  {
   "cell_type": "code",
   "execution_count": 12,
   "metadata": {
    "colab": {
     "base_uri": "https://localhost:8080/"
    },
    "id": "QVdikhn6uu23",
    "outputId": "dee88cda-3f53-4f39-814d-6e7029980cb0"
   },
   "outputs": [
    {
     "name": "stdout",
     "output_type": "stream",
     "text": [
      "RFF + PCA accuracy: 0.8577\n",
      "CPU times: user 687 ms, sys: 203 ms, total: 890 ms\n",
      "Wall time: 846 ms\n"
     ]
    }
   ],
   "source": [
    "%%time\n",
    "y_pred = RFF.predict(x_test)\n",
    "print('RFF + PCA accuracy:', accuracy_score(y_test, y_pred))"
   ]
  },
  {
   "cell_type": "markdown",
   "metadata": {},
   "source": [
    "### Результаты"
   ]
  },
  {
   "cell_type": "markdown",
   "metadata": {
    "id": "F1rfwo25mVpp"
   },
   "source": [
    "|                           | **Train time** | **Inference time** | **Accuracy** |\n",
    "|---------------------------|----------------|--------------------|--------------|\n",
    "| **LogReg + RFF + PCA**    | 4min 55s       | 648ms              | 86.4%        |\n",
    "| **Linear SVM**            | 4min 18s       | 53.4ms             | 76.58%       |\n",
    "| **RBF kernel SVM**        | 3min 22s       | 30.2s              | 88.27%       |\n",
    "| **Polynomial kernel SVM** | 16.3s          | 10.6s              | 81.97%       |\n",
    "| **CatBoost + PCA**        | 1min 32s       | 286ms              | 82.95%       |\n",
    "| **LogReg + RFF**          | 4min 27s       | 1.35s              | 84.19%       |\n",
    "| **SVM + RFF + PCA**       | 7min 17s       | 687ms              | 85.77%       |\n",
    "| **SVM + RFF**             | 5min 29s       | 1.37s              | 82.55%       |"
   ]
  },
  {
   "cell_type": "markdown",
   "metadata": {},
   "source": [
    "1. Уменьшение размерности с помощью PCA ускоряет скорость инференса, но немного замедляет скорость обучения (очевидно из-за необходимости переводить признаки в другой базис). PCA дает улучшение accuracy на ~2% как для svm, так и для logreg.\n",
    "\n",
    "2. Чем больше случайных признаков мы берем, тем больше информации первоначальной выборки они содержат, поэтому в какой то момент качество перестает расти, как видно на графике.\n",
    "\n",
    "3. Логистическая регрессия обоучается быстрее, у нее практически такая же скорость инференса, но она дает более высокую точность 86.4% против 85.77% (с использоованием RFF и PCA), поэтому лучше использовать ее."
   ]
  }
 ],
 "metadata": {
  "colab": {
   "collapsed_sections": [
    "rJNN55F7K-hT",
    "VkshkRFryN-U",
    "bWhtxGz9w2yr",
    "3mRNa_EkdFoO",
    "Wc5KGe2idQA-",
    "CJqXVuasK-hW"
   ],
   "provenance": []
  },
  "kernelspec": {
   "display_name": "Python 3 (ipykernel)",
   "language": "python",
   "name": "python3"
  },
  "language_info": {
   "codemirror_mode": {
    "name": "ipython",
    "version": 3
   },
   "file_extension": ".py",
   "mimetype": "text/x-python",
   "name": "python",
   "nbconvert_exporter": "python",
   "pygments_lexer": "ipython3",
   "version": "3.9.12"
  }
 },
 "nbformat": 4,
 "nbformat_minor": 1
}
